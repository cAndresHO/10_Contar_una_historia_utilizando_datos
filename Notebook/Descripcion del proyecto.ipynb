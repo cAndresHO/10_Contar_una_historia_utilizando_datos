{
 "cells": [
  {
   "cell_type": "markdown",
   "metadata": {},
   "source": [
    "# Descripción del proyecto\n",
    "Han decidido abrir un pequeño café atendido por robots en Los Ángeles. El proyecto es prometedor pero caro, así que deciden intentar atraer inversionistas. Están interesados en las condiciones actuales del mercado, ¿serán capaces de mantener el éxito cuando el bombo de los camareros robot desaparezca?"
   ]
  },
  {
   "cell_type": "markdown",
   "metadata": {},
   "source": [
    "# Descripción de datos\n",
    "Tabla rest_data:\n",
    "- object_name — nombre del establecimiento\n",
    "- chain — establecimiento que pertenece a una cadena (TRUE/FALSE)\n",
    "- object_type — tipo de establecimiento\n",
    "- address — dirección\n",
    "- number — número de asientos"
   ]
  },
  {
   "cell_type": "markdown",
   "metadata": {},
   "source": []
  }
 ],
 "metadata": {
  "language_info": {
   "name": "python"
  }
 },
 "nbformat": 4,
 "nbformat_minor": 2
}
