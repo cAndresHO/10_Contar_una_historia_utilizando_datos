{
 "cells": [
  {
   "cell_type": "markdown",
   "metadata": {
    "toc": true
   },
   "source": [
    "<h1>Table of Contents<span class=\"tocSkip\"></span></h1>\n",
    "<div class=\"toc\"><ul class=\"toc-item\"><li><span><a href=\"#Librerías\" data-toc-modified-id=\"Librerías-1\">Librerías</a></span></li><li><span><a href=\"#Paso-1.-Descarga-los-datos-y-prepáralos-para-el-análisis\" data-toc-modified-id=\"Paso-1.-Descarga-los-datos-y-prepáralos-para-el-análisis-2\">Paso 1. Descarga los datos y prepáralos para el análisis</a></span><ul class=\"toc-item\"><li><ul class=\"toc-item\"><li><span><a href=\"#Problemas-el-DF-rest_data:\" data-toc-modified-id=\"Problemas-el-DF-rest_data:-2.0.1\">Problemas el DF rest_data:</a></span></li><li><span><a href=\"#Conclusiones-para-el-DF-rest_data:\" data-toc-modified-id=\"Conclusiones-para-el-DF-rest_data:-2.0.2\">Conclusiones para el DF rest_data:</a></span></li></ul></li></ul></li><li><span><a href=\"#Paso-2.-Análisis-de-datos\" data-toc-modified-id=\"Paso-2.-Análisis-de-datos-3\">Paso 2. Análisis de datos</a></span><ul class=\"toc-item\"><li><span><a href=\"#--Investiga-las-proporciones-de-los-distintos-tipos-de-establecimientos.-Traza-un-gráfico.\" data-toc-modified-id=\"--Investiga-las-proporciones-de-los-distintos-tipos-de-establecimientos.-Traza-un-gráfico.-3.1\">- Investiga las proporciones de los distintos tipos de establecimientos. Traza un gráfico.</a></span></li><li><span><a href=\"#--Investiga-las-proporciones-de-los-establecimientos-que-pertenecen-a-una-cadena-y-de-los-que-no.-Traza-un-gráfico.\" data-toc-modified-id=\"--Investiga-las-proporciones-de-los-establecimientos-que-pertenecen-a-una-cadena-y-de-los-que-no.-Traza-un-gráfico.-3.2\">- Investiga las proporciones de los establecimientos que pertenecen a una cadena y de los que no. Traza un gráfico.</a></span></li><li><span><a href=\"#--¿Qué-tipo-de-establecimiento-es-habitualmente-una-cadena?\" data-toc-modified-id=\"--¿Qué-tipo-de-establecimiento-es-habitualmente-una-cadena?-3.3\">- ¿Qué tipo de establecimiento es habitualmente una cadena?</a></span></li><li><span><a href=\"#--¿Qué-caracteriza-a-las-cadenas:-muchos-establecimientos-con-un-pequeño-número-de-asientos-o-unos-pocos-establecimientos-con-un-montón-de-asientos?\" data-toc-modified-id=\"--¿Qué-caracteriza-a-las-cadenas:-muchos-establecimientos-con-un-pequeño-número-de-asientos-o-unos-pocos-establecimientos-con-un-montón-de-asientos?-3.4\">- ¿Qué caracteriza a las cadenas: muchos establecimientos con un pequeño número de asientos o unos pocos establecimientos con un montón de asientos?</a></span></li><li><span><a href=\"#--Determina-el-promedio-de-número-de-asientos-para-cada-tipo-de-restaurante.-De-promedio,-¿qué-tipo-de-restaurante-tiene-el-mayor-número-de-asientos?-Traza-gráficos.\" data-toc-modified-id=\"--Determina-el-promedio-de-número-de-asientos-para-cada-tipo-de-restaurante.-De-promedio,-¿qué-tipo-de-restaurante-tiene-el-mayor-número-de-asientos?-Traza-gráficos.-3.5\">- Determina el promedio de número de asientos para cada tipo de restaurante. De promedio, ¿qué tipo de restaurante tiene el mayor número de asientos? Traza gráficos.</a></span></li><li><span><a href=\"#--Coloca-los-datos-de-los-nombres-de-las-calles-de-la-columna-address-en-una-columna-separada.\" data-toc-modified-id=\"--Coloca-los-datos-de-los-nombres-de-las-calles-de-la-columna-address-en-una-columna-separada.-3.6\">- Coloca los datos de los nombres de las calles de la columna address en una columna separada.</a></span><ul class=\"toc-item\"><li><span><a href=\"#Algunos-problemas-en-esta-parte:\" data-toc-modified-id=\"Algunos-problemas-en-esta-parte:-3.6.1\">Algunos problemas en esta parte:</a></span></li></ul></li><li><span><a href=\"#--Traza-un-gráfico-de-las-diez-mejores-calles-por-número-de-restaurantes.\" data-toc-modified-id=\"--Traza-un-gráfico-de-las-diez-mejores-calles-por-número-de-restaurantes.-3.7\">- Traza un gráfico de las diez mejores calles por número de restaurantes.</a></span></li><li><span><a href=\"#--Encuentra-el-número-de-calles-que-solo-tienen-un-restaurante.\" data-toc-modified-id=\"--Encuentra-el-número-de-calles-que-solo-tienen-un-restaurante.-3.8\">- Encuentra el número de calles que solo tienen un restaurante.</a></span></li><li><span><a href=\"#--Para-las-calles-con-muchos-restaurantes,-analiza-la-distribución-del-número-de-asientos.-¿Qué-tendencias-puedes-ver?\" data-toc-modified-id=\"--Para-las-calles-con-muchos-restaurantes,-analiza-la-distribución-del-número-de-asientos.-¿Qué-tendencias-puedes-ver?-3.9\">- Para las calles con muchos restaurantes, analiza la distribución del número de asientos. ¿Qué tendencias puedes ver?</a></span></li></ul></li><li><span><a href=\"#Conclusiones-Generales\" data-toc-modified-id=\"Conclusiones-Generales-4\">Conclusiones Generales</a></span></li><li><span><a href=\"#Recomendaciónes\" data-toc-modified-id=\"Recomendaciónes-5\">Recomendaciónes</a></span></li><li><span><a href=\"#Paso-3.-Preparar-una-presentación\" data-toc-modified-id=\"Paso-3.-Preparar-una-presentación-6\">Paso 3. Preparar una presentación</a></span></li></ul></div>"
   ]
  },
  {
   "cell_type": "markdown",
   "metadata": {},
   "source": [
    "## Librerías"
   ]
  },
  {
   "cell_type": "code",
   "execution_count": 1,
   "metadata": {},
   "outputs": [],
   "source": [
    "#Importanto librerías:\n",
    "import pandas as pd\n",
    "import plotly.express as px\n",
    "import numpy as np\n",
    "import seaborn as sns\n",
    "from matplotlib import pyplot as plt\n",
    "import plotly.graph_objects as go\n",
    "from plotly.subplots import make_subplots\n",
    "import re"
   ]
  },
  {
   "cell_type": "code",
   "execution_count": 2,
   "metadata": {},
   "outputs": [],
   "source": [
    "# Para las gráficas de plotly en github\n",
    "import plotly.io as pio\n",
    "pio.renderers.default = \"svg\""
   ]
  },
  {
   "cell_type": "markdown",
   "metadata": {},
   "source": [
    "## Paso 1. Descarga los datos y prepáralos para el análisis"
   ]
  },
  {
   "cell_type": "code",
   "execution_count": 3,
   "metadata": {},
   "outputs": [],
   "source": [
    "#Importando archivos\n",
    "path='D:\\\\TripleTen\\\\Sprint 10_Cómo contar una historia utilizando datos\\\\Repositorio\\\\Data\\\\'\n",
    "rest_data = pd.read_csv(path + 'rest_data_us_upd.csv')"
   ]
  },
  {
   "cell_type": "code",
   "execution_count": 4,
   "metadata": {},
   "outputs": [
    {
     "data": {
      "text/html": [
       "<div>\n",
       "<style scoped>\n",
       "    .dataframe tbody tr th:only-of-type {\n",
       "        vertical-align: middle;\n",
       "    }\n",
       "\n",
       "    .dataframe tbody tr th {\n",
       "        vertical-align: top;\n",
       "    }\n",
       "\n",
       "    .dataframe thead th {\n",
       "        text-align: right;\n",
       "    }\n",
       "</style>\n",
       "<table border=\"1\" class=\"dataframe\">\n",
       "  <thead>\n",
       "    <tr style=\"text-align: right;\">\n",
       "      <th></th>\n",
       "      <th>id</th>\n",
       "      <th>object_name</th>\n",
       "      <th>address</th>\n",
       "      <th>chain</th>\n",
       "      <th>object_type</th>\n",
       "      <th>number</th>\n",
       "    </tr>\n",
       "  </thead>\n",
       "  <tbody>\n",
       "    <tr>\n",
       "      <th>0</th>\n",
       "      <td>11786</td>\n",
       "      <td>HABITAT COFFEE SHOP</td>\n",
       "      <td>3708 N EAGLE ROCK BLVD</td>\n",
       "      <td>False</td>\n",
       "      <td>Cafe</td>\n",
       "      <td>26</td>\n",
       "    </tr>\n",
       "    <tr>\n",
       "      <th>1</th>\n",
       "      <td>11787</td>\n",
       "      <td>REILLY'S</td>\n",
       "      <td>100 WORLD WAY 120</td>\n",
       "      <td>False</td>\n",
       "      <td>Restaurant</td>\n",
       "      <td>9</td>\n",
       "    </tr>\n",
       "    <tr>\n",
       "      <th>2</th>\n",
       "      <td>11788</td>\n",
       "      <td>STREET CHURROS</td>\n",
       "      <td>6801 HOLLYWOOD BLVD 253</td>\n",
       "      <td>False</td>\n",
       "      <td>Fast Food</td>\n",
       "      <td>20</td>\n",
       "    </tr>\n",
       "    <tr>\n",
       "      <th>3</th>\n",
       "      <td>11789</td>\n",
       "      <td>TRINITI ECHO PARK</td>\n",
       "      <td>1814 W SUNSET BLVD</td>\n",
       "      <td>False</td>\n",
       "      <td>Restaurant</td>\n",
       "      <td>22</td>\n",
       "    </tr>\n",
       "    <tr>\n",
       "      <th>4</th>\n",
       "      <td>11790</td>\n",
       "      <td>POLLEN</td>\n",
       "      <td>2100 ECHO PARK AVE</td>\n",
       "      <td>False</td>\n",
       "      <td>Restaurant</td>\n",
       "      <td>20</td>\n",
       "    </tr>\n",
       "  </tbody>\n",
       "</table>\n",
       "</div>"
      ],
      "text/plain": [
       "      id          object_name                  address  chain object_type  \\\n",
       "0  11786  HABITAT COFFEE SHOP   3708 N EAGLE ROCK BLVD  False        Cafe   \n",
       "1  11787             REILLY'S        100 WORLD WAY 120  False  Restaurant   \n",
       "2  11788       STREET CHURROS  6801 HOLLYWOOD BLVD 253  False   Fast Food   \n",
       "3  11789    TRINITI ECHO PARK       1814 W SUNSET BLVD  False  Restaurant   \n",
       "4  11790               POLLEN       2100 ECHO PARK AVE  False  Restaurant   \n",
       "\n",
       "   number  \n",
       "0      26  \n",
       "1       9  \n",
       "2      20  \n",
       "3      22  \n",
       "4      20  "
      ]
     },
     "execution_count": 4,
     "metadata": {},
     "output_type": "execute_result"
    }
   ],
   "source": [
    "rest_data.head()"
   ]
  },
  {
   "cell_type": "code",
   "execution_count": 5,
   "metadata": {},
   "outputs": [
    {
     "name": "stdout",
     "output_type": "stream",
     "text": [
      "<class 'pandas.core.frame.DataFrame'>\n",
      "RangeIndex: 9651 entries, 0 to 9650\n",
      "Data columns (total 6 columns):\n",
      " #   Column       Non-Null Count  Dtype \n",
      "---  ------       --------------  ----- \n",
      " 0   id           9651 non-null   int64 \n",
      " 1   object_name  9651 non-null   object\n",
      " 2   address      9651 non-null   object\n",
      " 3   chain        9648 non-null   object\n",
      " 4   object_type  9651 non-null   object\n",
      " 5   number       9651 non-null   int64 \n",
      "dtypes: int64(2), object(4)\n",
      "memory usage: 452.5+ KB\n"
     ]
    }
   ],
   "source": [
    "rest_data.info()"
   ]
  },
  {
   "cell_type": "markdown",
   "metadata": {},
   "source": [
    "#### Problemas el DF rest_data:\n",
    "1. Corregir el tipo de datos para algunas columnas:  id debería ser de tipo string\n",
    "2. el DF, específicamente en la columnas 'chain', contiene 3 valores ausentes.\n"
   ]
  },
  {
   "cell_type": "code",
   "execution_count": 6,
   "metadata": {},
   "outputs": [],
   "source": [
    "#Cambiando los tipo de datos de las columnas:\n",
    "rest_data['id'] = rest_data['id'].astype('str')"
   ]
  },
  {
   "cell_type": "code",
   "execution_count": 7,
   "metadata": {},
   "outputs": [
    {
     "name": "stdout",
     "output_type": "stream",
     "text": [
      "<class 'pandas.core.frame.DataFrame'>\n",
      "RangeIndex: 9651 entries, 0 to 9650\n",
      "Data columns (total 6 columns):\n",
      " #   Column       Non-Null Count  Dtype \n",
      "---  ------       --------------  ----- \n",
      " 0   id           9651 non-null   object\n",
      " 1   object_name  9651 non-null   object\n",
      " 2   address      9651 non-null   object\n",
      " 3   chain        9648 non-null   object\n",
      " 4   object_type  9651 non-null   object\n",
      " 5   number       9651 non-null   int64 \n",
      "dtypes: int64(1), object(5)\n",
      "memory usage: 452.5+ KB\n"
     ]
    }
   ],
   "source": [
    "rest_data.info()"
   ]
  },
  {
   "cell_type": "code",
   "execution_count": 8,
   "metadata": {},
   "outputs": [
    {
     "data": {
      "text/plain": [
       "id             0\n",
       "object_name    0\n",
       "address        0\n",
       "chain          3\n",
       "object_type    0\n",
       "number         0\n",
       "dtype: int64"
      ]
     },
     "execution_count": 8,
     "metadata": {},
     "output_type": "execute_result"
    }
   ],
   "source": [
    "#Verificando valores ausentes:\n",
    "rest_data.isnull().sum()"
   ]
  },
  {
   "cell_type": "code",
   "execution_count": 9,
   "metadata": {},
   "outputs": [
    {
     "data": {
      "text/plain": [
       "array([False, True, nan], dtype=object)"
      ]
     },
     "execution_count": 9,
     "metadata": {},
     "output_type": "execute_result"
    }
   ],
   "source": [
    "rest_data['chain'].unique()"
   ]
  },
  {
   "cell_type": "code",
   "execution_count": 10,
   "metadata": {},
   "outputs": [
    {
     "data": {
      "text/html": [
       "<div>\n",
       "<style scoped>\n",
       "    .dataframe tbody tr th:only-of-type {\n",
       "        vertical-align: middle;\n",
       "    }\n",
       "\n",
       "    .dataframe tbody tr th {\n",
       "        vertical-align: top;\n",
       "    }\n",
       "\n",
       "    .dataframe thead th {\n",
       "        text-align: right;\n",
       "    }\n",
       "</style>\n",
       "<table border=\"1\" class=\"dataframe\">\n",
       "  <thead>\n",
       "    <tr style=\"text-align: right;\">\n",
       "      <th></th>\n",
       "      <th>id</th>\n",
       "      <th>object_name</th>\n",
       "      <th>address</th>\n",
       "      <th>chain</th>\n",
       "      <th>object_type</th>\n",
       "      <th>number</th>\n",
       "    </tr>\n",
       "  </thead>\n",
       "  <tbody>\n",
       "    <tr>\n",
       "      <th>7408</th>\n",
       "      <td>19194</td>\n",
       "      <td>TAQUERIA LOS 3 CARNALES</td>\n",
       "      <td>5000 E WHITTIER BLVD</td>\n",
       "      <td>NaN</td>\n",
       "      <td>Restaurant</td>\n",
       "      <td>14</td>\n",
       "    </tr>\n",
       "    <tr>\n",
       "      <th>7523</th>\n",
       "      <td>19309</td>\n",
       "      <td>JAMMIN JIMMY'S PIZZA</td>\n",
       "      <td>1641 FIRESTONE BLVD</td>\n",
       "      <td>NaN</td>\n",
       "      <td>Pizza</td>\n",
       "      <td>1</td>\n",
       "    </tr>\n",
       "    <tr>\n",
       "      <th>8648</th>\n",
       "      <td>20434</td>\n",
       "      <td>THE LEXINGTON THEATER</td>\n",
       "      <td>129 E 3RD ST</td>\n",
       "      <td>NaN</td>\n",
       "      <td>Restaurant</td>\n",
       "      <td>35</td>\n",
       "    </tr>\n",
       "  </tbody>\n",
       "</table>\n",
       "</div>"
      ],
      "text/plain": [
       "         id              object_name               address chain object_type  \\\n",
       "7408  19194  TAQUERIA LOS 3 CARNALES  5000 E WHITTIER BLVD   NaN  Restaurant   \n",
       "7523  19309     JAMMIN JIMMY'S PIZZA   1641 FIRESTONE BLVD   NaN       Pizza   \n",
       "8648  20434    THE LEXINGTON THEATER          129 E 3RD ST   NaN  Restaurant   \n",
       "\n",
       "      number  \n",
       "7408      14  \n",
       "7523       1  \n",
       "8648      35  "
      ]
     },
     "execution_count": 10,
     "metadata": {},
     "output_type": "execute_result"
    }
   ],
   "source": [
    "rest_data.query(\"chain != True and chain != False\")"
   ]
  },
  {
   "cell_type": "code",
   "execution_count": 11,
   "metadata": {},
   "outputs": [
    {
     "data": {
      "text/plain": [
       "0"
      ]
     },
     "execution_count": 11,
     "metadata": {},
     "output_type": "execute_result"
    }
   ],
   "source": [
    "#Verificando valores duplicados:\n",
    "rest_data.duplicated().sum()"
   ]
  },
  {
   "cell_type": "code",
   "execution_count": 12,
   "metadata": {},
   "outputs": [
    {
     "data": {
      "text/html": [
       "<div>\n",
       "<style scoped>\n",
       "    .dataframe tbody tr th:only-of-type {\n",
       "        vertical-align: middle;\n",
       "    }\n",
       "\n",
       "    .dataframe tbody tr th {\n",
       "        vertical-align: top;\n",
       "    }\n",
       "\n",
       "    .dataframe thead th {\n",
       "        text-align: right;\n",
       "    }\n",
       "</style>\n",
       "<table border=\"1\" class=\"dataframe\">\n",
       "  <thead>\n",
       "    <tr style=\"text-align: right;\">\n",
       "      <th></th>\n",
       "      <th>id</th>\n",
       "      <th>object_name</th>\n",
       "      <th>address</th>\n",
       "      <th>chain</th>\n",
       "      <th>object_type</th>\n",
       "      <th>number</th>\n",
       "    </tr>\n",
       "  </thead>\n",
       "  <tbody>\n",
       "    <tr>\n",
       "      <th>4497</th>\n",
       "      <td>16283</td>\n",
       "      <td>ABC DONUTS</td>\n",
       "      <td>4555 E 3RD ST 1A</td>\n",
       "      <td>True</td>\n",
       "      <td>Fast Food</td>\n",
       "      <td>21</td>\n",
       "    </tr>\n",
       "    <tr>\n",
       "      <th>4569</th>\n",
       "      <td>16355</td>\n",
       "      <td>ACA GRILL</td>\n",
       "      <td>3062 W 8TH ST</td>\n",
       "      <td>True</td>\n",
       "      <td>Restaurant</td>\n",
       "      <td>25</td>\n",
       "    </tr>\n",
       "    <tr>\n",
       "      <th>128</th>\n",
       "      <td>11914</td>\n",
       "      <td>ADMIRALS CLUB</td>\n",
       "      <td>500 WORLD WAY</td>\n",
       "      <td>False</td>\n",
       "      <td>Restaurant</td>\n",
       "      <td>205</td>\n",
       "    </tr>\n",
       "    <tr>\n",
       "      <th>8586</th>\n",
       "      <td>20372</td>\n",
       "      <td>ANGELES BAKERY</td>\n",
       "      <td>3661 W 3RD ST</td>\n",
       "      <td>True</td>\n",
       "      <td>Bakery</td>\n",
       "      <td>13</td>\n",
       "    </tr>\n",
       "    <tr>\n",
       "      <th>9326</th>\n",
       "      <td>21112</td>\n",
       "      <td>ANGELINI ALIMENTARI</td>\n",
       "      <td>843 S LOS ANGELES ST</td>\n",
       "      <td>True</td>\n",
       "      <td>Restaurant</td>\n",
       "      <td>29</td>\n",
       "    </tr>\n",
       "    <tr>\n",
       "      <th>...</th>\n",
       "      <td>...</td>\n",
       "      <td>...</td>\n",
       "      <td>...</td>\n",
       "      <td>...</td>\n",
       "      <td>...</td>\n",
       "      <td>...</td>\n",
       "    </tr>\n",
       "    <tr>\n",
       "      <th>6987</th>\n",
       "      <td>18773</td>\n",
       "      <td>YUM YUM DONUTS</td>\n",
       "      <td>6600 E OLYMPIC BLVD STE #106</td>\n",
       "      <td>True</td>\n",
       "      <td>Fast Food</td>\n",
       "      <td>18</td>\n",
       "    </tr>\n",
       "    <tr>\n",
       "      <th>7468</th>\n",
       "      <td>19254</td>\n",
       "      <td>YUM YUM DONUTS</td>\n",
       "      <td>1976 S LA CIENEGA BLVD STE</td>\n",
       "      <td>True</td>\n",
       "      <td>Fast Food</td>\n",
       "      <td>9</td>\n",
       "    </tr>\n",
       "    <tr>\n",
       "      <th>6957</th>\n",
       "      <td>18743</td>\n",
       "      <td>Z PIZZA</td>\n",
       "      <td>123 N LARCHMONT BLVD</td>\n",
       "      <td>True</td>\n",
       "      <td>Pizza</td>\n",
       "      <td>48</td>\n",
       "    </tr>\n",
       "    <tr>\n",
       "      <th>6943</th>\n",
       "      <td>18729</td>\n",
       "      <td>Z PIZZA</td>\n",
       "      <td>2664 N GRIFFITH PARK BLVD</td>\n",
       "      <td>True</td>\n",
       "      <td>Pizza</td>\n",
       "      <td>44</td>\n",
       "    </tr>\n",
       "    <tr>\n",
       "      <th>8509</th>\n",
       "      <td>20295</td>\n",
       "      <td>ZANKOU CHICKEN</td>\n",
       "      <td>5065 W SUNSET BLVD</td>\n",
       "      <td>True</td>\n",
       "      <td>Restaurant</td>\n",
       "      <td>67</td>\n",
       "    </tr>\n",
       "  </tbody>\n",
       "</table>\n",
       "<p>979 rows × 6 columns</p>\n",
       "</div>"
      ],
      "text/plain": [
       "         id          object_name                       address  chain  \\\n",
       "4497  16283           ABC DONUTS              4555 E 3RD ST 1A   True   \n",
       "4569  16355            ACA GRILL                 3062 W 8TH ST   True   \n",
       "128   11914        ADMIRALS CLUB                 500 WORLD WAY  False   \n",
       "8586  20372       ANGELES BAKERY                 3661 W 3RD ST   True   \n",
       "9326  21112  ANGELINI ALIMENTARI          843 S LOS ANGELES ST   True   \n",
       "...     ...                  ...                           ...    ...   \n",
       "6987  18773       YUM YUM DONUTS  6600 E OLYMPIC BLVD STE #106   True   \n",
       "7468  19254       YUM YUM DONUTS    1976 S LA CIENEGA BLVD STE   True   \n",
       "6957  18743              Z PIZZA          123 N LARCHMONT BLVD   True   \n",
       "6943  18729              Z PIZZA     2664 N GRIFFITH PARK BLVD   True   \n",
       "8509  20295       ZANKOU CHICKEN            5065 W SUNSET BLVD   True   \n",
       "\n",
       "     object_type  number  \n",
       "4497   Fast Food      21  \n",
       "4569  Restaurant      25  \n",
       "128   Restaurant     205  \n",
       "8586      Bakery      13  \n",
       "9326  Restaurant      29  \n",
       "...          ...     ...  \n",
       "6987   Fast Food      18  \n",
       "7468   Fast Food       9  \n",
       "6957       Pizza      48  \n",
       "6943       Pizza      44  \n",
       "8509  Restaurant      67  \n",
       "\n",
       "[979 rows x 6 columns]"
      ]
     },
     "execution_count": 12,
     "metadata": {},
     "output_type": "execute_result"
    }
   ],
   "source": [
    "rest_data[rest_data['object_name'].duplicated()].sort_values(by='object_name')"
   ]
  },
  {
   "cell_type": "code",
   "execution_count": 13,
   "metadata": {},
   "outputs": [
    {
     "data": {
      "text/html": [
       "<div>\n",
       "<style scoped>\n",
       "    .dataframe tbody tr th:only-of-type {\n",
       "        vertical-align: middle;\n",
       "    }\n",
       "\n",
       "    .dataframe tbody tr th {\n",
       "        vertical-align: top;\n",
       "    }\n",
       "\n",
       "    .dataframe thead th {\n",
       "        text-align: right;\n",
       "    }\n",
       "</style>\n",
       "<table border=\"1\" class=\"dataframe\">\n",
       "  <thead>\n",
       "    <tr style=\"text-align: right;\">\n",
       "      <th></th>\n",
       "      <th>id</th>\n",
       "      <th>object_name</th>\n",
       "      <th>address</th>\n",
       "      <th>chain</th>\n",
       "      <th>object_type</th>\n",
       "      <th>number</th>\n",
       "    </tr>\n",
       "  </thead>\n",
       "  <tbody>\n",
       "    <tr>\n",
       "      <th>1</th>\n",
       "      <td>11787</td>\n",
       "      <td>REILLY'S</td>\n",
       "      <td>100 WORLD WAY 120</td>\n",
       "      <td>False</td>\n",
       "      <td>Restaurant</td>\n",
       "      <td>9</td>\n",
       "    </tr>\n",
       "  </tbody>\n",
       "</table>\n",
       "</div>"
      ],
      "text/plain": [
       "      id object_name            address  chain object_type  number\n",
       "1  11787    REILLY'S  100 WORLD WAY 120  False  Restaurant       9"
      ]
     },
     "execution_count": 13,
     "metadata": {},
     "output_type": "execute_result"
    }
   ],
   "source": [
    "rest_data[rest_data['object_name'] == 'REILLY\\'S']"
   ]
  },
  {
   "cell_type": "code",
   "execution_count": 14,
   "metadata": {},
   "outputs": [
    {
     "data": {
      "text/html": [
       "<div>\n",
       "<style scoped>\n",
       "    .dataframe tbody tr th:only-of-type {\n",
       "        vertical-align: middle;\n",
       "    }\n",
       "\n",
       "    .dataframe tbody tr th {\n",
       "        vertical-align: top;\n",
       "    }\n",
       "\n",
       "    .dataframe thead th {\n",
       "        text-align: right;\n",
       "    }\n",
       "</style>\n",
       "<table border=\"1\" class=\"dataframe\">\n",
       "  <thead>\n",
       "    <tr style=\"text-align: right;\">\n",
       "      <th></th>\n",
       "      <th>id</th>\n",
       "      <th>object_name</th>\n",
       "      <th>address</th>\n",
       "      <th>chain</th>\n",
       "      <th>object_type</th>\n",
       "      <th>number</th>\n",
       "    </tr>\n",
       "  </thead>\n",
       "  <tbody>\n",
       "    <tr>\n",
       "      <th>8648</th>\n",
       "      <td>20434</td>\n",
       "      <td>THE LEXINGTON THEATER</td>\n",
       "      <td>129 E 3RD ST</td>\n",
       "      <td>NaN</td>\n",
       "      <td>Restaurant</td>\n",
       "      <td>35</td>\n",
       "    </tr>\n",
       "  </tbody>\n",
       "</table>\n",
       "</div>"
      ],
      "text/plain": [
       "         id            object_name       address chain object_type  number\n",
       "8648  20434  THE LEXINGTON THEATER  129 E 3RD ST   NaN  Restaurant      35"
      ]
     },
     "execution_count": 14,
     "metadata": {},
     "output_type": "execute_result"
    }
   ],
   "source": [
    "rest_data[rest_data['object_name'] == 'THE LEXINGTON THEATER']"
   ]
  },
  {
   "cell_type": "markdown",
   "metadata": {},
   "source": [
    "#### Conclusiones para el DF rest_data:\n",
    "1. Se cambió el tipo de datos de la columna id. de tipo entero a string\n",
    "2. Se verificó y no existen valores ausentes.\n",
    "3. No existen valores duplicados en el DF."
   ]
  },
  {
   "cell_type": "markdown",
   "metadata": {},
   "source": [
    "## Paso 2. Análisis de datos"
   ]
  },
  {
   "cell_type": "markdown",
   "metadata": {},
   "source": [
    "### - Investiga las proporciones de los distintos tipos de establecimientos. Traza un gráfico."
   ]
  },
  {
   "cell_type": "code",
   "execution_count": 15,
   "metadata": {},
   "outputs": [
    {
     "data": {
      "text/html": [
       "<div>\n",
       "<style scoped>\n",
       "    .dataframe tbody tr th:only-of-type {\n",
       "        vertical-align: middle;\n",
       "    }\n",
       "\n",
       "    .dataframe tbody tr th {\n",
       "        vertical-align: top;\n",
       "    }\n",
       "\n",
       "    .dataframe thead th {\n",
       "        text-align: right;\n",
       "    }\n",
       "</style>\n",
       "<table border=\"1\" class=\"dataframe\">\n",
       "  <thead>\n",
       "    <tr style=\"text-align: right;\">\n",
       "      <th></th>\n",
       "      <th>id</th>\n",
       "      <th>object_name</th>\n",
       "      <th>address</th>\n",
       "      <th>chain</th>\n",
       "      <th>object_type</th>\n",
       "      <th>number</th>\n",
       "    </tr>\n",
       "  </thead>\n",
       "  <tbody>\n",
       "    <tr>\n",
       "      <th>0</th>\n",
       "      <td>11786</td>\n",
       "      <td>HABITAT COFFEE SHOP</td>\n",
       "      <td>3708 N EAGLE ROCK BLVD</td>\n",
       "      <td>False</td>\n",
       "      <td>Cafe</td>\n",
       "      <td>26</td>\n",
       "    </tr>\n",
       "    <tr>\n",
       "      <th>1</th>\n",
       "      <td>11787</td>\n",
       "      <td>REILLY'S</td>\n",
       "      <td>100 WORLD WAY 120</td>\n",
       "      <td>False</td>\n",
       "      <td>Restaurant</td>\n",
       "      <td>9</td>\n",
       "    </tr>\n",
       "    <tr>\n",
       "      <th>2</th>\n",
       "      <td>11788</td>\n",
       "      <td>STREET CHURROS</td>\n",
       "      <td>6801 HOLLYWOOD BLVD 253</td>\n",
       "      <td>False</td>\n",
       "      <td>Fast Food</td>\n",
       "      <td>20</td>\n",
       "    </tr>\n",
       "    <tr>\n",
       "      <th>3</th>\n",
       "      <td>11789</td>\n",
       "      <td>TRINITI ECHO PARK</td>\n",
       "      <td>1814 W SUNSET BLVD</td>\n",
       "      <td>False</td>\n",
       "      <td>Restaurant</td>\n",
       "      <td>22</td>\n",
       "    </tr>\n",
       "    <tr>\n",
       "      <th>4</th>\n",
       "      <td>11790</td>\n",
       "      <td>POLLEN</td>\n",
       "      <td>2100 ECHO PARK AVE</td>\n",
       "      <td>False</td>\n",
       "      <td>Restaurant</td>\n",
       "      <td>20</td>\n",
       "    </tr>\n",
       "  </tbody>\n",
       "</table>\n",
       "</div>"
      ],
      "text/plain": [
       "      id          object_name                  address  chain object_type  \\\n",
       "0  11786  HABITAT COFFEE SHOP   3708 N EAGLE ROCK BLVD  False        Cafe   \n",
       "1  11787             REILLY'S        100 WORLD WAY 120  False  Restaurant   \n",
       "2  11788       STREET CHURROS  6801 HOLLYWOOD BLVD 253  False   Fast Food   \n",
       "3  11789    TRINITI ECHO PARK       1814 W SUNSET BLVD  False  Restaurant   \n",
       "4  11790               POLLEN       2100 ECHO PARK AVE  False  Restaurant   \n",
       "\n",
       "   number  \n",
       "0      26  \n",
       "1       9  \n",
       "2      20  \n",
       "3      22  \n",
       "4      20  "
      ]
     },
     "execution_count": 15,
     "metadata": {},
     "output_type": "execute_result"
    }
   ],
   "source": [
    "rest_data.head()"
   ]
  },
  {
   "cell_type": "code",
   "execution_count": 16,
   "metadata": {},
   "outputs": [
    {
     "data": {
      "image/svg+xml": [
       "<svg class=\"main-svg\" xmlns=\"http://www.w3.org/2000/svg\" xmlns:xlink=\"http://www.w3.org/1999/xlink\" width=\"700\" height=\"500\" style=\"\" viewBox=\"0 0 700 500\"><rect x=\"0\" y=\"0\" width=\"700\" height=\"500\" style=\"fill: rgb(255, 255, 255); fill-opacity: 1;\"/><defs id=\"defs-2519f5\"><g class=\"clips\"/><g class=\"gradients\"/><g class=\"patterns\"/></defs><g class=\"bglayer\"/><g class=\"layer-below\"><g class=\"imagelayer\"/><g class=\"shapelayer\"/></g><g class=\"cartesianlayer\"/><g class=\"polarlayer\"/><g class=\"smithlayer\"/><g class=\"ternarylayer\"/><g class=\"geolayer\"/><g class=\"funnelarealayer\"/><g class=\"pielayer\"><g class=\"trace\" stroke-linejoin=\"round\" style=\"opacity: 1;\"><g class=\"slice\"><path class=\"surface\" d=\"M323.5,260l0,-160a160,160 0 1 1 -159.9904867171058,158.25524786184658Z\" style=\"pointer-events: none; fill: rgb(99, 110, 250); fill-opacity: 1; stroke-width: 0; stroke: rgb(68, 68, 68); stroke-opacity: 1;\"/><g class=\"slicetext\"><text data-notex=\"1\" class=\"slicetext\" transform=\"translate(379.62645302344004,313.57145022719686)\" text-anchor=\"middle\" x=\"0\" y=\"0\" style=\"font-family: 'Open Sans', verdana, arial, sans-serif; font-size: 12px; fill: rgb(255, 255, 255); fill-opacity: 1; white-space: pre;\"><tspan class=\"line\" dy=\"0em\" x=\"0\" y=\"0\">Restaurant</tspan><tspan class=\"line\" dy=\"1.3em\" x=\"0\" y=\"0\">75.2%</tspan></text></g></g><g class=\"slice\"><path class=\"surface\" d=\"M323.5,260l-102.3397696205832,-122.99012787214247a160,160 0 0 1 102.3397696205832,-37.009872127857534Z\" style=\"pointer-events: none; fill: rgb(239, 85, 59); fill-opacity: 1; stroke-width: 0; stroke: rgb(68, 68, 68); stroke-opacity: 1;\"/><g class=\"slicetext\"><text data-notex=\"1\" class=\"slicetext\" transform=\"translate(282.89566781110057,144.41613500233495)\" text-anchor=\"middle\" x=\"0\" y=\"0\" style=\"font-family: 'Open Sans', verdana, arial, sans-serif; font-size: 12px; fill: rgb(68, 68, 68); fill-opacity: 1; white-space: pre;\"><tspan class=\"line\" dy=\"0em\" x=\"0\" y=\"0\">Fast Food</tspan><tspan class=\"line\" dy=\"1.3em\" x=\"0\" y=\"0\">11%</tspan></text></g></g><g class=\"slice\"><path class=\"surface\" d=\"M323.5,260l-132.63047651770754,-89.493891963004a160,160 0 0 1 30.290706897124338,-33.49623590913846Z\" style=\"pointer-events: none; fill: rgb(0, 204, 150); fill-opacity: 1; stroke-width: 0; stroke: rgb(68, 68, 68); stroke-opacity: 1;\"/><g class=\"slicetext\"><text data-notex=\"1\" class=\"slicetext\" transform=\"translate(223.74339559192381,165.3343967126475)rotate(42.123096052222536)\" text-anchor=\"middle\" x=\"0\" y=\"0\" style=\"font-family: 'Open Sans', verdana, arial, sans-serif; font-size: 12px; fill: rgb(68, 68, 68); fill-opacity: 1; white-space: pre;\"><tspan class=\"line\" dy=\"0em\" x=\"0\" y=\"0\">Cafe</tspan><tspan class=\"line\" dy=\"1.3em\" x=\"0\" y=\"0\">4.51%</tspan></text></g></g><g class=\"slice\"><path class=\"surface\" d=\"M323.5,260l-148.27255304664905,-60.12694914120158a160,160 0 0 1 15.642076528941516,-29.366942821802425Z\" style=\"pointer-events: none; fill: rgb(171, 99, 250); fill-opacity: 1; stroke-width: 0; stroke: rgb(68, 68, 68); stroke-opacity: 1;\"/><g class=\"slicetext\"><text data-notex=\"1\" class=\"slicetext\" transform=\"translate(199.1840262989437,190.7052465006721)scale(0.8222780251681396)rotate(28.041653714640915)\" text-anchor=\"middle\" x=\"0\" y=\"0\" style=\"font-family: 'Open Sans', verdana, arial, sans-serif; font-size: 12px; fill: rgb(68, 68, 68); fill-opacity: 1; white-space: pre;\"><tspan class=\"line\" dy=\"0em\" x=\"0\" y=\"0\">Pizza</tspan><tspan class=\"line\" dy=\"1.3em\" x=\"0\" y=\"0\">3.32%</tspan></text></g></g><g class=\"slice\"><path class=\"surface\" d=\"M323.5,260l-156.96300021489466,-31.026062649633506a160,160 0 0 1 8.690447168245612,-29.100886491568073Z\" style=\"pointer-events: none; fill: rgb(255, 161, 90); fill-opacity: 1; stroke-width: 0; stroke: rgb(68, 68, 68); stroke-opacity: 1;\"/><g class=\"slicetext\"><text data-notex=\"1\" class=\"slicetext\" transform=\"translate(186.6545834900623,216.49611710686543)scale(0.76473800205134)rotate(16.627292508548294)\" text-anchor=\"middle\" x=\"0\" y=\"0\" style=\"font-family: 'Open Sans', verdana, arial, sans-serif; font-size: 12px; fill: rgb(68, 68, 68); fill-opacity: 1; white-space: pre;\"><tspan class=\"line\" dy=\"0em\" x=\"0\" y=\"0\">Bar</tspan><tspan class=\"line\" dy=\"1.3em\" x=\"0\" y=\"0\">3.03%</tspan></text></g></g><g class=\"slice\"><path class=\"surface\" d=\"M323.5,260l-159.9904867171058,-1.7447521381534195a160,160 0 0 1 3.027486502211133,-29.281310511480086Z\" style=\"pointer-events: none; fill: rgb(25, 211, 243); fill-opacity: 1; stroke-width: 0; stroke: rgb(68, 68, 68); stroke-opacity: 1;\"/><g class=\"slicetext\"><text data-notex=\"1\" class=\"slicetext\" transform=\"translate(180.96385823384568,242.81388638013863)scale(0.7370953327267908)rotate(5.903015231582231)\" text-anchor=\"middle\" x=\"0\" y=\"0\" style=\"font-family: 'Open Sans', verdana, arial, sans-serif; font-size: 12px; fill: rgb(68, 68, 68); fill-opacity: 1; white-space: pre;\"><tspan class=\"line\" dy=\"0em\" x=\"0\" y=\"0\">Bakery</tspan><tspan class=\"line\" dy=\"1.3em\" x=\"0\" y=\"0\">2.93%</tspan></text></g></g></g></g><g class=\"iciclelayer\"/><g class=\"treemaplayer\"/><g class=\"sunburstlayer\"/><g class=\"glimages\"/><defs id=\"topdefs-2519f5\"><g class=\"clips\"/><clipPath id=\"legend2519f5\"><rect width=\"111\" height=\"124\" x=\"0\" y=\"0\"/></clipPath></defs><g class=\"layer-above\"><g class=\"imagelayer\"/><g class=\"shapelayer\"/></g><g class=\"infolayer\"><g class=\"legend\" pointer-events=\"all\" transform=\"translate(576.74,100)\"><rect class=\"bg\" shape-rendering=\"crispEdges\" style=\"stroke: rgb(68, 68, 68); stroke-opacity: 1; fill: rgb(255, 255, 255); fill-opacity: 1; stroke-width: 0px;\" width=\"111\" height=\"124\" x=\"0\" y=\"0\"/><g class=\"scrollbox\" transform=\"\" clip-path=\"url(#legend2519f5)\"><g class=\"groups\"><g class=\"traces\" transform=\"translate(0,14.5)\" style=\"opacity: 1;\"><text class=\"legendtext\" text-anchor=\"start\" x=\"40\" y=\"4.680000000000001\" style=\"font-family: 'Open Sans', verdana, arial, sans-serif; font-size: 12px; fill: rgb(42, 63, 95); fill-opacity: 1; white-space: pre;\">Restaurant</text><g class=\"layers\" style=\"opacity: 1;\"><g class=\"legendfill\"/><g class=\"legendlines\"/><g class=\"legendsymbols\"><g class=\"legendpoints\"><path class=\"legendpie\" d=\"M6,6H-6V-6H6Z\" transform=\"translate(20,0)\" style=\"fill: rgb(99, 110, 250); fill-opacity: 1; stroke-width: 0; stroke: rgb(68, 68, 68); stroke-opacity: 1;\"/></g></g></g><rect class=\"legendtoggle\" x=\"0\" y=\"-9.5\" width=\"105.703125\" height=\"19\" style=\"fill: rgb(0, 0, 0); fill-opacity: 0;\"/></g><g class=\"traces\" transform=\"translate(0,33.5)\" style=\"opacity: 1;\"><text class=\"legendtext\" text-anchor=\"start\" x=\"40\" y=\"4.680000000000001\" style=\"font-family: 'Open Sans', verdana, arial, sans-serif; font-size: 12px; fill: rgb(42, 63, 95); fill-opacity: 1; white-space: pre;\">Fast Food</text><g class=\"layers\" style=\"opacity: 1;\"><g class=\"legendfill\"/><g class=\"legendlines\"/><g class=\"legendsymbols\"><g class=\"legendpoints\"><path class=\"legendpie\" d=\"M6,6H-6V-6H6Z\" transform=\"translate(20,0)\" style=\"fill: rgb(239, 85, 59); fill-opacity: 1; stroke-width: 0; stroke: rgb(68, 68, 68); stroke-opacity: 1;\"/></g></g></g><rect class=\"legendtoggle\" x=\"0\" y=\"-9.5\" width=\"105.703125\" height=\"19\" style=\"fill: rgb(0, 0, 0); fill-opacity: 0;\"/></g><g class=\"traces\" transform=\"translate(0,52.5)\" style=\"opacity: 1;\"><text class=\"legendtext\" text-anchor=\"start\" x=\"40\" y=\"4.680000000000001\" style=\"font-family: 'Open Sans', verdana, arial, sans-serif; font-size: 12px; fill: rgb(42, 63, 95); fill-opacity: 1; white-space: pre;\">Cafe</text><g class=\"layers\" style=\"opacity: 1;\"><g class=\"legendfill\"/><g class=\"legendlines\"/><g class=\"legendsymbols\"><g class=\"legendpoints\"><path class=\"legendpie\" d=\"M6,6H-6V-6H6Z\" transform=\"translate(20,0)\" style=\"fill: rgb(0, 204, 150); fill-opacity: 1; stroke-width: 0; stroke: rgb(68, 68, 68); stroke-opacity: 1;\"/></g></g></g><rect class=\"legendtoggle\" x=\"0\" y=\"-9.5\" width=\"105.703125\" height=\"19\" style=\"fill: rgb(0, 0, 0); fill-opacity: 0;\"/></g><g class=\"traces\" transform=\"translate(0,71.5)\" style=\"opacity: 1;\"><text class=\"legendtext\" text-anchor=\"start\" x=\"40\" y=\"4.680000000000001\" style=\"font-family: 'Open Sans', verdana, arial, sans-serif; font-size: 12px; fill: rgb(42, 63, 95); fill-opacity: 1; white-space: pre;\">Pizza</text><g class=\"layers\" style=\"opacity: 1;\"><g class=\"legendfill\"/><g class=\"legendlines\"/><g class=\"legendsymbols\"><g class=\"legendpoints\"><path class=\"legendpie\" d=\"M6,6H-6V-6H6Z\" transform=\"translate(20,0)\" style=\"fill: rgb(171, 99, 250); fill-opacity: 1; stroke-width: 0; stroke: rgb(68, 68, 68); stroke-opacity: 1;\"/></g></g></g><rect class=\"legendtoggle\" x=\"0\" y=\"-9.5\" width=\"105.703125\" height=\"19\" style=\"fill: rgb(0, 0, 0); fill-opacity: 0;\"/></g><g class=\"traces\" transform=\"translate(0,90.5)\" style=\"opacity: 1;\"><text class=\"legendtext\" text-anchor=\"start\" x=\"40\" y=\"4.680000000000001\" style=\"font-family: 'Open Sans', verdana, arial, sans-serif; font-size: 12px; fill: rgb(42, 63, 95); fill-opacity: 1; white-space: pre;\">Bar</text><g class=\"layers\" style=\"opacity: 1;\"><g class=\"legendfill\"/><g class=\"legendlines\"/><g class=\"legendsymbols\"><g class=\"legendpoints\"><path class=\"legendpie\" d=\"M6,6H-6V-6H6Z\" transform=\"translate(20,0)\" style=\"fill: rgb(255, 161, 90); fill-opacity: 1; stroke-width: 0; stroke: rgb(68, 68, 68); stroke-opacity: 1;\"/></g></g></g><rect class=\"legendtoggle\" x=\"0\" y=\"-9.5\" width=\"105.703125\" height=\"19\" style=\"fill: rgb(0, 0, 0); fill-opacity: 0;\"/></g><g class=\"traces\" transform=\"translate(0,109.5)\" style=\"opacity: 1;\"><text class=\"legendtext\" text-anchor=\"start\" x=\"40\" y=\"4.680000000000001\" style=\"font-family: 'Open Sans', verdana, arial, sans-serif; font-size: 12px; fill: rgb(42, 63, 95); fill-opacity: 1; white-space: pre;\">Bakery</text><g class=\"layers\" style=\"opacity: 1;\"><g class=\"legendfill\"/><g class=\"legendlines\"/><g class=\"legendsymbols\"><g class=\"legendpoints\"><path class=\"legendpie\" d=\"M6,6H-6V-6H6Z\" transform=\"translate(20,0)\" style=\"fill: rgb(25, 211, 243); fill-opacity: 1; stroke-width: 0; stroke: rgb(68, 68, 68); stroke-opacity: 1;\"/></g></g></g><rect class=\"legendtoggle\" x=\"0\" y=\"-9.5\" width=\"105.703125\" height=\"19\" style=\"fill: rgb(0, 0, 0); fill-opacity: 0;\"/></g></g></g><rect class=\"scrollbar\" rx=\"20\" ry=\"3\" width=\"0\" height=\"0\" style=\"fill: rgb(128, 139, 164); fill-opacity: 1;\" x=\"0\" y=\"0\"/></g><g class=\"g-gtitle\"><text class=\"gtitle\" x=\"35\" y=\"50\" text-anchor=\"start\" dy=\"0em\" style=\"font-family: 'Open Sans', verdana, arial, sans-serif; font-size: 17px; fill: rgb(42, 63, 95); opacity: 1; white-space: pre;\">Proporciones de los Diferentes Tipos de Establecimientos</text></g></g></svg>"
      ]
     },
     "metadata": {},
     "output_type": "display_data"
    }
   ],
   "source": [
    "fig1 = px.pie(rest_data, names='object_type', title= 'Proporciones de los Diferentes Tipos de Establecimientos')\n",
    "fig1.update_traces(textposition='inside', textinfo='percent+label')\n",
    "fig1.show()"
   ]
  },
  {
   "cell_type": "markdown",
   "metadata": {},
   "source": [
    "**Gráfico 1.** Muestra las proporciones de los distintos tipos de establecimientos.\n",
    "\n",
    "Podemos observar que:\n",
    "- El tipo de establecimiento Restaurant es el de mayor proporción, siendo el 75,2% ddel total. \n",
    "- El segundo tipo de establecimiento más importante es el de Fast Food, con el 11%.\n",
    "- Las pastelerías (Bakery) ocupan el último lugar con el 2,93%"
   ]
  },
  {
   "cell_type": "markdown",
   "metadata": {},
   "source": [
    "### - Investiga las proporciones de los establecimientos que pertenecen a una cadena y de los que no. Traza un gráfico."
   ]
  },
  {
   "cell_type": "code",
   "execution_count": 17,
   "metadata": {},
   "outputs": [
    {
     "data": {
      "text/html": [
       "<div>\n",
       "<style scoped>\n",
       "    .dataframe tbody tr th:only-of-type {\n",
       "        vertical-align: middle;\n",
       "    }\n",
       "\n",
       "    .dataframe tbody tr th {\n",
       "        vertical-align: top;\n",
       "    }\n",
       "\n",
       "    .dataframe thead th {\n",
       "        text-align: right;\n",
       "    }\n",
       "</style>\n",
       "<table border=\"1\" class=\"dataframe\">\n",
       "  <thead>\n",
       "    <tr style=\"text-align: right;\">\n",
       "      <th></th>\n",
       "      <th>chain</th>\n",
       "      <th>id</th>\n",
       "    </tr>\n",
       "  </thead>\n",
       "  <tbody>\n",
       "    <tr>\n",
       "      <th>0</th>\n",
       "      <td>False</td>\n",
       "      <td>5972</td>\n",
       "    </tr>\n",
       "    <tr>\n",
       "      <th>1</th>\n",
       "      <td>True</td>\n",
       "      <td>3676</td>\n",
       "    </tr>\n",
       "  </tbody>\n",
       "</table>\n",
       "</div>"
      ],
      "text/plain": [
       "   chain    id\n",
       "0  False  5972\n",
       "1   True  3676"
      ]
     },
     "execution_count": 17,
     "metadata": {},
     "output_type": "execute_result"
    }
   ],
   "source": [
    "rest_data.groupby('chain')['id'].count().reset_index()"
   ]
  },
  {
   "cell_type": "code",
   "execution_count": 18,
   "metadata": {},
   "outputs": [
    {
     "data": {
      "image/svg+xml": [
       "<svg class=\"main-svg\" xmlns=\"http://www.w3.org/2000/svg\" xmlns:xlink=\"http://www.w3.org/1999/xlink\" width=\"700\" height=\"500\" style=\"\" viewBox=\"0 0 700 500\"><rect x=\"0\" y=\"0\" width=\"700\" height=\"500\" style=\"fill: rgb(255, 255, 255); fill-opacity: 1;\"/><defs id=\"defs-256fac\"><g class=\"clips\"/><g class=\"gradients\"/><g class=\"patterns\"/></defs><g class=\"bglayer\"/><g class=\"layer-below\"><g class=\"imagelayer\"/><g class=\"shapelayer\"/></g><g class=\"cartesianlayer\"/><g class=\"polarlayer\"/><g class=\"smithlayer\"/><g class=\"ternarylayer\"/><g class=\"geolayer\"/><g class=\"funnelarealayer\"/><g class=\"pielayer\"><g class=\"trace\" stroke-linejoin=\"round\" style=\"opacity: 1;\"><g class=\"slice\"><path class=\"surface\" d=\"M316,260l0,-160a160,160 0 1 1 -108.78398302473423,277.3287903171014Z\" style=\"pointer-events: none; fill: rgb(99, 110, 250); fill-opacity: 1; stroke-width: 0; stroke: rgb(68, 68, 68); stroke-opacity: 1;\"/><g class=\"slicetext\"><text data-notex=\"1\" class=\"slicetext\" transform=\"translate(390.47533689982225,285.90873738750633)\" text-anchor=\"middle\" x=\"0\" y=\"0\" style=\"font-family: 'Open Sans', verdana, arial, sans-serif; font-size: 12px; fill: rgb(255, 255, 255); fill-opacity: 1; white-space: pre;\"><tspan class=\"line\" dy=\"0em\" x=\"0\" y=\"0\">NO Pertenece</tspan><tspan class=\"line\" dy=\"1.3em\" x=\"0\" y=\"0\">61.9%</tspan></text></g></g><g class=\"slice\"><path class=\"surface\" d=\"M316,260l-108.78398302473425,117.32879031710132a160,160 0 0 1 108.78398302473425,-277.3287903171013Z\" style=\"pointer-events: none; fill: rgb(239, 85, 59); fill-opacity: 1; stroke-width: 0; stroke: rgb(68, 68, 68); stroke-opacity: 1;\"/><g class=\"slicetext\"><text data-notex=\"1\" class=\"slicetext\" transform=\"translate(238.86112370352583,226.43709733240848)\" text-anchor=\"middle\" x=\"0\" y=\"0\" style=\"font-family: 'Open Sans', verdana, arial, sans-serif; font-size: 12px; fill: rgb(68, 68, 68); fill-opacity: 1; white-space: pre;\"><tspan class=\"line\" dy=\"0em\" x=\"0\" y=\"0\">Pertenece</tspan><tspan class=\"line\" dy=\"1.3em\" x=\"0\" y=\"0\">38.1%</tspan></text></g></g></g></g><g class=\"iciclelayer\"/><g class=\"treemaplayer\"/><g class=\"sunburstlayer\"/><g class=\"glimages\"/><defs id=\"topdefs-256fac\"><g class=\"clips\"/><clipPath id=\"legend256fac\"><rect width=\"127\" height=\"48\" x=\"0\" y=\"0\"/></clipPath></defs><g class=\"layer-above\"><g class=\"imagelayer\"/><g class=\"shapelayer\"/></g><g class=\"infolayer\"><g class=\"legend\" pointer-events=\"all\" transform=\"translate(561.44,100)\"><rect class=\"bg\" shape-rendering=\"crispEdges\" style=\"stroke: rgb(68, 68, 68); stroke-opacity: 1; fill: rgb(255, 255, 255); fill-opacity: 1; stroke-width: 0px;\" width=\"127\" height=\"48\" x=\"0\" y=\"0\"/><g class=\"scrollbox\" transform=\"\" clip-path=\"url(#legend256fac)\"><g class=\"groups\"><g class=\"traces\" transform=\"translate(0,14.5)\" style=\"opacity: 1;\"><text class=\"legendtext\" text-anchor=\"start\" x=\"40\" y=\"4.680000000000001\" style=\"font-family: 'Open Sans', verdana, arial, sans-serif; font-size: 12px; fill: rgb(42, 63, 95); fill-opacity: 1; white-space: pre;\">NO Pertenece</text><g class=\"layers\" style=\"opacity: 1;\"><g class=\"legendfill\"/><g class=\"legendlines\"/><g class=\"legendsymbols\"><g class=\"legendpoints\"><path class=\"legendpie\" d=\"M6,6H-6V-6H6Z\" transform=\"translate(20,0)\" style=\"fill: rgb(99, 110, 250); fill-opacity: 1; stroke-width: 0; stroke: rgb(68, 68, 68); stroke-opacity: 1;\"/></g></g></g><rect class=\"legendtoggle\" x=\"0\" y=\"-9.5\" width=\"121.875\" height=\"19\" style=\"fill: rgb(0, 0, 0); fill-opacity: 0;\"/></g><g class=\"traces\" transform=\"translate(0,33.5)\" style=\"opacity: 1;\"><text class=\"legendtext\" text-anchor=\"start\" x=\"40\" y=\"4.680000000000001\" style=\"font-family: 'Open Sans', verdana, arial, sans-serif; font-size: 12px; fill: rgb(42, 63, 95); fill-opacity: 1; white-space: pre;\">Pertenece</text><g class=\"layers\" style=\"opacity: 1;\"><g class=\"legendfill\"/><g class=\"legendlines\"/><g class=\"legendsymbols\"><g class=\"legendpoints\"><path class=\"legendpie\" d=\"M6,6H-6V-6H6Z\" transform=\"translate(20,0)\" style=\"fill: rgb(239, 85, 59); fill-opacity: 1; stroke-width: 0; stroke: rgb(68, 68, 68); stroke-opacity: 1;\"/></g></g></g><rect class=\"legendtoggle\" x=\"0\" y=\"-9.5\" width=\"121.875\" height=\"19\" style=\"fill: rgb(0, 0, 0); fill-opacity: 0;\"/></g></g></g><rect class=\"scrollbar\" rx=\"20\" ry=\"3\" width=\"0\" height=\"0\" style=\"fill: rgb(128, 139, 164); fill-opacity: 1;\" x=\"0\" y=\"0\"/></g><g class=\"g-gtitle\"><text class=\"gtitle\" x=\"35\" y=\"50\" text-anchor=\"start\" dy=\"0em\" style=\"font-family: 'Open Sans', verdana, arial, sans-serif; font-size: 17px; fill: rgb(42, 63, 95); opacity: 1; white-space: pre;\">Proporciones de los Establecimientos que Pertenecen a una Cadena y de los que no</text></g></g></svg>"
      ]
     },
     "metadata": {},
     "output_type": "display_data"
    }
   ],
   "source": [
    "fig2 = px.pie(rest_data.groupby('chain')['id'].count().reset_index(), names='chain', values='id',  \n",
    "              title= 'Proporciones de los Establecimientos que Pertenecen a una Cadena y de los que no')\n",
    "fig2.update_traces(textposition='inside', textinfo='percent+label', labels=['NO Pertenece', 'Pertenece'])\n",
    "fig2.show()"
   ]
  },
  {
   "cell_type": "markdown",
   "metadata": {},
   "source": [
    "**Gráfico 2.** Muestra las proporciones de los establecimientos que pertenecen a una cadena y de los que no\n",
    "\n",
    "Podemos observar que:\n",
    "- El 61,9% de los establecimientos No pertenecen a una cadena. \n",
    "- El 38,1% de los establecimientos si pertenecen a una cadena.\n",
    "- La mayor proporción de establecimientos NO pertenecen a una cadena."
   ]
  },
  {
   "cell_type": "markdown",
   "metadata": {},
   "source": [
    "### - ¿Qué tipo de establecimiento es habitualmente una cadena?"
   ]
  },
  {
   "cell_type": "code",
   "execution_count": 19,
   "metadata": {},
   "outputs": [],
   "source": [
    "cadena=(\n",
    "    rest_data.groupby(['chain', 'object_type'])['number']\n",
    "    .count()\n",
    "    .reset_index()\n",
    "    .sort_values(by=['object_type', 'number'], ascending=False)\n",
    ")\n",
    "#cadena\n",
    "df=rest_data.groupby('object_type')['number'].count()\n",
    "#df\n",
    "cadena_=(\n",
    "    cadena\n",
    "    .merge(df, on='object_type', suffixes=['_chain', '_total'])\n",
    "    .assign(porcentage= lambda x: x['number_chain'] /x['number_total']) \n",
    ")\n"
   ]
  },
  {
   "cell_type": "code",
   "execution_count": 20,
   "metadata": {},
   "outputs": [
    {
     "data": {
      "text/html": [
       "<div>\n",
       "<style scoped>\n",
       "    .dataframe tbody tr th:only-of-type {\n",
       "        vertical-align: middle;\n",
       "    }\n",
       "\n",
       "    .dataframe tbody tr th {\n",
       "        vertical-align: top;\n",
       "    }\n",
       "\n",
       "    .dataframe thead th {\n",
       "        text-align: right;\n",
       "    }\n",
       "</style>\n",
       "<table border=\"1\" class=\"dataframe\">\n",
       "  <thead>\n",
       "    <tr style=\"text-align: right;\">\n",
       "      <th></th>\n",
       "      <th>chain</th>\n",
       "      <th>object_type</th>\n",
       "      <th>number_chain</th>\n",
       "      <th>number_total</th>\n",
       "      <th>porcentage</th>\n",
       "    </tr>\n",
       "  </thead>\n",
       "  <tbody>\n",
       "    <tr>\n",
       "      <th>0</th>\n",
       "      <td>False</td>\n",
       "      <td>Restaurant</td>\n",
       "      <td>4961</td>\n",
       "      <td>7255</td>\n",
       "      <td>0.683804</td>\n",
       "    </tr>\n",
       "    <tr>\n",
       "      <th>1</th>\n",
       "      <td>True</td>\n",
       "      <td>Restaurant</td>\n",
       "      <td>2292</td>\n",
       "      <td>7255</td>\n",
       "      <td>0.315920</td>\n",
       "    </tr>\n",
       "    <tr>\n",
       "      <th>2</th>\n",
       "      <td>False</td>\n",
       "      <td>Pizza</td>\n",
       "      <td>166</td>\n",
       "      <td>320</td>\n",
       "      <td>0.518750</td>\n",
       "    </tr>\n",
       "    <tr>\n",
       "      <th>3</th>\n",
       "      <td>True</td>\n",
       "      <td>Pizza</td>\n",
       "      <td>153</td>\n",
       "      <td>320</td>\n",
       "      <td>0.478125</td>\n",
       "    </tr>\n",
       "    <tr>\n",
       "      <th>4</th>\n",
       "      <td>True</td>\n",
       "      <td>Fast Food</td>\n",
       "      <td>605</td>\n",
       "      <td>1066</td>\n",
       "      <td>0.567542</td>\n",
       "    </tr>\n",
       "    <tr>\n",
       "      <th>5</th>\n",
       "      <td>False</td>\n",
       "      <td>Fast Food</td>\n",
       "      <td>461</td>\n",
       "      <td>1066</td>\n",
       "      <td>0.432458</td>\n",
       "    </tr>\n",
       "    <tr>\n",
       "      <th>6</th>\n",
       "      <td>True</td>\n",
       "      <td>Cafe</td>\n",
       "      <td>266</td>\n",
       "      <td>435</td>\n",
       "      <td>0.611494</td>\n",
       "    </tr>\n",
       "    <tr>\n",
       "      <th>7</th>\n",
       "      <td>False</td>\n",
       "      <td>Cafe</td>\n",
       "      <td>169</td>\n",
       "      <td>435</td>\n",
       "      <td>0.388506</td>\n",
       "    </tr>\n",
       "    <tr>\n",
       "      <th>8</th>\n",
       "      <td>False</td>\n",
       "      <td>Bar</td>\n",
       "      <td>215</td>\n",
       "      <td>292</td>\n",
       "      <td>0.736301</td>\n",
       "    </tr>\n",
       "    <tr>\n",
       "      <th>9</th>\n",
       "      <td>True</td>\n",
       "      <td>Bar</td>\n",
       "      <td>77</td>\n",
       "      <td>292</td>\n",
       "      <td>0.263699</td>\n",
       "    </tr>\n",
       "    <tr>\n",
       "      <th>10</th>\n",
       "      <td>True</td>\n",
       "      <td>Bakery</td>\n",
       "      <td>283</td>\n",
       "      <td>283</td>\n",
       "      <td>1.000000</td>\n",
       "    </tr>\n",
       "  </tbody>\n",
       "</table>\n",
       "</div>"
      ],
      "text/plain": [
       "    chain object_type  number_chain  number_total  porcentage\n",
       "0   False  Restaurant          4961          7255    0.683804\n",
       "1    True  Restaurant          2292          7255    0.315920\n",
       "2   False       Pizza           166           320    0.518750\n",
       "3    True       Pizza           153           320    0.478125\n",
       "4    True   Fast Food           605          1066    0.567542\n",
       "5   False   Fast Food           461          1066    0.432458\n",
       "6    True        Cafe           266           435    0.611494\n",
       "7   False        Cafe           169           435    0.388506\n",
       "8   False         Bar           215           292    0.736301\n",
       "9    True         Bar            77           292    0.263699\n",
       "10   True      Bakery           283           283    1.000000"
      ]
     },
     "execution_count": 20,
     "metadata": {},
     "output_type": "execute_result"
    }
   ],
   "source": [
    "cadena_"
   ]
  },
  {
   "cell_type": "code",
   "execution_count": 21,
   "metadata": {},
   "outputs": [],
   "source": [
    "cadena_si=cadena[cadena['chain'] == True].sort_values(by='number', ascending=False)\n",
    "#cadena_si\n",
    "cadena_no=cadena[cadena['chain'] == False].sort_values(by='number', ascending=False)\n",
    "#cadena_no"
   ]
  },
  {
   "cell_type": "code",
   "execution_count": 22,
   "metadata": {},
   "outputs": [
    {
     "data": {
      "image/svg+xml": [
       "<svg class=\"main-svg\" xmlns=\"http://www.w3.org/2000/svg\" xmlns:xlink=\"http://www.w3.org/1999/xlink\" width=\"700\" height=\"500\" style=\"\" viewBox=\"0 0 700 500\"><rect x=\"0\" y=\"0\" width=\"700\" height=\"500\" style=\"fill: rgb(255, 255, 255); fill-opacity: 1;\"/><defs id=\"defs-e214d1\"><g class=\"clips\"/><g class=\"gradients\"/><g class=\"patterns\"/></defs><g class=\"bglayer\"/><g class=\"layer-below\"><g class=\"imagelayer\"/><g class=\"shapelayer\"/></g><g class=\"cartesianlayer\"/><g class=\"polarlayer\"/><g class=\"smithlayer\"/><g class=\"ternarylayer\"/><g class=\"geolayer\"/><g class=\"funnelarealayer\"/><g class=\"pielayer\"><g class=\"trace\" stroke-linejoin=\"round\" style=\"opacity: 1;\"><g class=\"slice\"><path class=\"surface\" d=\"M151.26105388914672,238.71360919708013a43.830000000000005,43.830000000000005 0 1 0 38.31394611085327,-22.54360919708013l0,-65.745a109.575,109.575 0 1 1 -95.78486527713318,56.359022992700325Z\" style=\"pointer-events: none; fill: rgb(99, 110, 250); fill-opacity: 1; stroke-width: 0; stroke: rgb(68, 68, 68); stroke-opacity: 1;\"/><g class=\"slicetext\"><text data-notex=\"1\" class=\"slicetext\" transform=\"translate(228.43333183926336,330.60798907746204)\" text-anchor=\"middle\" x=\"0\" y=\"0\" style=\"font-family: 'Open Sans', verdana, arial, sans-serif; font-size: 12px; fill: rgb(255, 255, 255); fill-opacity: 1; white-space: pre;\">83.1%</text></g></g><g class=\"slice\"><path class=\"surface\" d=\"M189.575,216.17a43.830000000000005,43.830000000000005 0 0 0 -20.434746244684376,5.055136416547413l-30.652119367026557,-58.16229537517888a109.575,109.575 0 0 1 51.086865611710934,-12.637841041368532Z\" style=\"pointer-events: none; fill: rgb(239, 85, 59); fill-opacity: 1; stroke-width: 0; stroke: rgb(68, 68, 68); stroke-opacity: 1;\"/><g class=\"slicetext\"><text data-notex=\"1\" class=\"slicetext\" transform=\"translate(166.49423034919707,185.43794029615916)rotate(76.10515740120559)\" text-anchor=\"middle\" x=\"0\" y=\"0\" style=\"font-family: 'Open Sans', verdana, arial, sans-serif; font-size: 12px; fill: rgb(68, 68, 68); fill-opacity: 1; white-space: pre;\">7.72%</text></g></g><g class=\"slice\"><path class=\"surface\" d=\"M169.1402537553156,221.2251364165474a43.830000000000005,43.830000000000005 0 0 0 -8.1758107452199,5.570873932697663l-42.91583548485641,-49.80598447613239a109.575,109.575 0 0 1 20.43952686304975,-13.927184831744157Z\" style=\"pointer-events: none; fill: rgb(0, 204, 150); fill-opacity: 1; stroke-width: 0; stroke: rgb(68, 68, 68); stroke-opacity: 1;\"/><g class=\"slicetext\"><text data-notex=\"1\" class=\"slicetext\" transform=\"translate(134.48674227785176,187.14409503974366)rotate(55.730073677160135)\" text-anchor=\"middle\" x=\"0\" y=\"0\" style=\"font-family: 'Open Sans', verdana, arial, sans-serif; font-size: 12px; fill: rgb(68, 68, 68); fill-opacity: 1; white-space: pre;\">3.6%</text></g></g><g class=\"slice\"><path class=\"surface\" d=\"M160.96444301009572,226.79601034924508a43.830000000000005,43.830000000000005 0 0 0 -5.421742633415858,5.583861440542638l-51.04844943498019,-41.43019231531843a109.575,109.575 0 0 1 13.554356583539644,-13.959653601356592Z\" style=\"pointer-events: none; fill: rgb(171, 99, 250); fill-opacity: 1; stroke-width: 0; stroke: rgb(68, 68, 68); stroke-opacity: 1;\"/><g class=\"slicetext\"><text data-notex=\"1\" class=\"slicetext\" transform=\"translate(87.03908568795015,184.528853401527)\" text-anchor=\"middle\" x=\"0\" y=\"0\" style=\"font-family: 'Open Sans', verdana, arial, sans-serif; font-size: 12px; fill: rgb(42, 63, 95); fill-opacity: 1; white-space: pre;\">2.83%</text></g></g><g class=\"slice\"><path class=\"surface\" d=\"M155.54270037667985,232.3798717897877a43.830000000000005,43.830000000000005 0 0 0 -4.28164648753314,6.333737407292427l-57.470919166279906,-31.929586204379792a109.575,109.575 0 0 1 10.704116218832851,-15.834343518231066Z\" style=\"pointer-events: none; fill: rgb(255, 161, 90); fill-opacity: 1; stroke-width: 0; stroke: rgb(68, 68, 68); stroke-opacity: 1;\"/><g class=\"slicetext\"><text data-notex=\"1\" class=\"slicetext\" transform=\"translate(74.87441482577037,200.78063672919922)\" text-anchor=\"middle\" x=\"0\" y=\"0\" style=\"font-family: 'Open Sans', verdana, arial, sans-serif; font-size: 12px; fill: rgb(42, 63, 95); fill-opacity: 1; white-space: pre;\">2.78%</text></g></g><g class=\"titletext\"><text data-notex=\"1\" class=\"titletext\" transform=\"translate(189.575,260)scale(0.9305543724910823)translate(0,4.5)\" text-anchor=\"middle\" x=\"0\" y=\"0\" style=\"font-family: 'Open Sans', verdana, arial, sans-serif; font-size: 12px; fill: rgb(42, 63, 95); fill-opacity: 1; white-space: pre;\">NO son Cadena</text></g></g><g class=\"trace\" stroke-linejoin=\"round\" style=\"opacity: 1;\"><g class=\"slice\"><path class=\"surface\" d=\"M426.7252306805469,291.28247214867076a43.83,43.83 0 1 0 30.699769319453157,-75.11247214867076l0,-65.74499999999999a109.57499999999999,109.57499999999999 0 1 1 -76.74942329863289,187.7811803716769Z\" style=\"pointer-events: none; fill: rgb(99, 110, 250); fill-opacity: 1; stroke-width: 0; stroke: rgb(68, 68, 68); stroke-opacity: 1;\"/><g class=\"slicetext\"><text data-notex=\"1\" class=\"slicetext\" transform=\"translate(528.3869945034735,293.51936268493)\" text-anchor=\"middle\" x=\"0\" y=\"0\" style=\"font-family: 'Open Sans', verdana, arial, sans-serif; font-size: 12px; fill: rgb(255, 255, 255); fill-opacity: 1; white-space: pre;\">62.4%</text></g></g><g class=\"slice\"><path class=\"surface\" d=\"M457.425,216.17000000000002a43.83,43.83 0 0 0 -37.66746381109132,21.41948751054261l-56.50119571663698,-33.615768734186084a109.57499999999999,109.57499999999999 0 0 1 94.1686595277283,-53.548718776356516Z\" style=\"pointer-events: none; fill: rgb(239, 85, 59); fill-opacity: 1; stroke-width: 0; stroke: rgb(68, 68, 68); stroke-opacity: 1;\"/><g class=\"slicetext\"><text data-notex=\"1\" class=\"slicetext\" transform=\"translate(419.47073987846284,197.823832626869)\" text-anchor=\"middle\" x=\"0\" y=\"0\" style=\"font-family: 'Open Sans', verdana, arial, sans-serif; font-size: 12px; fill: rgb(68, 68, 68); fill-opacity: 1; white-space: pre;\">16.5%</text></g></g><g class=\"slice\"><path class=\"surface\" d=\"M419.7575361889087,237.5894875105426a43.83,43.83 0 0 0 -6.101022470270266,20.089196345916765l-65.65272942204237,-3.4819742153109368a109.57499999999999,109.57499999999999 0 0 1 15.252556175675664,-50.22299086479191Z\" style=\"pointer-events: none; fill: rgb(25, 211, 243); fill-opacity: 1; stroke-width: 0; stroke: rgb(68, 68, 68); stroke-opacity: 1;\"/><g class=\"slicetext\"><text data-notex=\"1\" class=\"slicetext\" transform=\"translate(372.7986577596546,238.8111229783078)\" text-anchor=\"middle\" x=\"0\" y=\"0\" style=\"font-family: 'Open Sans', verdana, arial, sans-serif; font-size: 12px; fill: rgb(68, 68, 68); fill-opacity: 1; white-space: pre;\">7.7%</text></g></g><g class=\"slice\"><path class=\"surface\" d=\"M413.6565137186384,257.6786838564594a43.83,43.83 0 0 0 3.426987976047235,19.457021979085283l-60.51224745797152,25.703558753316987a109.57499999999999,109.57499999999999 0 0 1 -8.567469940118087,-48.64255494771321Z\" style=\"pointer-events: none; fill: rgb(171, 99, 250); fill-opacity: 1; stroke-width: 0; stroke: rgb(68, 68, 68); stroke-opacity: 1;\"/><g class=\"slicetext\"><text data-notex=\"1\" class=\"slicetext\" transform=\"translate(380.5535812887048,278.1087194645416)rotate(-9.989118607181695)\" text-anchor=\"middle\" x=\"0\" y=\"0\" style=\"font-family: 'Open Sans', verdana, arial, sans-serif; font-size: 12px; fill: rgb(68, 68, 68); fill-opacity: 1; white-space: pre;\">7.24%</text></g></g><g class=\"slice\"><path class=\"surface\" d=\"M417.08350169468565,277.1357058355447a43.83,43.83 0 0 0 5.801962043460043,9.847424724419122l-51.809304392781456,40.47469583994567a109.57499999999999,109.57499999999999 0 0 1 -14.504905108650107,-24.618561811047805Z\" style=\"pointer-events: none; fill: rgb(255, 161, 90); fill-opacity: 1; stroke-width: 0; stroke: rgb(68, 68, 68); stroke-opacity: 1;\"/><g class=\"slicetext\"><text data-notex=\"1\" class=\"slicetext\" transform=\"translate(385.02440306174657,307.8803838164792)rotate(-30.505984766050005)\" text-anchor=\"middle\" x=\"0\" y=\"0\" style=\"font-family: 'Open Sans', verdana, arial, sans-serif; font-size: 12px; fill: rgb(68, 68, 68); fill-opacity: 1; white-space: pre;\">4.16%</text></g></g><g class=\"slice\"><path class=\"surface\" d=\"M422.8854637381457,286.9831305599638a43.83,43.83 0 0 0 3.839766942401167,4.299341588707011l-46.04965397917971,46.92370822300619a109.57499999999999,109.57499999999999 0 0 1 -9.599417356002917,-10.748353971767528Z\" style=\"pointer-events: none; fill: rgb(0, 204, 150); fill-opacity: 1; stroke-width: 0; stroke: rgb(68, 68, 68); stroke-opacity: 1;\"/><g class=\"slicetext\"><text data-notex=\"1\" class=\"slicetext\" transform=\"translate(351.77710280132624,340.81784358956065)\" text-anchor=\"middle\" x=\"0\" y=\"0\" style=\"font-family: 'Open Sans', verdana, arial, sans-serif; font-size: 12px; fill: rgb(42, 63, 95); fill-opacity: 1; white-space: pre;\">2.09%</text></g></g><g class=\"titletext\"><text data-notex=\"1\" class=\"titletext\" transform=\"translate(457.425,260)translate(0,4.5)\" text-anchor=\"middle\" x=\"0\" y=\"0\" style=\"font-family: 'Open Sans', verdana, arial, sans-serif; font-size: 12px; fill: rgb(42, 63, 95); fill-opacity: 1; white-space: pre;\">Son Cadena</text></g></g></g><g class=\"iciclelayer\"/><g class=\"treemaplayer\"/><g class=\"sunburstlayer\"/><g class=\"glimages\"/><defs id=\"topdefs-e214d1\"><g class=\"clips\"/><clipPath id=\"legende214d1\"><rect width=\"111\" height=\"124\" x=\"0\" y=\"0\"/></clipPath></defs><g class=\"layer-above\"><g class=\"imagelayer\"/><g class=\"shapelayer\"/></g><g class=\"infolayer\"><g class=\"legend\" pointer-events=\"all\" transform=\"translate(576.74,100)\"><rect class=\"bg\" shape-rendering=\"crispEdges\" width=\"111\" height=\"124\" x=\"0\" y=\"0\" style=\"stroke: rgb(68, 68, 68); stroke-opacity: 1; fill: rgb(255, 255, 255); fill-opacity: 1; stroke-width: 0px;\"/><g class=\"scrollbox\" transform=\"\" clip-path=\"url(#legende214d1)\"><g class=\"groups\"><g class=\"traces\" transform=\"translate(0,14.5)\" style=\"opacity: 1;\"><text class=\"legendtext\" text-anchor=\"start\" x=\"40\" y=\"4.680000000000001\" style=\"font-family: 'Open Sans', verdana, arial, sans-serif; font-size: 12px; fill: rgb(42, 63, 95); fill-opacity: 1; white-space: pre;\">Restaurant</text><g class=\"layers\" style=\"opacity: 1;\"><g class=\"legendfill\"/><g class=\"legendlines\"/><g class=\"legendsymbols\"><g class=\"legendpoints\"><path class=\"legendpie\" d=\"M6,6H-6V-6H6Z\" transform=\"translate(20,0)\" style=\"fill: rgb(99, 110, 250); fill-opacity: 1; stroke-width: 0; stroke: rgb(68, 68, 68); stroke-opacity: 1;\"/></g></g></g><rect class=\"legendtoggle\" x=\"0\" y=\"-9.5\" width=\"105.703125\" height=\"19\" style=\"fill: rgb(0, 0, 0); fill-opacity: 0;\"/></g><g class=\"traces\" transform=\"translate(0,33.5)\" style=\"opacity: 1;\"><text class=\"legendtext\" text-anchor=\"start\" x=\"40\" y=\"4.680000000000001\" style=\"font-family: 'Open Sans', verdana, arial, sans-serif; font-size: 12px; fill: rgb(42, 63, 95); fill-opacity: 1; white-space: pre;\">Fast Food</text><g class=\"layers\" style=\"opacity: 1;\"><g class=\"legendfill\"/><g class=\"legendlines\"/><g class=\"legendsymbols\"><g class=\"legendpoints\"><path class=\"legendpie\" d=\"M6,6H-6V-6H6Z\" transform=\"translate(20,0)\" style=\"fill: rgb(239, 85, 59); fill-opacity: 1; stroke-width: 0; stroke: rgb(68, 68, 68); stroke-opacity: 1;\"/></g></g></g><rect class=\"legendtoggle\" x=\"0\" y=\"-9.5\" width=\"105.703125\" height=\"19\" style=\"fill: rgb(0, 0, 0); fill-opacity: 0;\"/></g><g class=\"traces\" transform=\"translate(0,52.5)\" style=\"opacity: 1;\"><text class=\"legendtext\" text-anchor=\"start\" x=\"40\" y=\"4.680000000000001\" style=\"font-family: 'Open Sans', verdana, arial, sans-serif; font-size: 12px; fill: rgb(42, 63, 95); fill-opacity: 1; white-space: pre;\">Bar</text><g class=\"layers\" style=\"opacity: 1;\"><g class=\"legendfill\"/><g class=\"legendlines\"/><g class=\"legendsymbols\"><g class=\"legendpoints\"><path class=\"legendpie\" d=\"M6,6H-6V-6H6Z\" transform=\"translate(20,0)\" style=\"fill: rgb(0, 204, 150); fill-opacity: 1; stroke-width: 0; stroke: rgb(68, 68, 68); stroke-opacity: 1;\"/></g></g></g><rect class=\"legendtoggle\" x=\"0\" y=\"-9.5\" width=\"105.703125\" height=\"19\" style=\"fill: rgb(0, 0, 0); fill-opacity: 0;\"/></g><g class=\"traces\" transform=\"translate(0,71.5)\" style=\"opacity: 1;\"><text class=\"legendtext\" text-anchor=\"start\" x=\"40\" y=\"4.680000000000001\" style=\"font-family: 'Open Sans', verdana, arial, sans-serif; font-size: 12px; fill: rgb(42, 63, 95); fill-opacity: 1; white-space: pre;\">Cafe</text><g class=\"layers\" style=\"opacity: 1;\"><g class=\"legendfill\"/><g class=\"legendlines\"/><g class=\"legendsymbols\"><g class=\"legendpoints\"><path class=\"legendpie\" d=\"M6,6H-6V-6H6Z\" transform=\"translate(20,0)\" style=\"fill: rgb(171, 99, 250); fill-opacity: 1; stroke-width: 0; stroke: rgb(68, 68, 68); stroke-opacity: 1;\"/></g></g></g><rect class=\"legendtoggle\" x=\"0\" y=\"-9.5\" width=\"105.703125\" height=\"19\" style=\"fill: rgb(0, 0, 0); fill-opacity: 0;\"/></g><g class=\"traces\" transform=\"translate(0,90.5)\" style=\"opacity: 1;\"><text class=\"legendtext\" text-anchor=\"start\" x=\"40\" y=\"4.680000000000001\" style=\"font-family: 'Open Sans', verdana, arial, sans-serif; font-size: 12px; fill: rgb(42, 63, 95); fill-opacity: 1; white-space: pre;\">Pizza</text><g class=\"layers\" style=\"opacity: 1;\"><g class=\"legendfill\"/><g class=\"legendlines\"/><g class=\"legendsymbols\"><g class=\"legendpoints\"><path class=\"legendpie\" d=\"M6,6H-6V-6H6Z\" transform=\"translate(20,0)\" style=\"fill: rgb(255, 161, 90); fill-opacity: 1; stroke-width: 0; stroke: rgb(68, 68, 68); stroke-opacity: 1;\"/></g></g></g><rect class=\"legendtoggle\" x=\"0\" y=\"-9.5\" width=\"105.703125\" height=\"19\" style=\"fill: rgb(0, 0, 0); fill-opacity: 0;\"/></g><g class=\"traces\" transform=\"translate(0,109.5)\" style=\"opacity: 1;\"><text class=\"legendtext\" text-anchor=\"start\" x=\"40\" y=\"4.680000000000001\" style=\"font-family: 'Open Sans', verdana, arial, sans-serif; font-size: 12px; fill: rgb(42, 63, 95); fill-opacity: 1; white-space: pre;\">Bakery</text><g class=\"layers\" style=\"opacity: 1;\"><g class=\"legendfill\"/><g class=\"legendlines\"/><g class=\"legendsymbols\"><g class=\"legendpoints\"><path class=\"legendpie\" d=\"M6,6H-6V-6H6Z\" transform=\"translate(20,0)\" style=\"fill: rgb(25, 211, 243); fill-opacity: 1; stroke-width: 0; stroke: rgb(68, 68, 68); stroke-opacity: 1;\"/></g></g></g><rect class=\"legendtoggle\" x=\"0\" y=\"-9.5\" width=\"105.703125\" height=\"19\" style=\"fill: rgb(0, 0, 0); fill-opacity: 0;\"/></g></g></g><rect class=\"scrollbar\" rx=\"20\" ry=\"3\" width=\"0\" height=\"0\" x=\"0\" y=\"0\" style=\"fill: rgb(128, 139, 164); fill-opacity: 1;\"/></g><g class=\"g-gtitle\"><text class=\"gtitle\" x=\"35\" y=\"50\" text-anchor=\"start\" dy=\"0em\" style=\"font-family: 'Open Sans', verdana, arial, sans-serif; font-size: 17px; fill: rgb(42, 63, 95); opacity: 1; white-space: pre;\">Conformación de Establecimientos en Cadenas y NO Cadenas</text></g></g></svg>"
      ]
     },
     "metadata": {},
     "output_type": "display_data"
    }
   ],
   "source": [
    "specs=[[{'type':'domain'}, {'type':'domain'}]]\n",
    "\n",
    "fig3 = make_subplots(rows=1, cols=2, specs=specs)\n",
    "                           \n",
    "\n",
    "fig3.add_trace(go.Pie(labels=cadena_no['object_type'], values=cadena_no[\"number\"],  title=\"NO son Cadena\"), 1, 1)\n",
    "fig3.add_trace(go.Pie(labels=cadena_si['object_type'], values=cadena_si[\"number\"], title=\"Son Cadena\"), 1, 2)\n",
    "\n",
    "fig3.update_layout(title_text='Conformación de Establecimientos en Cadenas y NO Cadenas')\n",
    "fig3.update_traces(hole=.4, hoverinfo=\"label+percent+name\")\n",
    "fig3.show()"
   ]
  },
  {
   "cell_type": "markdown",
   "metadata": {},
   "source": [
    "**Gráfico 3a.** Muestra la conformación de establecimientos que pertenecen a una cadena y los que no.\n",
    "\n",
    "Podemos observar que, dentro de los establecimientos que pertenecen a una cadena: \n",
    "- El 62,4% son restaurant.\n",
    "- El 16,5% son fast food.\n",
    "- Solo el 2,09% de los establecimientos que pertenecen a una cadena son bares. "
   ]
  },
  {
   "cell_type": "code",
   "execution_count": 23,
   "metadata": {},
   "outputs": [
    {
     "data": {
      "image/svg+xml": [
       "<svg class=\"main-svg\" xmlns=\"http://www.w3.org/2000/svg\" xmlns:xlink=\"http://www.w3.org/1999/xlink\" width=\"700\" height=\"500\" style=\"\" viewBox=\"0 0 700 500\"><rect x=\"0\" y=\"0\" width=\"700\" height=\"500\" style=\"fill: rgb(255, 255, 255); fill-opacity: 1;\"/><defs id=\"defs-45097f\"><g class=\"clips\"><clipPath id=\"clip45097fxyplot\" class=\"plotclip\"><rect width=\"522\" height=\"320\"/></clipPath><clipPath class=\"axesclip\" id=\"clip45097fx\"><rect x=\"80\" y=\"0\" width=\"522\" height=\"500\"/></clipPath><clipPath class=\"axesclip\" id=\"clip45097fy\"><rect x=\"0\" y=\"100\" width=\"700\" height=\"320\"/></clipPath><clipPath class=\"axesclip\" id=\"clip45097fxy\"><rect x=\"80\" y=\"100\" width=\"522\" height=\"320\"/></clipPath></g><g class=\"gradients\"/><g class=\"patterns\"/></defs><g class=\"bglayer\"><rect class=\"bg\" x=\"80\" y=\"100\" width=\"522\" height=\"320\" style=\"fill: rgb(229, 236, 246); fill-opacity: 1; stroke-width: 0;\"/></g><g class=\"layer-below\"><g class=\"imagelayer\"/><g class=\"shapelayer\"/></g><g class=\"cartesianlayer\"><g class=\"subplot xy\"><g class=\"layer-subplot\"><g class=\"shapelayer\"/><g class=\"imagelayer\"/></g><g class=\"minor-gridlayer\"><g class=\"x\"/><g class=\"y\"/></g><g class=\"gridlayer\"><g class=\"x\"/><g class=\"y\"><path class=\"ygrid crisp\" transform=\"translate(0,359.2)\" d=\"M80,0h522\" style=\"stroke: rgb(255, 255, 255); stroke-opacity: 1; stroke-width: 1px;\"/><path class=\"ygrid crisp\" transform=\"translate(0,298.4)\" d=\"M80,0h522\" style=\"stroke: rgb(255, 255, 255); stroke-opacity: 1; stroke-width: 1px;\"/><path class=\"ygrid crisp\" transform=\"translate(0,237.6)\" d=\"M80,0h522\" style=\"stroke: rgb(255, 255, 255); stroke-opacity: 1; stroke-width: 1px;\"/><path class=\"ygrid crisp\" transform=\"translate(0,176.8)\" d=\"M80,0h522\" style=\"stroke: rgb(255, 255, 255); stroke-opacity: 1; stroke-width: 1px;\"/><path class=\"ygrid crisp\" transform=\"translate(0,116)\" d=\"M80,0h522\" style=\"stroke: rgb(255, 255, 255); stroke-opacity: 1; stroke-width: 1px;\"/></g></g><g class=\"zerolinelayer\"><path class=\"yzl zl crisp\" transform=\"translate(0,420)\" d=\"M80,0h522\" style=\"stroke: rgb(255, 255, 255); stroke-opacity: 1; stroke-width: 2px;\"/></g><g class=\"layer-between\"><g class=\"shapelayer\"/><g class=\"imagelayer\"/></g><path class=\"xlines-below\"/><path class=\"ylines-below\"/><g class=\"overlines-below\"/><g class=\"xaxislayer-below\"/><g class=\"yaxislayer-below\"/><g class=\"overaxes-below\"/><g class=\"plot\" transform=\"translate(80,100)\" clip-path=\"url(#clip45097fxyplot)\"><g class=\"barlayer mlayer\"><g class=\"trace bars\" style=\"opacity: 1;\"><g class=\"points\"><g class=\"point\"><path d=\"M8.7,320V112.12H43.5V320Z\" style=\"vector-effect: none; opacity: 1; stroke-width: 0.5px; fill: rgb(99, 110, 250); fill-opacity: 1; stroke: rgb(229, 236, 246); stroke-opacity: 1;\"/><text class=\"bartext bartext-inside\" text-anchor=\"middle\" data-notex=\"1\" x=\"0\" y=\"0\" style=\"font-family: 'Open Sans', verdana, arial, sans-serif; font-size: 12px; fill: rgb(255, 255, 255); fill-opacity: 1; white-space: pre;\" transform=\"translate(25.9203125,127.12)\">68.4</text></g><g class=\"point\"><path d=\"M95.7,320V162.3H130.5V320Z\" style=\"vector-effect: none; opacity: 1; stroke-width: 0.5px; fill: rgb(99, 110, 250); fill-opacity: 1; stroke: rgb(229, 236, 246); stroke-opacity: 1;\"/><text class=\"bartext bartext-inside\" text-anchor=\"middle\" data-notex=\"1\" x=\"0\" y=\"0\" style=\"font-family: 'Open Sans', verdana, arial, sans-serif; font-size: 12px; fill: rgb(255, 255, 255); fill-opacity: 1; white-space: pre;\" transform=\"translate(112.9203125,177.3)\">51.9</text></g><g class=\"point\"><path d=\"M182.7,320V188.53H217.5V320Z\" style=\"vector-effect: none; opacity: 1; stroke-width: 0.5px; fill: rgb(99, 110, 250); fill-opacity: 1; stroke: rgb(229, 236, 246); stroke-opacity: 1;\"/><text class=\"bartext bartext-inside\" text-anchor=\"middle\" data-notex=\"1\" x=\"0\" y=\"0\" style=\"font-family: 'Open Sans', verdana, arial, sans-serif; font-size: 12px; fill: rgb(255, 255, 255); fill-opacity: 1; white-space: pre;\" transform=\"translate(199.9203125,203.53)\">43.2</text></g><g class=\"point\"><path d=\"M269.7,320V201.89H304.5V320Z\" style=\"vector-effect: none; opacity: 1; stroke-width: 0.5px; fill: rgb(99, 110, 250); fill-opacity: 1; stroke: rgb(229, 236, 246); stroke-opacity: 1;\"/><text class=\"bartext bartext-inside\" text-anchor=\"middle\" data-notex=\"1\" x=\"0\" y=\"0\" style=\"font-family: 'Open Sans', verdana, arial, sans-serif; font-size: 12px; fill: rgb(255, 255, 255); fill-opacity: 1; white-space: pre;\" transform=\"translate(286.9203125,216.89)\">38.9</text></g><g class=\"point\"><path d=\"M356.7,320V96.16H391.5V320Z\" style=\"vector-effect: none; opacity: 1; stroke-width: 0.5px; fill: rgb(99, 110, 250); fill-opacity: 1; stroke: rgb(229, 236, 246); stroke-opacity: 1;\"/><text class=\"bartext bartext-inside\" text-anchor=\"middle\" data-notex=\"1\" x=\"0\" y=\"0\" style=\"font-family: 'Open Sans', verdana, arial, sans-serif; font-size: 12px; fill: rgb(255, 255, 255); fill-opacity: 1; white-space: pre;\" transform=\"translate(373.9203125,111.16)\">73.6</text></g></g></g><g class=\"trace bars\" style=\"opacity: 1;\"><g class=\"points\"><g class=\"point\"><path d=\"M43.5,320V223.96H78.3V320Z\" style=\"vector-effect: none; opacity: 1; stroke-width: 0.5px; fill: rgb(239, 85, 59); fill-opacity: 1; stroke: rgb(229, 236, 246); stroke-opacity: 1;\"/><text class=\"bartext bartext-inside\" text-anchor=\"middle\" data-notex=\"1\" x=\"0\" y=\"0\" style=\"font-family: 'Open Sans', verdana, arial, sans-serif; font-size: 12px; fill: rgb(68, 68, 68); fill-opacity: 1; white-space: pre;\" transform=\"translate(60.7203125,238.96)\">31.6</text></g><g class=\"point\"><path d=\"M130.5,320V174.65H165.3V320Z\" style=\"vector-effect: none; opacity: 1; stroke-width: 0.5px; fill: rgb(239, 85, 59); fill-opacity: 1; stroke: rgb(229, 236, 246); stroke-opacity: 1;\"/><text class=\"bartext bartext-inside\" text-anchor=\"middle\" data-notex=\"1\" x=\"0\" y=\"0\" style=\"font-family: 'Open Sans', verdana, arial, sans-serif; font-size: 12px; fill: rgb(68, 68, 68); fill-opacity: 1; white-space: pre;\" transform=\"translate(147.7203125,189.65)\">47.8</text></g><g class=\"point\"><path d=\"M217.5,320V147.47H252.3V320Z\" style=\"vector-effect: none; opacity: 1; stroke-width: 0.5px; fill: rgb(239, 85, 59); fill-opacity: 1; stroke: rgb(229, 236, 246); stroke-opacity: 1;\"/><text class=\"bartext bartext-inside\" text-anchor=\"middle\" data-notex=\"1\" x=\"0\" y=\"0\" style=\"font-family: 'Open Sans', verdana, arial, sans-serif; font-size: 12px; fill: rgb(68, 68, 68); fill-opacity: 1; white-space: pre;\" transform=\"translate(234.7203125,162.47)\">56.8</text></g><g class=\"point\"><path d=\"M304.5,320V134.11H339.3V320Z\" style=\"vector-effect: none; opacity: 1; stroke-width: 0.5px; fill: rgb(239, 85, 59); fill-opacity: 1; stroke: rgb(229, 236, 246); stroke-opacity: 1;\"/><text class=\"bartext bartext-inside\" text-anchor=\"middle\" data-notex=\"1\" x=\"0\" y=\"0\" style=\"font-family: 'Open Sans', verdana, arial, sans-serif; font-size: 12px; fill: rgb(68, 68, 68); fill-opacity: 1; white-space: pre;\" transform=\"translate(321.9,149.11)\">61.1</text></g><g class=\"point\"><path d=\"M391.5,320V239.84H426.3V320Z\" style=\"vector-effect: none; opacity: 1; stroke-width: 0.5px; fill: rgb(239, 85, 59); fill-opacity: 1; stroke: rgb(229, 236, 246); stroke-opacity: 1;\"/><text class=\"bartext bartext-inside\" text-anchor=\"middle\" data-notex=\"1\" x=\"0\" y=\"0\" style=\"font-family: 'Open Sans', verdana, arial, sans-serif; font-size: 12px; fill: rgb(68, 68, 68); fill-opacity: 1; white-space: pre;\" transform=\"translate(408.79656903765687,282.4023430962343)scale(0.5516317991631798)rotate(90 0.1875 -4.5)\">26.400000000000002</text></g><g class=\"point\"><path d=\"M478.5,320V16H513.3V320Z\" style=\"vector-effect: none; opacity: 1; stroke-width: 0.5px; fill: rgb(239, 85, 59); fill-opacity: 1; stroke: rgb(229, 236, 246); stroke-opacity: 1;\"/><text class=\"bartext bartext-inside\" text-anchor=\"middle\" data-notex=\"1\" x=\"0\" y=\"0\" style=\"font-family: 'Open Sans', verdana, arial, sans-serif; font-size: 12px; fill: rgb(68, 68, 68); fill-opacity: 1; white-space: pre;\" transform=\"translate(495.7125,31)\">100</text></g></g></g></g></g><g class=\"overplot\"/><path class=\"xlines-above crisp\" d=\"M0,0\" style=\"fill: none;\"/><path class=\"ylines-above crisp\" d=\"M0,0\" style=\"fill: none;\"/><g class=\"overlines-above\"/><g class=\"xaxislayer-above\"><g class=\"xtick\"><text text-anchor=\"middle\" x=\"0\" y=\"433\" transform=\"translate(123.5,0)\" style=\"font-family: 'Open Sans', verdana, arial, sans-serif; font-size: 12px; fill: rgb(42, 63, 95); fill-opacity: 1; white-space: pre; opacity: 1;\">Restaurant</text></g><g class=\"xtick\"><text text-anchor=\"middle\" x=\"0\" y=\"433\" transform=\"translate(210.5,0)\" style=\"font-family: 'Open Sans', verdana, arial, sans-serif; font-size: 12px; fill: rgb(42, 63, 95); fill-opacity: 1; white-space: pre; opacity: 1;\">Pizza</text></g><g class=\"xtick\"><text text-anchor=\"middle\" x=\"0\" y=\"433\" transform=\"translate(297.5,0)\" style=\"font-family: 'Open Sans', verdana, arial, sans-serif; font-size: 12px; fill: rgb(42, 63, 95); fill-opacity: 1; white-space: pre; opacity: 1;\">Fast Food</text></g><g class=\"xtick\"><text text-anchor=\"middle\" x=\"0\" y=\"433\" transform=\"translate(384.5,0)\" style=\"font-family: 'Open Sans', verdana, arial, sans-serif; font-size: 12px; fill: rgb(42, 63, 95); fill-opacity: 1; white-space: pre; opacity: 1;\">Cafe</text></g><g class=\"xtick\"><text text-anchor=\"middle\" x=\"0\" y=\"433\" transform=\"translate(471.5,0)\" style=\"font-family: 'Open Sans', verdana, arial, sans-serif; font-size: 12px; fill: rgb(42, 63, 95); fill-opacity: 1; white-space: pre; opacity: 1;\">Bar</text></g><g class=\"xtick\"><text text-anchor=\"middle\" x=\"0\" y=\"433\" transform=\"translate(558.5,0)\" style=\"font-family: 'Open Sans', verdana, arial, sans-serif; font-size: 12px; fill: rgb(42, 63, 95); fill-opacity: 1; white-space: pre; opacity: 1;\">Bakery</text></g></g><g class=\"yaxislayer-above\"><g class=\"ytick\"><text text-anchor=\"end\" x=\"79\" y=\"4.199999999999999\" transform=\"translate(0,420)\" style=\"font-family: 'Open Sans', verdana, arial, sans-serif; font-size: 12px; fill: rgb(42, 63, 95); fill-opacity: 1; white-space: pre; opacity: 1;\">0</text></g><g class=\"ytick\"><text text-anchor=\"end\" x=\"79\" y=\"4.199999999999999\" style=\"font-family: 'Open Sans', verdana, arial, sans-serif; font-size: 12px; fill: rgb(42, 63, 95); fill-opacity: 1; white-space: pre; opacity: 1;\" transform=\"translate(0,359.2)\">20</text></g><g class=\"ytick\"><text text-anchor=\"end\" x=\"79\" y=\"4.199999999999999\" style=\"font-family: 'Open Sans', verdana, arial, sans-serif; font-size: 12px; fill: rgb(42, 63, 95); fill-opacity: 1; white-space: pre; opacity: 1;\" transform=\"translate(0,298.4)\">40</text></g><g class=\"ytick\"><text text-anchor=\"end\" x=\"79\" y=\"4.199999999999999\" style=\"font-family: 'Open Sans', verdana, arial, sans-serif; font-size: 12px; fill: rgb(42, 63, 95); fill-opacity: 1; white-space: pre; opacity: 1;\" transform=\"translate(0,237.6)\">60</text></g><g class=\"ytick\"><text text-anchor=\"end\" x=\"79\" y=\"4.199999999999999\" style=\"font-family: 'Open Sans', verdana, arial, sans-serif; font-size: 12px; fill: rgb(42, 63, 95); fill-opacity: 1; white-space: pre; opacity: 1;\" transform=\"translate(0,176.8)\">80</text></g><g class=\"ytick\"><text text-anchor=\"end\" x=\"79\" y=\"4.199999999999999\" style=\"font-family: 'Open Sans', verdana, arial, sans-serif; font-size: 12px; fill: rgb(42, 63, 95); fill-opacity: 1; white-space: pre; opacity: 1;\" transform=\"translate(0,116)\">100</text></g></g><g class=\"overaxes-above\"/></g></g><g class=\"polarlayer\"/><g class=\"smithlayer\"/><g class=\"ternarylayer\"/><g class=\"geolayer\"/><g class=\"funnelarealayer\"/><g class=\"pielayer\"/><g class=\"iciclelayer\"/><g class=\"treemaplayer\"/><g class=\"sunburstlayer\"/><g class=\"glimages\"/><defs id=\"topdefs-45097f\"><g class=\"clips\"/><clipPath id=\"legend45097f\"><rect width=\"76\" height=\"67\" x=\"0\" y=\"0\"/></clipPath></defs><g class=\"layer-above\"><g class=\"imagelayer\"/><g class=\"shapelayer\"/></g><g class=\"infolayer\"><g class=\"legend\" pointer-events=\"all\" transform=\"translate(612.44,100)\"><rect class=\"bg\" shape-rendering=\"crispEdges\" style=\"stroke: rgb(68, 68, 68); stroke-opacity: 1; fill: rgb(255, 255, 255); fill-opacity: 1; stroke-width: 0px;\" width=\"76\" height=\"67\" x=\"0\" y=\"0\"/><g class=\"scrollbox\" transform=\"\" clip-path=\"url(#legend45097f)\"><text class=\"legendtitletext\" text-anchor=\"start\" x=\"2\" y=\"18.2\" style=\"font-family: 'Open Sans', verdana, arial, sans-serif; font-size: 14px; fill: rgb(42, 63, 95); fill-opacity: 1; white-space: pre;\">chain</text><g class=\"groups\" transform=\"\"><g class=\"traces\" transform=\"translate(0,32.7)\" style=\"opacity: 1;\"><text class=\"legendtext\" text-anchor=\"start\" x=\"40\" y=\"4.680000000000001\" style=\"font-family: 'Open Sans', verdana, arial, sans-serif; font-size: 12px; fill: rgb(42, 63, 95); fill-opacity: 1; white-space: pre;\">False</text><g class=\"layers\" style=\"opacity: 1;\"><g class=\"legendfill\"/><g class=\"legendlines\"/><g class=\"legendsymbols\"><g class=\"legendpoints\"><path class=\"legendundefined\" d=\"M6,6H-6V-6H6Z\" transform=\"translate(20,0)\" style=\"stroke-width: 0.5px; fill: rgb(99, 110, 250); fill-opacity: 1; stroke: rgb(229, 236, 246); stroke-opacity: 1;\"/></g></g></g><rect class=\"legendtoggle\" x=\"0\" y=\"-9.5\" width=\"70.21875\" height=\"19\" style=\"fill: rgb(0, 0, 0); fill-opacity: 0;\"/></g></g><g class=\"groups\" transform=\"\"><g class=\"traces\" transform=\"translate(0,51.7)\" style=\"opacity: 1;\"><text class=\"legendtext\" text-anchor=\"start\" x=\"40\" y=\"4.680000000000001\" style=\"font-family: 'Open Sans', verdana, arial, sans-serif; font-size: 12px; fill: rgb(42, 63, 95); fill-opacity: 1; white-space: pre;\">True</text><g class=\"layers\" style=\"opacity: 1;\"><g class=\"legendfill\"/><g class=\"legendlines\"/><g class=\"legendsymbols\"><g class=\"legendpoints\"><path class=\"legendundefined\" d=\"M6,6H-6V-6H6Z\" transform=\"translate(20,0)\" style=\"stroke-width: 0.5px; fill: rgb(239, 85, 59); fill-opacity: 1; stroke: rgb(229, 236, 246); stroke-opacity: 1;\"/></g></g></g><rect class=\"legendtoggle\" x=\"0\" y=\"-9.5\" width=\"70.21875\" height=\"19\" style=\"fill: rgb(0, 0, 0); fill-opacity: 0;\"/></g></g></g><rect class=\"scrollbar\" rx=\"20\" ry=\"3\" width=\"0\" height=\"0\" style=\"fill: rgb(128, 139, 164); fill-opacity: 1;\" x=\"0\" y=\"0\"/></g><g class=\"g-gtitle\"><text class=\"gtitle\" x=\"35\" y=\"50\" text-anchor=\"start\" dy=\"0em\" style=\"font-family: 'Open Sans', verdana, arial, sans-serif; font-size: 17px; fill: rgb(42, 63, 95); opacity: 1; white-space: pre;\">Establecimientos que son y que no son cadena</text></g><g class=\"g-xtitle\"><text class=\"xtitle\" x=\"341\" y=\"460.3\" text-anchor=\"middle\" style=\"font-family: 'Open Sans', verdana, arial, sans-serif; font-size: 14px; fill: rgb(42, 63, 95); opacity: 1; white-space: pre;\">Establecimientos</text></g><g class=\"g-ytitle\"><text class=\"ytitle\" transform=\"rotate(-90,36.709375,260)\" x=\"36.709375\" y=\"260\" text-anchor=\"middle\" style=\"font-family: 'Open Sans', verdana, arial, sans-serif; font-size: 14px; fill: rgb(42, 63, 95); opacity: 1; white-space: pre;\">Proporción de Establecimientos (En %)</text></g></g></svg>"
      ]
     },
     "metadata": {},
     "output_type": "display_data"
    }
   ],
   "source": [
    "fig3b = px.bar(cadena_, x=\"object_type\", y=cadena_['porcentage']*100, barmode='group', \n",
    "                 color='chain', \n",
    "                 text=cadena_['porcentage'].round(3)*100, \n",
    "                 title='Establecimientos que son y que no son cadena', \n",
    "                 labels={'y': 'Proporción de Establecimientos (En %)', 'object_type': 'Establecimientos'},\n",
    "                 #labels={'number': 'Cantidad', 'object_type': 'Establecimientos', 'Chain': 'Pertenece'},\n",
    "                 #category_orders={\"chain\":['NO es cadena', 'Es Cadena']}\n",
    "                 )\n",
    "#fig3b.update_traces(labels=['NO Pertenece', 'Pertenece'])\n",
    "#fig3b.update_layout(legend={'False': 'No pertenece', 'True': 'Pertenece'})\n",
    "\n",
    "fig3b.show()"
   ]
  },
  {
   "cell_type": "markdown",
   "metadata": {},
   "source": [
    "**Gráfico 3b.** Muestra la cantidad de establecimientos que son parte de una cadena y los que no.\n",
    "\n",
    "Podemos observar que:\n",
    "- El 100% de las pastelerias (bakery) pertenecen a una cadena.\n",
    "- La mayor proporcion, 61,1% de cafeterias (cafe) pertenecen a una cadena.\n",
    "- La mayor proporcion de establecimientos de comida rápida (fast food), 56,8% pertenecen a una cadena. \n",
    "- El resto de los establecimientos son independientes en una proporción mayor."
   ]
  },
  {
   "cell_type": "markdown",
   "metadata": {},
   "source": [
    "### - ¿Qué caracteriza a las cadenas: muchos establecimientos con un pequeño número de asientos o unos pocos establecimientos con un montón de asientos?"
   ]
  },
  {
   "cell_type": "code",
   "execution_count": 24,
   "metadata": {},
   "outputs": [
    {
     "data": {
      "text/html": [
       "<div>\n",
       "<style scoped>\n",
       "    .dataframe tbody tr th:only-of-type {\n",
       "        vertical-align: middle;\n",
       "    }\n",
       "\n",
       "    .dataframe tbody tr th {\n",
       "        vertical-align: top;\n",
       "    }\n",
       "\n",
       "    .dataframe thead th {\n",
       "        text-align: right;\n",
       "    }\n",
       "</style>\n",
       "<table border=\"1\" class=\"dataframe\">\n",
       "  <thead>\n",
       "    <tr style=\"text-align: right;\">\n",
       "      <th></th>\n",
       "      <th>id</th>\n",
       "      <th>object_name</th>\n",
       "      <th>address</th>\n",
       "      <th>chain</th>\n",
       "      <th>object_type</th>\n",
       "      <th>number</th>\n",
       "    </tr>\n",
       "  </thead>\n",
       "  <tbody>\n",
       "    <tr>\n",
       "      <th>8</th>\n",
       "      <td>11794</td>\n",
       "      <td>ABC DONUTS</td>\n",
       "      <td>3027 N SAN FERNANDO RD UNIT 103</td>\n",
       "      <td>True</td>\n",
       "      <td>Fast Food</td>\n",
       "      <td>1</td>\n",
       "    </tr>\n",
       "    <tr>\n",
       "      <th>10</th>\n",
       "      <td>11796</td>\n",
       "      <td>EL POLLO LOCO</td>\n",
       "      <td>5319 W SUNSET BLVD</td>\n",
       "      <td>True</td>\n",
       "      <td>Restaurant</td>\n",
       "      <td>38</td>\n",
       "    </tr>\n",
       "    <tr>\n",
       "      <th>11</th>\n",
       "      <td>11797</td>\n",
       "      <td>POONG NYUN BAKERY</td>\n",
       "      <td>928 S WESTERN AVE STE 109</td>\n",
       "      <td>True</td>\n",
       "      <td>Bakery</td>\n",
       "      <td>17</td>\n",
       "    </tr>\n",
       "    <tr>\n",
       "      <th>12</th>\n",
       "      <td>11798</td>\n",
       "      <td>EMC RESTAURANT GROUP LLC</td>\n",
       "      <td>3500 W 6TH ST STE 101</td>\n",
       "      <td>True</td>\n",
       "      <td>Restaurant</td>\n",
       "      <td>133</td>\n",
       "    </tr>\n",
       "    <tr>\n",
       "      <th>14</th>\n",
       "      <td>11800</td>\n",
       "      <td>CUSCATLECA BAKERY</td>\n",
       "      <td>2501 W SUNSET BLVD #A</td>\n",
       "      <td>True</td>\n",
       "      <td>Bakery</td>\n",
       "      <td>26</td>\n",
       "    </tr>\n",
       "  </tbody>\n",
       "</table>\n",
       "</div>"
      ],
      "text/plain": [
       "       id               object_name                          address chain  \\\n",
       "8   11794                ABC DONUTS  3027 N SAN FERNANDO RD UNIT 103  True   \n",
       "10  11796             EL POLLO LOCO               5319 W SUNSET BLVD  True   \n",
       "11  11797         POONG NYUN BAKERY        928 S WESTERN AVE STE 109  True   \n",
       "12  11798  EMC RESTAURANT GROUP LLC            3500 W 6TH ST STE 101  True   \n",
       "14  11800         CUSCATLECA BAKERY            2501 W SUNSET BLVD #A  True   \n",
       "\n",
       "   object_type  number  \n",
       "8    Fast Food       1  \n",
       "10  Restaurant      38  \n",
       "11      Bakery      17  \n",
       "12  Restaurant     133  \n",
       "14      Bakery      26  "
      ]
     },
     "execution_count": 24,
     "metadata": {},
     "output_type": "execute_result"
    }
   ],
   "source": [
    "cadenas = rest_data[rest_data['chain']==True]\n",
    "cadenas.head()"
   ]
  },
  {
   "cell_type": "code",
   "execution_count": 25,
   "metadata": {},
   "outputs": [
    {
     "data": {
      "text/html": [
       "<div>\n",
       "<style scoped>\n",
       "    .dataframe tbody tr th:only-of-type {\n",
       "        vertical-align: middle;\n",
       "    }\n",
       "\n",
       "    .dataframe tbody tr th {\n",
       "        vertical-align: top;\n",
       "    }\n",
       "\n",
       "    .dataframe thead th {\n",
       "        text-align: right;\n",
       "    }\n",
       "</style>\n",
       "<table border=\"1\" class=\"dataframe\">\n",
       "  <thead>\n",
       "    <tr style=\"text-align: right;\">\n",
       "      <th></th>\n",
       "      <th>n_asientos</th>\n",
       "      <th>n_ests</th>\n",
       "    </tr>\n",
       "  </thead>\n",
       "  <tbody>\n",
       "    <tr>\n",
       "      <th>0</th>\n",
       "      <td>1</td>\n",
       "      <td>77</td>\n",
       "    </tr>\n",
       "    <tr>\n",
       "      <th>1</th>\n",
       "      <td>2</td>\n",
       "      <td>72</td>\n",
       "    </tr>\n",
       "    <tr>\n",
       "      <th>2</th>\n",
       "      <td>3</td>\n",
       "      <td>84</td>\n",
       "    </tr>\n",
       "    <tr>\n",
       "      <th>3</th>\n",
       "      <td>4</td>\n",
       "      <td>73</td>\n",
       "    </tr>\n",
       "    <tr>\n",
       "      <th>4</th>\n",
       "      <td>5</td>\n",
       "      <td>69</td>\n",
       "    </tr>\n",
       "  </tbody>\n",
       "</table>\n",
       "</div>"
      ],
      "text/plain": [
       "   n_asientos  n_ests\n",
       "0           1      77\n",
       "1           2      72\n",
       "2           3      84\n",
       "3           4      73\n",
       "4           5      69"
      ]
     },
     "execution_count": 25,
     "metadata": {},
     "output_type": "execute_result"
    }
   ],
   "source": [
    "cads2=cadenas.groupby(['number'])['object_type'].count().reset_index()\n",
    "cads2.columns = ['n_asientos', 'n_ests']\n",
    "cads2.head()"
   ]
  },
  {
   "cell_type": "code",
   "execution_count": 26,
   "metadata": {},
   "outputs": [
    {
     "data": {
      "image/svg+xml": [
       "<svg class=\"main-svg\" xmlns=\"http://www.w3.org/2000/svg\" xmlns:xlink=\"http://www.w3.org/1999/xlink\" width=\"700\" height=\"500\" style=\"\" viewBox=\"0 0 700 500\"><rect x=\"0\" y=\"0\" width=\"700\" height=\"500\" style=\"fill: rgb(255, 255, 255); fill-opacity: 1;\"/><defs id=\"defs-db5e78\"><g class=\"clips\"><clipPath id=\"clipdb5e78xyplot\" class=\"plotclip\"><rect width=\"540\" height=\"320\"/></clipPath><clipPath class=\"axesclip\" id=\"clipdb5e78x\"><rect x=\"80\" y=\"0\" width=\"540\" height=\"500\"/></clipPath><clipPath class=\"axesclip\" id=\"clipdb5e78y\"><rect x=\"0\" y=\"100\" width=\"700\" height=\"320\"/></clipPath><clipPath class=\"axesclip\" id=\"clipdb5e78xy\"><rect x=\"80\" y=\"100\" width=\"540\" height=\"320\"/></clipPath></g><g class=\"gradients\"/><g class=\"patterns\"/></defs><g class=\"bglayer\"><rect class=\"bg\" x=\"80\" y=\"100\" width=\"540\" height=\"320\" style=\"fill: rgb(229, 236, 246); fill-opacity: 1; stroke-width: 0;\"/></g><g class=\"layer-below\"><g class=\"imagelayer\"/><g class=\"shapelayer\"/></g><g class=\"cartesianlayer\"><g class=\"subplot xy\"><g class=\"layer-subplot\"><g class=\"shapelayer\"/><g class=\"imagelayer\"/></g><g class=\"minor-gridlayer\"><g class=\"x\"/><g class=\"y\"/></g><g class=\"gridlayer\"><g class=\"x\"><path class=\"xgrid crisp\" transform=\"translate(213.59,0)\" d=\"M0,100v320\" style=\"stroke: rgb(255, 255, 255); stroke-opacity: 1; stroke-width: 1px;\"/><path class=\"xgrid crisp\" transform=\"translate(318.52,0)\" d=\"M0,100v320\" style=\"stroke: rgb(255, 255, 255); stroke-opacity: 1; stroke-width: 1px;\"/><path class=\"xgrid crisp\" transform=\"translate(423.45,0)\" d=\"M0,100v320\" style=\"stroke: rgb(255, 255, 255); stroke-opacity: 1; stroke-width: 1px;\"/><path class=\"xgrid crisp\" transform=\"translate(528.39,0)\" d=\"M0,100v320\" style=\"stroke: rgb(255, 255, 255); stroke-opacity: 1; stroke-width: 1px;\"/></g><g class=\"y\"><path class=\"ygrid crisp\" transform=\"translate(0,409.75)\" d=\"M80,0h540\" style=\"stroke: rgb(255, 255, 255); stroke-opacity: 1; stroke-width: 1px;\"/><path class=\"ygrid crisp\" transform=\"translate(0,312.27)\" d=\"M80,0h540\" style=\"stroke: rgb(255, 255, 255); stroke-opacity: 1; stroke-width: 1px;\"/><path class=\"ygrid crisp\" transform=\"translate(0,263.53)\" d=\"M80,0h540\" style=\"stroke: rgb(255, 255, 255); stroke-opacity: 1; stroke-width: 1px;\"/><path class=\"ygrid crisp\" transform=\"translate(0,214.79000000000002)\" d=\"M80,0h540\" style=\"stroke: rgb(255, 255, 255); stroke-opacity: 1; stroke-width: 1px;\"/><path class=\"ygrid crisp\" transform=\"translate(0,166.05)\" d=\"M80,0h540\" style=\"stroke: rgb(255, 255, 255); stroke-opacity: 1; stroke-width: 1px;\"/><path class=\"ygrid crisp\" transform=\"translate(0,117.31)\" d=\"M80,0h540\" style=\"stroke: rgb(255, 255, 255); stroke-opacity: 1; stroke-width: 1px;\"/></g></g><g class=\"zerolinelayer\"><path class=\"xzl zl crisp\" transform=\"translate(108.65,0)\" d=\"M0,100v320\" style=\"stroke: rgb(255, 255, 255); stroke-opacity: 1; stroke-width: 2px;\"/><path class=\"yzl zl crisp\" transform=\"translate(0,361.01)\" d=\"M80,0h540\" style=\"stroke: rgb(255, 255, 255); stroke-opacity: 1; stroke-width: 2px;\"/></g><g class=\"layer-between\"><g class=\"shapelayer\"/><g class=\"imagelayer\"/></g><path class=\"xlines-below\"/><path class=\"ylines-below\"/><g class=\"overlines-below\"/><g class=\"xaxislayer-below\"/><g class=\"yaxislayer-below\"/><g class=\"overaxes-below\"/><g class=\"plot\" transform=\"translate(80,100)\" clip-path=\"url(#clipdb5e78xyplot)\"><g class=\"scatterlayer mlayer\"><g class=\"trace scatter trace5a23d6\" style=\"stroke-miterlimit: 2; opacity: 1;\"><g class=\"fills\"/><g class=\"errorbars\"/><g class=\"lines\"/><g class=\"points\"><path class=\"point\" transform=\"translate(30.75,73.36)\" d=\"M3,0A3,3 0 1,1 0,-3A3,3 0 0,1 3,0Z\" style=\"opacity: 1; stroke-width: 0px; fill: rgb(99, 110, 250); fill-opacity: 1;\"/><path class=\"point\" transform=\"translate(32.85,85.55)\" d=\"M3,0A3,3 0 1,1 0,-3A3,3 0 0,1 3,0Z\" style=\"opacity: 1; stroke-width: 0px; fill: rgb(99, 110, 250); fill-opacity: 1;\"/><path class=\"point\" transform=\"translate(34.95,56.3)\" d=\"M3,0A3,3 0 1,1 0,-3A3,3 0 0,1 3,0Z\" style=\"opacity: 1; stroke-width: 0px; fill: rgb(99, 110, 250); fill-opacity: 1;\"/><path class=\"point\" transform=\"translate(37.05,83.11)\" d=\"M3,0A3,3 0 1,1 0,-3A3,3 0 0,1 3,0Z\" style=\"opacity: 1; stroke-width: 0px; fill: rgb(99, 110, 250); fill-opacity: 1;\"/><path class=\"point\" transform=\"translate(39.14,92.86)\" d=\"M3,0A3,3 0 1,1 0,-3A3,3 0 0,1 3,0Z\" style=\"opacity: 1; stroke-width: 0px; fill: rgb(99, 110, 250); fill-opacity: 1;\"/><path class=\"point\" transform=\"translate(41.24,107.48)\" d=\"M3,0A3,3 0 1,1 0,-3A3,3 0 0,1 3,0Z\" style=\"opacity: 1; stroke-width: 0px; fill: rgb(99, 110, 250); fill-opacity: 1;\"/><path class=\"point\" transform=\"translate(43.34,92.86)\" d=\"M3,0A3,3 0 1,1 0,-3A3,3 0 0,1 3,0Z\" style=\"opacity: 1; stroke-width: 0px; fill: rgb(99, 110, 250); fill-opacity: 1;\"/><path class=\"point\" transform=\"translate(45.44,117.23)\" d=\"M3,0A3,3 0 1,1 0,-3A3,3 0 0,1 3,0Z\" style=\"opacity: 1; stroke-width: 0px; fill: rgb(99, 110, 250); fill-opacity: 1;\"/><path class=\"point\" transform=\"translate(47.54,75.8)\" d=\"M3,0A3,3 0 1,1 0,-3A3,3 0 0,1 3,0Z\" style=\"opacity: 1; stroke-width: 0px; fill: rgb(99, 110, 250); fill-opacity: 1;\"/><path class=\"point\" transform=\"translate(49.64,105.04)\" d=\"M3,0A3,3 0 1,1 0,-3A3,3 0 0,1 3,0Z\" style=\"opacity: 1; stroke-width: 0px; fill: rgb(99, 110, 250); fill-opacity: 1;\"/><path class=\"point\" transform=\"translate(51.74,83.11)\" d=\"M3,0A3,3 0 1,1 0,-3A3,3 0 0,1 3,0Z\" style=\"opacity: 1; stroke-width: 0px; fill: rgb(99, 110, 250); fill-opacity: 1;\"/><path class=\"point\" transform=\"translate(53.84,19.75)\" d=\"M3,0A3,3 0 1,1 0,-3A3,3 0 0,1 3,0Z\" style=\"opacity: 1; stroke-width: 0px; fill: rgb(99, 110, 250); fill-opacity: 1;\"/><path class=\"point\" transform=\"translate(55.93,63.62)\" d=\"M3,0A3,3 0 1,1 0,-3A3,3 0 0,1 3,0Z\" style=\"opacity: 1; stroke-width: 0px; fill: rgb(99, 110, 250); fill-opacity: 1;\"/><path class=\"point\" transform=\"translate(58.03,97.73)\" d=\"M3,0A3,3 0 1,1 0,-3A3,3 0 0,1 3,0Z\" style=\"opacity: 1; stroke-width: 0px; fill: rgb(99, 110, 250); fill-opacity: 1;\"/><path class=\"point\" transform=\"translate(60.13,80.67)\" d=\"M3,0A3,3 0 1,1 0,-3A3,3 0 0,1 3,0Z\" style=\"opacity: 1; stroke-width: 0px; fill: rgb(99, 110, 250); fill-opacity: 1;\"/><path class=\"point\" transform=\"translate(62.23,87.98)\" d=\"M3,0A3,3 0 1,1 0,-3A3,3 0 0,1 3,0Z\" style=\"opacity: 1; stroke-width: 0px; fill: rgb(99, 110, 250); fill-opacity: 1;\"/><path class=\"point\" transform=\"translate(64.33,80.67)\" d=\"M3,0A3,3 0 1,1 0,-3A3,3 0 0,1 3,0Z\" style=\"opacity: 1; stroke-width: 0px; fill: rgb(99, 110, 250); fill-opacity: 1;\"/><path class=\"point\" transform=\"translate(66.43,44.12)\" d=\"M3,0A3,3 0 1,1 0,-3A3,3 0 0,1 3,0Z\" style=\"opacity: 1; stroke-width: 0px; fill: rgb(99, 110, 250); fill-opacity: 1;\"/><path class=\"point\" transform=\"translate(68.53,78.24)\" d=\"M3,0A3,3 0 1,1 0,-3A3,3 0 0,1 3,0Z\" style=\"opacity: 1; stroke-width: 0px; fill: rgb(99, 110, 250); fill-opacity: 1;\"/><path class=\"point\" transform=\"translate(70.62,92.86)\" d=\"M3,0A3,3 0 1,1 0,-3A3,3 0 0,1 3,0Z\" style=\"opacity: 1; stroke-width: 0px; fill: rgb(99, 110, 250); fill-opacity: 1;\"/><path class=\"point\" transform=\"translate(72.72,58.74)\" d=\"M3,0A3,3 0 1,1 0,-3A3,3 0 0,1 3,0Z\" style=\"opacity: 1; stroke-width: 0px; fill: rgb(99, 110, 250); fill-opacity: 1;\"/><path class=\"point\" transform=\"translate(74.82,75.8)\" d=\"M3,0A3,3 0 1,1 0,-3A3,3 0 0,1 3,0Z\" style=\"opacity: 1; stroke-width: 0px; fill: rgb(99, 110, 250); fill-opacity: 1;\"/><path class=\"point\" transform=\"translate(76.92,83.11)\" d=\"M3,0A3,3 0 1,1 0,-3A3,3 0 0,1 3,0Z\" style=\"opacity: 1; stroke-width: 0px; fill: rgb(99, 110, 250); fill-opacity: 1;\"/><path class=\"point\" transform=\"translate(79.02,70.93)\" d=\"M3,0A3,3 0 1,1 0,-3A3,3 0 0,1 3,0Z\" style=\"opacity: 1; stroke-width: 0px; fill: rgb(99, 110, 250); fill-opacity: 1;\"/><path class=\"point\" transform=\"translate(81.12,63.62)\" d=\"M3,0A3,3 0 1,1 0,-3A3,3 0 0,1 3,0Z\" style=\"opacity: 1; stroke-width: 0px; fill: rgb(99, 110, 250); fill-opacity: 1;\"/><path class=\"point\" transform=\"translate(83.22,105.04)\" d=\"M3,0A3,3 0 1,1 0,-3A3,3 0 0,1 3,0Z\" style=\"opacity: 1; stroke-width: 0px; fill: rgb(99, 110, 250); fill-opacity: 1;\"/><path class=\"point\" transform=\"translate(85.32,80.67)\" d=\"M3,0A3,3 0 1,1 0,-3A3,3 0 0,1 3,0Z\" style=\"opacity: 1; stroke-width: 0px; fill: rgb(99, 110, 250); fill-opacity: 1;\"/><path class=\"point\" transform=\"translate(87.41,78.24)\" d=\"M3,0A3,3 0 1,1 0,-3A3,3 0 0,1 3,0Z\" style=\"opacity: 1; stroke-width: 0px; fill: rgb(99, 110, 250); fill-opacity: 1;\"/><path class=\"point\" transform=\"translate(89.51,68.49)\" d=\"M3,0A3,3 0 1,1 0,-3A3,3 0 0,1 3,0Z\" style=\"opacity: 1; stroke-width: 0px; fill: rgb(99, 110, 250); fill-opacity: 1;\"/><path class=\"point\" transform=\"translate(93.71,156.22)\" d=\"M3,0A3,3 0 1,1 0,-3A3,3 0 0,1 3,0Z\" style=\"opacity: 1; stroke-width: 0px; fill: rgb(99, 110, 250); fill-opacity: 1;\"/><path class=\"point\" transform=\"translate(95.81,144.03)\" d=\"M3,0A3,3 0 1,1 0,-3A3,3 0 0,1 3,0Z\" style=\"opacity: 1; stroke-width: 0px; fill: rgb(99, 110, 250); fill-opacity: 1;\"/><path class=\"point\" transform=\"translate(97.91,161.09)\" d=\"M3,0A3,3 0 1,1 0,-3A3,3 0 0,1 3,0Z\" style=\"opacity: 1; stroke-width: 0px; fill: rgb(99, 110, 250); fill-opacity: 1;\"/><path class=\"point\" transform=\"translate(100.01,178.15)\" d=\"M3,0A3,3 0 1,1 0,-3A3,3 0 0,1 3,0Z\" style=\"opacity: 1; stroke-width: 0px; fill: rgb(99, 110, 250); fill-opacity: 1;\"/><path class=\"point\" transform=\"translate(102.11,156.22)\" d=\"M3,0A3,3 0 1,1 0,-3A3,3 0 0,1 3,0Z\" style=\"opacity: 1; stroke-width: 0px; fill: rgb(99, 110, 250); fill-opacity: 1;\"/><path class=\"point\" transform=\"translate(104.2,151.35)\" d=\"M3,0A3,3 0 1,1 0,-3A3,3 0 0,1 3,0Z\" style=\"opacity: 1; stroke-width: 0px; fill: rgb(99, 110, 250); fill-opacity: 1;\"/><path class=\"point\" transform=\"translate(106.3,153.78)\" d=\"M3,0A3,3 0 1,1 0,-3A3,3 0 0,1 3,0Z\" style=\"opacity: 1; stroke-width: 0px; fill: rgb(99, 110, 250); fill-opacity: 1;\"/><path class=\"point\" transform=\"translate(108.4,156.22)\" d=\"M3,0A3,3 0 1,1 0,-3A3,3 0 0,1 3,0Z\" style=\"opacity: 1; stroke-width: 0px; fill: rgb(99, 110, 250); fill-opacity: 1;\"/><path class=\"point\" transform=\"translate(110.5,156.22)\" d=\"M3,0A3,3 0 1,1 0,-3A3,3 0 0,1 3,0Z\" style=\"opacity: 1; stroke-width: 0px; fill: rgb(99, 110, 250); fill-opacity: 1;\"/><path class=\"point\" transform=\"translate(112.6,161.09)\" d=\"M3,0A3,3 0 1,1 0,-3A3,3 0 0,1 3,0Z\" style=\"opacity: 1; stroke-width: 0px; fill: rgb(99, 110, 250); fill-opacity: 1;\"/><path class=\"point\" transform=\"translate(114.7,153.78)\" d=\"M3,0A3,3 0 1,1 0,-3A3,3 0 0,1 3,0Z\" style=\"opacity: 1; stroke-width: 0px; fill: rgb(99, 110, 250); fill-opacity: 1;\"/><path class=\"point\" transform=\"translate(116.8,126.98)\" d=\"M3,0A3,3 0 1,1 0,-3A3,3 0 0,1 3,0Z\" style=\"opacity: 1; stroke-width: 0px; fill: rgb(99, 110, 250); fill-opacity: 1;\"/><path class=\"point\" transform=\"translate(118.89,136.72)\" d=\"M3,0A3,3 0 1,1 0,-3A3,3 0 0,1 3,0Z\" style=\"opacity: 1; stroke-width: 0px; fill: rgb(99, 110, 250); fill-opacity: 1;\"/><path class=\"point\" transform=\"translate(120.99,131.85)\" d=\"M3,0A3,3 0 1,1 0,-3A3,3 0 0,1 3,0Z\" style=\"opacity: 1; stroke-width: 0px; fill: rgb(99, 110, 250); fill-opacity: 1;\"/><path class=\"point\" transform=\"translate(123.09,117.23)\" d=\"M3,0A3,3 0 1,1 0,-3A3,3 0 0,1 3,0Z\" style=\"opacity: 1; stroke-width: 0px; fill: rgb(99, 110, 250); fill-opacity: 1;\"/><path class=\"point\" transform=\"translate(125.19,156.22)\" d=\"M3,0A3,3 0 1,1 0,-3A3,3 0 0,1 3,0Z\" style=\"opacity: 1; stroke-width: 0px; fill: rgb(99, 110, 250); fill-opacity: 1;\"/><path class=\"point\" transform=\"translate(127.29,156.22)\" d=\"M3,0A3,3 0 1,1 0,-3A3,3 0 0,1 3,0Z\" style=\"opacity: 1; stroke-width: 0px; fill: rgb(99, 110, 250); fill-opacity: 1;\"/><path class=\"point\" transform=\"translate(129.39,146.47)\" d=\"M3,0A3,3 0 1,1 0,-3A3,3 0 0,1 3,0Z\" style=\"opacity: 1; stroke-width: 0px; fill: rgb(99, 110, 250); fill-opacity: 1;\"/><path class=\"point\" transform=\"translate(131.49,134.29)\" d=\"M3,0A3,3 0 1,1 0,-3A3,3 0 0,1 3,0Z\" style=\"opacity: 1; stroke-width: 0px; fill: rgb(99, 110, 250); fill-opacity: 1;\"/><path class=\"point\" transform=\"translate(156.67,253.7)\" d=\"M3,0A3,3 0 1,1 0,-3A3,3 0 0,1 3,0Z\" style=\"opacity: 1; stroke-width: 0px; fill: rgb(99, 110, 250); fill-opacity: 1;\"/><path class=\"point\" transform=\"translate(158.77,239.08)\" d=\"M3,0A3,3 0 1,1 0,-3A3,3 0 0,1 3,0Z\" style=\"opacity: 1; stroke-width: 0px; fill: rgb(99, 110, 250); fill-opacity: 1;\"/><path class=\"point\" transform=\"translate(160.87,246.39)\" d=\"M3,0A3,3 0 1,1 0,-3A3,3 0 0,1 3,0Z\" style=\"opacity: 1; stroke-width: 0px; fill: rgb(99, 110, 250); fill-opacity: 1;\"/><path class=\"point\" transform=\"translate(162.97,243.95)\" d=\"M3,0A3,3 0 1,1 0,-3A3,3 0 0,1 3,0Z\" style=\"opacity: 1; stroke-width: 0px; fill: rgb(99, 110, 250); fill-opacity: 1;\"/><path class=\"point\" transform=\"translate(165.07,248.82)\" d=\"M3,0A3,3 0 1,1 0,-3A3,3 0 0,1 3,0Z\" style=\"opacity: 1; stroke-width: 0px; fill: rgb(99, 110, 250); fill-opacity: 1;\"/><path class=\"point\" transform=\"translate(167.16,241.51)\" d=\"M3,0A3,3 0 1,1 0,-3A3,3 0 0,1 3,0Z\" style=\"opacity: 1; stroke-width: 0px; fill: rgb(99, 110, 250); fill-opacity: 1;\"/><path class=\"point\" transform=\"translate(169.26,229.33)\" d=\"M3,0A3,3 0 1,1 0,-3A3,3 0 0,1 3,0Z\" style=\"opacity: 1; stroke-width: 0px; fill: rgb(99, 110, 250); fill-opacity: 1;\"/><path class=\"point\" transform=\"translate(171.36,251.26)\" d=\"M3,0A3,3 0 1,1 0,-3A3,3 0 0,1 3,0Z\" style=\"opacity: 1; stroke-width: 0px; fill: rgb(99, 110, 250); fill-opacity: 1;\"/><path class=\"point\" transform=\"translate(173.46,239.08)\" d=\"M3,0A3,3 0 1,1 0,-3A3,3 0 0,1 3,0Z\" style=\"opacity: 1; stroke-width: 0px; fill: rgb(99, 110, 250); fill-opacity: 1;\"/><path class=\"point\" transform=\"translate(175.56,246.39)\" d=\"M3,0A3,3 0 1,1 0,-3A3,3 0 0,1 3,0Z\" style=\"opacity: 1; stroke-width: 0px; fill: rgb(99, 110, 250); fill-opacity: 1;\"/><path class=\"point\" transform=\"translate(177.66,256.13)\" d=\"M3,0A3,3 0 1,1 0,-3A3,3 0 0,1 3,0Z\" style=\"opacity: 1; stroke-width: 0px; fill: rgb(99, 110, 250); fill-opacity: 1;\"/><path class=\"point\" transform=\"translate(179.76,251.26)\" d=\"M3,0A3,3 0 1,1 0,-3A3,3 0 0,1 3,0Z\" style=\"opacity: 1; stroke-width: 0px; fill: rgb(99, 110, 250); fill-opacity: 1;\"/><path class=\"point\" transform=\"translate(181.86,258.57)\" d=\"M3,0A3,3 0 1,1 0,-3A3,3 0 0,1 3,0Z\" style=\"opacity: 1; stroke-width: 0px; fill: rgb(99, 110, 250); fill-opacity: 1;\"/><path class=\"point\" transform=\"translate(183.95,243.95)\" d=\"M3,0A3,3 0 1,1 0,-3A3,3 0 0,1 3,0Z\" style=\"opacity: 1; stroke-width: 0px; fill: rgb(99, 110, 250); fill-opacity: 1;\"/><path class=\"point\" transform=\"translate(186.05,251.26)\" d=\"M3,0A3,3 0 1,1 0,-3A3,3 0 0,1 3,0Z\" style=\"opacity: 1; stroke-width: 0px; fill: rgb(99, 110, 250); fill-opacity: 1;\"/><path class=\"point\" transform=\"translate(188.15,248.82)\" d=\"M3,0A3,3 0 1,1 0,-3A3,3 0 0,1 3,0Z\" style=\"opacity: 1; stroke-width: 0px; fill: rgb(99, 110, 250); fill-opacity: 1;\"/><path class=\"point\" transform=\"translate(190.25,236.64)\" d=\"M3,0A3,3 0 1,1 0,-3A3,3 0 0,1 3,0Z\" style=\"opacity: 1; stroke-width: 0px; fill: rgb(99, 110, 250); fill-opacity: 1;\"/><path class=\"point\" transform=\"translate(192.35,246.39)\" d=\"M3,0A3,3 0 1,1 0,-3A3,3 0 0,1 3,0Z\" style=\"opacity: 1; stroke-width: 0px; fill: rgb(99, 110, 250); fill-opacity: 1;\"/><path class=\"point\" transform=\"translate(194.45,251.26)\" d=\"M3,0A3,3 0 1,1 0,-3A3,3 0 0,1 3,0Z\" style=\"opacity: 1; stroke-width: 0px; fill: rgb(99, 110, 250); fill-opacity: 1;\"/><path class=\"point\" transform=\"translate(196.55,239.08)\" d=\"M3,0A3,3 0 1,1 0,-3A3,3 0 0,1 3,0Z\" style=\"opacity: 1; stroke-width: 0px; fill: rgb(99, 110, 250); fill-opacity: 1;\"/><path class=\"point\" transform=\"translate(198.64,253.7)\" d=\"M3,0A3,3 0 1,1 0,-3A3,3 0 0,1 3,0Z\" style=\"opacity: 1; stroke-width: 0px; fill: rgb(99, 110, 250); fill-opacity: 1;\"/><path class=\"point\" transform=\"translate(200.74,253.7)\" d=\"M3,0A3,3 0 1,1 0,-3A3,3 0 0,1 3,0Z\" style=\"opacity: 1; stroke-width: 0px; fill: rgb(99, 110, 250); fill-opacity: 1;\"/><path class=\"point\" transform=\"translate(202.84,246.39)\" d=\"M3,0A3,3 0 1,1 0,-3A3,3 0 0,1 3,0Z\" style=\"opacity: 1; stroke-width: 0px; fill: rgb(99, 110, 250); fill-opacity: 1;\"/><path class=\"point\" transform=\"translate(204.94,241.51)\" d=\"M3,0A3,3 0 1,1 0,-3A3,3 0 0,1 3,0Z\" style=\"opacity: 1; stroke-width: 0px; fill: rgb(99, 110, 250); fill-opacity: 1;\"/><path class=\"point\" transform=\"translate(207.04,248.82)\" d=\"M3,0A3,3 0 1,1 0,-3A3,3 0 0,1 3,0Z\" style=\"opacity: 1; stroke-width: 0px; fill: rgb(99, 110, 250); fill-opacity: 1;\"/><path class=\"point\" transform=\"translate(209.14,248.82)\" d=\"M3,0A3,3 0 1,1 0,-3A3,3 0 0,1 3,0Z\" style=\"opacity: 1; stroke-width: 0px; fill: rgb(99, 110, 250); fill-opacity: 1;\"/><path class=\"point\" transform=\"translate(211.24,246.39)\" d=\"M3,0A3,3 0 1,1 0,-3A3,3 0 0,1 3,0Z\" style=\"opacity: 1; stroke-width: 0px; fill: rgb(99, 110, 250); fill-opacity: 1;\"/><path class=\"point\" transform=\"translate(213.34,246.39)\" d=\"M3,0A3,3 0 1,1 0,-3A3,3 0 0,1 3,0Z\" style=\"opacity: 1; stroke-width: 0px; fill: rgb(99, 110, 250); fill-opacity: 1;\"/><path class=\"point\" transform=\"translate(215.43,248.82)\" d=\"M3,0A3,3 0 1,1 0,-3A3,3 0 0,1 3,0Z\" style=\"opacity: 1; stroke-width: 0px; fill: rgb(99, 110, 250); fill-opacity: 1;\"/><path class=\"point\" transform=\"translate(217.53,248.82)\" d=\"M3,0A3,3 0 1,1 0,-3A3,3 0 0,1 3,0Z\" style=\"opacity: 1; stroke-width: 0px; fill: rgb(99, 110, 250); fill-opacity: 1;\"/><path class=\"point\" transform=\"translate(219.63,236.64)\" d=\"M3,0A3,3 0 1,1 0,-3A3,3 0 0,1 3,0Z\" style=\"opacity: 1; stroke-width: 0px; fill: rgb(99, 110, 250); fill-opacity: 1;\"/><path class=\"point\" transform=\"translate(221.73,246.39)\" d=\"M3,0A3,3 0 1,1 0,-3A3,3 0 0,1 3,0Z\" style=\"opacity: 1; stroke-width: 0px; fill: rgb(99, 110, 250); fill-opacity: 1;\"/><path class=\"point\" transform=\"translate(223.83,251.26)\" d=\"M3,0A3,3 0 1,1 0,-3A3,3 0 0,1 3,0Z\" style=\"opacity: 1; stroke-width: 0px; fill: rgb(99, 110, 250); fill-opacity: 1;\"/><path class=\"point\" transform=\"translate(225.93,251.26)\" d=\"M3,0A3,3 0 1,1 0,-3A3,3 0 0,1 3,0Z\" style=\"opacity: 1; stroke-width: 0px; fill: rgb(99, 110, 250); fill-opacity: 1;\"/><path class=\"point\" transform=\"translate(228.03,241.51)\" d=\"M3,0A3,3 0 1,1 0,-3A3,3 0 0,1 3,0Z\" style=\"opacity: 1; stroke-width: 0px; fill: rgb(99, 110, 250); fill-opacity: 1;\"/><path class=\"point\" transform=\"translate(230.12,251.26)\" d=\"M3,0A3,3 0 1,1 0,-3A3,3 0 0,1 3,0Z\" style=\"opacity: 1; stroke-width: 0px; fill: rgb(99, 110, 250); fill-opacity: 1;\"/><path class=\"point\" transform=\"translate(232.22,251.26)\" d=\"M3,0A3,3 0 1,1 0,-3A3,3 0 0,1 3,0Z\" style=\"opacity: 1; stroke-width: 0px; fill: rgb(99, 110, 250); fill-opacity: 1;\"/><path class=\"point\" transform=\"translate(234.32,246.39)\" d=\"M3,0A3,3 0 1,1 0,-3A3,3 0 0,1 3,0Z\" style=\"opacity: 1; stroke-width: 0px; fill: rgb(99, 110, 250); fill-opacity: 1;\"/><path class=\"point\" transform=\"translate(236.42,246.39)\" d=\"M3,0A3,3 0 1,1 0,-3A3,3 0 0,1 3,0Z\" style=\"opacity: 1; stroke-width: 0px; fill: rgb(99, 110, 250); fill-opacity: 1;\"/><path class=\"point\" transform=\"translate(238.52,246.39)\" d=\"M3,0A3,3 0 1,1 0,-3A3,3 0 0,1 3,0Z\" style=\"opacity: 1; stroke-width: 0px; fill: rgb(99, 110, 250); fill-opacity: 1;\"/><path class=\"point\" transform=\"translate(240.62,256.13)\" d=\"M3,0A3,3 0 1,1 0,-3A3,3 0 0,1 3,0Z\" style=\"opacity: 1; stroke-width: 0px; fill: rgb(99, 110, 250); fill-opacity: 1;\"/><path class=\"point\" transform=\"translate(242.72,236.64)\" d=\"M3,0A3,3 0 1,1 0,-3A3,3 0 0,1 3,0Z\" style=\"opacity: 1; stroke-width: 0px; fill: rgb(99, 110, 250); fill-opacity: 1;\"/><path class=\"point\" transform=\"translate(244.82,243.95)\" d=\"M3,0A3,3 0 1,1 0,-3A3,3 0 0,1 3,0Z\" style=\"opacity: 1; stroke-width: 0px; fill: rgb(99, 110, 250); fill-opacity: 1;\"/><path class=\"point\" transform=\"translate(246.91,248.82)\" d=\"M3,0A3,3 0 1,1 0,-3A3,3 0 0,1 3,0Z\" style=\"opacity: 1; stroke-width: 0px; fill: rgb(99, 110, 250); fill-opacity: 1;\"/><path class=\"point\" transform=\"translate(249.01,246.39)\" d=\"M3,0A3,3 0 1,1 0,-3A3,3 0 0,1 3,0Z\" style=\"opacity: 1; stroke-width: 0px; fill: rgb(99, 110, 250); fill-opacity: 1;\"/><path class=\"point\" transform=\"translate(251.11,248.82)\" d=\"M3,0A3,3 0 1,1 0,-3A3,3 0 0,1 3,0Z\" style=\"opacity: 1; stroke-width: 0px; fill: rgb(99, 110, 250); fill-opacity: 1;\"/><path class=\"point\" transform=\"translate(253.21,229.33)\" d=\"M3,0A3,3 0 1,1 0,-3A3,3 0 0,1 3,0Z\" style=\"opacity: 1; stroke-width: 0px; fill: rgb(99, 110, 250); fill-opacity: 1;\"/><path class=\"point\" transform=\"translate(255.31,248.82)\" d=\"M3,0A3,3 0 1,1 0,-3A3,3 0 0,1 3,0Z\" style=\"opacity: 1; stroke-width: 0px; fill: rgb(99, 110, 250); fill-opacity: 1;\"/><path class=\"point\" transform=\"translate(257.41,239.08)\" d=\"M3,0A3,3 0 1,1 0,-3A3,3 0 0,1 3,0Z\" style=\"opacity: 1; stroke-width: 0px; fill: rgb(99, 110, 250); fill-opacity: 1;\"/><path class=\"point\" transform=\"translate(259.51,243.95)\" d=\"M3,0A3,3 0 1,1 0,-3A3,3 0 0,1 3,0Z\" style=\"opacity: 1; stroke-width: 0px; fill: rgb(99, 110, 250); fill-opacity: 1;\"/><path class=\"point\" transform=\"translate(261.61,241.51)\" d=\"M3,0A3,3 0 1,1 0,-3A3,3 0 0,1 3,0Z\" style=\"opacity: 1; stroke-width: 0px; fill: rgb(99, 110, 250); fill-opacity: 1;\"/><path class=\"point\" transform=\"translate(263.7,241.51)\" d=\"M3,0A3,3 0 1,1 0,-3A3,3 0 0,1 3,0Z\" style=\"opacity: 1; stroke-width: 0px; fill: rgb(99, 110, 250); fill-opacity: 1;\"/><path class=\"point\" transform=\"translate(265.8,248.82)\" d=\"M3,0A3,3 0 1,1 0,-3A3,3 0 0,1 3,0Z\" style=\"opacity: 1; stroke-width: 0px; fill: rgb(99, 110, 250); fill-opacity: 1;\"/><path class=\"point\" transform=\"translate(267.9,246.39)\" d=\"M3,0A3,3 0 1,1 0,-3A3,3 0 0,1 3,0Z\" style=\"opacity: 1; stroke-width: 0px; fill: rgb(99, 110, 250); fill-opacity: 1;\"/><path class=\"point\" transform=\"translate(270,246.39)\" d=\"M3,0A3,3 0 1,1 0,-3A3,3 0 0,1 3,0Z\" style=\"opacity: 1; stroke-width: 0px; fill: rgb(99, 110, 250); fill-opacity: 1;\"/><path class=\"point\" transform=\"translate(272.1,256.13)\" d=\"M3,0A3,3 0 1,1 0,-3A3,3 0 0,1 3,0Z\" style=\"opacity: 1; stroke-width: 0px; fill: rgb(99, 110, 250); fill-opacity: 1;\"/><path class=\"point\" transform=\"translate(274.2,241.51)\" d=\"M3,0A3,3 0 1,1 0,-3A3,3 0 0,1 3,0Z\" style=\"opacity: 1; stroke-width: 0px; fill: rgb(99, 110, 250); fill-opacity: 1;\"/><path class=\"point\" transform=\"translate(276.3,236.64)\" d=\"M3,0A3,3 0 1,1 0,-3A3,3 0 0,1 3,0Z\" style=\"opacity: 1; stroke-width: 0px; fill: rgb(99, 110, 250); fill-opacity: 1;\"/><path class=\"point\" transform=\"translate(278.39,243.95)\" d=\"M3,0A3,3 0 1,1 0,-3A3,3 0 0,1 3,0Z\" style=\"opacity: 1; stroke-width: 0px; fill: rgb(99, 110, 250); fill-opacity: 1;\"/><path class=\"point\" transform=\"translate(280.49,256.13)\" d=\"M3,0A3,3 0 1,1 0,-3A3,3 0 0,1 3,0Z\" style=\"opacity: 1; stroke-width: 0px; fill: rgb(99, 110, 250); fill-opacity: 1;\"/><path class=\"point\" transform=\"translate(282.59,256.13)\" d=\"M3,0A3,3 0 1,1 0,-3A3,3 0 0,1 3,0Z\" style=\"opacity: 1; stroke-width: 0px; fill: rgb(99, 110, 250); fill-opacity: 1;\"/><path class=\"point\" transform=\"translate(284.69,246.39)\" d=\"M3,0A3,3 0 1,1 0,-3A3,3 0 0,1 3,0Z\" style=\"opacity: 1; stroke-width: 0px; fill: rgb(99, 110, 250); fill-opacity: 1;\"/><path class=\"point\" transform=\"translate(286.79,243.95)\" d=\"M3,0A3,3 0 1,1 0,-3A3,3 0 0,1 3,0Z\" style=\"opacity: 1; stroke-width: 0px; fill: rgb(99, 110, 250); fill-opacity: 1;\"/><path class=\"point\" transform=\"translate(288.89,251.26)\" d=\"M3,0A3,3 0 1,1 0,-3A3,3 0 0,1 3,0Z\" style=\"opacity: 1; stroke-width: 0px; fill: rgb(99, 110, 250); fill-opacity: 1;\"/><path class=\"point\" transform=\"translate(290.99,246.39)\" d=\"M3,0A3,3 0 1,1 0,-3A3,3 0 0,1 3,0Z\" style=\"opacity: 1; stroke-width: 0px; fill: rgb(99, 110, 250); fill-opacity: 1;\"/><path class=\"point\" transform=\"translate(293.09,246.39)\" d=\"M3,0A3,3 0 1,1 0,-3A3,3 0 0,1 3,0Z\" style=\"opacity: 1; stroke-width: 0px; fill: rgb(99, 110, 250); fill-opacity: 1;\"/><path class=\"point\" transform=\"translate(295.18,248.82)\" d=\"M3,0A3,3 0 1,1 0,-3A3,3 0 0,1 3,0Z\" style=\"opacity: 1; stroke-width: 0px; fill: rgb(99, 110, 250); fill-opacity: 1;\"/><path class=\"point\" transform=\"translate(297.28,248.82)\" d=\"M3,0A3,3 0 1,1 0,-3A3,3 0 0,1 3,0Z\" style=\"opacity: 1; stroke-width: 0px; fill: rgb(99, 110, 250); fill-opacity: 1;\"/><path class=\"point\" transform=\"translate(299.38,248.82)\" d=\"M3,0A3,3 0 1,1 0,-3A3,3 0 0,1 3,0Z\" style=\"opacity: 1; stroke-width: 0px; fill: rgb(99, 110, 250); fill-opacity: 1;\"/><path class=\"point\" transform=\"translate(301.48,251.26)\" d=\"M3,0A3,3 0 1,1 0,-3A3,3 0 0,1 3,0Z\" style=\"opacity: 1; stroke-width: 0px; fill: rgb(99, 110, 250); fill-opacity: 1;\"/><path class=\"point\" transform=\"translate(303.58,253.7)\" d=\"M3,0A3,3 0 1,1 0,-3A3,3 0 0,1 3,0Z\" style=\"opacity: 1; stroke-width: 0px; fill: rgb(99, 110, 250); fill-opacity: 1;\"/><path class=\"point\" transform=\"translate(305.68,256.13)\" d=\"M3,0A3,3 0 1,1 0,-3A3,3 0 0,1 3,0Z\" style=\"opacity: 1; stroke-width: 0px; fill: rgb(99, 110, 250); fill-opacity: 1;\"/><path class=\"point\" transform=\"translate(307.78,246.39)\" d=\"M3,0A3,3 0 1,1 0,-3A3,3 0 0,1 3,0Z\" style=\"opacity: 1; stroke-width: 0px; fill: rgb(99, 110, 250); fill-opacity: 1;\"/><path class=\"point\" transform=\"translate(309.88,253.7)\" d=\"M3,0A3,3 0 1,1 0,-3A3,3 0 0,1 3,0Z\" style=\"opacity: 1; stroke-width: 0px; fill: rgb(99, 110, 250); fill-opacity: 1;\"/><path class=\"point\" transform=\"translate(311.97,248.82)\" d=\"M3,0A3,3 0 1,1 0,-3A3,3 0 0,1 3,0Z\" style=\"opacity: 1; stroke-width: 0px; fill: rgb(99, 110, 250); fill-opacity: 1;\"/><path class=\"point\" transform=\"translate(314.07,248.82)\" d=\"M3,0A3,3 0 1,1 0,-3A3,3 0 0,1 3,0Z\" style=\"opacity: 1; stroke-width: 0px; fill: rgb(99, 110, 250); fill-opacity: 1;\"/><path class=\"point\" transform=\"translate(316.17,251.26)\" d=\"M3,0A3,3 0 1,1 0,-3A3,3 0 0,1 3,0Z\" style=\"opacity: 1; stroke-width: 0px; fill: rgb(99, 110, 250); fill-opacity: 1;\"/><path class=\"point\" transform=\"translate(318.27,241.51)\" d=\"M3,0A3,3 0 1,1 0,-3A3,3 0 0,1 3,0Z\" style=\"opacity: 1; stroke-width: 0px; fill: rgb(99, 110, 250); fill-opacity: 1;\"/><path class=\"point\" transform=\"translate(320.37,246.39)\" d=\"M3,0A3,3 0 1,1 0,-3A3,3 0 0,1 3,0Z\" style=\"opacity: 1; stroke-width: 0px; fill: rgb(99, 110, 250); fill-opacity: 1;\"/><path class=\"point\" transform=\"translate(322.47,239.08)\" d=\"M3,0A3,3 0 1,1 0,-3A3,3 0 0,1 3,0Z\" style=\"opacity: 1; stroke-width: 0px; fill: rgb(99, 110, 250); fill-opacity: 1;\"/><path class=\"point\" transform=\"translate(324.57,251.26)\" d=\"M3,0A3,3 0 1,1 0,-3A3,3 0 0,1 3,0Z\" style=\"opacity: 1; stroke-width: 0px; fill: rgb(99, 110, 250); fill-opacity: 1;\"/><path class=\"point\" transform=\"translate(326.66,236.64)\" d=\"M3,0A3,3 0 1,1 0,-3A3,3 0 0,1 3,0Z\" style=\"opacity: 1; stroke-width: 0px; fill: rgb(99, 110, 250); fill-opacity: 1;\"/><path class=\"point\" transform=\"translate(328.76,246.39)\" d=\"M3,0A3,3 0 1,1 0,-3A3,3 0 0,1 3,0Z\" style=\"opacity: 1; stroke-width: 0px; fill: rgb(99, 110, 250); fill-opacity: 1;\"/><path class=\"point\" transform=\"translate(330.86,243.95)\" d=\"M3,0A3,3 0 1,1 0,-3A3,3 0 0,1 3,0Z\" style=\"opacity: 1; stroke-width: 0px; fill: rgb(99, 110, 250); fill-opacity: 1;\"/><path class=\"point\" transform=\"translate(332.96,241.51)\" d=\"M3,0A3,3 0 1,1 0,-3A3,3 0 0,1 3,0Z\" style=\"opacity: 1; stroke-width: 0px; fill: rgb(99, 110, 250); fill-opacity: 1;\"/><path class=\"point\" transform=\"translate(335.06,251.26)\" d=\"M3,0A3,3 0 1,1 0,-3A3,3 0 0,1 3,0Z\" style=\"opacity: 1; stroke-width: 0px; fill: rgb(99, 110, 250); fill-opacity: 1;\"/><path class=\"point\" transform=\"translate(337.16,253.7)\" d=\"M3,0A3,3 0 1,1 0,-3A3,3 0 0,1 3,0Z\" style=\"opacity: 1; stroke-width: 0px; fill: rgb(99, 110, 250); fill-opacity: 1;\"/><path class=\"point\" transform=\"translate(339.26,253.7)\" d=\"M3,0A3,3 0 1,1 0,-3A3,3 0 0,1 3,0Z\" style=\"opacity: 1; stroke-width: 0px; fill: rgb(99, 110, 250); fill-opacity: 1;\"/><path class=\"point\" transform=\"translate(341.36,258.57)\" d=\"M3,0A3,3 0 1,1 0,-3A3,3 0 0,1 3,0Z\" style=\"opacity: 1; stroke-width: 0px; fill: rgb(99, 110, 250); fill-opacity: 1;\"/><path class=\"point\" transform=\"translate(345.55,258.57)\" d=\"M3,0A3,3 0 1,1 0,-3A3,3 0 0,1 3,0Z\" style=\"opacity: 1; stroke-width: 0px; fill: rgb(99, 110, 250); fill-opacity: 1;\"/><path class=\"point\" transform=\"translate(347.65,258.57)\" d=\"M3,0A3,3 0 1,1 0,-3A3,3 0 0,1 3,0Z\" style=\"opacity: 1; stroke-width: 0px; fill: rgb(99, 110, 250); fill-opacity: 1;\"/><path class=\"point\" transform=\"translate(349.75,258.57)\" d=\"M3,0A3,3 0 1,1 0,-3A3,3 0 0,1 3,0Z\" style=\"opacity: 1; stroke-width: 0px; fill: rgb(99, 110, 250); fill-opacity: 1;\"/><path class=\"point\" transform=\"translate(351.85,258.57)\" d=\"M3,0A3,3 0 1,1 0,-3A3,3 0 0,1 3,0Z\" style=\"opacity: 1; stroke-width: 0px; fill: rgb(99, 110, 250); fill-opacity: 1;\"/><path class=\"point\" transform=\"translate(353.95,256.13)\" d=\"M3,0A3,3 0 1,1 0,-3A3,3 0 0,1 3,0Z\" style=\"opacity: 1; stroke-width: 0px; fill: rgb(99, 110, 250); fill-opacity: 1;\"/><path class=\"point\" transform=\"translate(358.14,256.13)\" d=\"M3,0A3,3 0 1,1 0,-3A3,3 0 0,1 3,0Z\" style=\"opacity: 1; stroke-width: 0px; fill: rgb(99, 110, 250); fill-opacity: 1;\"/><path class=\"point\" transform=\"translate(360.24,248.82)\" d=\"M3,0A3,3 0 1,1 0,-3A3,3 0 0,1 3,0Z\" style=\"opacity: 1; stroke-width: 0px; fill: rgb(99, 110, 250); fill-opacity: 1;\"/><path class=\"point\" transform=\"translate(362.34,256.13)\" d=\"M3,0A3,3 0 1,1 0,-3A3,3 0 0,1 3,0Z\" style=\"opacity: 1; stroke-width: 0px; fill: rgb(99, 110, 250); fill-opacity: 1;\"/><path class=\"point\" transform=\"translate(364.44,256.13)\" d=\"M3,0A3,3 0 1,1 0,-3A3,3 0 0,1 3,0Z\" style=\"opacity: 1; stroke-width: 0px; fill: rgb(99, 110, 250); fill-opacity: 1;\"/><path class=\"point\" transform=\"translate(366.54,248.82)\" d=\"M3,0A3,3 0 1,1 0,-3A3,3 0 0,1 3,0Z\" style=\"opacity: 1; stroke-width: 0px; fill: rgb(99, 110, 250); fill-opacity: 1;\"/><path class=\"point\" transform=\"translate(368.64,256.13)\" d=\"M3,0A3,3 0 1,1 0,-3A3,3 0 0,1 3,0Z\" style=\"opacity: 1; stroke-width: 0px; fill: rgb(99, 110, 250); fill-opacity: 1;\"/><path class=\"point\" transform=\"translate(372.84,256.13)\" d=\"M3,0A3,3 0 1,1 0,-3A3,3 0 0,1 3,0Z\" style=\"opacity: 1; stroke-width: 0px; fill: rgb(99, 110, 250); fill-opacity: 1;\"/><path class=\"point\" transform=\"translate(374.93,258.57)\" d=\"M3,0A3,3 0 1,1 0,-3A3,3 0 0,1 3,0Z\" style=\"opacity: 1; stroke-width: 0px; fill: rgb(99, 110, 250); fill-opacity: 1;\"/><path class=\"point\" transform=\"translate(379.13,256.13)\" d=\"M3,0A3,3 0 1,1 0,-3A3,3 0 0,1 3,0Z\" style=\"opacity: 1; stroke-width: 0px; fill: rgb(99, 110, 250); fill-opacity: 1;\"/><path class=\"point\" transform=\"translate(381.23,251.26)\" d=\"M3,0A3,3 0 1,1 0,-3A3,3 0 0,1 3,0Z\" style=\"opacity: 1; stroke-width: 0px; fill: rgb(99, 110, 250); fill-opacity: 1;\"/><path class=\"point\" transform=\"translate(383.33,258.57)\" d=\"M3,0A3,3 0 1,1 0,-3A3,3 0 0,1 3,0Z\" style=\"opacity: 1; stroke-width: 0px; fill: rgb(99, 110, 250); fill-opacity: 1;\"/><path class=\"point\" transform=\"translate(385.43,253.7)\" d=\"M3,0A3,3 0 1,1 0,-3A3,3 0 0,1 3,0Z\" style=\"opacity: 1; stroke-width: 0px; fill: rgb(99, 110, 250); fill-opacity: 1;\"/><path class=\"point\" transform=\"translate(387.53,258.57)\" d=\"M3,0A3,3 0 1,1 0,-3A3,3 0 0,1 3,0Z\" style=\"opacity: 1; stroke-width: 0px; fill: rgb(99, 110, 250); fill-opacity: 1;\"/><path class=\"point\" transform=\"translate(389.62,258.57)\" d=\"M3,0A3,3 0 1,1 0,-3A3,3 0 0,1 3,0Z\" style=\"opacity: 1; stroke-width: 0px; fill: rgb(99, 110, 250); fill-opacity: 1;\"/><path class=\"point\" transform=\"translate(393.82,258.57)\" d=\"M3,0A3,3 0 1,1 0,-3A3,3 0 0,1 3,0Z\" style=\"opacity: 1; stroke-width: 0px; fill: rgb(99, 110, 250); fill-opacity: 1;\"/><path class=\"point\" transform=\"translate(395.92,253.7)\" d=\"M3,0A3,3 0 1,1 0,-3A3,3 0 0,1 3,0Z\" style=\"opacity: 1; stroke-width: 0px; fill: rgb(99, 110, 250); fill-opacity: 1;\"/><path class=\"point\" transform=\"translate(398.02,258.57)\" d=\"M3,0A3,3 0 1,1 0,-3A3,3 0 0,1 3,0Z\" style=\"opacity: 1; stroke-width: 0px; fill: rgb(99, 110, 250); fill-opacity: 1;\"/><path class=\"point\" transform=\"translate(400.12,246.39)\" d=\"M3,0A3,3 0 1,1 0,-3A3,3 0 0,1 3,0Z\" style=\"opacity: 1; stroke-width: 0px; fill: rgb(99, 110, 250); fill-opacity: 1;\"/><path class=\"point\" transform=\"translate(402.22,256.13)\" d=\"M3,0A3,3 0 1,1 0,-3A3,3 0 0,1 3,0Z\" style=\"opacity: 1; stroke-width: 0px; fill: rgb(99, 110, 250); fill-opacity: 1;\"/><path class=\"point\" transform=\"translate(406.41,258.57)\" d=\"M3,0A3,3 0 1,1 0,-3A3,3 0 0,1 3,0Z\" style=\"opacity: 1; stroke-width: 0px; fill: rgb(99, 110, 250); fill-opacity: 1;\"/><path class=\"point\" transform=\"translate(408.51,251.26)\" d=\"M3,0A3,3 0 1,1 0,-3A3,3 0 0,1 3,0Z\" style=\"opacity: 1; stroke-width: 0px; fill: rgb(99, 110, 250); fill-opacity: 1;\"/><path class=\"point\" transform=\"translate(410.61,253.7)\" d=\"M3,0A3,3 0 1,1 0,-3A3,3 0 0,1 3,0Z\" style=\"opacity: 1; stroke-width: 0px; fill: rgb(99, 110, 250); fill-opacity: 1;\"/><path class=\"point\" transform=\"translate(416.91,258.57)\" d=\"M3,0A3,3 0 1,1 0,-3A3,3 0 0,1 3,0Z\" style=\"opacity: 1; stroke-width: 0px; fill: rgb(99, 110, 250); fill-opacity: 1;\"/><path class=\"point\" transform=\"translate(419.01,258.57)\" d=\"M3,0A3,3 0 1,1 0,-3A3,3 0 0,1 3,0Z\" style=\"opacity: 1; stroke-width: 0px; fill: rgb(99, 110, 250); fill-opacity: 1;\"/><path class=\"point\" transform=\"translate(421.11,258.57)\" d=\"M3,0A3,3 0 1,1 0,-3A3,3 0 0,1 3,0Z\" style=\"opacity: 1; stroke-width: 0px; fill: rgb(99, 110, 250); fill-opacity: 1;\"/><path class=\"point\" transform=\"translate(425.3,256.13)\" d=\"M3,0A3,3 0 1,1 0,-3A3,3 0 0,1 3,0Z\" style=\"opacity: 1; stroke-width: 0px; fill: rgb(99, 110, 250); fill-opacity: 1;\"/><path class=\"point\" transform=\"translate(427.4,256.13)\" d=\"M3,0A3,3 0 1,1 0,-3A3,3 0 0,1 3,0Z\" style=\"opacity: 1; stroke-width: 0px; fill: rgb(99, 110, 250); fill-opacity: 1;\"/><path class=\"point\" transform=\"translate(429.5,253.7)\" d=\"M3,0A3,3 0 1,1 0,-3A3,3 0 0,1 3,0Z\" style=\"opacity: 1; stroke-width: 0px; fill: rgb(99, 110, 250); fill-opacity: 1;\"/><path class=\"point\" transform=\"translate(431.6,256.13)\" d=\"M3,0A3,3 0 1,1 0,-3A3,3 0 0,1 3,0Z\" style=\"opacity: 1; stroke-width: 0px; fill: rgb(99, 110, 250); fill-opacity: 1;\"/><path class=\"point\" transform=\"translate(433.7,256.13)\" d=\"M3,0A3,3 0 1,1 0,-3A3,3 0 0,1 3,0Z\" style=\"opacity: 1; stroke-width: 0px; fill: rgb(99, 110, 250); fill-opacity: 1;\"/><path class=\"point\" transform=\"translate(435.8,251.26)\" d=\"M3,0A3,3 0 1,1 0,-3A3,3 0 0,1 3,0Z\" style=\"opacity: 1; stroke-width: 0px; fill: rgb(99, 110, 250); fill-opacity: 1;\"/><path class=\"point\" transform=\"translate(437.89,251.26)\" d=\"M3,0A3,3 0 1,1 0,-3A3,3 0 0,1 3,0Z\" style=\"opacity: 1; stroke-width: 0px; fill: rgb(99, 110, 250); fill-opacity: 1;\"/><path class=\"point\" transform=\"translate(439.99,258.57)\" d=\"M3,0A3,3 0 1,1 0,-3A3,3 0 0,1 3,0Z\" style=\"opacity: 1; stroke-width: 0px; fill: rgb(99, 110, 250); fill-opacity: 1;\"/><path class=\"point\" transform=\"translate(444.19,258.57)\" d=\"M3,0A3,3 0 1,1 0,-3A3,3 0 0,1 3,0Z\" style=\"opacity: 1; stroke-width: 0px; fill: rgb(99, 110, 250); fill-opacity: 1;\"/><path class=\"point\" transform=\"translate(446.29,253.7)\" d=\"M3,0A3,3 0 1,1 0,-3A3,3 0 0,1 3,0Z\" style=\"opacity: 1; stroke-width: 0px; fill: rgb(99, 110, 250); fill-opacity: 1;\"/><path class=\"point\" transform=\"translate(448.39,258.57)\" d=\"M3,0A3,3 0 1,1 0,-3A3,3 0 0,1 3,0Z\" style=\"opacity: 1; stroke-width: 0px; fill: rgb(99, 110, 250); fill-opacity: 1;\"/><path class=\"point\" transform=\"translate(452.59,258.57)\" d=\"M3,0A3,3 0 1,1 0,-3A3,3 0 0,1 3,0Z\" style=\"opacity: 1; stroke-width: 0px; fill: rgb(99, 110, 250); fill-opacity: 1;\"/><path class=\"point\" transform=\"translate(454.68,256.13)\" d=\"M3,0A3,3 0 1,1 0,-3A3,3 0 0,1 3,0Z\" style=\"opacity: 1; stroke-width: 0px; fill: rgb(99, 110, 250); fill-opacity: 1;\"/><path class=\"point\" transform=\"translate(456.78,258.57)\" d=\"M3,0A3,3 0 1,1 0,-3A3,3 0 0,1 3,0Z\" style=\"opacity: 1; stroke-width: 0px; fill: rgb(99, 110, 250); fill-opacity: 1;\"/><path class=\"point\" transform=\"translate(458.88,253.7)\" d=\"M3,0A3,3 0 1,1 0,-3A3,3 0 0,1 3,0Z\" style=\"opacity: 1; stroke-width: 0px; fill: rgb(99, 110, 250); fill-opacity: 1;\"/><path class=\"point\" transform=\"translate(460.98,258.57)\" d=\"M3,0A3,3 0 1,1 0,-3A3,3 0 0,1 3,0Z\" style=\"opacity: 1; stroke-width: 0px; fill: rgb(99, 110, 250); fill-opacity: 1;\"/><path class=\"point\" transform=\"translate(463.08,258.57)\" d=\"M3,0A3,3 0 1,1 0,-3A3,3 0 0,1 3,0Z\" style=\"opacity: 1; stroke-width: 0px; fill: rgb(99, 110, 250); fill-opacity: 1;\"/><path class=\"point\" transform=\"translate(465.18,258.57)\" d=\"M3,0A3,3 0 1,1 0,-3A3,3 0 0,1 3,0Z\" style=\"opacity: 1; stroke-width: 0px; fill: rgb(99, 110, 250); fill-opacity: 1;\"/><path class=\"point\" transform=\"translate(467.28,248.82)\" d=\"M3,0A3,3 0 1,1 0,-3A3,3 0 0,1 3,0Z\" style=\"opacity: 1; stroke-width: 0px; fill: rgb(99, 110, 250); fill-opacity: 1;\"/><path class=\"point\" transform=\"translate(469.37,258.57)\" d=\"M3,0A3,3 0 1,1 0,-3A3,3 0 0,1 3,0Z\" style=\"opacity: 1; stroke-width: 0px; fill: rgb(99, 110, 250); fill-opacity: 1;\"/><path class=\"point\" transform=\"translate(471.47,256.13)\" d=\"M3,0A3,3 0 1,1 0,-3A3,3 0 0,1 3,0Z\" style=\"opacity: 1; stroke-width: 0px; fill: rgb(99, 110, 250); fill-opacity: 1;\"/><path class=\"point\" transform=\"translate(473.57,258.57)\" d=\"M3,0A3,3 0 1,1 0,-3A3,3 0 0,1 3,0Z\" style=\"opacity: 1; stroke-width: 0px; fill: rgb(99, 110, 250); fill-opacity: 1;\"/><path class=\"point\" transform=\"translate(475.67,258.57)\" d=\"M3,0A3,3 0 1,1 0,-3A3,3 0 0,1 3,0Z\" style=\"opacity: 1; stroke-width: 0px; fill: rgb(99, 110, 250); fill-opacity: 1;\"/><path class=\"point\" transform=\"translate(481.97,251.26)\" d=\"M3,0A3,3 0 1,1 0,-3A3,3 0 0,1 3,0Z\" style=\"opacity: 1; stroke-width: 0px; fill: rgb(99, 110, 250); fill-opacity: 1;\"/><path class=\"point\" transform=\"translate(484.07,258.57)\" d=\"M3,0A3,3 0 1,1 0,-3A3,3 0 0,1 3,0Z\" style=\"opacity: 1; stroke-width: 0px; fill: rgb(99, 110, 250); fill-opacity: 1;\"/><path class=\"point\" transform=\"translate(486.16,253.7)\" d=\"M3,0A3,3 0 1,1 0,-3A3,3 0 0,1 3,0Z\" style=\"opacity: 1; stroke-width: 0px; fill: rgb(99, 110, 250); fill-opacity: 1;\"/><path class=\"point\" transform=\"translate(488.26,256.13)\" d=\"M3,0A3,3 0 1,1 0,-3A3,3 0 0,1 3,0Z\" style=\"opacity: 1; stroke-width: 0px; fill: rgb(99, 110, 250); fill-opacity: 1;\"/><path class=\"point\" transform=\"translate(490.36,258.57)\" d=\"M3,0A3,3 0 1,1 0,-3A3,3 0 0,1 3,0Z\" style=\"opacity: 1; stroke-width: 0px; fill: rgb(99, 110, 250); fill-opacity: 1;\"/><path class=\"point\" transform=\"translate(492.46,256.13)\" d=\"M3,0A3,3 0 1,1 0,-3A3,3 0 0,1 3,0Z\" style=\"opacity: 1; stroke-width: 0px; fill: rgb(99, 110, 250); fill-opacity: 1;\"/><path class=\"point\" transform=\"translate(494.56,256.13)\" d=\"M3,0A3,3 0 1,1 0,-3A3,3 0 0,1 3,0Z\" style=\"opacity: 1; stroke-width: 0px; fill: rgb(99, 110, 250); fill-opacity: 1;\"/><path class=\"point\" transform=\"translate(498.76,258.57)\" d=\"M3,0A3,3 0 1,1 0,-3A3,3 0 0,1 3,0Z\" style=\"opacity: 1; stroke-width: 0px; fill: rgb(99, 110, 250); fill-opacity: 1;\"/><path class=\"point\" transform=\"translate(500.86,256.13)\" d=\"M3,0A3,3 0 1,1 0,-3A3,3 0 0,1 3,0Z\" style=\"opacity: 1; stroke-width: 0px; fill: rgb(99, 110, 250); fill-opacity: 1;\"/><path class=\"point\" transform=\"translate(502.95,258.57)\" d=\"M3,0A3,3 0 1,1 0,-3A3,3 0 0,1 3,0Z\" style=\"opacity: 1; stroke-width: 0px; fill: rgb(99, 110, 250); fill-opacity: 1;\"/><path class=\"point\" transform=\"translate(505.05,256.13)\" d=\"M3,0A3,3 0 1,1 0,-3A3,3 0 0,1 3,0Z\" style=\"opacity: 1; stroke-width: 0px; fill: rgb(99, 110, 250); fill-opacity: 1;\"/><path class=\"point\" transform=\"translate(507.15,258.57)\" d=\"M3,0A3,3 0 1,1 0,-3A3,3 0 0,1 3,0Z\" style=\"opacity: 1; stroke-width: 0px; fill: rgb(99, 110, 250); fill-opacity: 1;\"/><path class=\"point\" transform=\"translate(509.25,253.7)\" d=\"M3,0A3,3 0 1,1 0,-3A3,3 0 0,1 3,0Z\" style=\"opacity: 1; stroke-width: 0px; fill: rgb(99, 110, 250); fill-opacity: 1;\"/></g><g class=\"text\"/></g><g class=\"trace scatter traceba51d2\" style=\"stroke-miterlimit: 2; opacity: 1;\"><g class=\"fills\"/><g class=\"errorbars\"/><g class=\"lines\"><path class=\"js-line\" d=\"M30.75,131.52L509.25,304\" style=\"vector-effect: none; fill: none; stroke: rgb(99, 110, 250); stroke-opacity: 1; stroke-width: 2px; opacity: 1;\"/></g><g class=\"points\"/><g class=\"text\"/></g></g></g><g class=\"overplot\"/><path class=\"xlines-above crisp\" d=\"M0,0\" style=\"fill: none;\"/><path class=\"ylines-above crisp\" d=\"M0,0\" style=\"fill: none;\"/><g class=\"overlines-above\"/><g class=\"xaxislayer-above\"><g class=\"xtick\"><text text-anchor=\"middle\" x=\"0\" y=\"433\" transform=\"translate(108.65,0)\" style=\"font-family: 'Open Sans', verdana, arial, sans-serif; font-size: 12px; fill: rgb(42, 63, 95); fill-opacity: 1; white-space: pre; opacity: 1;\">0</text></g><g class=\"xtick\"><text text-anchor=\"middle\" x=\"0\" y=\"433\" style=\"font-family: 'Open Sans', verdana, arial, sans-serif; font-size: 12px; fill: rgb(42, 63, 95); fill-opacity: 1; white-space: pre; opacity: 1;\" transform=\"translate(213.59,0)\">50</text></g><g class=\"xtick\"><text text-anchor=\"middle\" x=\"0\" y=\"433\" style=\"font-family: 'Open Sans', verdana, arial, sans-serif; font-size: 12px; fill: rgb(42, 63, 95); fill-opacity: 1; white-space: pre; opacity: 1;\" transform=\"translate(318.52,0)\">100</text></g><g class=\"xtick\"><text text-anchor=\"middle\" x=\"0\" y=\"433\" style=\"font-family: 'Open Sans', verdana, arial, sans-serif; font-size: 12px; fill: rgb(42, 63, 95); fill-opacity: 1; white-space: pre; opacity: 1;\" transform=\"translate(423.45,0)\">150</text></g><g class=\"xtick\"><text text-anchor=\"middle\" x=\"0\" y=\"433\" style=\"font-family: 'Open Sans', verdana, arial, sans-serif; font-size: 12px; fill: rgb(42, 63, 95); fill-opacity: 1; white-space: pre; opacity: 1;\" transform=\"translate(528.39,0)\">200</text></g></g><g class=\"yaxislayer-above\"><g class=\"ytick\"><text text-anchor=\"end\" x=\"79\" y=\"4.199999999999999\" transform=\"translate(0,409.75)\" style=\"font-family: 'Open Sans', verdana, arial, sans-serif; font-size: 12px; fill: rgb(42, 63, 95); fill-opacity: 1; white-space: pre; opacity: 1;\">−20</text></g><g class=\"ytick\"><text text-anchor=\"end\" x=\"79\" y=\"4.199999999999999\" style=\"font-family: 'Open Sans', verdana, arial, sans-serif; font-size: 12px; fill: rgb(42, 63, 95); fill-opacity: 1; white-space: pre; opacity: 1;\" transform=\"translate(0,361.01)\">0</text></g><g class=\"ytick\"><text text-anchor=\"end\" x=\"79\" y=\"4.199999999999999\" style=\"font-family: 'Open Sans', verdana, arial, sans-serif; font-size: 12px; fill: rgb(42, 63, 95); fill-opacity: 1; white-space: pre; opacity: 1;\" transform=\"translate(0,312.27)\">20</text></g><g class=\"ytick\"><text text-anchor=\"end\" x=\"79\" y=\"4.199999999999999\" style=\"font-family: 'Open Sans', verdana, arial, sans-serif; font-size: 12px; fill: rgb(42, 63, 95); fill-opacity: 1; white-space: pre; opacity: 1;\" transform=\"translate(0,263.53)\">40</text></g><g class=\"ytick\"><text text-anchor=\"end\" x=\"79\" y=\"4.199999999999999\" style=\"font-family: 'Open Sans', verdana, arial, sans-serif; font-size: 12px; fill: rgb(42, 63, 95); fill-opacity: 1; white-space: pre; opacity: 1;\" transform=\"translate(0,214.79000000000002)\">60</text></g><g class=\"ytick\"><text text-anchor=\"end\" x=\"79\" y=\"4.199999999999999\" style=\"font-family: 'Open Sans', verdana, arial, sans-serif; font-size: 12px; fill: rgb(42, 63, 95); fill-opacity: 1; white-space: pre; opacity: 1;\" transform=\"translate(0,166.05)\">80</text></g><g class=\"ytick\"><text text-anchor=\"end\" x=\"79\" y=\"4.199999999999999\" style=\"font-family: 'Open Sans', verdana, arial, sans-serif; font-size: 12px; fill: rgb(42, 63, 95); fill-opacity: 1; white-space: pre; opacity: 1;\" transform=\"translate(0,117.31)\">100</text></g></g><g class=\"overaxes-above\"/></g></g><g class=\"polarlayer\"/><g class=\"smithlayer\"/><g class=\"ternarylayer\"/><g class=\"geolayer\"/><g class=\"funnelarealayer\"/><g class=\"pielayer\"/><g class=\"iciclelayer\"/><g class=\"treemaplayer\"/><g class=\"sunburstlayer\"/><g class=\"glimages\"/><defs id=\"topdefs-db5e78\"><g class=\"clips\"/></defs><g class=\"layer-above\"><g class=\"imagelayer\"/><g class=\"shapelayer\"><g class=\"shape-group\" data-index=\"0\" clip-path=\"url(#clipdb5e78xy)\"><path data-index=\"0\" fill-rule=\"evenodd\" d=\"M108.65,287.9H221.98V117.31H108.65Z\" style=\"opacity: 0.2; stroke: rgb(0, 0, 0); stroke-opacity: 0; fill: rgb(255, 0, 0); fill-opacity: 1; stroke-width: 0px;\"/></g><g class=\"shape-group\" data-index=\"1\" clip-path=\"url(#clipdb5e78x)\"><path data-index=\"1\" fill-rule=\"evenodd\" d=\"M224.08,420L224.08,100\" style=\"opacity: 1; stroke: rgb(0, 128, 0); stroke-opacity: 1; fill: rgb(0, 0, 0); fill-opacity: 0; stroke-dasharray: 9px, 9px; stroke-width: 0.7px;\"/></g><g class=\"shape-group\" data-index=\"2\" clip-path=\"url(#clipdb5e78y)\"><path data-index=\"2\" fill-rule=\"evenodd\" d=\"M80,326.89L620,326.89\" style=\"opacity: 1; stroke: rgb(0, 128, 0); stroke-opacity: 1; fill: rgb(0, 0, 0); fill-opacity: 0; stroke-dasharray: 9px, 9px; stroke-width: 0.7px;\"/></g></g></g><g class=\"infolayer\"><g class=\"g-gtitle\"><text class=\"gtitle\" x=\"35\" y=\"50\" text-anchor=\"start\" dy=\"0em\" style=\"font-family: 'Open Sans', verdana, arial, sans-serif; font-size: 17px; fill: rgb(42, 63, 95); opacity: 1; white-space: pre;\">Cantidad de Establecimientos y Número de mesas</text></g><g class=\"g-xtitle\"><text class=\"xtitle\" x=\"350\" y=\"460.3\" text-anchor=\"middle\" style=\"font-family: 'Open Sans', verdana, arial, sans-serif; font-size: 14px; fill: rgb(42, 63, 95); opacity: 1; white-space: pre;\">Numero de Asientos</text></g><g class=\"g-ytitle\"><text class=\"ytitle\" transform=\"rotate(-90,34.521875,260)\" x=\"34.521875\" y=\"260\" text-anchor=\"middle\" style=\"font-family: 'Open Sans', verdana, arial, sans-serif; font-size: 14px; fill: rgb(42, 63, 95); opacity: 1; white-space: pre;\">Cantidad de Establecimientos</text></g></g></svg>"
      ]
     },
     "metadata": {},
     "output_type": "display_data"
    }
   ],
   "source": [
    "fig4=px.scatter(cads2, x='n_asientos', y='n_ests',\n",
    "                title='Cantidad de Establecimientos y Número de mesas',\n",
    "                labels= {'n_asientos': 'Numero de Asientos', 'n_ests': 'Cantidad de Establecimientos'},\n",
    "                trendline=\"ols\"\n",
    "               )\n",
    "\n",
    "fig4.add_shape(type='rect', x0=0, y0=30, x1=54, y1=100, line_width=0, fillcolor='red', opacity=0.2)\n",
    "fig4.add_vline(x=55, line_width=0.7, line_dash='dash', line_color='green')\n",
    "fig4.add_hline(y=14, line_width=0.7, line_dash='dash', line_color='green')\n",
    "\n",
    "fig4.show()"
   ]
  },
  {
   "cell_type": "markdown",
   "metadata": {},
   "source": [
    "**Gráfico 4.** Muestra cuantos establecimientos tienen una cantidad de asientos .\n",
    "\n",
    "Podemos observar que enlas cadenas:\n",
    "- **Hay muchos establecimientos que tienen una poca cantidad de asientos (Rectángulo rojo).**\n",
    "- **Hay unos pocos establecimientos con un montón de asientos.**\n",
    "- No más de 13 establecimientos tienen más de 60 asientos.  \n",
    "- Por ejemplo, tenemos 99 establecimientos con 12 asientos. Por otro lado, el gráfico muestra que hay muy pocos establecimientos con muchos asientos. Por ejemplo, solo exiten 3 establecimientos con 229 asientos. \n"
   ]
  },
  {
   "cell_type": "markdown",
   "metadata": {},
   "source": [
    "### - Determina el promedio de número de asientos para cada tipo de restaurante. De promedio, ¿qué tipo de restaurante tiene el mayor número de asientos? Traza gráficos."
   ]
  },
  {
   "cell_type": "code",
   "execution_count": 27,
   "metadata": {},
   "outputs": [],
   "source": [
    "#rest_data.head()"
   ]
  },
  {
   "cell_type": "code",
   "execution_count": 28,
   "metadata": {},
   "outputs": [
    {
     "data": {
      "text/html": [
       "<div>\n",
       "<style scoped>\n",
       "    .dataframe tbody tr th:only-of-type {\n",
       "        vertical-align: middle;\n",
       "    }\n",
       "\n",
       "    .dataframe tbody tr th {\n",
       "        vertical-align: top;\n",
       "    }\n",
       "\n",
       "    .dataframe thead th {\n",
       "        text-align: right;\n",
       "    }\n",
       "</style>\n",
       "<table border=\"1\" class=\"dataframe\">\n",
       "  <thead>\n",
       "    <tr style=\"text-align: right;\">\n",
       "      <th></th>\n",
       "      <th>object_type</th>\n",
       "      <th>number</th>\n",
       "    </tr>\n",
       "  </thead>\n",
       "  <tbody>\n",
       "    <tr>\n",
       "      <th>5</th>\n",
       "      <td>Restaurant</td>\n",
       "      <td>48.0</td>\n",
       "    </tr>\n",
       "    <tr>\n",
       "      <th>1</th>\n",
       "      <td>Bar</td>\n",
       "      <td>45.0</td>\n",
       "    </tr>\n",
       "    <tr>\n",
       "      <th>3</th>\n",
       "      <td>Fast Food</td>\n",
       "      <td>32.0</td>\n",
       "    </tr>\n",
       "    <tr>\n",
       "      <th>4</th>\n",
       "      <td>Pizza</td>\n",
       "      <td>28.0</td>\n",
       "    </tr>\n",
       "    <tr>\n",
       "      <th>2</th>\n",
       "      <td>Cafe</td>\n",
       "      <td>25.0</td>\n",
       "    </tr>\n",
       "    <tr>\n",
       "      <th>0</th>\n",
       "      <td>Bakery</td>\n",
       "      <td>22.0</td>\n",
       "    </tr>\n",
       "  </tbody>\n",
       "</table>\n",
       "</div>"
      ],
      "text/plain": [
       "  object_type  number\n",
       "5  Restaurant    48.0\n",
       "1         Bar    45.0\n",
       "3   Fast Food    32.0\n",
       "4       Pizza    28.0\n",
       "2        Cafe    25.0\n",
       "0      Bakery    22.0"
      ]
     },
     "execution_count": 28,
     "metadata": {},
     "output_type": "execute_result"
    }
   ],
   "source": [
    "rest_data.groupby('object_type')['number'].mean().round().reset_index().sort_values(by='number', ascending=False)"
   ]
  },
  {
   "cell_type": "code",
   "execution_count": 29,
   "metadata": {},
   "outputs": [
    {
     "data": {
      "text/html": [
       "<div>\n",
       "<style scoped>\n",
       "    .dataframe tbody tr th:only-of-type {\n",
       "        vertical-align: middle;\n",
       "    }\n",
       "\n",
       "    .dataframe tbody tr th {\n",
       "        vertical-align: top;\n",
       "    }\n",
       "\n",
       "    .dataframe thead th {\n",
       "        text-align: right;\n",
       "    }\n",
       "</style>\n",
       "<table border=\"1\" class=\"dataframe\">\n",
       "  <thead>\n",
       "    <tr style=\"text-align: right;\">\n",
       "      <th></th>\n",
       "      <th>object_type</th>\n",
       "      <th>n_ests</th>\n",
       "      <th>prom_asi</th>\n",
       "    </tr>\n",
       "  </thead>\n",
       "  <tbody>\n",
       "    <tr>\n",
       "      <th>5</th>\n",
       "      <td>Restaurant</td>\n",
       "      <td>7255</td>\n",
       "      <td>48.0</td>\n",
       "    </tr>\n",
       "    <tr>\n",
       "      <th>1</th>\n",
       "      <td>Bar</td>\n",
       "      <td>292</td>\n",
       "      <td>45.0</td>\n",
       "    </tr>\n",
       "    <tr>\n",
       "      <th>3</th>\n",
       "      <td>Fast Food</td>\n",
       "      <td>1066</td>\n",
       "      <td>32.0</td>\n",
       "    </tr>\n",
       "    <tr>\n",
       "      <th>4</th>\n",
       "      <td>Pizza</td>\n",
       "      <td>320</td>\n",
       "      <td>28.0</td>\n",
       "    </tr>\n",
       "    <tr>\n",
       "      <th>2</th>\n",
       "      <td>Cafe</td>\n",
       "      <td>435</td>\n",
       "      <td>25.0</td>\n",
       "    </tr>\n",
       "    <tr>\n",
       "      <th>0</th>\n",
       "      <td>Bakery</td>\n",
       "      <td>283</td>\n",
       "      <td>22.0</td>\n",
       "    </tr>\n",
       "  </tbody>\n",
       "</table>\n",
       "</div>"
      ],
      "text/plain": [
       "  object_type  n_ests  prom_asi\n",
       "5  Restaurant    7255      48.0\n",
       "1         Bar     292      45.0\n",
       "3   Fast Food    1066      32.0\n",
       "4       Pizza     320      28.0\n",
       "2        Cafe     435      25.0\n",
       "0      Bakery     283      22.0"
      ]
     },
     "execution_count": 29,
     "metadata": {},
     "output_type": "execute_result"
    }
   ],
   "source": [
    "prom_sits= rest_data.groupby('object_type').agg({'id' :'count', 'number': 'mean'}).reset_index().sort_values(by='number', ascending=False).round()\n",
    "prom_sits.columns = ['object_type', 'n_ests', 'prom_asi']\n",
    "prom_sits"
   ]
  },
  {
   "cell_type": "code",
   "execution_count": 30,
   "metadata": {},
   "outputs": [],
   "source": [
    "median= rest_data.groupby('object_type')['number'].median().round().reset_index().sort_values(by='number', ascending=False)\n",
    "median.columns = ['object_type', 'median_asi']\n",
    "#median"
   ]
  },
  {
   "cell_type": "code",
   "execution_count": 31,
   "metadata": {},
   "outputs": [
    {
     "data": {
      "image/svg+xml": [
       "<svg class=\"main-svg\" xmlns=\"http://www.w3.org/2000/svg\" xmlns:xlink=\"http://www.w3.org/1999/xlink\" width=\"700\" height=\"500\" style=\"\" viewBox=\"0 0 700 500\"><rect x=\"0\" y=\"0\" width=\"700\" height=\"500\" style=\"fill: rgb(255, 255, 255); fill-opacity: 1;\"/><defs id=\"defs-792625\"><g class=\"clips\"><clipPath id=\"clip792625xyplot\" class=\"plotclip\"><rect width=\"540\" height=\"292\"/></clipPath><clipPath id=\"clip792625xy2plot\" class=\"plotclip\"><rect width=\"540\" height=\"292\"/></clipPath><clipPath class=\"axesclip\" id=\"clip792625x\"><rect x=\"80\" y=\"0\" width=\"540\" height=\"500\"/></clipPath><clipPath class=\"axesclip\" id=\"clip792625y\"><rect x=\"0\" y=\"100\" width=\"700\" height=\"292\"/></clipPath><clipPath class=\"axesclip\" id=\"clip792625xy\"><rect x=\"80\" y=\"100\" width=\"540\" height=\"292\"/></clipPath><clipPath class=\"axesclip\" id=\"clip792625y2\"><rect x=\"0\" y=\"100\" width=\"700\" height=\"292\"/></clipPath><clipPath class=\"axesclip\" id=\"clip792625xy2\"><rect x=\"80\" y=\"100\" width=\"540\" height=\"292\"/></clipPath></g><g class=\"gradients\"/><g class=\"patterns\"/></defs><g class=\"bglayer\"><rect class=\"bg\" x=\"80\" y=\"100\" width=\"540\" height=\"292\" style=\"fill: rgb(229, 236, 246); fill-opacity: 1; stroke-width: 0;\"/></g><g class=\"layer-below\"><g class=\"imagelayer\"/><g class=\"shapelayer\"/></g><g class=\"cartesianlayer\"><g class=\"subplot xy\"><g class=\"layer-subplot\"><g class=\"shapelayer\"/><g class=\"imagelayer\"/></g><g class=\"minor-gridlayer\"><g class=\"x\"/><g class=\"y\"/><g class=\"y2\"/></g><g class=\"gridlayer\"><g class=\"x\"/><g class=\"y\"><path class=\"ygrid crisp\" transform=\"translate(0,355.5)\" d=\"M80,0h540\" style=\"stroke: rgb(255, 255, 255); stroke-opacity: 1; stroke-width: 1px;\"/><path class=\"ygrid crisp\" transform=\"translate(0,319)\" d=\"M80,0h540\" style=\"stroke: rgb(255, 255, 255); stroke-opacity: 1; stroke-width: 1px;\"/><path class=\"ygrid crisp\" transform=\"translate(0,282.5)\" d=\"M80,0h540\" style=\"stroke: rgb(255, 255, 255); stroke-opacity: 1; stroke-width: 1px;\"/><path class=\"ygrid crisp\" transform=\"translate(0,246)\" d=\"M80,0h540\" style=\"stroke: rgb(255, 255, 255); stroke-opacity: 1; stroke-width: 1px;\"/><path class=\"ygrid crisp\" transform=\"translate(0,209.5)\" d=\"M80,0h540\" style=\"stroke: rgb(255, 255, 255); stroke-opacity: 1; stroke-width: 1px;\"/><path class=\"ygrid crisp\" transform=\"translate(0,173)\" d=\"M80,0h540\" style=\"stroke: rgb(255, 255, 255); stroke-opacity: 1; stroke-width: 1px;\"/><path class=\"ygrid crisp\" transform=\"translate(0,136.5)\" d=\"M80,0h540\" style=\"stroke: rgb(255, 255, 255); stroke-opacity: 1; stroke-width: 1px;\"/></g><g class=\"y2\"><path class=\"y2grid crisp\" transform=\"translate(0,362.6)\" d=\"M80,0h540\" style=\"stroke: rgb(255, 255, 255); stroke-opacity: 1; stroke-width: 1px;\"/><path class=\"y2grid crisp\" transform=\"translate(0,323.40999999999997)\" d=\"M80,0h540\" style=\"stroke: rgb(255, 255, 255); stroke-opacity: 1; stroke-width: 1px;\"/><path class=\"y2grid crisp\" transform=\"translate(0,284.21000000000004)\" d=\"M80,0h540\" style=\"stroke: rgb(255, 255, 255); stroke-opacity: 1; stroke-width: 1px;\"/><path class=\"y2grid crisp\" transform=\"translate(0,245.02)\" d=\"M80,0h540\" style=\"stroke: rgb(255, 255, 255); stroke-opacity: 1; stroke-width: 1px;\"/><path class=\"y2grid crisp\" transform=\"translate(0,205.82999999999998)\" d=\"M80,0h540\" style=\"stroke: rgb(255, 255, 255); stroke-opacity: 1; stroke-width: 1px;\"/><path class=\"y2grid crisp\" transform=\"translate(0,166.63)\" d=\"M80,0h540\" style=\"stroke: rgb(255, 255, 255); stroke-opacity: 1; stroke-width: 1px;\"/><path class=\"y2grid crisp\" transform=\"translate(0,127.44)\" d=\"M80,0h540\" style=\"stroke: rgb(255, 255, 255); stroke-opacity: 1; stroke-width: 1px;\"/></g></g><g class=\"zerolinelayer\"/><g class=\"layer-between\"><g class=\"shapelayer\"/><g class=\"imagelayer\"/></g><path class=\"xlines-below\"/><path class=\"ylines-below\"/><g class=\"overlines-below\"><path class=\"xy2-x\"/><path class=\"xy2-y\"/></g><g class=\"xaxislayer-below\"/><g class=\"yaxislayer-below\"/><g class=\"overaxes-below\"><g class=\"xy2-x\"/><g class=\"xy2-y\"/></g><g class=\"plot\" transform=\"translate(80,100)\" clip-path=\"url(#clip792625xyplot)\"><g class=\"barlayer mlayer\"><g class=\"trace bars\" style=\"opacity: 1;\"><g class=\"points\"><g class=\"point\"><path d=\"M9,365V14.6H45V365Z\" style=\"vector-effect: none; opacity: 1; stroke-width: 0.5px; fill: rgb(99, 110, 250); fill-opacity: 1; stroke: rgb(229, 236, 246); stroke-opacity: 1;\"/><text class=\"bartext bartext-inside\" text-anchor=\"middle\" data-notex=\"1\" x=\"0\" y=\"0\" style=\"font-family: 'Open Sans', verdana, arial, sans-serif; font-size: 12px; fill: rgb(255, 255, 255); fill-opacity: 1; white-space: pre;\" transform=\"translate(26.8203125,29.6)\">48</text></g><g class=\"point\"><path d=\"M99,365V36.5H135V365Z\" style=\"vector-effect: none; opacity: 1; stroke-width: 0.5px; fill: rgb(99, 110, 250); fill-opacity: 1; stroke: rgb(229, 236, 246); stroke-opacity: 1;\"/><text class=\"bartext bartext-inside\" text-anchor=\"middle\" data-notex=\"1\" x=\"0\" y=\"0\" style=\"font-family: 'Open Sans', verdana, arial, sans-serif; font-size: 12px; fill: rgb(255, 255, 255); fill-opacity: 1; white-space: pre;\" transform=\"translate(116.8203125,51.5)\">45</text></g><g class=\"point\"><path d=\"M189,365V131.4H225V365Z\" style=\"vector-effect: none; opacity: 1; stroke-width: 0.5px; fill: rgb(99, 110, 250); fill-opacity: 1; stroke: rgb(229, 236, 246); stroke-opacity: 1;\"/><text class=\"bartext bartext-inside\" text-anchor=\"middle\" data-notex=\"1\" x=\"0\" y=\"0\" style=\"font-family: 'Open Sans', verdana, arial, sans-serif; font-size: 12px; fill: rgb(255, 255, 255); fill-opacity: 1; white-space: pre;\" transform=\"translate(206.8203125,146.4)\">32</text></g><g class=\"point\"><path d=\"M279,365V160.6H315V365Z\" style=\"vector-effect: none; opacity: 1; stroke-width: 0.5px; fill: rgb(99, 110, 250); fill-opacity: 1; stroke: rgb(229, 236, 246); stroke-opacity: 1;\"/><text class=\"bartext bartext-inside\" text-anchor=\"middle\" data-notex=\"1\" x=\"0\" y=\"0\" style=\"font-family: 'Open Sans', verdana, arial, sans-serif; font-size: 12px; fill: rgb(255, 255, 255); fill-opacity: 1; white-space: pre;\" transform=\"translate(296.8203125,175.6)\">28</text></g><g class=\"point\"><path d=\"M369,365V182.5H405V365Z\" style=\"vector-effect: none; opacity: 1; stroke-width: 0.5px; fill: rgb(99, 110, 250); fill-opacity: 1; stroke: rgb(229, 236, 246); stroke-opacity: 1;\"/><text class=\"bartext bartext-inside\" text-anchor=\"middle\" data-notex=\"1\" x=\"0\" y=\"0\" style=\"font-family: 'Open Sans', verdana, arial, sans-serif; font-size: 12px; fill: rgb(255, 255, 255); fill-opacity: 1; white-space: pre;\" transform=\"translate(386.8203125,197.5)\">25</text></g><g class=\"point\"><path d=\"M459,365V204.4H495V365Z\" style=\"vector-effect: none; opacity: 1; stroke-width: 0.5px; fill: rgb(99, 110, 250); fill-opacity: 1; stroke: rgb(229, 236, 246); stroke-opacity: 1;\"/><text class=\"bartext bartext-inside\" text-anchor=\"middle\" data-notex=\"1\" x=\"0\" y=\"0\" style=\"font-family: 'Open Sans', verdana, arial, sans-serif; font-size: 12px; fill: rgb(255, 255, 255); fill-opacity: 1; white-space: pre;\" transform=\"translate(476.8203125,219.4)\">22</text></g></g></g><g class=\"trace bars\" style=\"opacity: 1;\"><g class=\"points\"><g class=\"point\"><path d=\"M45,365V153.3H81V365Z\" style=\"vector-effect: none; opacity: 1; stroke-width: 0.5px; fill: rgb(0, 204, 150); fill-opacity: 1; stroke: rgb(229, 236, 246); stroke-opacity: 1;\"/><text class=\"bartext bartext-inside\" text-anchor=\"middle\" data-notex=\"1\" x=\"0\" y=\"0\" style=\"font-family: 'Open Sans', verdana, arial, sans-serif; font-size: 12px; fill: rgb(68, 68, 68); fill-opacity: 1; white-space: pre;\" transform=\"translate(62.8203125,168.3)\">29</text></g><g class=\"point\"><path d=\"M135,365V160.6H171V365Z\" style=\"vector-effect: none; opacity: 1; stroke-width: 0.5px; fill: rgb(0, 204, 150); fill-opacity: 1; stroke: rgb(229, 236, 246); stroke-opacity: 1;\"/><text class=\"bartext bartext-inside\" text-anchor=\"middle\" data-notex=\"1\" x=\"0\" y=\"0\" style=\"font-family: 'Open Sans', verdana, arial, sans-serif; font-size: 12px; fill: rgb(68, 68, 68); fill-opacity: 1; white-space: pre;\" transform=\"translate(152.8203125,175.6)\">28</text></g><g class=\"point\"><path d=\"M225,365V211.7H261V365Z\" style=\"vector-effect: none; opacity: 1; stroke-width: 0.5px; fill: rgb(0, 204, 150); fill-opacity: 1; stroke: rgb(229, 236, 246); stroke-opacity: 1;\"/><text class=\"bartext bartext-inside\" text-anchor=\"middle\" data-notex=\"1\" x=\"0\" y=\"0\" style=\"font-family: 'Open Sans', verdana, arial, sans-serif; font-size: 12px; fill: rgb(68, 68, 68); fill-opacity: 1; white-space: pre;\" transform=\"translate(243,226.7)\">21</text></g><g class=\"point\"><path d=\"M315,365V211.7H351V365Z\" style=\"vector-effect: none; opacity: 1; stroke-width: 0.5px; fill: rgb(0, 204, 150); fill-opacity: 1; stroke: rgb(229, 236, 246); stroke-opacity: 1;\"/><text class=\"bartext bartext-inside\" text-anchor=\"middle\" data-notex=\"1\" x=\"0\" y=\"0\" style=\"font-family: 'Open Sans', verdana, arial, sans-serif; font-size: 12px; fill: rgb(68, 68, 68); fill-opacity: 1; white-space: pre;\" transform=\"translate(333,226.7)\">21</text></g><g class=\"point\"><path d=\"M405,365V233.6H441V365Z\" style=\"vector-effect: none; opacity: 1; stroke-width: 0.5px; fill: rgb(0, 204, 150); fill-opacity: 1; stroke: rgb(229, 236, 246); stroke-opacity: 1;\"/><text class=\"bartext bartext-inside\" text-anchor=\"middle\" data-notex=\"1\" x=\"0\" y=\"0\" style=\"font-family: 'Open Sans', verdana, arial, sans-serif; font-size: 12px; fill: rgb(68, 68, 68); fill-opacity: 1; white-space: pre;\" transform=\"translate(422.8203125,248.6)\">18</text></g><g class=\"point\"><path d=\"M495,365V233.6H531V365Z\" style=\"vector-effect: none; opacity: 1; stroke-width: 0.5px; fill: rgb(0, 204, 150); fill-opacity: 1; stroke: rgb(229, 236, 246); stroke-opacity: 1;\"/><text class=\"bartext bartext-inside\" text-anchor=\"middle\" data-notex=\"1\" x=\"0\" y=\"0\" style=\"font-family: 'Open Sans', verdana, arial, sans-serif; font-size: 12px; fill: rgb(68, 68, 68); fill-opacity: 1; white-space: pre;\" transform=\"translate(512.8203125,248.6)\">18</text></g></g></g></g></g><g class=\"overplot\"><g class=\"xy2\" transform=\"translate(80,100)\" clip-path=\"url(#clip792625xy2plot)\"><g class=\"scatterlayer mlayer\"><g class=\"trace scatter trace7ad69d\" style=\"stroke-miterlimit: 2; opacity: 1;\"><g class=\"fills\"/><g class=\"errorbars\"/><g class=\"lines\"><path class=\"js-line\" d=\"M45,17.44L135,290.35L225,260.02L315,289.26L405,284.75L495,290.71\" style=\"vector-effect: none; fill: none; stroke: rgb(239, 85, 59); stroke-opacity: 1; stroke-width: 2px; opacity: 1;\"/></g><g class=\"points\"><path class=\"point\" transform=\"translate(45,17.44)\" d=\"M3,0A3,3 0 1,1 0,-3A3,3 0 0,1 3,0Z\" style=\"opacity: 1; stroke-width: 0px; fill: rgb(239, 85, 59); fill-opacity: 1;\"/><path class=\"point\" transform=\"translate(135,290.35)\" d=\"M3,0A3,3 0 1,1 0,-3A3,3 0 0,1 3,0Z\" style=\"opacity: 1; stroke-width: 0px; fill: rgb(239, 85, 59); fill-opacity: 1;\"/><path class=\"point\" transform=\"translate(225,260.02)\" d=\"M3,0A3,3 0 1,1 0,-3A3,3 0 0,1 3,0Z\" style=\"opacity: 1; stroke-width: 0px; fill: rgb(239, 85, 59); fill-opacity: 1;\"/><path class=\"point\" transform=\"translate(315,289.26)\" d=\"M3,0A3,3 0 1,1 0,-3A3,3 0 0,1 3,0Z\" style=\"opacity: 1; stroke-width: 0px; fill: rgb(239, 85, 59); fill-opacity: 1;\"/><path class=\"point\" transform=\"translate(405,284.75)\" d=\"M3,0A3,3 0 1,1 0,-3A3,3 0 0,1 3,0Z\" style=\"opacity: 1; stroke-width: 0px; fill: rgb(239, 85, 59); fill-opacity: 1;\"/><path class=\"point\" transform=\"translate(495,290.71)\" d=\"M3,0A3,3 0 1,1 0,-3A3,3 0 0,1 3,0Z\" style=\"opacity: 1; stroke-width: 0px; fill: rgb(239, 85, 59); fill-opacity: 1;\"/></g><g class=\"text\"><g class=\"textpoint\" transform=\"translate(0,-7.75)\"><text x=\"45\" y=\"17.44\" text-anchor=\"middle\" style=\"font-family: 'Open Sans', verdana, arial, sans-serif; font-size: 12px; fill: rgb(42, 63, 95); fill-opacity: 1; white-space: pre;\">7255</text></g><g class=\"textpoint\" transform=\"translate(0,-7.75)\"><text x=\"135\" y=\"290.35\" text-anchor=\"middle\" style=\"font-family: 'Open Sans', verdana, arial, sans-serif; font-size: 12px; fill: rgb(42, 63, 95); fill-opacity: 1; white-space: pre;\">292</text></g><g class=\"textpoint\" transform=\"translate(0,-7.75)\"><text x=\"225\" y=\"260.02\" text-anchor=\"middle\" style=\"font-family: 'Open Sans', verdana, arial, sans-serif; font-size: 12px; fill: rgb(42, 63, 95); fill-opacity: 1; white-space: pre;\">1066</text></g><g class=\"textpoint\" transform=\"translate(0,-7.75)\"><text x=\"315\" y=\"289.26\" text-anchor=\"middle\" style=\"font-family: 'Open Sans', verdana, arial, sans-serif; font-size: 12px; fill: rgb(42, 63, 95); fill-opacity: 1; white-space: pre;\">320</text></g><g class=\"textpoint\" transform=\"translate(0,-7.75)\"><text x=\"405\" y=\"284.75\" text-anchor=\"middle\" style=\"font-family: 'Open Sans', verdana, arial, sans-serif; font-size: 12px; fill: rgb(42, 63, 95); fill-opacity: 1; white-space: pre;\">435</text></g><g class=\"textpoint\" transform=\"translate(0,-7.75)\"><text x=\"495\" y=\"290.71\" text-anchor=\"middle\" style=\"font-family: 'Open Sans', verdana, arial, sans-serif; font-size: 12px; fill: rgb(42, 63, 95); fill-opacity: 1; white-space: pre;\">283</text></g></g></g></g></g></g><path class=\"xlines-above crisp\" d=\"M0,0\" style=\"fill: none;\"/><path class=\"ylines-above crisp\" d=\"M0,0\" style=\"fill: none;\"/><g class=\"overlines-above\"><path class=\"xy2-x crisp\" d=\"M0,0\" style=\"fill: none;\"/><path class=\"xy2-y crisp\" d=\"M0,0\" style=\"fill: none;\"/></g><g class=\"xaxislayer-above\"><g class=\"xtick\"><text text-anchor=\"middle\" x=\"0\" y=\"405\" transform=\"translate(125,0)\" style=\"font-family: 'Open Sans', verdana, arial, sans-serif; font-size: 12px; fill: rgb(42, 63, 95); fill-opacity: 1; white-space: pre; opacity: 1;\">Restaurant</text></g><g class=\"xtick\"><text text-anchor=\"middle\" x=\"0\" y=\"405\" transform=\"translate(215,0)\" style=\"font-family: 'Open Sans', verdana, arial, sans-serif; font-size: 12px; fill: rgb(42, 63, 95); fill-opacity: 1; white-space: pre; opacity: 1;\">Bar</text></g><g class=\"xtick\"><text text-anchor=\"middle\" x=\"0\" y=\"405\" transform=\"translate(305,0)\" style=\"font-family: 'Open Sans', verdana, arial, sans-serif; font-size: 12px; fill: rgb(42, 63, 95); fill-opacity: 1; white-space: pre; opacity: 1;\">Fast Food</text></g><g class=\"xtick\"><text text-anchor=\"middle\" x=\"0\" y=\"405\" transform=\"translate(395,0)\" style=\"font-family: 'Open Sans', verdana, arial, sans-serif; font-size: 12px; fill: rgb(42, 63, 95); fill-opacity: 1; white-space: pre; opacity: 1;\">Pizza</text></g><g class=\"xtick\"><text text-anchor=\"middle\" x=\"0\" y=\"405\" transform=\"translate(485,0)\" style=\"font-family: 'Open Sans', verdana, arial, sans-serif; font-size: 12px; fill: rgb(42, 63, 95); fill-opacity: 1; white-space: pre; opacity: 1;\">Cafe</text></g><g class=\"xtick\"><text text-anchor=\"middle\" x=\"0\" y=\"405\" transform=\"translate(575,0)\" style=\"font-family: 'Open Sans', verdana, arial, sans-serif; font-size: 12px; fill: rgb(42, 63, 95); fill-opacity: 1; white-space: pre; opacity: 1;\">Bakery</text></g></g><g class=\"yaxislayer-above\"><g class=\"ytick\"><text text-anchor=\"end\" x=\"79\" y=\"4.199999999999999\" transform=\"translate(0,392)\" style=\"font-family: 'Open Sans', verdana, arial, sans-serif; font-size: 12px; fill: rgb(42, 63, 95); fill-opacity: 1; white-space: pre; opacity: 1;\">10</text></g><g class=\"ytick\"><text text-anchor=\"end\" x=\"79\" y=\"4.199999999999999\" style=\"font-family: 'Open Sans', verdana, arial, sans-serif; font-size: 12px; fill: rgb(42, 63, 95); fill-opacity: 1; white-space: pre; opacity: 1;\" transform=\"translate(0,355.5)\">15</text></g><g class=\"ytick\"><text text-anchor=\"end\" x=\"79\" y=\"4.199999999999999\" style=\"font-family: 'Open Sans', verdana, arial, sans-serif; font-size: 12px; fill: rgb(42, 63, 95); fill-opacity: 1; white-space: pre; opacity: 1;\" transform=\"translate(0,319)\">20</text></g><g class=\"ytick\"><text text-anchor=\"end\" x=\"79\" y=\"4.199999999999999\" style=\"font-family: 'Open Sans', verdana, arial, sans-serif; font-size: 12px; fill: rgb(42, 63, 95); fill-opacity: 1; white-space: pre; opacity: 1;\" transform=\"translate(0,282.5)\">25</text></g><g class=\"ytick\"><text text-anchor=\"end\" x=\"79\" y=\"4.199999999999999\" style=\"font-family: 'Open Sans', verdana, arial, sans-serif; font-size: 12px; fill: rgb(42, 63, 95); fill-opacity: 1; white-space: pre; opacity: 1;\" transform=\"translate(0,246)\">30</text></g><g class=\"ytick\"><text text-anchor=\"end\" x=\"79\" y=\"4.199999999999999\" style=\"font-family: 'Open Sans', verdana, arial, sans-serif; font-size: 12px; fill: rgb(42, 63, 95); fill-opacity: 1; white-space: pre; opacity: 1;\" transform=\"translate(0,209.5)\">35</text></g><g class=\"ytick\"><text text-anchor=\"end\" x=\"79\" y=\"4.199999999999999\" style=\"font-family: 'Open Sans', verdana, arial, sans-serif; font-size: 12px; fill: rgb(42, 63, 95); fill-opacity: 1; white-space: pre; opacity: 1;\" transform=\"translate(0,173)\">40</text></g><g class=\"ytick\"><text text-anchor=\"end\" x=\"79\" y=\"4.199999999999999\" style=\"font-family: 'Open Sans', verdana, arial, sans-serif; font-size: 12px; fill: rgb(42, 63, 95); fill-opacity: 1; white-space: pre; opacity: 1;\" transform=\"translate(0,136.5)\">45</text></g><g class=\"ytick\"><text text-anchor=\"end\" x=\"79\" y=\"4.199999999999999\" style=\"font-family: 'Open Sans', verdana, arial, sans-serif; font-size: 12px; fill: rgb(42, 63, 95); fill-opacity: 1; white-space: pre; opacity: 1;\" transform=\"translate(0,100)\">50</text></g></g><g class=\"overaxes-above\"><g class=\"xy2-x\"/><g class=\"xy2-y\"><g class=\"y2tick\"><text text-anchor=\"start\" x=\"621\" y=\"4.199999999999999\" transform=\"translate(0,362.6)\" style=\"font-family: 'Open Sans', verdana, arial, sans-serif; font-size: 12px; fill: rgb(42, 63, 95); fill-opacity: 1; white-space: pre; opacity: 1;\">1000</text></g><g class=\"y2tick\"><text text-anchor=\"start\" x=\"621\" y=\"4.199999999999999\" style=\"font-family: 'Open Sans', verdana, arial, sans-serif; font-size: 12px; fill: rgb(42, 63, 95); fill-opacity: 1; white-space: pre; opacity: 1;\" transform=\"translate(0,323.40999999999997)\">2000</text></g><g class=\"y2tick\"><text text-anchor=\"start\" x=\"621\" y=\"4.199999999999999\" style=\"font-family: 'Open Sans', verdana, arial, sans-serif; font-size: 12px; fill: rgb(42, 63, 95); fill-opacity: 1; white-space: pre; opacity: 1;\" transform=\"translate(0,284.21000000000004)\">3000</text></g><g class=\"y2tick\"><text text-anchor=\"start\" x=\"621\" y=\"4.199999999999999\" style=\"font-family: 'Open Sans', verdana, arial, sans-serif; font-size: 12px; fill: rgb(42, 63, 95); fill-opacity: 1; white-space: pre; opacity: 1;\" transform=\"translate(0,245.02)\">4000</text></g><g class=\"y2tick\"><text text-anchor=\"start\" x=\"621\" y=\"4.199999999999999\" style=\"font-family: 'Open Sans', verdana, arial, sans-serif; font-size: 12px; fill: rgb(42, 63, 95); fill-opacity: 1; white-space: pre; opacity: 1;\" transform=\"translate(0,205.82999999999998)\">5000</text></g><g class=\"y2tick\"><text text-anchor=\"start\" x=\"621\" y=\"4.199999999999999\" style=\"font-family: 'Open Sans', verdana, arial, sans-serif; font-size: 12px; fill: rgb(42, 63, 95); fill-opacity: 1; white-space: pre; opacity: 1;\" transform=\"translate(0,166.63)\">6000</text></g><g class=\"y2tick\"><text text-anchor=\"start\" x=\"621\" y=\"4.199999999999999\" style=\"font-family: 'Open Sans', verdana, arial, sans-serif; font-size: 12px; fill: rgb(42, 63, 95); fill-opacity: 1; white-space: pre; opacity: 1;\" transform=\"translate(0,127.44)\">7000</text></g></g></g></g><g class=\"subplot xy2\"/></g><g class=\"polarlayer\"/><g class=\"smithlayer\"/><g class=\"ternarylayer\"/><g class=\"geolayer\"/><g class=\"funnelarealayer\"/><g class=\"pielayer\"/><g class=\"iciclelayer\"/><g class=\"treemaplayer\"/><g class=\"sunburstlayer\"/><g class=\"glimages\"/><defs id=\"topdefs-792625\"><g class=\"clips\"/><clipPath id=\"legend792625\"><rect width=\"353\" height=\"67\" x=\"0\" y=\"0\"/></clipPath></defs><g class=\"layer-above\"><g class=\"imagelayer\"/><g class=\"shapelayer\"/></g><g class=\"infolayer\"><g class=\"legend\" pointer-events=\"all\" transform=\"translate(80,421.20000000000005)\"><rect class=\"bg\" shape-rendering=\"crispEdges\" style=\"stroke: rgb(68, 68, 68); stroke-opacity: 1; fill: rgb(255, 255, 255); fill-opacity: 1; stroke-width: 0px;\" width=\"353\" height=\"67\" x=\"0\" y=\"0\"/><g class=\"scrollbox\" transform=\"\" clip-path=\"url(#legend792625)\"><g class=\"groups\"><g class=\"traces\" transform=\"translate(0,14.5)\" style=\"opacity: 1;\"><text class=\"legendtext\" text-anchor=\"start\" x=\"40\" y=\"4.680000000000001\" style=\"font-family: 'Open Sans', verdana, arial, sans-serif; font-size: 12px; fill: rgb(42, 63, 95); fill-opacity: 1; white-space: pre;\">Promedio de N° de Asientos para Cada tipo de Est.</text><g class=\"layers\" style=\"opacity: 1;\"><g class=\"legendfill\"/><g class=\"legendlines\"/><g class=\"legendsymbols\"><g class=\"legendpoints\"><path class=\"legendundefined\" d=\"M6,6H-6V-6H6Z\" transform=\"translate(20,0)\" style=\"stroke-width: 0.5px; fill: rgb(99, 110, 250); fill-opacity: 1; stroke: rgb(229, 236, 246); stroke-opacity: 1;\"/></g></g></g><rect class=\"legendtoggle\" x=\"0\" y=\"-9.5\" width=\"349.890625\" height=\"19\" style=\"fill: rgb(0, 0, 0); fill-opacity: 0;\"/></g><g class=\"traces\" transform=\"translate(0,33.5)\" style=\"opacity: 1;\"><text class=\"legendtext\" text-anchor=\"start\" x=\"40\" y=\"4.680000000000001\" style=\"font-family: 'Open Sans', verdana, arial, sans-serif; font-size: 12px; fill: rgb(42, 63, 95); fill-opacity: 1; white-space: pre;\">Cantidad de Establecimientos</text><g class=\"layers\" style=\"opacity: 1;\"><g class=\"legendfill\"/><g class=\"legendlines\"><path class=\"js-line\" d=\"M5,0h30\" style=\"fill: none; stroke: rgb(239, 85, 59); stroke-opacity: 1; stroke-width: 2px;\"/></g><g class=\"legendsymbols\"><g class=\"legendpoints\"><path class=\"scatterpts\" transform=\"translate(20,0)\" d=\"M3,0A3,3 0 1,1 0,-3A3,3 0 0,1 3,0Z\" style=\"opacity: 1; stroke-width: 0px; fill: rgb(239, 85, 59); fill-opacity: 1;\"/></g></g></g><rect class=\"legendtoggle\" x=\"0\" y=\"-9.5\" width=\"220.890625\" height=\"19\" style=\"fill: rgb(0, 0, 0); fill-opacity: 0;\"/></g><g class=\"traces\" transform=\"translate(0,52.5)\" style=\"opacity: 1;\"><text class=\"legendtext\" text-anchor=\"start\" x=\"40\" y=\"4.680000000000001\" style=\"font-family: 'Open Sans', verdana, arial, sans-serif; font-size: 12px; fill: rgb(42, 63, 95); fill-opacity: 1; white-space: pre;\">Mediana de N° de Asientos</text><g class=\"layers\" style=\"opacity: 1;\"><g class=\"legendfill\"/><g class=\"legendlines\"/><g class=\"legendsymbols\"><g class=\"legendpoints\"><path class=\"legendundefined\" d=\"M6,6H-6V-6H6Z\" transform=\"translate(20,0)\" style=\"stroke-width: 0.5px; fill: rgb(0, 204, 150); fill-opacity: 1; stroke: rgb(229, 236, 246); stroke-opacity: 1;\"/></g></g></g><rect class=\"legendtoggle\" x=\"0\" y=\"-9.5\" width=\"205.65625\" height=\"19\" style=\"fill: rgb(0, 0, 0); fill-opacity: 0;\"/></g></g></g><rect class=\"scrollbar\" rx=\"20\" ry=\"3\" width=\"0\" height=\"0\" style=\"fill: rgb(128, 139, 164); fill-opacity: 1;\" x=\"0\" y=\"0\"/></g><g class=\"g-gtitle\"><text class=\"gtitle\" x=\"35\" y=\"50\" text-anchor=\"start\" dy=\"0em\" style=\"font-family: 'Open Sans', verdana, arial, sans-serif; font-size: 17px; fill: rgb(42, 63, 95); opacity: 1; white-space: pre;\">Promedio de N° de Asientos para Cada tipo de Est.</text></g><g class=\"g-xtitle\"/><g class=\"g-ytitle\"><text class=\"ytitle\" transform=\"rotate(-90,44.334375,246)\" x=\"44.334375\" y=\"246\" text-anchor=\"middle\" style=\"font-family: 'Open Sans', verdana, arial, sans-serif; font-size: 14px; fill: rgb(42, 63, 95); opacity: 1; white-space: pre;\">Número de Asientos (Prom.)</text></g><g class=\"g-y2title\"><text class=\"y2title\" transform=\"rotate(-90,676.190625,246)\" x=\"676.190625\" y=\"246\" text-anchor=\"middle\" style=\"font-family: 'Open Sans', verdana, arial, sans-serif; font-size: 14px; fill: rgb(42, 63, 95); opacity: 1; white-space: pre;\">Cantidad de Establecimientos</text></g></g></svg>"
      ]
     },
     "metadata": {},
     "output_type": "display_data"
    }
   ],
   "source": [
    "fig5= go.Figure(\n",
    "    data=go.Bar(\n",
    "        x=prom_sits['object_type'],\n",
    "        y=prom_sits['prom_asi'],\n",
    "        name='Promedio de N° de Asientos para Cada tipo de Est.',\n",
    "        text=prom_sits['prom_asi'],\n",
    "    )\n",
    ")\n",
    "\n",
    "fig5.add_trace(\n",
    "    go.Scatter(\n",
    "        x=prom_sits['object_type'],\n",
    "        y=prom_sits['n_ests'],\n",
    "        yaxis=\"y2\",\n",
    "        name=\"Cantidad de Establecimientos\",\n",
    "        mode='lines+markers+text',\n",
    "        #marker=dict(color=\"crimson\"),\n",
    "        text=prom_sits['n_ests'],\n",
    "        textposition='top center',\n",
    "    )\n",
    ")\n",
    "\n",
    "fig5.add_trace(\n",
    "    go.Bar(\n",
    "        x=prom_sits['object_type'],\n",
    "        y=median['median_asi'],\n",
    "        name=\"Mediana de N° de Asientos\",\n",
    "        #mode='lines+markers+text',\n",
    "        #marker=dict(color=\"crimson\"),\n",
    "        text=median['median_asi'],\n",
    "        #textposition='top center',\n",
    "    )\n",
    ")\n",
    "\n",
    "fig5.update_layout(\n",
    "    title=\"Promedio de N° de Asientos para Cada tipo de Est.\",\n",
    "    legend=dict(orientation=\"h\"),\n",
    "    yaxis=dict(\n",
    "        title=dict(text=\"Número de Asientos (Prom.)\"),\n",
    "        side=\"left\",\n",
    "        range=[10, 50],\n",
    "    ),\n",
    "    yaxis2=dict(\n",
    "        title=dict(text=\"Cantidad de Establecimientos\"),\n",
    "        side=\"right\",\n",
    "        range=[250, 7700],\n",
    "        overlaying=\"y\",\n",
    "        #tickmode=\"sync\",\n",
    "    ),\n",
    ")\n",
    "\n",
    "\n",
    "fig5.show()"
   ]
  },
  {
   "cell_type": "markdown",
   "metadata": {},
   "source": [
    "**Gráfico 5.** Muestra, en el eje de la izquierda, el promedio y la mediana del número de asientos para cada tipo de establecimiento. Mientras que, en el eje derecho podemos observar la cantidad de establecimientos para cada tipo.\n",
    "\n",
    "Vemos que el tipo de establecimiento que tiene, en promedio, mayor cantidad de asientos son los restaurantes, que tienen en promedio 48 asientos por establecimiento. Sin embargo, es importante observar que también tienen, con una abismal diferencia,  la mayor cantidad de establecimientos. Por esta razón, incorporamos la ***Mediana*** en el gráfico. \n",
    "\n",
    "La mediana (barras color verde) nos muestra que la mayoría de los restaurantes tienen alrededor de 29 asientos por establecimiento.  "
   ]
  },
  {
   "cell_type": "markdown",
   "metadata": {},
   "source": [
    "### - Coloca los datos de los nombres de las calles de la columna address en una columna separada."
   ]
  },
  {
   "cell_type": "code",
   "execution_count": 32,
   "metadata": {},
   "outputs": [],
   "source": [
    "#rest_data.head()"
   ]
  },
  {
   "cell_type": "code",
   "execution_count": 33,
   "metadata": {},
   "outputs": [
    {
     "data": {
      "text/plain": [
       "array(['3708 N EAGLE ROCK BLVD', '100 WORLD WAY 120',\n",
       "       '6801 HOLLYWOOD BLVD 253', ..., '6741 HOLLYWOOD BLVD',\n",
       "       '548 S SPRING ST STE 100', '1300 S SAN PEDRO ST STE 111'],\n",
       "      dtype=object)"
      ]
     },
     "execution_count": 33,
     "metadata": {},
     "output_type": "execute_result"
    }
   ],
   "source": [
    "rest_data['address'].unique()"
   ]
  },
  {
   "cell_type": "code",
   "execution_count": 34,
   "metadata": {},
   "outputs": [
    {
     "data": {
      "text/html": [
       "<div>\n",
       "<style scoped>\n",
       "    .dataframe tbody tr th:only-of-type {\n",
       "        vertical-align: middle;\n",
       "    }\n",
       "\n",
       "    .dataframe tbody tr th {\n",
       "        vertical-align: top;\n",
       "    }\n",
       "\n",
       "    .dataframe thead th {\n",
       "        text-align: right;\n",
       "    }\n",
       "</style>\n",
       "<table border=\"1\" class=\"dataframe\">\n",
       "  <thead>\n",
       "    <tr style=\"text-align: right;\">\n",
       "      <th></th>\n",
       "      <th>id</th>\n",
       "      <th>object_name</th>\n",
       "      <th>address</th>\n",
       "      <th>chain</th>\n",
       "      <th>object_type</th>\n",
       "      <th>number</th>\n",
       "      <th>street</th>\n",
       "      <th>street2</th>\n",
       "      <th>final_street</th>\n",
       "    </tr>\n",
       "  </thead>\n",
       "  <tbody>\n",
       "    <tr>\n",
       "      <th>0</th>\n",
       "      <td>11786</td>\n",
       "      <td>HABITAT COFFEE SHOP</td>\n",
       "      <td>3708 N EAGLE ROCK BLVD</td>\n",
       "      <td>False</td>\n",
       "      <td>Cafe</td>\n",
       "      <td>26</td>\n",
       "      <td>N EAGLE ROCK BLVD</td>\n",
       "      <td>None</td>\n",
       "      <td>N EAGLE ROCK BLVD</td>\n",
       "    </tr>\n",
       "    <tr>\n",
       "      <th>1</th>\n",
       "      <td>11787</td>\n",
       "      <td>REILLY'S</td>\n",
       "      <td>100 WORLD WAY 120</td>\n",
       "      <td>False</td>\n",
       "      <td>Restaurant</td>\n",
       "      <td>9</td>\n",
       "      <td>WORLD WAY</td>\n",
       "      <td>None</td>\n",
       "      <td>WORLD WAY</td>\n",
       "    </tr>\n",
       "    <tr>\n",
       "      <th>2</th>\n",
       "      <td>11788</td>\n",
       "      <td>STREET CHURROS</td>\n",
       "      <td>6801 HOLLYWOOD BLVD 253</td>\n",
       "      <td>False</td>\n",
       "      <td>Fast Food</td>\n",
       "      <td>20</td>\n",
       "      <td>HOLLYWOOD BLVD</td>\n",
       "      <td>None</td>\n",
       "      <td>HOLLYWOOD BLVD</td>\n",
       "    </tr>\n",
       "    <tr>\n",
       "      <th>3</th>\n",
       "      <td>11789</td>\n",
       "      <td>TRINITI ECHO PARK</td>\n",
       "      <td>1814 W SUNSET BLVD</td>\n",
       "      <td>False</td>\n",
       "      <td>Restaurant</td>\n",
       "      <td>22</td>\n",
       "      <td>W SUNSET BLVD</td>\n",
       "      <td>None</td>\n",
       "      <td>W SUNSET BLVD</td>\n",
       "    </tr>\n",
       "    <tr>\n",
       "      <th>4</th>\n",
       "      <td>11790</td>\n",
       "      <td>POLLEN</td>\n",
       "      <td>2100 ECHO PARK AVE</td>\n",
       "      <td>False</td>\n",
       "      <td>Restaurant</td>\n",
       "      <td>20</td>\n",
       "      <td>ECHO PARK AVE</td>\n",
       "      <td>None</td>\n",
       "      <td>ECHO PARK AVE</td>\n",
       "    </tr>\n",
       "    <tr>\n",
       "      <th>...</th>\n",
       "      <td>...</td>\n",
       "      <td>...</td>\n",
       "      <td>...</td>\n",
       "      <td>...</td>\n",
       "      <td>...</td>\n",
       "      <td>...</td>\n",
       "      <td>...</td>\n",
       "      <td>...</td>\n",
       "      <td>...</td>\n",
       "    </tr>\n",
       "    <tr>\n",
       "      <th>9646</th>\n",
       "      <td>21432</td>\n",
       "      <td>HALL OF JUSTICE</td>\n",
       "      <td>217 W TEMPLE AVE</td>\n",
       "      <td>False</td>\n",
       "      <td>Restaurant</td>\n",
       "      <td>122</td>\n",
       "      <td>W TEMPLE AVE</td>\n",
       "      <td>None</td>\n",
       "      <td>W TEMPLE AVE</td>\n",
       "    </tr>\n",
       "    <tr>\n",
       "      <th>9647</th>\n",
       "      <td>21433</td>\n",
       "      <td>FIN-MELROSE</td>\n",
       "      <td>5750 MELROSE AVE</td>\n",
       "      <td>False</td>\n",
       "      <td>Restaurant</td>\n",
       "      <td>93</td>\n",
       "      <td>MELROSE AVE</td>\n",
       "      <td>None</td>\n",
       "      <td>MELROSE AVE</td>\n",
       "    </tr>\n",
       "    <tr>\n",
       "      <th>9648</th>\n",
       "      <td>21434</td>\n",
       "      <td>JUICY WINGZ</td>\n",
       "      <td>6741 HOLLYWOOD BLVD</td>\n",
       "      <td>True</td>\n",
       "      <td>Fast Food</td>\n",
       "      <td>15</td>\n",
       "      <td>HOLLYWOOD BLVD</td>\n",
       "      <td>None</td>\n",
       "      <td>HOLLYWOOD BLVD</td>\n",
       "    </tr>\n",
       "    <tr>\n",
       "      <th>9649</th>\n",
       "      <td>21435</td>\n",
       "      <td>MEDIDATE COFFEE</td>\n",
       "      <td>548 S SPRING ST STE 100</td>\n",
       "      <td>False</td>\n",
       "      <td>Cafe</td>\n",
       "      <td>6</td>\n",
       "      <td>S SPRING ST STE</td>\n",
       "      <td>None</td>\n",
       "      <td>S SPRING ST STE</td>\n",
       "    </tr>\n",
       "    <tr>\n",
       "      <th>9650</th>\n",
       "      <td>21436</td>\n",
       "      <td>CAFE SPROUTS</td>\n",
       "      <td>1300 S SAN PEDRO ST STE 111</td>\n",
       "      <td>True</td>\n",
       "      <td>Restaurant</td>\n",
       "      <td>19</td>\n",
       "      <td>S SAN PEDRO ST STE</td>\n",
       "      <td>None</td>\n",
       "      <td>S SAN PEDRO ST STE</td>\n",
       "    </tr>\n",
       "  </tbody>\n",
       "</table>\n",
       "<p>9651 rows × 9 columns</p>\n",
       "</div>"
      ],
      "text/plain": [
       "         id          object_name                      address  chain  \\\n",
       "0     11786  HABITAT COFFEE SHOP       3708 N EAGLE ROCK BLVD  False   \n",
       "1     11787             REILLY'S            100 WORLD WAY 120  False   \n",
       "2     11788       STREET CHURROS      6801 HOLLYWOOD BLVD 253  False   \n",
       "3     11789    TRINITI ECHO PARK           1814 W SUNSET BLVD  False   \n",
       "4     11790               POLLEN           2100 ECHO PARK AVE  False   \n",
       "...     ...                  ...                          ...    ...   \n",
       "9646  21432      HALL OF JUSTICE             217 W TEMPLE AVE  False   \n",
       "9647  21433          FIN-MELROSE             5750 MELROSE AVE  False   \n",
       "9648  21434          JUICY WINGZ          6741 HOLLYWOOD BLVD   True   \n",
       "9649  21435      MEDIDATE COFFEE      548 S SPRING ST STE 100  False   \n",
       "9650  21436         CAFE SPROUTS  1300 S SAN PEDRO ST STE 111   True   \n",
       "\n",
       "     object_type  number              street street2        final_street  \n",
       "0           Cafe      26   N EAGLE ROCK BLVD    None   N EAGLE ROCK BLVD  \n",
       "1     Restaurant       9           WORLD WAY    None           WORLD WAY  \n",
       "2      Fast Food      20      HOLLYWOOD BLVD    None      HOLLYWOOD BLVD  \n",
       "3     Restaurant      22       W SUNSET BLVD    None       W SUNSET BLVD  \n",
       "4     Restaurant      20       ECHO PARK AVE    None       ECHO PARK AVE  \n",
       "...          ...     ...                 ...     ...                 ...  \n",
       "9646  Restaurant     122        W TEMPLE AVE    None        W TEMPLE AVE  \n",
       "9647  Restaurant      93         MELROSE AVE    None         MELROSE AVE  \n",
       "9648   Fast Food      15      HOLLYWOOD BLVD    None      HOLLYWOOD BLVD  \n",
       "9649        Cafe       6     S SPRING ST STE    None     S SPRING ST STE  \n",
       "9650  Restaurant      19  S SAN PEDRO ST STE    None  S SAN PEDRO ST STE  \n",
       "\n",
       "[9651 rows x 9 columns]"
      ]
     },
     "execution_count": 34,
     "metadata": {},
     "output_type": "execute_result"
    }
   ],
   "source": [
    "# Función para para extraer todos los valores no numericos de la columna:\n",
    "\n",
    "def find_alphabetic_strings(input_string):\n",
    "    # Regular expression to match only alphabetic strings\n",
    "    pattern = r'\\b[a-zA-Z]+\\b' #b=boundaries, hacen que la regexp busque todas las partes del texto que sean texto y las devolverá como lista\n",
    "\n",
    "    final_object= ' '.join(re.findall(pattern, input_string))\n",
    "    return final_object \n",
    "\n",
    "find_alphabetic_strings('1125 3/4 WALL ST')\n",
    "\n",
    "# Función para buscar las calles cuyos nombres son numéricos:\n",
    "\n",
    "def find_pattern(input_string):\n",
    "    # Regular expression to match the pattern ej:\"W [number]TH ST\"\n",
    "    pattern = r'[A-Z]{1} \\d{1,2}[A-Z]{2} ST'\n",
    "    match = re.search(pattern, input_string)\n",
    "    if match:\n",
    "        return match.group()\n",
    "    else:\n",
    "        return None\n",
    "\n",
    "#print(find_pattern('2615 W 7TH ST'), find_pattern('3611 S 6TH ST'))\n",
    "\n",
    "# Generando la columna final:\n",
    "\n",
    "def create_final_street_columns(row):\n",
    "    street1 = row['street']\n",
    "    street2 = row['street2']\n",
    "\n",
    "    if street1 in ('N ST', 'S ST', 'E ST', 'W ST'):\n",
    "        return street2\n",
    "    else:\n",
    "        return street1\n",
    "    \n",
    "#Extrayendo los nombres de calles de las direcciones utilizando expresiones regulares:\n",
    "rest_data['street']= rest_data.address.apply(find_alphabetic_strings)\n",
    "rest_data['street2']= rest_data.address.apply(find_pattern)\n",
    "rest_data['final_street'] = rest_data.apply(create_final_street_columns,axis=1)\n",
    "rest_data\n"
   ]
  },
  {
   "cell_type": "markdown",
   "metadata": {},
   "source": [
    "#### Algunos problemas en esta parte:\n",
    "- Algunos nombres de calles son numéricos. Por ejemplo: \"W 7Th street\".  \n",
    "- Algunos nombres en la columna address están en minúsculas. Por ejemplo: tenemos \"hollywood BLVD\" y \"HOLLYWOOD BLVD\""
   ]
  },
  {
   "cell_type": "code",
   "execution_count": 35,
   "metadata": {},
   "outputs": [
    {
     "data": {
      "text/html": [
       "<div>\n",
       "<style scoped>\n",
       "    .dataframe tbody tr th:only-of-type {\n",
       "        vertical-align: middle;\n",
       "    }\n",
       "\n",
       "    .dataframe tbody tr th {\n",
       "        vertical-align: top;\n",
       "    }\n",
       "\n",
       "    .dataframe thead th {\n",
       "        text-align: right;\n",
       "    }\n",
       "</style>\n",
       "<table border=\"1\" class=\"dataframe\">\n",
       "  <thead>\n",
       "    <tr style=\"text-align: right;\">\n",
       "      <th></th>\n",
       "      <th>id</th>\n",
       "      <th>object_name</th>\n",
       "      <th>address</th>\n",
       "      <th>chain</th>\n",
       "      <th>object_type</th>\n",
       "      <th>number</th>\n",
       "      <th>street</th>\n",
       "      <th>street2</th>\n",
       "      <th>final_street</th>\n",
       "      <th>street3</th>\n",
       "    </tr>\n",
       "  </thead>\n",
       "  <tbody>\n",
       "    <tr>\n",
       "      <th>0</th>\n",
       "      <td>11786</td>\n",
       "      <td>HABITAT COFFEE SHOP</td>\n",
       "      <td>3708 N EAGLE ROCK BLVD</td>\n",
       "      <td>False</td>\n",
       "      <td>Cafe</td>\n",
       "      <td>26</td>\n",
       "      <td>N EAGLE ROCK BLVD</td>\n",
       "      <td>None</td>\n",
       "      <td>N EAGLE ROCK BLVD</td>\n",
       "      <td>N EAGLE ROCK BLVD</td>\n",
       "    </tr>\n",
       "    <tr>\n",
       "      <th>1</th>\n",
       "      <td>11787</td>\n",
       "      <td>REILLY'S</td>\n",
       "      <td>100 WORLD WAY 120</td>\n",
       "      <td>False</td>\n",
       "      <td>Restaurant</td>\n",
       "      <td>9</td>\n",
       "      <td>WORLD WAY</td>\n",
       "      <td>None</td>\n",
       "      <td>WORLD WAY</td>\n",
       "      <td>WORLD WAY 120</td>\n",
       "    </tr>\n",
       "    <tr>\n",
       "      <th>2</th>\n",
       "      <td>11788</td>\n",
       "      <td>STREET CHURROS</td>\n",
       "      <td>6801 HOLLYWOOD BLVD 253</td>\n",
       "      <td>False</td>\n",
       "      <td>Fast Food</td>\n",
       "      <td>20</td>\n",
       "      <td>HOLLYWOOD BLVD</td>\n",
       "      <td>None</td>\n",
       "      <td>HOLLYWOOD BLVD</td>\n",
       "      <td>HOLLYWOOD BLVD 253</td>\n",
       "    </tr>\n",
       "    <tr>\n",
       "      <th>3</th>\n",
       "      <td>11789</td>\n",
       "      <td>TRINITI ECHO PARK</td>\n",
       "      <td>1814 W SUNSET BLVD</td>\n",
       "      <td>False</td>\n",
       "      <td>Restaurant</td>\n",
       "      <td>22</td>\n",
       "      <td>W SUNSET BLVD</td>\n",
       "      <td>None</td>\n",
       "      <td>W SUNSET BLVD</td>\n",
       "      <td>W SUNSET BLVD</td>\n",
       "    </tr>\n",
       "    <tr>\n",
       "      <th>4</th>\n",
       "      <td>11790</td>\n",
       "      <td>POLLEN</td>\n",
       "      <td>2100 ECHO PARK AVE</td>\n",
       "      <td>False</td>\n",
       "      <td>Restaurant</td>\n",
       "      <td>20</td>\n",
       "      <td>ECHO PARK AVE</td>\n",
       "      <td>None</td>\n",
       "      <td>ECHO PARK AVE</td>\n",
       "      <td>ECHO PARK AVE</td>\n",
       "    </tr>\n",
       "    <tr>\n",
       "      <th>...</th>\n",
       "      <td>...</td>\n",
       "      <td>...</td>\n",
       "      <td>...</td>\n",
       "      <td>...</td>\n",
       "      <td>...</td>\n",
       "      <td>...</td>\n",
       "      <td>...</td>\n",
       "      <td>...</td>\n",
       "      <td>...</td>\n",
       "      <td>...</td>\n",
       "    </tr>\n",
       "    <tr>\n",
       "      <th>9646</th>\n",
       "      <td>21432</td>\n",
       "      <td>HALL OF JUSTICE</td>\n",
       "      <td>217 W TEMPLE AVE</td>\n",
       "      <td>False</td>\n",
       "      <td>Restaurant</td>\n",
       "      <td>122</td>\n",
       "      <td>W TEMPLE AVE</td>\n",
       "      <td>None</td>\n",
       "      <td>W TEMPLE AVE</td>\n",
       "      <td>W TEMPLE AVE</td>\n",
       "    </tr>\n",
       "    <tr>\n",
       "      <th>9647</th>\n",
       "      <td>21433</td>\n",
       "      <td>FIN-MELROSE</td>\n",
       "      <td>5750 MELROSE AVE</td>\n",
       "      <td>False</td>\n",
       "      <td>Restaurant</td>\n",
       "      <td>93</td>\n",
       "      <td>MELROSE AVE</td>\n",
       "      <td>None</td>\n",
       "      <td>MELROSE AVE</td>\n",
       "      <td>MELROSE AVE</td>\n",
       "    </tr>\n",
       "    <tr>\n",
       "      <th>9648</th>\n",
       "      <td>21434</td>\n",
       "      <td>JUICY WINGZ</td>\n",
       "      <td>6741 HOLLYWOOD BLVD</td>\n",
       "      <td>True</td>\n",
       "      <td>Fast Food</td>\n",
       "      <td>15</td>\n",
       "      <td>HOLLYWOOD BLVD</td>\n",
       "      <td>None</td>\n",
       "      <td>HOLLYWOOD BLVD</td>\n",
       "      <td>HOLLYWOOD BLVD</td>\n",
       "    </tr>\n",
       "    <tr>\n",
       "      <th>9649</th>\n",
       "      <td>21435</td>\n",
       "      <td>MEDIDATE COFFEE</td>\n",
       "      <td>548 S SPRING ST STE 100</td>\n",
       "      <td>False</td>\n",
       "      <td>Cafe</td>\n",
       "      <td>6</td>\n",
       "      <td>S SPRING ST STE</td>\n",
       "      <td>None</td>\n",
       "      <td>S SPRING ST STE</td>\n",
       "      <td>S SPRING ST STE 100</td>\n",
       "    </tr>\n",
       "    <tr>\n",
       "      <th>9650</th>\n",
       "      <td>21436</td>\n",
       "      <td>CAFE SPROUTS</td>\n",
       "      <td>1300 S SAN PEDRO ST STE 111</td>\n",
       "      <td>True</td>\n",
       "      <td>Restaurant</td>\n",
       "      <td>19</td>\n",
       "      <td>S SAN PEDRO ST STE</td>\n",
       "      <td>None</td>\n",
       "      <td>S SAN PEDRO ST STE</td>\n",
       "      <td>S SAN PEDRO ST STE 111</td>\n",
       "    </tr>\n",
       "  </tbody>\n",
       "</table>\n",
       "<p>9651 rows × 10 columns</p>\n",
       "</div>"
      ],
      "text/plain": [
       "         id          object_name                      address  chain  \\\n",
       "0     11786  HABITAT COFFEE SHOP       3708 N EAGLE ROCK BLVD  False   \n",
       "1     11787             REILLY'S            100 WORLD WAY 120  False   \n",
       "2     11788       STREET CHURROS      6801 HOLLYWOOD BLVD 253  False   \n",
       "3     11789    TRINITI ECHO PARK           1814 W SUNSET BLVD  False   \n",
       "4     11790               POLLEN           2100 ECHO PARK AVE  False   \n",
       "...     ...                  ...                          ...    ...   \n",
       "9646  21432      HALL OF JUSTICE             217 W TEMPLE AVE  False   \n",
       "9647  21433          FIN-MELROSE             5750 MELROSE AVE  False   \n",
       "9648  21434          JUICY WINGZ          6741 HOLLYWOOD BLVD   True   \n",
       "9649  21435      MEDIDATE COFFEE      548 S SPRING ST STE 100  False   \n",
       "9650  21436         CAFE SPROUTS  1300 S SAN PEDRO ST STE 111   True   \n",
       "\n",
       "     object_type  number              street street2        final_street  \\\n",
       "0           Cafe      26   N EAGLE ROCK BLVD    None   N EAGLE ROCK BLVD   \n",
       "1     Restaurant       9           WORLD WAY    None           WORLD WAY   \n",
       "2      Fast Food      20      HOLLYWOOD BLVD    None      HOLLYWOOD BLVD   \n",
       "3     Restaurant      22       W SUNSET BLVD    None       W SUNSET BLVD   \n",
       "4     Restaurant      20       ECHO PARK AVE    None       ECHO PARK AVE   \n",
       "...          ...     ...                 ...     ...                 ...   \n",
       "9646  Restaurant     122        W TEMPLE AVE    None        W TEMPLE AVE   \n",
       "9647  Restaurant      93         MELROSE AVE    None         MELROSE AVE   \n",
       "9648   Fast Food      15      HOLLYWOOD BLVD    None      HOLLYWOOD BLVD   \n",
       "9649        Cafe       6     S SPRING ST STE    None     S SPRING ST STE   \n",
       "9650  Restaurant      19  S SAN PEDRO ST STE    None  S SAN PEDRO ST STE   \n",
       "\n",
       "                     street3  \n",
       "0          N EAGLE ROCK BLVD  \n",
       "1              WORLD WAY 120  \n",
       "2         HOLLYWOOD BLVD 253  \n",
       "3              W SUNSET BLVD  \n",
       "4              ECHO PARK AVE  \n",
       "...                      ...  \n",
       "9646            W TEMPLE AVE  \n",
       "9647             MELROSE AVE  \n",
       "9648          HOLLYWOOD BLVD  \n",
       "9649     S SPRING ST STE 100  \n",
       "9650  S SAN PEDRO ST STE 111  \n",
       "\n",
       "[9651 rows x 10 columns]"
      ]
     },
     "execution_count": 35,
     "metadata": {},
     "output_type": "execute_result"
    }
   ],
   "source": [
    "#Corregido:\n",
    "rest_data['street3']= rest_data['address'].apply(lambda x: ' '.join(x.split()[1:]))\n",
    "rest_data"
   ]
  },
  {
   "cell_type": "code",
   "execution_count": 36,
   "metadata": {},
   "outputs": [],
   "source": [
    "#Poniendo todos los nombres de calles en mayúsculas\n",
    "rest_data['street3'] = rest_data['street3'].str.upper()"
   ]
  },
  {
   "cell_type": "code",
   "execution_count": 37,
   "metadata": {},
   "outputs": [],
   "source": [
    "#rest_data['final_street'].sort_values().unique().tolist()"
   ]
  },
  {
   "cell_type": "code",
   "execution_count": 38,
   "metadata": {},
   "outputs": [],
   "source": [
    "#################### FILTRO #################\n",
    "#rest_data[rest_data['final_street']== 'W SUNSET BLVD']#.address.unique()"
   ]
  },
  {
   "cell_type": "markdown",
   "metadata": {},
   "source": [
    "### - Traza un gráfico de las diez mejores calles por número de restaurantes."
   ]
  },
  {
   "cell_type": "code",
   "execution_count": 39,
   "metadata": {},
   "outputs": [
    {
     "data": {
      "text/html": [
       "<div>\n",
       "<style scoped>\n",
       "    .dataframe tbody tr th:only-of-type {\n",
       "        vertical-align: middle;\n",
       "    }\n",
       "\n",
       "    .dataframe tbody tr th {\n",
       "        vertical-align: top;\n",
       "    }\n",
       "\n",
       "    .dataframe thead th {\n",
       "        text-align: right;\n",
       "    }\n",
       "</style>\n",
       "<table border=\"1\" class=\"dataframe\">\n",
       "  <thead>\n",
       "    <tr style=\"text-align: right;\">\n",
       "      <th></th>\n",
       "      <th>street3</th>\n",
       "      <th>id</th>\n",
       "    </tr>\n",
       "  </thead>\n",
       "  <tbody>\n",
       "    <tr>\n",
       "      <th>2675</th>\n",
       "      <td>W SUNSET BLVD</td>\n",
       "      <td>297</td>\n",
       "    </tr>\n",
       "    <tr>\n",
       "      <th>2606</th>\n",
       "      <td>W PICO BLVD</td>\n",
       "      <td>289</td>\n",
       "    </tr>\n",
       "    <tr>\n",
       "      <th>579</th>\n",
       "      <td>HOLLYWOOD BLVD</td>\n",
       "      <td>168</td>\n",
       "    </tr>\n",
       "    <tr>\n",
       "      <th>2819</th>\n",
       "      <td>WILSHIRE BLVD</td>\n",
       "      <td>161</td>\n",
       "    </tr>\n",
       "    <tr>\n",
       "      <th>1701</th>\n",
       "      <td>S VERMONT AVE</td>\n",
       "      <td>148</td>\n",
       "    </tr>\n",
       "    <tr>\n",
       "      <th>1912</th>\n",
       "      <td>SANTA MONICA BLVD</td>\n",
       "      <td>146</td>\n",
       "    </tr>\n",
       "    <tr>\n",
       "      <th>2162</th>\n",
       "      <td>W 3RD ST</td>\n",
       "      <td>145</td>\n",
       "    </tr>\n",
       "    <tr>\n",
       "      <th>147</th>\n",
       "      <td>BEVERLY BLVD</td>\n",
       "      <td>135</td>\n",
       "    </tr>\n",
       "    <tr>\n",
       "      <th>1292</th>\n",
       "      <td>S FIGUEROA ST</td>\n",
       "      <td>134</td>\n",
       "    </tr>\n",
       "    <tr>\n",
       "      <th>1759</th>\n",
       "      <td>S WESTERN AVE</td>\n",
       "      <td>128</td>\n",
       "    </tr>\n",
       "  </tbody>\n",
       "</table>\n",
       "</div>"
      ],
      "text/plain": [
       "                street3   id\n",
       "2675      W SUNSET BLVD  297\n",
       "2606        W PICO BLVD  289\n",
       "579      HOLLYWOOD BLVD  168\n",
       "2819      WILSHIRE BLVD  161\n",
       "1701      S VERMONT AVE  148\n",
       "1912  SANTA MONICA BLVD  146\n",
       "2162           W 3RD ST  145\n",
       "147        BEVERLY BLVD  135\n",
       "1292      S FIGUEROA ST  134\n",
       "1759      S WESTERN AVE  128"
      ]
     },
     "execution_count": 39,
     "metadata": {},
     "output_type": "execute_result"
    }
   ],
   "source": [
    "streets10= rest_data.groupby('street3')['id'].count().reset_index().sort_values(by='id', ascending=False).head(10)\n",
    "streets10"
   ]
  },
  {
   "cell_type": "code",
   "execution_count": 40,
   "metadata": {},
   "outputs": [
    {
     "data": {
      "image/svg+xml": [
       "<svg class=\"main-svg\" xmlns=\"http://www.w3.org/2000/svg\" xmlns:xlink=\"http://www.w3.org/1999/xlink\" width=\"700\" height=\"500\" style=\"\" viewBox=\"0 0 700 500\"><rect x=\"0\" y=\"0\" width=\"700\" height=\"500\" style=\"fill: rgb(255, 255, 255); fill-opacity: 1;\"/><defs id=\"defs-dc6f39\"><g class=\"clips\"><clipPath id=\"clipdc6f39xyplot\" class=\"plotclip\"><rect width=\"540\" height=\"283\"/></clipPath><clipPath class=\"axesclip\" id=\"clipdc6f39x\"><rect x=\"80\" y=\"0\" width=\"540\" height=\"500\"/></clipPath><clipPath class=\"axesclip\" id=\"clipdc6f39y\"><rect x=\"0\" y=\"100\" width=\"700\" height=\"283\"/></clipPath><clipPath class=\"axesclip\" id=\"clipdc6f39xy\"><rect x=\"80\" y=\"100\" width=\"540\" height=\"283\"/></clipPath></g><g class=\"gradients\"/><g class=\"patterns\"/></defs><g class=\"bglayer\"><rect class=\"bg\" x=\"80\" y=\"100\" width=\"540\" height=\"283\" style=\"fill: rgb(229, 236, 246); fill-opacity: 1; stroke-width: 0;\"/></g><g class=\"layer-below\"><g class=\"imagelayer\"/><g class=\"shapelayer\"/></g><g class=\"cartesianlayer\"><g class=\"subplot xy\"><g class=\"layer-subplot\"><g class=\"shapelayer\"/><g class=\"imagelayer\"/></g><g class=\"minor-gridlayer\"><g class=\"x\"/><g class=\"y\"/></g><g class=\"gridlayer\"><g class=\"x\"/><g class=\"y\"><path class=\"ygrid crisp\" transform=\"translate(0,337.74)\" d=\"M80,0h540\" style=\"stroke: rgb(255, 255, 255); stroke-opacity: 1; stroke-width: 1px;\"/><path class=\"ygrid crisp\" transform=\"translate(0,292.48)\" d=\"M80,0h540\" style=\"stroke: rgb(255, 255, 255); stroke-opacity: 1; stroke-width: 1px;\"/><path class=\"ygrid crisp\" transform=\"translate(0,247.22)\" d=\"M80,0h540\" style=\"stroke: rgb(255, 255, 255); stroke-opacity: 1; stroke-width: 1px;\"/><path class=\"ygrid crisp\" transform=\"translate(0,201.95999999999998)\" d=\"M80,0h540\" style=\"stroke: rgb(255, 255, 255); stroke-opacity: 1; stroke-width: 1px;\"/><path class=\"ygrid crisp\" transform=\"translate(0,156.7)\" d=\"M80,0h540\" style=\"stroke: rgb(255, 255, 255); stroke-opacity: 1; stroke-width: 1px;\"/><path class=\"ygrid crisp\" transform=\"translate(0,111.43)\" d=\"M80,0h540\" style=\"stroke: rgb(255, 255, 255); stroke-opacity: 1; stroke-width: 1px;\"/></g></g><g class=\"zerolinelayer\"><path class=\"yzl zl crisp\" transform=\"translate(0,383)\" d=\"M80,0h540\" style=\"stroke: rgb(255, 255, 255); stroke-opacity: 1; stroke-width: 2px;\"/></g><g class=\"layer-between\"><g class=\"shapelayer\"/><g class=\"imagelayer\"/></g><path class=\"xlines-below\"/><path class=\"ylines-below\"/><g class=\"overlines-below\"/><g class=\"xaxislayer-below\"/><g class=\"yaxislayer-below\"/><g class=\"overaxes-below\"/><g class=\"plot\" transform=\"translate(80,100)\" clip-path=\"url(#clipdc6f39xyplot)\"><g class=\"barlayer mlayer\"><g class=\"trace bars\" style=\"opacity: 1;\"><g class=\"points\"><g class=\"point\"><path d=\"M5.4,283V14.15H48.6V283Z\" style=\"vector-effect: none; opacity: 1; stroke-width: 0.5px; fill: rgb(99, 110, 250); fill-opacity: 1; stroke: rgb(229, 236, 246); stroke-opacity: 1;\"/><text class=\"bartext bartext-inside\" text-anchor=\"middle\" data-notex=\"1\" x=\"0\" y=\"0\" style=\"font-family: 'Open Sans', verdana, arial, sans-serif; font-size: 12px; fill: rgb(255, 255, 255); fill-opacity: 1; white-space: pre;\" transform=\"translate(26.8125,29.15)\">297</text></g></g></g><g class=\"trace bars\" style=\"opacity: 1;\"><g class=\"points\"><g class=\"point\"><path d=\"M59.4,283V21.39H102.6V283Z\" style=\"vector-effect: none; opacity: 1; stroke-width: 0.5px; fill: rgb(239, 85, 59); fill-opacity: 1; stroke: rgb(229, 236, 246); stroke-opacity: 1;\"/><text class=\"bartext bartext-inside\" text-anchor=\"middle\" data-notex=\"1\" x=\"0\" y=\"0\" style=\"font-family: 'Open Sans', verdana, arial, sans-serif; font-size: 12px; fill: rgb(68, 68, 68); fill-opacity: 1; white-space: pre;\" transform=\"translate(80.8125,36.39)\">289</text></g></g></g><g class=\"trace bars\" style=\"opacity: 1;\"><g class=\"points\"><g class=\"point\"><path d=\"M113.4,283V130.92H156.6V283Z\" style=\"vector-effect: none; opacity: 1; stroke-width: 0.5px; fill: rgb(0, 204, 150); fill-opacity: 1; stroke: rgb(229, 236, 246); stroke-opacity: 1;\"/><text class=\"bartext bartext-inside\" text-anchor=\"middle\" data-notex=\"1\" x=\"0\" y=\"0\" style=\"font-family: 'Open Sans', verdana, arial, sans-serif; font-size: 12px; fill: rgb(68, 68, 68); fill-opacity: 1; white-space: pre;\" transform=\"translate(134.8125,145.92)\">168</text></g></g></g><g class=\"trace bars\" style=\"opacity: 1;\"><g class=\"points\"><g class=\"point\"><path d=\"M167.4,283V137.26H210.6V283Z\" style=\"vector-effect: none; opacity: 1; stroke-width: 0.5px; fill: rgb(171, 99, 250); fill-opacity: 1; stroke: rgb(229, 236, 246); stroke-opacity: 1;\"/><text class=\"bartext bartext-inside\" text-anchor=\"middle\" data-notex=\"1\" x=\"0\" y=\"0\" style=\"font-family: 'Open Sans', verdana, arial, sans-serif; font-size: 12px; fill: rgb(68, 68, 68); fill-opacity: 1; white-space: pre;\" transform=\"translate(189,152.26)\">161</text></g></g></g><g class=\"trace bars\" style=\"opacity: 1;\"><g class=\"points\"><g class=\"point\"><path d=\"M221.4,283V149.03H264.6V283Z\" style=\"vector-effect: none; opacity: 1; stroke-width: 0.5px; fill: rgb(255, 161, 90); fill-opacity: 1; stroke: rgb(229, 236, 246); stroke-opacity: 1;\"/><text class=\"bartext bartext-inside\" text-anchor=\"middle\" data-notex=\"1\" x=\"0\" y=\"0\" style=\"font-family: 'Open Sans', verdana, arial, sans-serif; font-size: 12px; fill: rgb(68, 68, 68); fill-opacity: 1; white-space: pre;\" transform=\"translate(242.8125,164.03)\">148</text></g></g></g><g class=\"trace bars\" style=\"opacity: 1;\"><g class=\"points\"><g class=\"point\"><path d=\"M275.4,283V150.84H318.6V283Z\" style=\"vector-effect: none; opacity: 1; stroke-width: 0.5px; fill: rgb(25, 211, 243); fill-opacity: 1; stroke: rgb(229, 236, 246); stroke-opacity: 1;\"/><text class=\"bartext bartext-inside\" text-anchor=\"middle\" data-notex=\"1\" x=\"0\" y=\"0\" style=\"font-family: 'Open Sans', verdana, arial, sans-serif; font-size: 12px; fill: rgb(68, 68, 68); fill-opacity: 1; white-space: pre;\" transform=\"translate(296.8125,165.84)\">146</text></g></g></g><g class=\"trace bars\" style=\"opacity: 1;\"><g class=\"points\"><g class=\"point\"><path d=\"M329.4,283V151.74H372.6V283Z\" style=\"vector-effect: none; opacity: 1; stroke-width: 0.5px; fill: rgb(255, 102, 146); fill-opacity: 1; stroke: rgb(229, 236, 246); stroke-opacity: 1;\"/><text class=\"bartext bartext-inside\" text-anchor=\"middle\" data-notex=\"1\" x=\"0\" y=\"0\" style=\"font-family: 'Open Sans', verdana, arial, sans-serif; font-size: 12px; fill: rgb(68, 68, 68); fill-opacity: 1; white-space: pre;\" transform=\"translate(350.8125,166.74)\">145</text></g></g></g><g class=\"trace bars\" style=\"opacity: 1;\"><g class=\"points\"><g class=\"point\"><path d=\"M383.4,283V160.8H426.6V283Z\" style=\"vector-effect: none; opacity: 1; stroke-width: 0.5px; fill: rgb(182, 232, 128); fill-opacity: 1; stroke: rgb(229, 236, 246); stroke-opacity: 1;\"/><text class=\"bartext bartext-inside\" text-anchor=\"middle\" data-notex=\"1\" x=\"0\" y=\"0\" style=\"font-family: 'Open Sans', verdana, arial, sans-serif; font-size: 12px; fill: rgb(68, 68, 68); fill-opacity: 1; white-space: pre;\" transform=\"translate(404.8125,175.8)\">135</text></g></g></g><g class=\"trace bars\" style=\"opacity: 1;\"><g class=\"points\"><g class=\"point\"><path d=\"M437.4,283V161.7H480.6V283Z\" style=\"vector-effect: none; opacity: 1; stroke-width: 0.5px; fill: rgb(255, 151, 255); fill-opacity: 1; stroke: rgb(229, 236, 246); stroke-opacity: 1;\"/><text class=\"bartext bartext-inside\" text-anchor=\"middle\" data-notex=\"1\" x=\"0\" y=\"0\" style=\"font-family: 'Open Sans', verdana, arial, sans-serif; font-size: 12px; fill: rgb(68, 68, 68); fill-opacity: 1; white-space: pre;\" transform=\"translate(458.8125,176.7)\">134</text></g></g></g><g class=\"trace bars\" style=\"opacity: 1;\"><g class=\"points\"><g class=\"point\"><path d=\"M491.4,283V167.13H534.6V283Z\" style=\"vector-effect: none; opacity: 1; stroke-width: 0.5px; fill: rgb(254, 203, 82); fill-opacity: 1; stroke: rgb(229, 236, 246); stroke-opacity: 1;\"/><text class=\"bartext bartext-inside\" text-anchor=\"middle\" data-notex=\"1\" x=\"0\" y=\"0\" style=\"font-family: 'Open Sans', verdana, arial, sans-serif; font-size: 12px; fill: rgb(68, 68, 68); fill-opacity: 1; white-space: pre;\" transform=\"translate(512.8125,182.13)\">128</text></g></g></g></g></g><g class=\"overplot\"/><path class=\"xlines-above crisp\" d=\"M0,0\" style=\"fill: none;\"/><path class=\"ylines-above crisp\" d=\"M0,0\" style=\"fill: none;\"/><g class=\"overlines-above\"/><g class=\"xaxislayer-above\"><g class=\"xtick\"><text text-anchor=\"start\" x=\"0\" y=\"396\" transform=\"translate(107,0) rotate(29.999999999999996,0,390)\" style=\"font-family: 'Open Sans', verdana, arial, sans-serif; font-size: 12px; fill: rgb(42, 63, 95); fill-opacity: 1; white-space: pre; opacity: 1;\">W SUNSET BLVD</text></g><g class=\"xtick\"><text text-anchor=\"start\" x=\"0\" y=\"396\" transform=\"translate(161,0) rotate(29.999999999999996,0,390)\" style=\"font-family: 'Open Sans', verdana, arial, sans-serif; font-size: 12px; fill: rgb(42, 63, 95); fill-opacity: 1; white-space: pre; opacity: 1;\">W PICO BLVD</text></g><g class=\"xtick\"><text text-anchor=\"start\" x=\"0\" y=\"396\" transform=\"translate(215,0) rotate(29.999999999999996,0,390)\" style=\"font-family: 'Open Sans', verdana, arial, sans-serif; font-size: 12px; fill: rgb(42, 63, 95); fill-opacity: 1; white-space: pre; opacity: 1;\">HOLLYWOOD BLVD</text></g><g class=\"xtick\"><text text-anchor=\"start\" x=\"0\" y=\"396\" transform=\"translate(269,0) rotate(29.999999999999996,0,390)\" style=\"font-family: 'Open Sans', verdana, arial, sans-serif; font-size: 12px; fill: rgb(42, 63, 95); fill-opacity: 1; white-space: pre; opacity: 1;\">WILSHIRE BLVD</text></g><g class=\"xtick\"><text text-anchor=\"start\" x=\"0\" y=\"396\" transform=\"translate(323,0) rotate(29.999999999999996,0,390)\" style=\"font-family: 'Open Sans', verdana, arial, sans-serif; font-size: 12px; fill: rgb(42, 63, 95); fill-opacity: 1; white-space: pre; opacity: 1;\">S VERMONT AVE</text></g><g class=\"xtick\"><text text-anchor=\"start\" x=\"0\" y=\"396\" transform=\"translate(377,0) rotate(29.999999999999996,0,390)\" style=\"font-family: 'Open Sans', verdana, arial, sans-serif; font-size: 12px; fill: rgb(42, 63, 95); fill-opacity: 1; white-space: pre; opacity: 1;\">SANTA MONICA BLVD</text></g><g class=\"xtick\"><text text-anchor=\"start\" x=\"0\" y=\"396\" transform=\"translate(431,0) rotate(29.999999999999996,0,390)\" style=\"font-family: 'Open Sans', verdana, arial, sans-serif; font-size: 12px; fill: rgb(42, 63, 95); fill-opacity: 1; white-space: pre; opacity: 1;\">W 3RD ST</text></g><g class=\"xtick\"><text text-anchor=\"start\" x=\"0\" y=\"396\" transform=\"translate(485,0) rotate(29.999999999999996,0,390)\" style=\"font-family: 'Open Sans', verdana, arial, sans-serif; font-size: 12px; fill: rgb(42, 63, 95); fill-opacity: 1; white-space: pre; opacity: 1;\">BEVERLY BLVD</text></g><g class=\"xtick\"><text text-anchor=\"start\" x=\"0\" y=\"396\" transform=\"translate(539,0) rotate(29.999999999999996,0,390)\" style=\"font-family: 'Open Sans', verdana, arial, sans-serif; font-size: 12px; fill: rgb(42, 63, 95); fill-opacity: 1; white-space: pre; opacity: 1;\">S FIGUEROA ST</text></g><g class=\"xtick\"><text text-anchor=\"start\" x=\"0\" y=\"396\" transform=\"translate(593,0) rotate(29.999999999999996,0,390)\" style=\"font-family: 'Open Sans', verdana, arial, sans-serif; font-size: 12px; fill: rgb(42, 63, 95); fill-opacity: 1; white-space: pre; opacity: 1;\">S WESTERN AVE</text></g></g><g class=\"yaxislayer-above\"><g class=\"ytick\"><text text-anchor=\"end\" x=\"79\" y=\"4.199999999999999\" transform=\"translate(0,383)\" style=\"font-family: 'Open Sans', verdana, arial, sans-serif; font-size: 12px; fill: rgb(42, 63, 95); fill-opacity: 1; white-space: pre; opacity: 1;\">0</text></g><g class=\"ytick\"><text text-anchor=\"end\" x=\"79\" y=\"4.199999999999999\" style=\"font-family: 'Open Sans', verdana, arial, sans-serif; font-size: 12px; fill: rgb(42, 63, 95); fill-opacity: 1; white-space: pre; opacity: 1;\" transform=\"translate(0,337.74)\">50</text></g><g class=\"ytick\"><text text-anchor=\"end\" x=\"79\" y=\"4.199999999999999\" style=\"font-family: 'Open Sans', verdana, arial, sans-serif; font-size: 12px; fill: rgb(42, 63, 95); fill-opacity: 1; white-space: pre; opacity: 1;\" transform=\"translate(0,292.48)\">100</text></g><g class=\"ytick\"><text text-anchor=\"end\" x=\"79\" y=\"4.199999999999999\" style=\"font-family: 'Open Sans', verdana, arial, sans-serif; font-size: 12px; fill: rgb(42, 63, 95); fill-opacity: 1; white-space: pre; opacity: 1;\" transform=\"translate(0,247.22)\">150</text></g><g class=\"ytick\"><text text-anchor=\"end\" x=\"79\" y=\"4.199999999999999\" style=\"font-family: 'Open Sans', verdana, arial, sans-serif; font-size: 12px; fill: rgb(42, 63, 95); fill-opacity: 1; white-space: pre; opacity: 1;\" transform=\"translate(0,201.95999999999998)\">200</text></g><g class=\"ytick\"><text text-anchor=\"end\" x=\"79\" y=\"4.199999999999999\" style=\"font-family: 'Open Sans', verdana, arial, sans-serif; font-size: 12px; fill: rgb(42, 63, 95); fill-opacity: 1; white-space: pre; opacity: 1;\" transform=\"translate(0,156.7)\">250</text></g><g class=\"ytick\"><text text-anchor=\"end\" x=\"79\" y=\"4.199999999999999\" style=\"font-family: 'Open Sans', verdana, arial, sans-serif; font-size: 12px; fill: rgb(42, 63, 95); fill-opacity: 1; white-space: pre; opacity: 1;\" transform=\"translate(0,111.43)\">300</text></g></g><g class=\"overaxes-above\"/></g></g><g class=\"polarlayer\"/><g class=\"smithlayer\"/><g class=\"ternarylayer\"/><g class=\"geolayer\"/><g class=\"funnelarealayer\"/><g class=\"pielayer\"/><g class=\"iciclelayer\"/><g class=\"treemaplayer\"/><g class=\"sunburstlayer\"/><g class=\"glimages\"/><defs id=\"topdefs-dc6f39\"><g class=\"clips\"/></defs><g class=\"layer-above\"><g class=\"imagelayer\"/><g class=\"shapelayer\"/></g><g class=\"infolayer\"><g class=\"g-gtitle\"><text class=\"gtitle\" x=\"35\" y=\"50\" text-anchor=\"start\" dy=\"0em\" style=\"font-family: 'Open Sans', verdana, arial, sans-serif; font-size: 17px; fill: rgb(42, 63, 95); opacity: 1; white-space: pre;\">Diez Mejores Calles por Número de Restaurantes</text></g><g class=\"g-xtitle\"><text class=\"xtitle\" x=\"350\" y=\"487.3361328125\" text-anchor=\"middle\" style=\"font-family: 'Open Sans', verdana, arial, sans-serif; font-size: 14px; fill: rgb(42, 63, 95); opacity: 1; white-space: pre;\">Calles</text></g><g class=\"g-ytitle\"><text class=\"ytitle\" transform=\"rotate(-90,36.709375,241.5)\" x=\"36.709375\" y=\"241.5\" text-anchor=\"middle\" style=\"font-family: 'Open Sans', verdana, arial, sans-serif; font-size: 14px; fill: rgb(42, 63, 95); opacity: 1; white-space: pre;\">Número de Restaurantes</text></g></g></svg>"
      ]
     },
     "metadata": {},
     "output_type": "display_data"
    }
   ],
   "source": [
    "fig6= px.bar(\n",
    "    streets10, \n",
    "    x='street3', \n",
    "    y='id', \n",
    "    text='id', \n",
    "    color='street3',\n",
    "    title='Diez Mejores Calles por Número de Restaurantes',\n",
    "    labels=dict(street3='Calles', id='Número de Restaurantes')\n",
    ")\n",
    "fig6.update_layout(showlegend=False)\n",
    "fig6.show()"
   ]
  },
  {
   "cell_type": "markdown",
   "metadata": {},
   "source": [
    "**Gráfico 6.** Muestra las 10 calles con mayor número de establecimientos.\n",
    "\n",
    "Podemos observar que W SUNSET BLVD y W PICO BLVD son las calle que tiene más restaurantes con 297 y 289 establecimientos respectivamente."
   ]
  },
  {
   "cell_type": "markdown",
   "metadata": {},
   "source": [
    "### - Encuentra el número de calles que solo tienen un restaurante."
   ]
  },
  {
   "cell_type": "code",
   "execution_count": 41,
   "metadata": {},
   "outputs": [
    {
     "data": {
      "text/html": [
       "<div>\n",
       "<style scoped>\n",
       "    .dataframe tbody tr th:only-of-type {\n",
       "        vertical-align: middle;\n",
       "    }\n",
       "\n",
       "    .dataframe tbody tr th {\n",
       "        vertical-align: top;\n",
       "    }\n",
       "\n",
       "    .dataframe thead th {\n",
       "        text-align: right;\n",
       "    }\n",
       "</style>\n",
       "<table border=\"1\" class=\"dataframe\">\n",
       "  <thead>\n",
       "    <tr style=\"text-align: right;\">\n",
       "      <th></th>\n",
       "      <th>street3</th>\n",
       "      <th>id</th>\n",
       "    </tr>\n",
       "  </thead>\n",
       "  <tbody>\n",
       "    <tr>\n",
       "      <th>0</th>\n",
       "      <td>1/2 3RD ST</td>\n",
       "      <td>1</td>\n",
       "    </tr>\n",
       "    <tr>\n",
       "      <th>1</th>\n",
       "      <td>1/2 7TH ST</td>\n",
       "      <td>1</td>\n",
       "    </tr>\n",
       "    <tr>\n",
       "      <th>3</th>\n",
       "      <td>1/2 CITY TERRACE DR</td>\n",
       "      <td>1</td>\n",
       "    </tr>\n",
       "    <tr>\n",
       "      <th>4</th>\n",
       "      <td>1/2 COLORADO BLVD</td>\n",
       "      <td>1</td>\n",
       "    </tr>\n",
       "    <tr>\n",
       "      <th>6</th>\n",
       "      <td>1/2 E 2ND ST</td>\n",
       "      <td>1</td>\n",
       "    </tr>\n",
       "    <tr>\n",
       "      <th>...</th>\n",
       "      <td>...</td>\n",
       "      <td>...</td>\n",
       "    </tr>\n",
       "    <tr>\n",
       "      <th>3060</th>\n",
       "      <td>WORLD WAY TSB</td>\n",
       "      <td>1</td>\n",
       "    </tr>\n",
       "    <tr>\n",
       "      <th>3061</th>\n",
       "      <td>YALE ST</td>\n",
       "      <td>1</td>\n",
       "    </tr>\n",
       "    <tr>\n",
       "      <th>3063</th>\n",
       "      <td>YORK BLVD B</td>\n",
       "      <td>1</td>\n",
       "    </tr>\n",
       "    <tr>\n",
       "      <th>3066</th>\n",
       "      <td>Z00 DR</td>\n",
       "      <td>1</td>\n",
       "    </tr>\n",
       "    <tr>\n",
       "      <th>3068</th>\n",
       "      <td>ZOO DR</td>\n",
       "      <td>1</td>\n",
       "    </tr>\n",
       "  </tbody>\n",
       "</table>\n",
       "<p>2440 rows × 2 columns</p>\n",
       "</div>"
      ],
      "text/plain": [
       "                  street3  id\n",
       "0              1/2 3RD ST   1\n",
       "1              1/2 7TH ST   1\n",
       "3     1/2 CITY TERRACE DR   1\n",
       "4       1/2 COLORADO BLVD   1\n",
       "6            1/2 E 2ND ST   1\n",
       "...                   ...  ..\n",
       "3060        WORLD WAY TSB   1\n",
       "3061              YALE ST   1\n",
       "3063          YORK BLVD B   1\n",
       "3066               Z00 DR   1\n",
       "3068               ZOO DR   1\n",
       "\n",
       "[2440 rows x 2 columns]"
      ]
     },
     "execution_count": 41,
     "metadata": {},
     "output_type": "execute_result"
    }
   ],
   "source": [
    "streets_g= rest_data.groupby('street3')['id'].count().reset_index().sort_values(by='street3', ascending=True)\n",
    "streets_1e= streets_g[streets_g['id']== 1]\n",
    "#streets_1e.columns['Calle', 'Número de Ests']\n",
    "streets_1e"
   ]
  },
  {
   "cell_type": "code",
   "execution_count": 42,
   "metadata": {},
   "outputs": [
    {
     "data": {
      "image/svg+xml": [
       "<svg class=\"main-svg\" xmlns=\"http://www.w3.org/2000/svg\" xmlns:xlink=\"http://www.w3.org/1999/xlink\" width=\"700\" height=\"500\" style=\"\" viewBox=\"0 0 700 500\"><rect x=\"0\" y=\"0\" width=\"700\" height=\"500\" style=\"fill: rgb(255, 255, 255); fill-opacity: 1;\"/><defs id=\"defs-27fbf2\"><g class=\"clips\"/><g class=\"gradients\"/><g class=\"patterns\"/></defs><g class=\"bglayer\"/><g class=\"layer-below\"><g class=\"imagelayer\"/><g class=\"shapelayer\"/></g><g class=\"cartesianlayer\"/><g class=\"polarlayer\"/><g class=\"smithlayer\"/><g class=\"ternarylayer\"/><g class=\"geolayer\"/><g class=\"funnelarealayer\"/><g class=\"pielayer\"/><g class=\"iciclelayer\"/><g class=\"treemaplayer\"/><g class=\"sunburstlayer\"/><g class=\"glimages\"/><g class=\"table\" overflow=\"visible\" width=\"700\" height=\"500\" transform=\"\" style=\"box-sizing: content-box; position: absolute; left: 0px; overflow: visible; shape-rendering: crispedges; pointer-events: all;\"><g class=\"table-control-view\" transform=\"translate(80,100)\" clip-path=\"url(#clip27fbf2_scrollAreaBottomClip_b16133true)\" style=\"box-sizing: content-box;\"><rect class=\"scroll-background\" fill=\"none\" width=\"540\" height=\"320\"/><g class=\"y-column\" transform=\"\" clip-path=\"url(#clip27fbf2_columnBoundaryClippath_b16133true_0)\"><g class=\"column-block\" id=\"cells1\" transform=\"\" style=\"cursor: default;\"><g class=\"column-cells\"><g class=\"column-cell\" transform=\"translate(0,28)\"><rect class=\"cell-rect\" width=\"270\" stroke-width=\"1\" style=\"stroke: rgb(255, 255, 255); stroke-opacity: 1; fill: rgb(230, 230, 250); fill-opacity: 1;\" height=\"20\"/><g class=\"cell-text-holder\" transform=\"translate(8,8)\" text-anchor=\"start\" style=\"shape-rendering: geometricprecision;\"><text class=\"cell-text\" dy=\"0.75em\" x=\"0\" y=\"0\" style=\"cursor: auto; font-family: 'Open Sans', verdana, arial, sans-serif; font-size: 12px; fill: rgb(42, 63, 95); fill-opacity: 1; white-space: pre;\">1/2 3RD ST</text></g></g><g class=\"column-cell\" transform=\"translate(0,48)\"><rect class=\"cell-rect\" width=\"270\" stroke-width=\"1\" style=\"stroke: rgb(255, 255, 255); stroke-opacity: 1; fill: rgb(230, 230, 250); fill-opacity: 1;\" height=\"20\"/><g class=\"cell-text-holder\" transform=\"translate(8,8)\" text-anchor=\"start\" style=\"shape-rendering: geometricprecision;\"><text class=\"cell-text\" dy=\"0.75em\" x=\"0\" y=\"0\" style=\"cursor: auto; font-family: 'Open Sans', verdana, arial, sans-serif; font-size: 12px; fill: rgb(42, 63, 95); fill-opacity: 1; white-space: pre;\">1/2 7TH ST</text></g></g><g class=\"column-cell\" transform=\"translate(0,68)\"><rect class=\"cell-rect\" width=\"270\" stroke-width=\"1\" style=\"stroke: rgb(255, 255, 255); stroke-opacity: 1; fill: rgb(230, 230, 250); fill-opacity: 1;\" height=\"20\"/><g class=\"cell-text-holder\" transform=\"translate(8,8)\" text-anchor=\"start\" style=\"shape-rendering: geometricprecision;\"><text class=\"cell-text\" dy=\"0.75em\" x=\"0\" y=\"0\" style=\"cursor: auto; font-family: 'Open Sans', verdana, arial, sans-serif; font-size: 12px; fill: rgb(42, 63, 95); fill-opacity: 1; white-space: pre;\">1/2 CITY TERRACE DR</text></g></g><g class=\"column-cell\" transform=\"translate(0,88)\"><rect class=\"cell-rect\" width=\"270\" stroke-width=\"1\" style=\"stroke: rgb(255, 255, 255); stroke-opacity: 1; fill: rgb(230, 230, 250); fill-opacity: 1;\" height=\"20\"/><g class=\"cell-text-holder\" transform=\"translate(8,8)\" text-anchor=\"start\" style=\"shape-rendering: geometricprecision;\"><text class=\"cell-text\" dy=\"0.75em\" x=\"0\" y=\"0\" style=\"cursor: auto; font-family: 'Open Sans', verdana, arial, sans-serif; font-size: 12px; fill: rgb(42, 63, 95); fill-opacity: 1; white-space: pre;\">1/2 COLORADO BLVD</text></g></g><g class=\"column-cell\" transform=\"translate(0,108)\"><rect class=\"cell-rect\" width=\"270\" stroke-width=\"1\" style=\"stroke: rgb(255, 255, 255); stroke-opacity: 1; fill: rgb(230, 230, 250); fill-opacity: 1;\" height=\"20\"/><g class=\"cell-text-holder\" transform=\"translate(8,8)\" text-anchor=\"start\" style=\"shape-rendering: geometricprecision;\"><text class=\"cell-text\" dy=\"0.75em\" x=\"0\" y=\"0\" style=\"cursor: auto; font-family: 'Open Sans', verdana, arial, sans-serif; font-size: 12px; fill: rgb(42, 63, 95); fill-opacity: 1; white-space: pre;\">1/2 E 2ND ST</text></g></g><g class=\"column-cell\" transform=\"translate(0,128)\"><rect class=\"cell-rect\" width=\"270\" stroke-width=\"1\" style=\"stroke: rgb(255, 255, 255); stroke-opacity: 1; fill: rgb(230, 230, 250); fill-opacity: 1;\" height=\"20\"/><g class=\"cell-text-holder\" transform=\"translate(8,8)\" text-anchor=\"start\" style=\"shape-rendering: geometricprecision;\"><text class=\"cell-text\" dy=\"0.75em\" x=\"0\" y=\"0\" style=\"cursor: auto; font-family: 'Open Sans', verdana, arial, sans-serif; font-size: 12px; fill: rgb(42, 63, 95); fill-opacity: 1; white-space: pre;\">1/2 E BEVERLY BLVD</text></g></g><g class=\"column-cell\" transform=\"translate(0,148)\"><rect class=\"cell-rect\" width=\"270\" stroke-width=\"1\" style=\"stroke: rgb(255, 255, 255); stroke-opacity: 1; fill: rgb(230, 230, 250); fill-opacity: 1;\" height=\"20\"/><g class=\"cell-text-holder\" transform=\"translate(8,8)\" text-anchor=\"start\" style=\"shape-rendering: geometricprecision;\"><text class=\"cell-text\" dy=\"0.75em\" x=\"0\" y=\"0\" style=\"cursor: auto; font-family: 'Open Sans', verdana, arial, sans-serif; font-size: 12px; fill: rgb(42, 63, 95); fill-opacity: 1; white-space: pre;\">1/2 E CESAR E CHAVEZ AVE</text></g></g><g class=\"column-cell\" transform=\"translate(0,168)\"><rect class=\"cell-rect\" width=\"270\" stroke-width=\"1\" style=\"stroke: rgb(255, 255, 255); stroke-opacity: 1; fill: rgb(230, 230, 250); fill-opacity: 1;\" height=\"20\"/><g class=\"cell-text-holder\" transform=\"translate(8,8)\" text-anchor=\"start\" style=\"shape-rendering: geometricprecision;\"><text class=\"cell-text\" dy=\"0.75em\" x=\"0\" y=\"0\" style=\"cursor: auto; font-family: 'Open Sans', verdana, arial, sans-serif; font-size: 12px; fill: rgb(42, 63, 95); fill-opacity: 1; white-space: pre;\">1/2 E EL SEGUNDO BLVD</text></g></g><g class=\"column-cell\" transform=\"translate(0,188)\"><rect class=\"cell-rect\" width=\"270\" stroke-width=\"1\" style=\"stroke: rgb(255, 255, 255); stroke-opacity: 1; fill: rgb(230, 230, 250); fill-opacity: 1;\" height=\"20\"/><g class=\"cell-text-holder\" transform=\"translate(8,8)\" text-anchor=\"start\" style=\"shape-rendering: geometricprecision;\"><text class=\"cell-text\" dy=\"0.75em\" x=\"0\" y=\"0\" style=\"cursor: auto; font-family: 'Open Sans', verdana, arial, sans-serif; font-size: 12px; fill: rgb(42, 63, 95); fill-opacity: 1; white-space: pre;\">1/2 E WHITTIER BLVD</text></g></g><g class=\"column-cell\" transform=\"translate(0,208)\"><rect class=\"cell-rect\" width=\"270\" stroke-width=\"1\" style=\"stroke: rgb(255, 255, 255); stroke-opacity: 1; fill: rgb(230, 230, 250); fill-opacity: 1;\" height=\"20\"/><g class=\"cell-text-holder\" transform=\"translate(8,8)\" text-anchor=\"start\" style=\"shape-rendering: geometricprecision;\"><text class=\"cell-text\" dy=\"0.75em\" x=\"0\" y=\"0\" style=\"cursor: auto; font-family: 'Open Sans', verdana, arial, sans-serif; font-size: 12px; fill: rgb(42, 63, 95); fill-opacity: 1; white-space: pre;\">1/2 FOUNTAIN AVE</text></g></g><g class=\"column-cell\" transform=\"translate(0,228)\"><rect class=\"cell-rect\" width=\"270\" stroke-width=\"1\" style=\"stroke: rgb(255, 255, 255); stroke-opacity: 1; fill: rgb(230, 230, 250); fill-opacity: 1;\" height=\"20\"/><g class=\"cell-text-holder\" transform=\"translate(8,8)\" text-anchor=\"start\" style=\"shape-rendering: geometricprecision;\"><text class=\"cell-text\" dy=\"0.75em\" x=\"0\" y=\"0\" style=\"cursor: auto; font-family: 'Open Sans', verdana, arial, sans-serif; font-size: 12px; fill: rgb(42, 63, 95); fill-opacity: 1; white-space: pre;\">1/2 LA BREA AVE</text></g></g><g class=\"column-cell\" transform=\"translate(0,248)\"><rect class=\"cell-rect\" width=\"270\" stroke-width=\"1\" style=\"stroke: rgb(255, 255, 255); stroke-opacity: 1; fill: rgb(230, 230, 250); fill-opacity: 1;\" height=\"20\"/><g class=\"cell-text-holder\" transform=\"translate(8,8)\" text-anchor=\"start\" style=\"shape-rendering: geometricprecision;\"><text class=\"cell-text\" dy=\"0.75em\" x=\"0\" y=\"0\" style=\"cursor: auto; font-family: 'Open Sans', verdana, arial, sans-serif; font-size: 12px; fill: rgb(42, 63, 95); fill-opacity: 1; white-space: pre;\">1/2 LA CIENEGA BLVD</text></g></g><g class=\"column-cell\" transform=\"translate(0,268)\"><rect class=\"cell-rect\" width=\"270\" stroke-width=\"1\" style=\"stroke: rgb(255, 255, 255); stroke-opacity: 1; fill: rgb(230, 230, 250); fill-opacity: 1;\" height=\"20\"/><g class=\"cell-text-holder\" transform=\"translate(8,8)\" text-anchor=\"start\" style=\"shape-rendering: geometricprecision;\"><text class=\"cell-text\" dy=\"0.75em\" x=\"0\" y=\"0\" style=\"cursor: auto; font-family: 'Open Sans', verdana, arial, sans-serif; font-size: 12px; fill: rgb(42, 63, 95); fill-opacity: 1; white-space: pre;\">1/2 LOS ANGELES ST</text></g></g><g class=\"column-cell\" transform=\"translate(0,288)\"><rect class=\"cell-rect\" width=\"270\" stroke-width=\"1\" style=\"stroke: rgb(255, 255, 255); stroke-opacity: 1; fill: rgb(230, 230, 250); fill-opacity: 1;\" height=\"20\"/><g class=\"cell-text-holder\" transform=\"translate(8,8)\" text-anchor=\"start\" style=\"shape-rendering: geometricprecision;\"><text class=\"cell-text\" dy=\"0.75em\" x=\"0\" y=\"0\" style=\"cursor: auto; font-family: 'Open Sans', verdana, arial, sans-serif; font-size: 12px; fill: rgb(42, 63, 95); fill-opacity: 1; white-space: pre;\">1/2 MISSION RD</text></g></g><g class=\"column-cell\" transform=\"translate(0,308)\"><rect class=\"cell-rect\" width=\"270\" stroke-width=\"1\" style=\"stroke: rgb(255, 255, 255); stroke-opacity: 1; fill: rgb(230, 230, 250); fill-opacity: 1;\" height=\"20\"/><g class=\"cell-text-holder\" transform=\"translate(8,8)\" text-anchor=\"start\" style=\"shape-rendering: geometricprecision;\"><text class=\"cell-text\" dy=\"0.75em\" x=\"0\" y=\"0\" style=\"cursor: auto; font-family: 'Open Sans', verdana, arial, sans-serif; font-size: 12px; fill: rgb(42, 63, 95); fill-opacity: 1; white-space: pre;\">1/2 N BEVERLY GLEN CIR</text></g></g></g></g><g class=\"column-block\" id=\"cells2\" transform=\"translate(0,300)\" style=\"cursor: default;\"><g class=\"column-cells\"><g class=\"column-cell\" transform=\"translate(0,28)\"><rect class=\"cell-rect\" width=\"270\" stroke-width=\"1\" style=\"stroke: rgb(255, 255, 255); stroke-opacity: 1; fill: rgb(230, 230, 250); fill-opacity: 1;\" height=\"20\"/><g class=\"cell-text-holder\" transform=\"translate(8,8)\" text-anchor=\"start\" style=\"shape-rendering: geometricprecision;\"><text class=\"cell-text\" dy=\"0.75em\" x=\"0\" y=\"0\" style=\"cursor: auto; font-family: 'Open Sans', verdana, arial, sans-serif; font-size: 12px; fill: rgb(42, 63, 95); fill-opacity: 1; white-space: pre;\">1/2 N FIGUEROA ST</text></g></g><g class=\"column-cell\" transform=\"translate(0,48)\"><rect class=\"cell-rect\" width=\"270\" stroke-width=\"1\" style=\"stroke: rgb(255, 255, 255); stroke-opacity: 1; fill: rgb(230, 230, 250); fill-opacity: 1;\" height=\"20\"/><g class=\"cell-text-holder\" transform=\"translate(8,8)\" text-anchor=\"start\" style=\"shape-rendering: geometricprecision;\"><text class=\"cell-text\" dy=\"0.75em\" x=\"0\" y=\"0\" style=\"cursor: auto; font-family: 'Open Sans', verdana, arial, sans-serif; font-size: 12px; fill: rgb(42, 63, 95); fill-opacity: 1; white-space: pre;\">1/2 N HILLHURST AVE</text></g></g><g class=\"column-cell\" transform=\"translate(0,68)\"><rect class=\"cell-rect\" width=\"270\" stroke-width=\"1\" style=\"stroke: rgb(255, 255, 255); stroke-opacity: 1; fill: rgb(230, 230, 250); fill-opacity: 1;\" height=\"20\"/><g class=\"cell-text-holder\" transform=\"translate(8,8)\" text-anchor=\"start\" style=\"shape-rendering: geometricprecision;\"><text class=\"cell-text\" dy=\"0.75em\" x=\"0\" y=\"0\" style=\"cursor: auto; font-family: 'Open Sans', verdana, arial, sans-serif; font-size: 12px; fill: rgb(42, 63, 95); fill-opacity: 1; white-space: pre;\">1/2 N LA CIENEGA BLVD</text></g></g><g class=\"column-cell\" transform=\"translate(0,88)\"><rect class=\"cell-rect\" width=\"270\" stroke-width=\"1\" style=\"stroke: rgb(255, 255, 255); stroke-opacity: 1; fill: rgb(230, 230, 250); fill-opacity: 1;\" height=\"20\"/><g class=\"cell-text-holder\" transform=\"translate(8,8)\" text-anchor=\"start\" style=\"shape-rendering: geometricprecision;\"><text class=\"cell-text\" dy=\"0.75em\" x=\"0\" y=\"0\" style=\"cursor: auto; font-family: 'Open Sans', verdana, arial, sans-serif; font-size: 12px; fill: rgb(42, 63, 95); fill-opacity: 1; white-space: pre;\">1/2 N MISSION RD</text></g></g><g class=\"column-cell\" transform=\"translate(0,108)\"><rect class=\"cell-rect\" width=\"270\" stroke-width=\"1\" style=\"stroke: rgb(255, 255, 255); stroke-opacity: 1; fill: rgb(230, 230, 250); fill-opacity: 1;\" height=\"20\"/><g class=\"cell-text-holder\" transform=\"translate(8,8)\" text-anchor=\"start\" style=\"shape-rendering: geometricprecision;\"><text class=\"cell-text\" dy=\"0.75em\" x=\"0\" y=\"0\" style=\"cursor: auto; font-family: 'Open Sans', verdana, arial, sans-serif; font-size: 12px; fill: rgb(42, 63, 95); fill-opacity: 1; white-space: pre;\">1/2 N SAN FERNANDO RD</text></g></g><g class=\"column-cell\" transform=\"translate(0,128)\"><rect class=\"cell-rect\" width=\"270\" stroke-width=\"1\" style=\"stroke: rgb(255, 255, 255); stroke-opacity: 1; fill: rgb(230, 230, 250); fill-opacity: 1;\" height=\"20\"/><g class=\"cell-text-holder\" transform=\"translate(8,8)\" text-anchor=\"start\" style=\"shape-rendering: geometricprecision;\"><text class=\"cell-text\" dy=\"0.75em\" x=\"0\" y=\"0\" style=\"cursor: auto; font-family: 'Open Sans', verdana, arial, sans-serif; font-size: 12px; fill: rgb(42, 63, 95); fill-opacity: 1; white-space: pre;\">1/2 N WESTERN AVE</text></g></g><g class=\"column-cell\" transform=\"translate(0,148)\"><rect class=\"cell-rect\" width=\"270\" stroke-width=\"1\" style=\"stroke: rgb(255, 255, 255); stroke-opacity: 1; fill: rgb(230, 230, 250); fill-opacity: 1;\" height=\"20\"/><g class=\"cell-text-holder\" transform=\"translate(8,8)\" text-anchor=\"start\" style=\"shape-rendering: geometricprecision;\"><text class=\"cell-text\" dy=\"0.75em\" x=\"0\" y=\"0\" style=\"cursor: auto; font-family: 'Open Sans', verdana, arial, sans-serif; font-size: 12px; fill: rgb(42, 63, 95); fill-opacity: 1; white-space: pre;\">1/2 NATIONAL BLVD</text></g></g><g class=\"column-cell\" transform=\"translate(0,168)\"><rect class=\"cell-rect\" width=\"270\" stroke-width=\"1\" style=\"stroke: rgb(255, 255, 255); stroke-opacity: 1; fill: rgb(230, 230, 250); fill-opacity: 1;\" height=\"20\"/><g class=\"cell-text-holder\" transform=\"translate(8,8)\" text-anchor=\"start\" style=\"shape-rendering: geometricprecision;\"><text class=\"cell-text\" dy=\"0.75em\" x=\"0\" y=\"0\" style=\"cursor: auto; font-family: 'Open Sans', verdana, arial, sans-serif; font-size: 12px; fill: rgb(42, 63, 95); fill-opacity: 1; white-space: pre;\">1/2 RUSSELL AVE</text></g></g><g class=\"column-cell\" transform=\"translate(0,188)\"><rect class=\"cell-rect\" width=\"270\" stroke-width=\"1\" style=\"stroke: rgb(255, 255, 255); stroke-opacity: 1; fill: rgb(230, 230, 250); fill-opacity: 1;\" height=\"20\"/><g class=\"cell-text-holder\" transform=\"translate(8,8)\" text-anchor=\"start\" style=\"shape-rendering: geometricprecision;\"><text class=\"cell-text\" dy=\"0.75em\" x=\"0\" y=\"0\" style=\"cursor: auto; font-family: 'Open Sans', verdana, arial, sans-serif; font-size: 12px; fill: rgb(42, 63, 95); fill-opacity: 1; white-space: pre;\">1/2 S BROADWAY</text></g></g><g class=\"column-cell\" transform=\"translate(0,208)\"><rect class=\"cell-rect\" width=\"270\" stroke-width=\"1\" style=\"stroke: rgb(255, 255, 255); stroke-opacity: 1; fill: rgb(230, 230, 250); fill-opacity: 1;\" height=\"20\"/><g class=\"cell-text-holder\" transform=\"translate(8,8)\" text-anchor=\"start\" style=\"shape-rendering: geometricprecision;\"><text class=\"cell-text\" dy=\"0.75em\" x=\"0\" y=\"0\" style=\"cursor: auto; font-family: 'Open Sans', verdana, arial, sans-serif; font-size: 12px; fill: rgb(42, 63, 95); fill-opacity: 1; white-space: pre;\">1/2 S BROADWAY AVE</text></g></g><g class=\"column-cell\" transform=\"translate(0,228)\"><rect class=\"cell-rect\" width=\"270\" stroke-width=\"1\" style=\"stroke: rgb(255, 255, 255); stroke-opacity: 1; fill: rgb(230, 230, 250); fill-opacity: 1;\" height=\"20\"/><g class=\"cell-text-holder\" transform=\"translate(8,8)\" text-anchor=\"start\" style=\"shape-rendering: geometricprecision;\"><text class=\"cell-text\" dy=\"0.75em\" x=\"0\" y=\"0\" style=\"cursor: auto; font-family: 'Open Sans', verdana, arial, sans-serif; font-size: 12px; fill: rgb(42, 63, 95); fill-opacity: 1; white-space: pre;\">1/2 S CENTINELA AVE</text></g></g><g class=\"column-cell\" transform=\"translate(0,248)\"><rect class=\"cell-rect\" width=\"270\" stroke-width=\"1\" style=\"stroke: rgb(255, 255, 255); stroke-opacity: 1; fill: rgb(230, 230, 250); fill-opacity: 1;\" height=\"20\"/><g class=\"cell-text-holder\" transform=\"translate(8,8)\" text-anchor=\"start\" style=\"shape-rendering: geometricprecision;\"><text class=\"cell-text\" dy=\"0.75em\" x=\"0\" y=\"0\" style=\"cursor: auto; font-family: 'Open Sans', verdana, arial, sans-serif; font-size: 12px; fill: rgb(42, 63, 95); fill-opacity: 1; white-space: pre;\">1/2 S FAIRFAX AVE</text></g></g><g class=\"column-cell\" transform=\"translate(0,268)\"><rect class=\"cell-rect\" width=\"270\" stroke-width=\"1\" style=\"stroke: rgb(255, 255, 255); stroke-opacity: 1; fill: rgb(230, 230, 250); fill-opacity: 1;\" height=\"20\"/><g class=\"cell-text-holder\" transform=\"translate(8,8)\" text-anchor=\"start\" style=\"shape-rendering: geometricprecision;\"><text class=\"cell-text\" dy=\"0.75em\" x=\"0\" y=\"0\" style=\"cursor: auto; font-family: 'Open Sans', verdana, arial, sans-serif; font-size: 12px; fill: rgb(42, 63, 95); fill-opacity: 1; white-space: pre;\">1/2 S FIGUEROA ST</text></g></g><g class=\"column-cell\" transform=\"translate(0,288)\"><rect class=\"cell-rect\" width=\"270\" stroke-width=\"1\" style=\"stroke: rgb(255, 255, 255); stroke-opacity: 1; fill: rgb(230, 230, 250); fill-opacity: 1;\" height=\"20\"/><g class=\"cell-text-holder\" transform=\"translate(8,8)\" text-anchor=\"start\" style=\"shape-rendering: geometricprecision;\"><text class=\"cell-text\" dy=\"0.75em\" x=\"0\" y=\"0\" style=\"cursor: auto; font-family: 'Open Sans', verdana, arial, sans-serif; font-size: 12px; fill: rgb(42, 63, 95); fill-opacity: 1; white-space: pre;\">1/2 S HUNTINGTON DR S SOUTH</text></g></g><g class=\"column-cell\" transform=\"translate(0,308)\"><rect class=\"cell-rect\" width=\"270\" stroke-width=\"1\" style=\"stroke: rgb(255, 255, 255); stroke-opacity: 1; fill: rgb(230, 230, 250); fill-opacity: 1;\" height=\"20\"/><g class=\"cell-text-holder\" transform=\"translate(8,8)\" text-anchor=\"start\" style=\"shape-rendering: geometricprecision;\"><text class=\"cell-text\" dy=\"0.75em\" x=\"0\" y=\"0\" style=\"cursor: auto; font-family: 'Open Sans', verdana, arial, sans-serif; font-size: 12px; fill: rgb(42, 63, 95); fill-opacity: 1; white-space: pre;\">1/2 S SANTEE ST</text></g></g></g></g><g class=\"column-block\" id=\"header\" style=\"cursor: ew-resize;\"><g class=\"column-cells\"><g class=\"column-cell\" transform=\"\"><rect class=\"cell-rect\" width=\"270\" stroke-width=\"1\" height=\"28\" style=\"stroke: rgb(255, 255, 255); stroke-opacity: 1; fill: rgb(175, 238, 238); fill-opacity: 1;\"/><g class=\"cell-text-holder\" transform=\"translate(8,8)\" text-anchor=\"start\" style=\"shape-rendering: geometricprecision;\"><text class=\"cell-text\" dy=\"0.75em\" style=\"cursor: auto; font-family: 'Open Sans', verdana, arial, sans-serif; font-size: 12px; fill: rgb(42, 63, 95); fill-opacity: 1;\">street3</text></g></g></g></g><g class=\"column-boundary\"/><clipPath class=\"column-boundary-clippath\" id=\"clip27fbf2_columnBoundaryClippath_b16133true_0\"><rect class=\"column-boundary-rect\" fill=\"none\" width=\"272\" height=\"327\" x=\"-1\" y=\"-1\"/></clipPath></g><g class=\"y-column\" transform=\"translate(270,0)\" clip-path=\"url(#clip27fbf2_columnBoundaryClippath_b16133true_1)\"><g class=\"column-block\" id=\"cells1\" transform=\"\" style=\"cursor: default;\"><g class=\"column-cells\"><g class=\"column-cell\" transform=\"translate(0,28)\"><rect class=\"cell-rect\" width=\"270\" stroke-width=\"1\" style=\"stroke: rgb(255, 255, 255); stroke-opacity: 1; fill: rgb(230, 230, 250); fill-opacity: 1;\" height=\"20\"/><g class=\"cell-text-holder\" transform=\"translate(8,8)\" text-anchor=\"start\" style=\"shape-rendering: geometricprecision;\"><text class=\"cell-text\" dy=\"0.75em\" style=\"cursor: auto; font-family: 'Open Sans', verdana, arial, sans-serif; font-size: 12px; fill: rgb(42, 63, 95); fill-opacity: 1;\">1</text></g></g><g class=\"column-cell\" transform=\"translate(0,48)\"><rect class=\"cell-rect\" width=\"270\" stroke-width=\"1\" style=\"stroke: rgb(255, 255, 255); stroke-opacity: 1; fill: rgb(230, 230, 250); fill-opacity: 1;\" height=\"20\"/><g class=\"cell-text-holder\" transform=\"translate(8,8)\" text-anchor=\"start\" style=\"shape-rendering: geometricprecision;\"><text class=\"cell-text\" dy=\"0.75em\" style=\"cursor: auto; font-family: 'Open Sans', verdana, arial, sans-serif; font-size: 12px; fill: rgb(42, 63, 95); fill-opacity: 1;\">1</text></g></g><g class=\"column-cell\" transform=\"translate(0,68)\"><rect class=\"cell-rect\" width=\"270\" stroke-width=\"1\" style=\"stroke: rgb(255, 255, 255); stroke-opacity: 1; fill: rgb(230, 230, 250); fill-opacity: 1;\" height=\"20\"/><g class=\"cell-text-holder\" transform=\"translate(8,8)\" text-anchor=\"start\" style=\"shape-rendering: geometricprecision;\"><text class=\"cell-text\" dy=\"0.75em\" style=\"cursor: auto; font-family: 'Open Sans', verdana, arial, sans-serif; font-size: 12px; fill: rgb(42, 63, 95); fill-opacity: 1;\">1</text></g></g><g class=\"column-cell\" transform=\"translate(0,88)\"><rect class=\"cell-rect\" width=\"270\" stroke-width=\"1\" style=\"stroke: rgb(255, 255, 255); stroke-opacity: 1; fill: rgb(230, 230, 250); fill-opacity: 1;\" height=\"20\"/><g class=\"cell-text-holder\" transform=\"translate(8,8)\" text-anchor=\"start\" style=\"shape-rendering: geometricprecision;\"><text class=\"cell-text\" dy=\"0.75em\" style=\"cursor: auto; font-family: 'Open Sans', verdana, arial, sans-serif; font-size: 12px; fill: rgb(42, 63, 95); fill-opacity: 1;\">1</text></g></g><g class=\"column-cell\" transform=\"translate(0,108)\"><rect class=\"cell-rect\" width=\"270\" stroke-width=\"1\" style=\"stroke: rgb(255, 255, 255); stroke-opacity: 1; fill: rgb(230, 230, 250); fill-opacity: 1;\" height=\"20\"/><g class=\"cell-text-holder\" transform=\"translate(8,8)\" text-anchor=\"start\" style=\"shape-rendering: geometricprecision;\"><text class=\"cell-text\" dy=\"0.75em\" style=\"cursor: auto; font-family: 'Open Sans', verdana, arial, sans-serif; font-size: 12px; fill: rgb(42, 63, 95); fill-opacity: 1;\">1</text></g></g><g class=\"column-cell\" transform=\"translate(0,128)\"><rect class=\"cell-rect\" width=\"270\" stroke-width=\"1\" style=\"stroke: rgb(255, 255, 255); stroke-opacity: 1; fill: rgb(230, 230, 250); fill-opacity: 1;\" height=\"20\"/><g class=\"cell-text-holder\" transform=\"translate(8,8)\" text-anchor=\"start\" style=\"shape-rendering: geometricprecision;\"><text class=\"cell-text\" dy=\"0.75em\" style=\"cursor: auto; font-family: 'Open Sans', verdana, arial, sans-serif; font-size: 12px; fill: rgb(42, 63, 95); fill-opacity: 1;\">1</text></g></g><g class=\"column-cell\" transform=\"translate(0,148)\"><rect class=\"cell-rect\" width=\"270\" stroke-width=\"1\" style=\"stroke: rgb(255, 255, 255); stroke-opacity: 1; fill: rgb(230, 230, 250); fill-opacity: 1;\" height=\"20\"/><g class=\"cell-text-holder\" transform=\"translate(8,8)\" text-anchor=\"start\" style=\"shape-rendering: geometricprecision;\"><text class=\"cell-text\" dy=\"0.75em\" style=\"cursor: auto; font-family: 'Open Sans', verdana, arial, sans-serif; font-size: 12px; fill: rgb(42, 63, 95); fill-opacity: 1;\">1</text></g></g><g class=\"column-cell\" transform=\"translate(0,168)\"><rect class=\"cell-rect\" width=\"270\" stroke-width=\"1\" style=\"stroke: rgb(255, 255, 255); stroke-opacity: 1; fill: rgb(230, 230, 250); fill-opacity: 1;\" height=\"20\"/><g class=\"cell-text-holder\" transform=\"translate(8,8)\" text-anchor=\"start\" style=\"shape-rendering: geometricprecision;\"><text class=\"cell-text\" dy=\"0.75em\" style=\"cursor: auto; font-family: 'Open Sans', verdana, arial, sans-serif; font-size: 12px; fill: rgb(42, 63, 95); fill-opacity: 1;\">1</text></g></g><g class=\"column-cell\" transform=\"translate(0,188)\"><rect class=\"cell-rect\" width=\"270\" stroke-width=\"1\" style=\"stroke: rgb(255, 255, 255); stroke-opacity: 1; fill: rgb(230, 230, 250); fill-opacity: 1;\" height=\"20\"/><g class=\"cell-text-holder\" transform=\"translate(8,8)\" text-anchor=\"start\" style=\"shape-rendering: geometricprecision;\"><text class=\"cell-text\" dy=\"0.75em\" style=\"cursor: auto; font-family: 'Open Sans', verdana, arial, sans-serif; font-size: 12px; fill: rgb(42, 63, 95); fill-opacity: 1;\">1</text></g></g><g class=\"column-cell\" transform=\"translate(0,208)\"><rect class=\"cell-rect\" width=\"270\" stroke-width=\"1\" style=\"stroke: rgb(255, 255, 255); stroke-opacity: 1; fill: rgb(230, 230, 250); fill-opacity: 1;\" height=\"20\"/><g class=\"cell-text-holder\" transform=\"translate(8,8)\" text-anchor=\"start\" style=\"shape-rendering: geometricprecision;\"><text class=\"cell-text\" dy=\"0.75em\" style=\"cursor: auto; font-family: 'Open Sans', verdana, arial, sans-serif; font-size: 12px; fill: rgb(42, 63, 95); fill-opacity: 1;\">1</text></g></g><g class=\"column-cell\" transform=\"translate(0,228)\"><rect class=\"cell-rect\" width=\"270\" stroke-width=\"1\" style=\"stroke: rgb(255, 255, 255); stroke-opacity: 1; fill: rgb(230, 230, 250); fill-opacity: 1;\" height=\"20\"/><g class=\"cell-text-holder\" transform=\"translate(8,8)\" text-anchor=\"start\" style=\"shape-rendering: geometricprecision;\"><text class=\"cell-text\" dy=\"0.75em\" style=\"cursor: auto; font-family: 'Open Sans', verdana, arial, sans-serif; font-size: 12px; fill: rgb(42, 63, 95); fill-opacity: 1;\">1</text></g></g><g class=\"column-cell\" transform=\"translate(0,248)\"><rect class=\"cell-rect\" width=\"270\" stroke-width=\"1\" style=\"stroke: rgb(255, 255, 255); stroke-opacity: 1; fill: rgb(230, 230, 250); fill-opacity: 1;\" height=\"20\"/><g class=\"cell-text-holder\" transform=\"translate(8,8)\" text-anchor=\"start\" style=\"shape-rendering: geometricprecision;\"><text class=\"cell-text\" dy=\"0.75em\" style=\"cursor: auto; font-family: 'Open Sans', verdana, arial, sans-serif; font-size: 12px; fill: rgb(42, 63, 95); fill-opacity: 1;\">1</text></g></g><g class=\"column-cell\" transform=\"translate(0,268)\"><rect class=\"cell-rect\" width=\"270\" stroke-width=\"1\" style=\"stroke: rgb(255, 255, 255); stroke-opacity: 1; fill: rgb(230, 230, 250); fill-opacity: 1;\" height=\"20\"/><g class=\"cell-text-holder\" transform=\"translate(8,8)\" text-anchor=\"start\" style=\"shape-rendering: geometricprecision;\"><text class=\"cell-text\" dy=\"0.75em\" style=\"cursor: auto; font-family: 'Open Sans', verdana, arial, sans-serif; font-size: 12px; fill: rgb(42, 63, 95); fill-opacity: 1;\">1</text></g></g><g class=\"column-cell\" transform=\"translate(0,288)\"><rect class=\"cell-rect\" width=\"270\" stroke-width=\"1\" style=\"stroke: rgb(255, 255, 255); stroke-opacity: 1; fill: rgb(230, 230, 250); fill-opacity: 1;\" height=\"20\"/><g class=\"cell-text-holder\" transform=\"translate(8,8)\" text-anchor=\"start\" style=\"shape-rendering: geometricprecision;\"><text class=\"cell-text\" dy=\"0.75em\" style=\"cursor: auto; font-family: 'Open Sans', verdana, arial, sans-serif; font-size: 12px; fill: rgb(42, 63, 95); fill-opacity: 1;\">1</text></g></g><g class=\"column-cell\" transform=\"translate(0,308)\"><rect class=\"cell-rect\" width=\"270\" stroke-width=\"1\" style=\"stroke: rgb(255, 255, 255); stroke-opacity: 1; fill: rgb(230, 230, 250); fill-opacity: 1;\" height=\"20\"/><g class=\"cell-text-holder\" transform=\"translate(8,8)\" text-anchor=\"start\" style=\"shape-rendering: geometricprecision;\"><text class=\"cell-text\" dy=\"0.75em\" style=\"cursor: auto; font-family: 'Open Sans', verdana, arial, sans-serif; font-size: 12px; fill: rgb(42, 63, 95); fill-opacity: 1;\">1</text></g></g></g></g><g class=\"column-block\" id=\"cells2\" transform=\"translate(0,300)\" style=\"cursor: default;\"><g class=\"column-cells\"><g class=\"column-cell\" transform=\"translate(0,28)\"><rect class=\"cell-rect\" width=\"270\" stroke-width=\"1\" style=\"stroke: rgb(255, 255, 255); stroke-opacity: 1; fill: rgb(230, 230, 250); fill-opacity: 1;\" height=\"20\"/><g class=\"cell-text-holder\" transform=\"translate(8,8)\" text-anchor=\"start\" style=\"shape-rendering: geometricprecision;\"><text class=\"cell-text\" dy=\"0.75em\" style=\"cursor: auto; font-family: 'Open Sans', verdana, arial, sans-serif; font-size: 12px; fill: rgb(42, 63, 95); fill-opacity: 1;\">1</text></g></g><g class=\"column-cell\" transform=\"translate(0,48)\"><rect class=\"cell-rect\" width=\"270\" stroke-width=\"1\" style=\"stroke: rgb(255, 255, 255); stroke-opacity: 1; fill: rgb(230, 230, 250); fill-opacity: 1;\" height=\"20\"/><g class=\"cell-text-holder\" transform=\"translate(8,8)\" text-anchor=\"start\" style=\"shape-rendering: geometricprecision;\"><text class=\"cell-text\" dy=\"0.75em\" style=\"cursor: auto; font-family: 'Open Sans', verdana, arial, sans-serif; font-size: 12px; fill: rgb(42, 63, 95); fill-opacity: 1;\">1</text></g></g><g class=\"column-cell\" transform=\"translate(0,68)\"><rect class=\"cell-rect\" width=\"270\" stroke-width=\"1\" style=\"stroke: rgb(255, 255, 255); stroke-opacity: 1; fill: rgb(230, 230, 250); fill-opacity: 1;\" height=\"20\"/><g class=\"cell-text-holder\" transform=\"translate(8,8)\" text-anchor=\"start\" style=\"shape-rendering: geometricprecision;\"><text class=\"cell-text\" dy=\"0.75em\" style=\"cursor: auto; font-family: 'Open Sans', verdana, arial, sans-serif; font-size: 12px; fill: rgb(42, 63, 95); fill-opacity: 1;\">1</text></g></g><g class=\"column-cell\" transform=\"translate(0,88)\"><rect class=\"cell-rect\" width=\"270\" stroke-width=\"1\" style=\"stroke: rgb(255, 255, 255); stroke-opacity: 1; fill: rgb(230, 230, 250); fill-opacity: 1;\" height=\"20\"/><g class=\"cell-text-holder\" transform=\"translate(8,8)\" text-anchor=\"start\" style=\"shape-rendering: geometricprecision;\"><text class=\"cell-text\" dy=\"0.75em\" style=\"cursor: auto; font-family: 'Open Sans', verdana, arial, sans-serif; font-size: 12px; fill: rgb(42, 63, 95); fill-opacity: 1;\">1</text></g></g><g class=\"column-cell\" transform=\"translate(0,108)\"><rect class=\"cell-rect\" width=\"270\" stroke-width=\"1\" style=\"stroke: rgb(255, 255, 255); stroke-opacity: 1; fill: rgb(230, 230, 250); fill-opacity: 1;\" height=\"20\"/><g class=\"cell-text-holder\" transform=\"translate(8,8)\" text-anchor=\"start\" style=\"shape-rendering: geometricprecision;\"><text class=\"cell-text\" dy=\"0.75em\" style=\"cursor: auto; font-family: 'Open Sans', verdana, arial, sans-serif; font-size: 12px; fill: rgb(42, 63, 95); fill-opacity: 1;\">1</text></g></g><g class=\"column-cell\" transform=\"translate(0,128)\"><rect class=\"cell-rect\" width=\"270\" stroke-width=\"1\" style=\"stroke: rgb(255, 255, 255); stroke-opacity: 1; fill: rgb(230, 230, 250); fill-opacity: 1;\" height=\"20\"/><g class=\"cell-text-holder\" transform=\"translate(8,8)\" text-anchor=\"start\" style=\"shape-rendering: geometricprecision;\"><text class=\"cell-text\" dy=\"0.75em\" style=\"cursor: auto; font-family: 'Open Sans', verdana, arial, sans-serif; font-size: 12px; fill: rgb(42, 63, 95); fill-opacity: 1;\">1</text></g></g><g class=\"column-cell\" transform=\"translate(0,148)\"><rect class=\"cell-rect\" width=\"270\" stroke-width=\"1\" style=\"stroke: rgb(255, 255, 255); stroke-opacity: 1; fill: rgb(230, 230, 250); fill-opacity: 1;\" height=\"20\"/><g class=\"cell-text-holder\" transform=\"translate(8,8)\" text-anchor=\"start\" style=\"shape-rendering: geometricprecision;\"><text class=\"cell-text\" dy=\"0.75em\" style=\"cursor: auto; font-family: 'Open Sans', verdana, arial, sans-serif; font-size: 12px; fill: rgb(42, 63, 95); fill-opacity: 1;\">1</text></g></g><g class=\"column-cell\" transform=\"translate(0,168)\"><rect class=\"cell-rect\" width=\"270\" stroke-width=\"1\" style=\"stroke: rgb(255, 255, 255); stroke-opacity: 1; fill: rgb(230, 230, 250); fill-opacity: 1;\" height=\"20\"/><g class=\"cell-text-holder\" transform=\"translate(8,8)\" text-anchor=\"start\" style=\"shape-rendering: geometricprecision;\"><text class=\"cell-text\" dy=\"0.75em\" style=\"cursor: auto; font-family: 'Open Sans', verdana, arial, sans-serif; font-size: 12px; fill: rgb(42, 63, 95); fill-opacity: 1;\">1</text></g></g><g class=\"column-cell\" transform=\"translate(0,188)\"><rect class=\"cell-rect\" width=\"270\" stroke-width=\"1\" style=\"stroke: rgb(255, 255, 255); stroke-opacity: 1; fill: rgb(230, 230, 250); fill-opacity: 1;\" height=\"20\"/><g class=\"cell-text-holder\" transform=\"translate(8,8)\" text-anchor=\"start\" style=\"shape-rendering: geometricprecision;\"><text class=\"cell-text\" dy=\"0.75em\" style=\"cursor: auto; font-family: 'Open Sans', verdana, arial, sans-serif; font-size: 12px; fill: rgb(42, 63, 95); fill-opacity: 1;\">1</text></g></g><g class=\"column-cell\" transform=\"translate(0,208)\"><rect class=\"cell-rect\" width=\"270\" stroke-width=\"1\" style=\"stroke: rgb(255, 255, 255); stroke-opacity: 1; fill: rgb(230, 230, 250); fill-opacity: 1;\" height=\"20\"/><g class=\"cell-text-holder\" transform=\"translate(8,8)\" text-anchor=\"start\" style=\"shape-rendering: geometricprecision;\"><text class=\"cell-text\" dy=\"0.75em\" style=\"cursor: auto; font-family: 'Open Sans', verdana, arial, sans-serif; font-size: 12px; fill: rgb(42, 63, 95); fill-opacity: 1;\">1</text></g></g><g class=\"column-cell\" transform=\"translate(0,228)\"><rect class=\"cell-rect\" width=\"270\" stroke-width=\"1\" style=\"stroke: rgb(255, 255, 255); stroke-opacity: 1; fill: rgb(230, 230, 250); fill-opacity: 1;\" height=\"20\"/><g class=\"cell-text-holder\" transform=\"translate(8,8)\" text-anchor=\"start\" style=\"shape-rendering: geometricprecision;\"><text class=\"cell-text\" dy=\"0.75em\" style=\"cursor: auto; font-family: 'Open Sans', verdana, arial, sans-serif; font-size: 12px; fill: rgb(42, 63, 95); fill-opacity: 1;\">1</text></g></g><g class=\"column-cell\" transform=\"translate(0,248)\"><rect class=\"cell-rect\" width=\"270\" stroke-width=\"1\" style=\"stroke: rgb(255, 255, 255); stroke-opacity: 1; fill: rgb(230, 230, 250); fill-opacity: 1;\" height=\"20\"/><g class=\"cell-text-holder\" transform=\"translate(8,8)\" text-anchor=\"start\" style=\"shape-rendering: geometricprecision;\"><text class=\"cell-text\" dy=\"0.75em\" style=\"cursor: auto; font-family: 'Open Sans', verdana, arial, sans-serif; font-size: 12px; fill: rgb(42, 63, 95); fill-opacity: 1;\">1</text></g></g><g class=\"column-cell\" transform=\"translate(0,268)\"><rect class=\"cell-rect\" width=\"270\" stroke-width=\"1\" style=\"stroke: rgb(255, 255, 255); stroke-opacity: 1; fill: rgb(230, 230, 250); fill-opacity: 1;\" height=\"20\"/><g class=\"cell-text-holder\" transform=\"translate(8,8)\" text-anchor=\"start\" style=\"shape-rendering: geometricprecision;\"><text class=\"cell-text\" dy=\"0.75em\" style=\"cursor: auto; font-family: 'Open Sans', verdana, arial, sans-serif; font-size: 12px; fill: rgb(42, 63, 95); fill-opacity: 1;\">1</text></g></g><g class=\"column-cell\" transform=\"translate(0,288)\"><rect class=\"cell-rect\" width=\"270\" stroke-width=\"1\" style=\"stroke: rgb(255, 255, 255); stroke-opacity: 1; fill: rgb(230, 230, 250); fill-opacity: 1;\" height=\"20\"/><g class=\"cell-text-holder\" transform=\"translate(8,8)\" text-anchor=\"start\" style=\"shape-rendering: geometricprecision;\"><text class=\"cell-text\" dy=\"0.75em\" style=\"cursor: auto; font-family: 'Open Sans', verdana, arial, sans-serif; font-size: 12px; fill: rgb(42, 63, 95); fill-opacity: 1;\">1</text></g></g><g class=\"column-cell\" transform=\"translate(0,308)\"><rect class=\"cell-rect\" width=\"270\" stroke-width=\"1\" style=\"stroke: rgb(255, 255, 255); stroke-opacity: 1; fill: rgb(230, 230, 250); fill-opacity: 1;\" height=\"20\"/><g class=\"cell-text-holder\" transform=\"translate(8,8)\" text-anchor=\"start\" style=\"shape-rendering: geometricprecision;\"><text class=\"cell-text\" dy=\"0.75em\" style=\"cursor: auto; font-family: 'Open Sans', verdana, arial, sans-serif; font-size: 12px; fill: rgb(42, 63, 95); fill-opacity: 1;\">1</text></g></g></g></g><g class=\"column-block\" id=\"header\" style=\"cursor: ew-resize;\"><g class=\"column-cells\"><g class=\"column-cell\" transform=\"\"><rect class=\"cell-rect\" width=\"270\" stroke-width=\"1\" height=\"28\" style=\"stroke: rgb(255, 255, 255); stroke-opacity: 1; fill: rgb(175, 238, 238); fill-opacity: 1;\"/><g class=\"cell-text-holder\" transform=\"translate(8,8)\" text-anchor=\"start\" style=\"shape-rendering: geometricprecision;\"><text class=\"cell-text\" dy=\"0.75em\" style=\"cursor: auto; font-family: 'Open Sans', verdana, arial, sans-serif; font-size: 12px; fill: rgb(42, 63, 95); fill-opacity: 1;\">id</text></g></g></g></g><g class=\"column-boundary\"/><clipPath class=\"column-boundary-clippath\" id=\"clip27fbf2_columnBoundaryClippath_b16133true_1\"><rect class=\"column-boundary-rect\" fill=\"none\" width=\"272\" height=\"327\" x=\"-1\" y=\"-1\"/></clipPath></g><clipPath class=\"scroll-area-clip\" id=\"clip27fbf2_scrollAreaBottomClip_b16133true\"><rect class=\"scroll-area-clip-rect\" x=\"-45\" y=\"-5\" fill=\"none\" width=\"630\" height=\"325\"/></clipPath></g></g><defs id=\"topdefs-27fbf2\"><g class=\"clips\"/></defs><g class=\"layer-above\"><g class=\"imagelayer\"/><g class=\"shapelayer\"/></g><g class=\"infolayer\"><g class=\"g-gtitle\"/></g></svg>"
      ]
     },
     "metadata": {},
     "output_type": "display_data"
    }
   ],
   "source": [
    "tab1= go.Figure(data=[go.Table(\n",
    "    header=dict(values=list(streets_1e.columns),\n",
    "               fill_color='paleturquoise',\n",
    "               align='left'),\n",
    "    cells=dict(values=[streets_1e.street3, streets_1e.id],\n",
    "              fill_color='lavender',\n",
    "              align='left'))\n",
    "                     ])\n",
    "\n",
    "tab1.show()"
   ]
  },
  {
   "cell_type": "markdown",
   "metadata": {},
   "source": [
    "**Tabla 1.** Muestra las calles que tienen solo un restaurant.\n",
    "\n",
    "En tota hay 2.440 calles que solo tienen un establecimiento."
   ]
  },
  {
   "cell_type": "markdown",
   "metadata": {},
   "source": [
    "### - Para las calles con muchos restaurantes, analiza la distribución del número de asientos. ¿Qué tendencias puedes ver?"
   ]
  },
  {
   "cell_type": "code",
   "execution_count": 43,
   "metadata": {},
   "outputs": [
    {
     "data": {
      "text/html": [
       "<div>\n",
       "<style scoped>\n",
       "    .dataframe tbody tr th:only-of-type {\n",
       "        vertical-align: middle;\n",
       "    }\n",
       "\n",
       "    .dataframe tbody tr th {\n",
       "        vertical-align: top;\n",
       "    }\n",
       "\n",
       "    .dataframe thead th {\n",
       "        text-align: right;\n",
       "    }\n",
       "</style>\n",
       "<table border=\"1\" class=\"dataframe\">\n",
       "  <thead>\n",
       "    <tr style=\"text-align: right;\">\n",
       "      <th></th>\n",
       "      <th>street3</th>\n",
       "      <th>id</th>\n",
       "      <th>number</th>\n",
       "    </tr>\n",
       "  </thead>\n",
       "  <tbody>\n",
       "    <tr>\n",
       "      <th>2675</th>\n",
       "      <td>W SUNSET BLVD</td>\n",
       "      <td>297</td>\n",
       "      <td>15082</td>\n",
       "    </tr>\n",
       "    <tr>\n",
       "      <th>2606</th>\n",
       "      <td>W PICO BLVD</td>\n",
       "      <td>289</td>\n",
       "      <td>11781</td>\n",
       "    </tr>\n",
       "    <tr>\n",
       "      <th>579</th>\n",
       "      <td>HOLLYWOOD BLVD</td>\n",
       "      <td>168</td>\n",
       "      <td>8978</td>\n",
       "    </tr>\n",
       "    <tr>\n",
       "      <th>2819</th>\n",
       "      <td>WILSHIRE BLVD</td>\n",
       "      <td>161</td>\n",
       "      <td>10003</td>\n",
       "    </tr>\n",
       "    <tr>\n",
       "      <th>1701</th>\n",
       "      <td>S VERMONT AVE</td>\n",
       "      <td>148</td>\n",
       "      <td>6790</td>\n",
       "    </tr>\n",
       "    <tr>\n",
       "      <th>1912</th>\n",
       "      <td>SANTA MONICA BLVD</td>\n",
       "      <td>146</td>\n",
       "      <td>4729</td>\n",
       "    </tr>\n",
       "    <tr>\n",
       "      <th>2162</th>\n",
       "      <td>W 3RD ST</td>\n",
       "      <td>145</td>\n",
       "      <td>6370</td>\n",
       "    </tr>\n",
       "    <tr>\n",
       "      <th>147</th>\n",
       "      <td>BEVERLY BLVD</td>\n",
       "      <td>135</td>\n",
       "      <td>6044</td>\n",
       "    </tr>\n",
       "    <tr>\n",
       "      <th>1292</th>\n",
       "      <td>S FIGUEROA ST</td>\n",
       "      <td>134</td>\n",
       "      <td>6802</td>\n",
       "    </tr>\n",
       "    <tr>\n",
       "      <th>1759</th>\n",
       "      <td>S WESTERN AVE</td>\n",
       "      <td>128</td>\n",
       "      <td>5517</td>\n",
       "    </tr>\n",
       "  </tbody>\n",
       "</table>\n",
       "</div>"
      ],
      "text/plain": [
       "                street3   id  number\n",
       "2675      W SUNSET BLVD  297   15082\n",
       "2606        W PICO BLVD  289   11781\n",
       "579      HOLLYWOOD BLVD  168    8978\n",
       "2819      WILSHIRE BLVD  161   10003\n",
       "1701      S VERMONT AVE  148    6790\n",
       "1912  SANTA MONICA BLVD  146    4729\n",
       "2162           W 3RD ST  145    6370\n",
       "147        BEVERLY BLVD  135    6044\n",
       "1292      S FIGUEROA ST  134    6802\n",
       "1759      S WESTERN AVE  128    5517"
      ]
     },
     "execution_count": 43,
     "metadata": {},
     "output_type": "execute_result"
    }
   ],
   "source": [
    "streets10a= (\n",
    "    rest_data.groupby('street3')\n",
    "    .agg({'id': 'count', 'number': 'sum'})\n",
    "    .reset_index().sort_values(by='id', ascending=False)\n",
    "    .head(10)\n",
    ")\n",
    "streets10a"
   ]
  },
  {
   "cell_type": "code",
   "execution_count": 44,
   "metadata": {},
   "outputs": [
    {
     "name": "stderr",
     "output_type": "stream",
     "text": [
      "C:\\Users\\Win10Pro\\AppData\\Local\\Temp\\ipykernel_60360\\2978552733.py:2: UserWarning:\n",
      "\n",
      "\n",
      "\n",
      "`distplot` is a deprecated function and will be removed in seaborn v0.14.0.\n",
      "\n",
      "Please adapt your code to use either `displot` (a figure-level function with\n",
      "similar flexibility) or `histplot` (an axes-level function for histograms).\n",
      "\n",
      "For a guide to updating your code to use the new functions, please see\n",
      "https://gist.github.com/mwaskom/de44147ed2974457ad6372750bbe5751\n",
      "\n",
      "\n"
     ]
    },
    {
     "data": {
      "image/png": "[encoded data removed]",
      "text/plain": [
       "<Figure size 640x480 with 1 Axes>"
      ]
     },
     "metadata": {},
     "output_type": "display_data"
    }
   ],
   "source": [
    "fig7=(\n",
    "    sns.distplot(streets10a['number'], axlabel='Número de Asientos')\n",
    "    .set_title('Distribución del Número de Asientos para las Calles con Muchos Restaurantes')\n",
    "    \n",
    ")\n",
    "plt.grid()\n",
    "#plt.show()"
   ]
  },
  {
   "cell_type": "markdown",
   "metadata": {},
   "source": [
    "**Gráfico 7.** Muestra la distribución del número de asientos para las calles con muchos restaurantes.\n",
    "\n",
    "Podemos observar la distribución del número de asientos en las calles con muchos restaurantes tiene un comportamiento normal, con la mayor cantidad de valores cercanos a la media (8.210 asientos por calle), pero más sobre la mediana.\n",
    "\n",
    "También podemos observar que la mayoría de los establecimientos en estas calles tienen entre 5.000 y 7.000 asientos."
   ]
  },
  {
   "cell_type": "code",
   "execution_count": 45,
   "metadata": {},
   "outputs": [
    {
     "name": "stdout",
     "output_type": "stream",
     "text": [
      "Media: 8210.0\n",
      "Mediana: 6796.0\n"
     ]
    }
   ],
   "source": [
    "print('Media:', streets10a['number'].mean().round())\n",
    "print('Mediana:', streets10a['number'].median().round())"
   ]
  },
  {
   "cell_type": "code",
   "execution_count": 46,
   "metadata": {},
   "outputs": [
    {
     "data": {
      "image/svg+xml": [
       "<svg class=\"main-svg\" xmlns=\"http://www.w3.org/2000/svg\" xmlns:xlink=\"http://www.w3.org/1999/xlink\" width=\"700\" height=\"500\" style=\"\" viewBox=\"0 0 700 500\"><rect x=\"0\" y=\"0\" width=\"700\" height=\"500\" style=\"fill: rgb(255, 255, 255); fill-opacity: 1;\"/><defs id=\"defs-f53d7d\"><g class=\"clips\"><clipPath id=\"clipf53d7dxyplot\" class=\"plotclip\"><rect width=\"540\" height=\"320\"/></clipPath><clipPath class=\"axesclip\" id=\"clipf53d7dx\"><rect x=\"80\" y=\"0\" width=\"540\" height=\"500\"/></clipPath><clipPath class=\"axesclip\" id=\"clipf53d7dy\"><rect x=\"0\" y=\"100\" width=\"700\" height=\"320\"/></clipPath><clipPath class=\"axesclip\" id=\"clipf53d7dxy\"><rect x=\"80\" y=\"100\" width=\"540\" height=\"320\"/></clipPath></g><g class=\"gradients\"/><g class=\"patterns\"/></defs><g class=\"bglayer\"><rect class=\"bg\" x=\"80\" y=\"100\" width=\"540\" height=\"320\" style=\"fill: rgb(229, 236, 246); fill-opacity: 1; stroke-width: 0;\"/></g><g class=\"layer-below\"><g class=\"imagelayer\"/><g class=\"shapelayer\"/></g><g class=\"cartesianlayer\"><g class=\"subplot xy\"><g class=\"layer-subplot\"><g class=\"shapelayer\"/><g class=\"imagelayer\"/></g><g class=\"minor-gridlayer\"><g class=\"x\"/><g class=\"y\"/></g><g class=\"gridlayer\"><g class=\"x\"><path class=\"xgrid crisp\" transform=\"translate(173.04000000000002,0)\" d=\"M0,100v320\" style=\"stroke: rgb(255, 255, 255); stroke-opacity: 1; stroke-width: 1px;\"/><path class=\"xgrid crisp\" transform=\"translate(314.61,0)\" d=\"M0,100v320\" style=\"stroke: rgb(255, 255, 255); stroke-opacity: 1; stroke-width: 1px;\"/><path class=\"xgrid crisp\" transform=\"translate(456.18,0)\" d=\"M0,100v320\" style=\"stroke: rgb(255, 255, 255); stroke-opacity: 1; stroke-width: 1px;\"/><path class=\"xgrid crisp\" transform=\"translate(597.74,0)\" d=\"M0,100v320\" style=\"stroke: rgb(255, 255, 255); stroke-opacity: 1; stroke-width: 1px;\"/></g><g class=\"y\"><path class=\"ygrid crisp\" transform=\"translate(0,365.81)\" d=\"M80,0h540\" style=\"stroke: rgb(255, 255, 255); stroke-opacity: 1; stroke-width: 1px;\"/><path class=\"ygrid crisp\" transform=\"translate(0,311.63)\" d=\"M80,0h540\" style=\"stroke: rgb(255, 255, 255); stroke-opacity: 1; stroke-width: 1px;\"/><path class=\"ygrid crisp\" transform=\"translate(0,257.44)\" d=\"M80,0h540\" style=\"stroke: rgb(255, 255, 255); stroke-opacity: 1; stroke-width: 1px;\"/><path class=\"ygrid crisp\" transform=\"translate(0,203.25)\" d=\"M80,0h540\" style=\"stroke: rgb(255, 255, 255); stroke-opacity: 1; stroke-width: 1px;\"/><path class=\"ygrid crisp\" transform=\"translate(0,149.07)\" d=\"M80,0h540\" style=\"stroke: rgb(255, 255, 255); stroke-opacity: 1; stroke-width: 1px;\"/></g></g><g class=\"zerolinelayer\"/><g class=\"layer-between\"><g class=\"shapelayer\"/><g class=\"imagelayer\"/></g><path class=\"xlines-below\"/><path class=\"ylines-below\"/><g class=\"overlines-below\"/><g class=\"xaxislayer-below\"/><g class=\"yaxislayer-below\"/><g class=\"overaxes-below\"/><g class=\"plot\" transform=\"translate(80,100)\" clip-path=\"url(#clipf53d7dxyplot)\"><g class=\"scatterlayer mlayer\"><g class=\"trace scatter trace47a5b6\" style=\"stroke-miterlimit: 2; opacity: 1;\"><g class=\"fills\"/><g class=\"errorbars\"/><g class=\"lines\"/><g class=\"points\"><path class=\"point\" transform=\"translate(509.25,19.75)\" d=\"M3,0A3,3 0 1,1 0,-3A3,3 0 0,1 3,0Z\" style=\"opacity: 1; stroke-width: 0px; fill: rgb(99, 110, 250); fill-opacity: 1;\"/><path class=\"point\" transform=\"translate(486.6,109.19)\" d=\"M3,0A3,3 0 1,1 0,-3A3,3 0 0,1 3,0Z\" style=\"opacity: 1; stroke-width: 0px; fill: rgb(99, 110, 250); fill-opacity: 1;\"/><path class=\"point\" transform=\"translate(144,185.13)\" d=\"M3,0A3,3 0 1,1 0,-3A3,3 0 0,1 3,0Z\" style=\"opacity: 1; stroke-width: 0px; fill: rgb(99, 110, 250); fill-opacity: 1;\"/><path class=\"point\" transform=\"translate(124.18,157.36)\" d=\"M3,0A3,3 0 1,1 0,-3A3,3 0 0,1 3,0Z\" style=\"opacity: 1; stroke-width: 0px; fill: rgb(99, 110, 250); fill-opacity: 1;\"/><path class=\"point\" transform=\"translate(87.38,244.41)\" d=\"M3,0A3,3 0 1,1 0,-3A3,3 0 0,1 3,0Z\" style=\"opacity: 1; stroke-width: 0px; fill: rgb(99, 110, 250); fill-opacity: 1;\"/><path class=\"point\" transform=\"translate(81.71,300.25)\" d=\"M3,0A3,3 0 1,1 0,-3A3,3 0 0,1 3,0Z\" style=\"opacity: 1; stroke-width: 0px; fill: rgb(99, 110, 250); fill-opacity: 1;\"/><path class=\"point\" transform=\"translate(78.88,255.79)\" d=\"M3,0A3,3 0 1,1 0,-3A3,3 0 0,1 3,0Z\" style=\"opacity: 1; stroke-width: 0px; fill: rgb(99, 110, 250); fill-opacity: 1;\"/><path class=\"point\" transform=\"translate(50.57,264.62)\" d=\"M3,0A3,3 0 1,1 0,-3A3,3 0 0,1 3,0Z\" style=\"opacity: 1; stroke-width: 0px; fill: rgb(99, 110, 250); fill-opacity: 1;\"/><path class=\"point\" transform=\"translate(47.74,244.08)\" d=\"M3,0A3,3 0 1,1 0,-3A3,3 0 0,1 3,0Z\" style=\"opacity: 1; stroke-width: 0px; fill: rgb(99, 110, 250); fill-opacity: 1;\"/><path class=\"point\" transform=\"translate(30.75,278.9)\" d=\"M3,0A3,3 0 1,1 0,-3A3,3 0 0,1 3,0Z\" style=\"opacity: 1; stroke-width: 0px; fill: rgb(99, 110, 250); fill-opacity: 1;\"/></g><g class=\"text\"/></g><g class=\"trace scatter trace10d625\" style=\"stroke-miterlimit: 2; opacity: 1;\"><g class=\"fills\"/><g class=\"errorbars\"/><g class=\"lines\"><path class=\"js-line\" d=\"M30.75,265.37L509.25,52.15\" style=\"vector-effect: none; fill: none; stroke: rgb(99, 110, 250); stroke-opacity: 1; stroke-width: 2px; opacity: 1;\"/></g><g class=\"points\"/><g class=\"text\"/></g></g></g><g class=\"overplot\"/><path class=\"xlines-above crisp\" d=\"M0,0\" style=\"fill: none;\"/><path class=\"ylines-above crisp\" d=\"M0,0\" style=\"fill: none;\"/><g class=\"overlines-above\"/><g class=\"xaxislayer-above\"><g class=\"xtick\"><text text-anchor=\"middle\" x=\"0\" y=\"433\" transform=\"translate(173.04000000000002,0)\" style=\"font-family: 'Open Sans', verdana, arial, sans-serif; font-size: 12px; fill: rgb(42, 63, 95); fill-opacity: 1; white-space: pre; opacity: 1;\">150</text></g><g class=\"xtick\"><text text-anchor=\"middle\" x=\"0\" y=\"433\" style=\"font-family: 'Open Sans', verdana, arial, sans-serif; font-size: 12px; fill: rgb(42, 63, 95); fill-opacity: 1; white-space: pre; opacity: 1;\" transform=\"translate(314.61,0)\">200</text></g><g class=\"xtick\"><text text-anchor=\"middle\" x=\"0\" y=\"433\" style=\"font-family: 'Open Sans', verdana, arial, sans-serif; font-size: 12px; fill: rgb(42, 63, 95); fill-opacity: 1; white-space: pre; opacity: 1;\" transform=\"translate(456.18,0)\">250</text></g><g class=\"xtick\"><text text-anchor=\"middle\" x=\"0\" y=\"433\" style=\"font-family: 'Open Sans', verdana, arial, sans-serif; font-size: 12px; fill: rgb(42, 63, 95); fill-opacity: 1; white-space: pre; opacity: 1;\" transform=\"translate(597.74,0)\">300</text></g></g><g class=\"yaxislayer-above\"><g class=\"ytick\"><text text-anchor=\"end\" x=\"79\" y=\"4.199999999999999\" transform=\"translate(0,420)\" style=\"font-family: 'Open Sans', verdana, arial, sans-serif; font-size: 12px; fill: rgb(42, 63, 95); fill-opacity: 1; white-space: pre; opacity: 1;\">4k</text></g><g class=\"ytick\"><text text-anchor=\"end\" x=\"79\" y=\"4.199999999999999\" style=\"font-family: 'Open Sans', verdana, arial, sans-serif; font-size: 12px; fill: rgb(42, 63, 95); fill-opacity: 1; white-space: pre; opacity: 1;\" transform=\"translate(0,365.81)\">6k</text></g><g class=\"ytick\"><text text-anchor=\"end\" x=\"79\" y=\"4.199999999999999\" style=\"font-family: 'Open Sans', verdana, arial, sans-serif; font-size: 12px; fill: rgb(42, 63, 95); fill-opacity: 1; white-space: pre; opacity: 1;\" transform=\"translate(0,311.63)\">8k</text></g><g class=\"ytick\"><text text-anchor=\"end\" x=\"79\" y=\"4.199999999999999\" style=\"font-family: 'Open Sans', verdana, arial, sans-serif; font-size: 12px; fill: rgb(42, 63, 95); fill-opacity: 1; white-space: pre; opacity: 1;\" transform=\"translate(0,257.44)\">10k</text></g><g class=\"ytick\"><text text-anchor=\"end\" x=\"79\" y=\"4.199999999999999\" style=\"font-family: 'Open Sans', verdana, arial, sans-serif; font-size: 12px; fill: rgb(42, 63, 95); fill-opacity: 1; white-space: pre; opacity: 1;\" transform=\"translate(0,203.25)\">12k</text></g><g class=\"ytick\"><text text-anchor=\"end\" x=\"79\" y=\"4.199999999999999\" style=\"font-family: 'Open Sans', verdana, arial, sans-serif; font-size: 12px; fill: rgb(42, 63, 95); fill-opacity: 1; white-space: pre; opacity: 1;\" transform=\"translate(0,149.07)\">14k</text></g></g><g class=\"overaxes-above\"/></g></g><g class=\"polarlayer\"/><g class=\"smithlayer\"/><g class=\"ternarylayer\"/><g class=\"geolayer\"/><g class=\"funnelarealayer\"/><g class=\"pielayer\"/><g class=\"iciclelayer\"/><g class=\"treemaplayer\"/><g class=\"sunburstlayer\"/><g class=\"glimages\"/><defs id=\"topdefs-f53d7d\"><g class=\"clips\"/></defs><g class=\"layer-above\"><g class=\"imagelayer\"/><g class=\"shapelayer\"/></g><g class=\"infolayer\"><g class=\"g-gtitle\"><text class=\"gtitle\" x=\"35\" y=\"50\" text-anchor=\"start\" dy=\"0em\" style=\"font-family: 'Open Sans', verdana, arial, sans-serif; font-size: 17px; fill: rgb(42, 63, 95); opacity: 1; white-space: pre;\">Dispersión del Número de Asientos en Calles con Muchos Establecimientos</text></g><g class=\"g-xtitle\"><text class=\"xtitle\" x=\"350\" y=\"460.3\" text-anchor=\"middle\" style=\"font-family: 'Open Sans', verdana, arial, sans-serif; font-size: 14px; fill: rgb(42, 63, 95); opacity: 1; white-space: pre;\">Cantidad de Establecimientos</text></g><g class=\"g-ytitle\"><text class=\"ytitle\" transform=\"rotate(-90,37.240625,260)\" x=\"37.240625\" y=\"260\" text-anchor=\"middle\" style=\"font-family: 'Open Sans', verdana, arial, sans-serif; font-size: 14px; fill: rgb(42, 63, 95); opacity: 1; white-space: pre;\">Número de Asientos</text></g></g></svg>"
      ]
     },
     "metadata": {},
     "output_type": "display_data"
    }
   ],
   "source": [
    "fig7b=px.scatter(streets10a, x='id', y='number', trendline=\"ols\",\n",
    "                title='Dispersión del Número de Asientos en Calles con Muchos Establecimientos ',\n",
    "                labels= {'number': 'Número de Asientos', 'id': 'Cantidad de Establecimientos'}\n",
    "               )\n",
    "fig7b.show()"
   ]
  },
  {
   "cell_type": "markdown",
   "metadata": {},
   "source": [
    "**Gráfico 7b.** Muestra la dispersión del numero de asientos en relación a la cantidad de establecimientos.\n",
    "\n",
    "Podemos observar una relación positiva, a mayor cantidad de establecimeintos que tiene una calle, mayor cantidad de asientos tendrán."
   ]
  },
  {
   "cell_type": "markdown",
   "metadata": {},
   "source": [
    "## Conclusiones Generales\n",
    "\n",
    "- Las cafeterías ocupan el tercer lugar, con un 4,51%, del total de las proporciones de los diferentes tipo de establecimientos en Los Ángeles ***(Ver Gráf. 1)***.\n",
    "- el 38,1% de los establecimientos pertenecen a una cadena. MIentras que el 61,9% son independientes ***(Ver Gráf. 2)***.\n",
    "- Del total de establecimientos que pertenecen a una cadena, la mayor proporción, el 62,4% son restaurantes. Mientras que, el 7,24% son cafés ***(Ver Gráf. 3a)***.  \n",
    "- Del total de cafeterías, el  61,1% pertenecen a una cadena y el 38,9% son independientes ***(Ver Gráf. 3b)***.\n",
    "- Las cadenas están caracterizadas por muchos establecimientos que tienen poca cantidad de asientos y unos pocos establecimientos con un montó de asientos ***(Ver Gráf. 4)***.\n",
    "- El tipo de establecimiento con mayor cantidad de asientos son los restaurantes, con un promedio de 48 asientos. Mientras que, las cafeterías tienen un promedio de 25 asientos ***(Ver Gráf. 5)***.\n",
    "- Las calles con mayor cantidad de establecimientos es W SUNSET BLVD y W PICO BLVD ***(Ver Gráf. 6)***.\n",
    "- Hay 2.440 calles que tienen unicamente un establecimiento ***(Ver Tabla 1)***.\n",
    "- Las calles con mayor número de establecimientos tienen una mayor cantidad de asientos ***(Ver Gráf. 7)***. Existe una relación positiva entre estas dos variables ***(Ver Gráf. 7b)***.\n"
   ]
  },
  {
   "cell_type": "markdown",
   "metadata": {},
   "source": [
    "## Recomendaciónes\n",
    "\n",
    "Con la información disponible:\n",
    "\n",
    "- Al tener una poca proporción de cafeterías en el área, existe una alta probabilidad de tener éxito. dependerá de la calidad del producto y atención una vez que la novedad de los camareros robots desaparezca.\n",
    "- Es recomendable desarrollar una cadena.\n",
    "- Se recomienda un establecimiento con pocos asientos.\n",
    "- Se recomienda una localización en una calle con muchos establecimientos, pues el flujo de personas será mayor incrementando la cantidad de potenciales clientes. "
   ]
  },
  {
   "cell_type": "markdown",
   "metadata": {},
   "source": [
    "## Paso 3. Preparar una presentación"
   ]
  },
  {
   "cell_type": "markdown",
   "metadata": {},
   "source": [
    "**Presentation:** <https://drive.google.com/file/d/1zLmMe1T_1apEZnVC03aqmWjFPQ-WXilh/view?usp=sharing>"
   ]
  }
 ],
 "metadata": {
  "ExecuteTimeLog": [
   {
    "duration": 523,
    "start_time": "2024-07-18T00:20:05.901Z"
   },
   {
    "duration": 484,
    "start_time": "2024-07-18T00:21:02.727Z"
   },
   {
    "duration": 44,
    "start_time": "2024-07-18T00:25:17.979Z"
   },
   {
    "duration": 25,
    "start_time": "2024-07-18T00:25:21.167Z"
   },
   {
    "duration": 31,
    "start_time": "2024-07-18T00:25:52.893Z"
   },
   {
    "duration": 19,
    "start_time": "2024-07-18T00:25:55.421Z"
   },
   {
    "duration": 13,
    "start_time": "2024-07-18T00:26:42.712Z"
   },
   {
    "duration": 31,
    "start_time": "2024-07-18T00:26:50.467Z"
   },
   {
    "duration": 14,
    "start_time": "2024-07-18T00:36:44.971Z"
   },
   {
    "duration": 13,
    "start_time": "2024-07-18T00:36:48.413Z"
   },
   {
    "duration": 8,
    "start_time": "2024-07-18T00:37:27.930Z"
   },
   {
    "duration": 8,
    "start_time": "2024-07-18T00:37:45.261Z"
   },
   {
    "duration": 7,
    "start_time": "2024-07-18T00:37:49.110Z"
   },
   {
    "duration": 14,
    "start_time": "2024-07-18T00:38:39.067Z"
   },
   {
    "duration": 13,
    "start_time": "2024-07-18T00:38:48.861Z"
   },
   {
    "duration": 15,
    "start_time": "2024-07-18T00:39:19.073Z"
   },
   {
    "duration": 20,
    "start_time": "2024-07-18T00:39:32.139Z"
   },
   {
    "duration": 23,
    "start_time": "2024-07-18T00:40:22.194Z"
   },
   {
    "duration": 13,
    "start_time": "2024-07-18T00:40:43.559Z"
   },
   {
    "duration": 20,
    "start_time": "2024-07-18T00:41:09.943Z"
   },
   {
    "duration": 13,
    "start_time": "2024-07-18T00:41:37.129Z"
   },
   {
    "duration": 320,
    "start_time": "2024-07-18T03:08:31.249Z"
   },
   {
    "duration": 460,
    "start_time": "2024-07-18T03:08:39.535Z"
   },
   {
    "duration": 37,
    "start_time": "2024-07-18T03:08:39.999Z"
   },
   {
    "duration": 19,
    "start_time": "2024-07-18T03:08:40.039Z"
   },
   {
    "duration": 20,
    "start_time": "2024-07-18T03:08:40.061Z"
   },
   {
    "duration": 8,
    "start_time": "2024-07-18T03:08:40.104Z"
   },
   {
    "duration": 0,
    "start_time": "2024-07-18T03:08:40.115Z"
   },
   {
    "duration": 0,
    "start_time": "2024-07-18T03:08:40.117Z"
   },
   {
    "duration": 22,
    "start_time": "2024-07-18T03:08:54.557Z"
   },
   {
    "duration": 14,
    "start_time": "2024-07-18T03:08:56.932Z"
   },
   {
    "duration": 15,
    "start_time": "2024-07-18T03:12:52.008Z"
   },
   {
    "duration": 18,
    "start_time": "2024-07-18T03:13:00.841Z"
   },
   {
    "duration": 8,
    "start_time": "2024-07-18T03:18:04.842Z"
   },
   {
    "duration": 25,
    "start_time": "2024-07-18T03:18:11.395Z"
   },
   {
    "duration": 14,
    "start_time": "2024-07-18T03:22:13.325Z"
   },
   {
    "duration": 4809,
    "start_time": "2024-07-18T03:26:39.882Z"
   },
   {
    "duration": 424,
    "start_time": "2024-07-18T03:29:57.296Z"
   },
   {
    "duration": 611,
    "start_time": "2024-07-18T03:30:07.339Z"
   },
   {
    "duration": 108,
    "start_time": "2024-07-18T03:35:03.450Z"
   },
   {
    "duration": 83,
    "start_time": "2024-07-18T03:36:32.815Z"
   },
   {
    "duration": 23,
    "start_time": "2024-07-18T03:37:40.379Z"
   },
   {
    "duration": 19,
    "start_time": "2024-07-18T03:37:48.000Z"
   },
   {
    "duration": 19,
    "start_time": "2024-07-18T03:38:51.139Z"
   },
   {
    "duration": 86,
    "start_time": "2024-07-18T03:39:56.667Z"
   },
   {
    "duration": 759,
    "start_time": "2024-07-18T03:43:29.972Z"
   },
   {
    "duration": 82,
    "start_time": "2024-07-18T03:44:22.508Z"
   },
   {
    "duration": 124,
    "start_time": "2024-07-18T03:48:06.219Z"
   },
   {
    "duration": 85,
    "start_time": "2024-07-18T03:48:46.929Z"
   },
   {
    "duration": 8,
    "start_time": "2024-07-18T03:49:24.688Z"
   },
   {
    "duration": 6,
    "start_time": "2024-07-18T03:50:07.178Z"
   },
   {
    "duration": 5,
    "start_time": "2024-07-18T03:50:21.666Z"
   },
   {
    "duration": 5,
    "start_time": "2024-07-18T03:50:37.180Z"
   },
   {
    "duration": 5,
    "start_time": "2024-07-18T03:50:47.207Z"
   },
   {
    "duration": 83,
    "start_time": "2024-07-18T03:51:06.815Z"
   },
   {
    "duration": 108,
    "start_time": "2024-07-18T03:51:37.111Z"
   },
   {
    "duration": 111,
    "start_time": "2024-07-18T03:51:43.204Z"
   },
   {
    "duration": 107,
    "start_time": "2024-07-18T03:51:46.922Z"
   },
   {
    "duration": 108,
    "start_time": "2024-07-18T03:51:53.543Z"
   },
   {
    "duration": 83,
    "start_time": "2024-07-18T03:51:57.080Z"
   },
   {
    "duration": 80,
    "start_time": "2024-07-18T03:52:12.363Z"
   },
   {
    "duration": 85,
    "start_time": "2024-07-18T03:53:24.412Z"
   },
   {
    "duration": 111,
    "start_time": "2024-07-18T03:53:46.660Z"
   },
   {
    "duration": 118,
    "start_time": "2024-07-18T03:53:53.487Z"
   },
   {
    "duration": 113,
    "start_time": "2024-07-18T03:53:57.016Z"
   },
   {
    "duration": 1459,
    "start_time": "2024-07-18T03:54:15.342Z"
   },
   {
    "duration": 28,
    "start_time": "2024-07-18T03:54:16.805Z"
   },
   {
    "duration": 28,
    "start_time": "2024-07-18T03:54:16.836Z"
   },
   {
    "duration": 38,
    "start_time": "2024-07-18T03:54:16.867Z"
   },
   {
    "duration": 17,
    "start_time": "2024-07-18T03:54:16.910Z"
   },
   {
    "duration": 21,
    "start_time": "2024-07-18T03:54:16.931Z"
   },
   {
    "duration": 57,
    "start_time": "2024-07-18T03:54:16.955Z"
   },
   {
    "duration": 24,
    "start_time": "2024-07-18T03:54:17.015Z"
   },
   {
    "duration": 14,
    "start_time": "2024-07-18T03:54:17.043Z"
   },
   {
    "duration": 46,
    "start_time": "2024-07-18T03:54:17.061Z"
   },
   {
    "duration": 572,
    "start_time": "2024-07-18T03:54:17.110Z"
   },
   {
    "duration": 21,
    "start_time": "2024-07-18T03:54:17.703Z"
   },
   {
    "duration": 74,
    "start_time": "2024-07-18T03:54:17.728Z"
   },
   {
    "duration": 17,
    "start_time": "2024-07-18T04:06:54.177Z"
   },
   {
    "duration": 6,
    "start_time": "2024-07-18T04:07:34.501Z"
   },
   {
    "duration": 637,
    "start_time": "2024-07-18T04:07:42.897Z"
   },
   {
    "duration": 16,
    "start_time": "2024-07-18T04:07:45.810Z"
   },
   {
    "duration": 15,
    "start_time": "2024-07-18T04:08:05.636Z"
   },
   {
    "duration": 16,
    "start_time": "2024-07-18T04:08:13.852Z"
   },
   {
    "duration": 17,
    "start_time": "2024-07-18T04:08:18.764Z"
   },
   {
    "duration": 7,
    "start_time": "2024-07-18T04:09:18.889Z"
   },
   {
    "duration": 14,
    "start_time": "2024-07-18T04:11:17.469Z"
   },
   {
    "duration": 111,
    "start_time": "2024-07-18T04:11:22.520Z"
   },
   {
    "duration": 17,
    "start_time": "2024-07-18T04:11:25.766Z"
   },
   {
    "duration": 8,
    "start_time": "2024-07-18T04:12:05.905Z"
   },
   {
    "duration": 26,
    "start_time": "2024-07-18T04:12:10.862Z"
   },
   {
    "duration": 19,
    "start_time": "2024-07-18T04:14:34.527Z"
   },
   {
    "duration": 7,
    "start_time": "2024-07-18T04:15:52.001Z"
   },
   {
    "duration": 26,
    "start_time": "2024-07-18T04:16:04.946Z"
   },
   {
    "duration": 25,
    "start_time": "2024-07-18T04:16:53.339Z"
   },
   {
    "duration": 12,
    "start_time": "2024-07-18T04:17:35.276Z"
   },
   {
    "duration": 11,
    "start_time": "2024-07-18T04:17:39.876Z"
   },
   {
    "duration": 11,
    "start_time": "2024-07-18T04:17:47.040Z"
   },
   {
    "duration": 12,
    "start_time": "2024-07-18T04:17:58.572Z"
   },
   {
    "duration": 11,
    "start_time": "2024-07-18T04:18:02.735Z"
   },
   {
    "duration": 13,
    "start_time": "2024-07-18T04:18:07.747Z"
   },
   {
    "duration": 11,
    "start_time": "2024-07-18T04:18:12.028Z"
   },
   {
    "duration": 11,
    "start_time": "2024-07-18T04:18:20.023Z"
   },
   {
    "duration": 14,
    "start_time": "2024-07-18T04:18:46.284Z"
   },
   {
    "duration": 11,
    "start_time": "2024-07-18T04:19:00.650Z"
   },
   {
    "duration": 11,
    "start_time": "2024-07-18T04:19:17.732Z"
   },
   {
    "duration": 21,
    "start_time": "2024-07-18T04:19:23.940Z"
   },
   {
    "duration": 30,
    "start_time": "2024-07-18T04:19:30.916Z"
   },
   {
    "duration": 15,
    "start_time": "2024-07-18T04:19:56.000Z"
   },
   {
    "duration": 8,
    "start_time": "2024-07-18T04:20:05.609Z"
   },
   {
    "duration": 8,
    "start_time": "2024-07-18T04:20:38.680Z"
   },
   {
    "duration": 20,
    "start_time": "2024-07-18T04:20:47.536Z"
   },
   {
    "duration": 19,
    "start_time": "2024-07-18T04:20:53.456Z"
   },
   {
    "duration": 20,
    "start_time": "2024-07-18T04:21:08.336Z"
   },
   {
    "duration": 15,
    "start_time": "2024-07-18T04:22:01.977Z"
   },
   {
    "duration": 6,
    "start_time": "2024-07-18T04:22:16.545Z"
   },
   {
    "duration": 14,
    "start_time": "2024-07-18T04:22:21.644Z"
   },
   {
    "duration": 14,
    "start_time": "2024-07-18T04:22:37.113Z"
   },
   {
    "duration": 57,
    "start_time": "2024-07-18T04:24:24.750Z"
   },
   {
    "duration": 67,
    "start_time": "2024-07-18T04:26:10.857Z"
   },
   {
    "duration": 588,
    "start_time": "2024-07-18T04:26:37.502Z"
   },
   {
    "duration": 17,
    "start_time": "2024-07-18T04:26:48.071Z"
   },
   {
    "duration": 11,
    "start_time": "2024-07-18T04:27:01.252Z"
   },
   {
    "duration": 14,
    "start_time": "2024-07-18T04:27:07.447Z"
   },
   {
    "duration": 175,
    "start_time": "2024-07-18T04:27:21.928Z"
   },
   {
    "duration": 54,
    "start_time": "2024-07-18T04:27:34.032Z"
   },
   {
    "duration": 54,
    "start_time": "2024-07-18T04:27:54.257Z"
   },
   {
    "duration": 32,
    "start_time": "2024-07-18T04:28:08.328Z"
   },
   {
    "duration": 57,
    "start_time": "2024-07-18T04:28:13.473Z"
   },
   {
    "duration": 57,
    "start_time": "2024-07-18T04:29:08.049Z"
   },
   {
    "duration": 55,
    "start_time": "2024-07-18T04:30:38.553Z"
   },
   {
    "duration": 64,
    "start_time": "2024-07-18T04:31:19.346Z"
   },
   {
    "duration": 57,
    "start_time": "2024-07-18T04:33:48.858Z"
   },
   {
    "duration": 907,
    "start_time": "2024-07-18T04:34:45.464Z"
   },
   {
    "duration": 7,
    "start_time": "2024-07-18T04:35:05.481Z"
   },
   {
    "duration": 170,
    "start_time": "2024-07-18T04:35:13.971Z"
   },
   {
    "duration": 7,
    "start_time": "2024-07-18T04:35:24.001Z"
   },
   {
    "duration": 70,
    "start_time": "2024-07-18T04:35:35.952Z"
   },
   {
    "duration": 54,
    "start_time": "2024-07-18T04:36:03.098Z"
   },
   {
    "duration": 55,
    "start_time": "2024-07-18T04:36:20.959Z"
   },
   {
    "duration": 18,
    "start_time": "2024-07-18T04:39:14.652Z"
   },
   {
    "duration": 21,
    "start_time": "2024-07-18T04:39:23.108Z"
   },
   {
    "duration": 16,
    "start_time": "2024-07-18T04:39:27.060Z"
   },
   {
    "duration": 7,
    "start_time": "2024-07-18T04:39:56.793Z"
   },
   {
    "duration": 24,
    "start_time": "2024-07-18T04:45:35.334Z"
   },
   {
    "duration": 17,
    "start_time": "2024-07-18T04:45:41.178Z"
   },
   {
    "duration": 160,
    "start_time": "2024-07-18T04:47:02.305Z"
   },
   {
    "duration": 152,
    "start_time": "2024-07-18T04:48:28.429Z"
   },
   {
    "duration": 201,
    "start_time": "2024-07-18T04:59:01.527Z"
   },
   {
    "duration": 30,
    "start_time": "2024-07-18T04:59:11.753Z"
   },
   {
    "duration": 155,
    "start_time": "2024-07-18T04:59:17.401Z"
   },
   {
    "duration": 175,
    "start_time": "2024-07-18T05:01:01.730Z"
   },
   {
    "duration": 259,
    "start_time": "2024-07-18T05:01:21.207Z"
   },
   {
    "duration": 5,
    "start_time": "2024-07-18T05:06:19.913Z"
   },
   {
    "duration": 6,
    "start_time": "2024-07-18T05:06:27.569Z"
   },
   {
    "duration": 24,
    "start_time": "2024-07-18T05:06:34.201Z"
   },
   {
    "duration": 20,
    "start_time": "2024-07-18T05:07:33.505Z"
   },
   {
    "duration": 19,
    "start_time": "2024-07-18T05:07:52.514Z"
   },
   {
    "duration": 109,
    "start_time": "2024-07-18T05:08:53.531Z"
   },
   {
    "duration": 29,
    "start_time": "2024-07-18T05:08:59.879Z"
   },
   {
    "duration": 20,
    "start_time": "2024-07-18T05:10:06.463Z"
   },
   {
    "duration": 101,
    "start_time": "2024-07-18T05:11:35.164Z"
   },
   {
    "duration": 51,
    "start_time": "2024-07-18T05:20:16.608Z"
   },
   {
    "duration": 7,
    "start_time": "2024-07-18T05:23:04.350Z"
   },
   {
    "duration": 7,
    "start_time": "2024-07-18T05:24:35.567Z"
   },
   {
    "duration": 7,
    "start_time": "2024-07-18T05:25:01.068Z"
   },
   {
    "duration": 212,
    "start_time": "2024-07-18T05:25:12.155Z"
   },
   {
    "duration": 109,
    "start_time": "2024-07-18T05:26:09.596Z"
   },
   {
    "duration": 135,
    "start_time": "2024-07-18T05:26:47.053Z"
   },
   {
    "duration": 136,
    "start_time": "2024-07-18T05:27:13.700Z"
   },
   {
    "duration": 23,
    "start_time": "2024-07-18T05:27:40.588Z"
   },
   {
    "duration": 23,
    "start_time": "2024-07-18T05:28:20.937Z"
   },
   {
    "duration": 26,
    "start_time": "2024-07-18T05:28:41.512Z"
   },
   {
    "duration": 24,
    "start_time": "2024-07-18T05:30:10.394Z"
   },
   {
    "duration": 22,
    "start_time": "2024-07-18T05:30:21.260Z"
   },
   {
    "duration": 25,
    "start_time": "2024-07-18T05:30:37.832Z"
   },
   {
    "duration": 22,
    "start_time": "2024-07-18T05:30:49.834Z"
   },
   {
    "duration": 6,
    "start_time": "2024-07-18T05:33:43.317Z"
   },
   {
    "duration": 11,
    "start_time": "2024-07-18T05:33:49.044Z"
   },
   {
    "duration": 23,
    "start_time": "2024-07-18T05:34:11.492Z"
   },
   {
    "duration": 13,
    "start_time": "2024-07-18T05:35:11.060Z"
   },
   {
    "duration": 25,
    "start_time": "2024-07-18T05:35:18.053Z"
   },
   {
    "duration": 8,
    "start_time": "2024-07-18T05:36:12.760Z"
   },
   {
    "duration": 16,
    "start_time": "2024-07-18T05:36:18.837Z"
   },
   {
    "duration": 26,
    "start_time": "2024-07-18T05:37:04.072Z"
   },
   {
    "duration": 7,
    "start_time": "2024-07-18T05:38:42.886Z"
   },
   {
    "duration": 24,
    "start_time": "2024-07-18T05:38:56.715Z"
   },
   {
    "duration": 26,
    "start_time": "2024-07-18T05:39:22.304Z"
   },
   {
    "duration": 50,
    "start_time": "2024-07-18T05:39:35.677Z"
   },
   {
    "duration": 26,
    "start_time": "2024-07-18T05:39:40.845Z"
   },
   {
    "duration": 25,
    "start_time": "2024-07-18T05:39:48.305Z"
   },
   {
    "duration": 26,
    "start_time": "2024-07-18T05:39:51.669Z"
   },
   {
    "duration": 183,
    "start_time": "2024-07-18T05:42:16.840Z"
   },
   {
    "duration": 69,
    "start_time": "2024-07-18T05:42:38.612Z"
   },
   {
    "duration": 433,
    "start_time": "2024-07-18T05:43:08.320Z"
   },
   {
    "duration": 69,
    "start_time": "2024-07-18T05:43:17.036Z"
   },
   {
    "duration": 67,
    "start_time": "2024-07-18T05:44:08.568Z"
   },
   {
    "duration": 67,
    "start_time": "2024-07-18T05:44:12.965Z"
   },
   {
    "duration": 72,
    "start_time": "2024-07-18T05:45:37.977Z"
   },
   {
    "duration": 7,
    "start_time": "2024-07-18T05:48:05.098Z"
   },
   {
    "duration": 76,
    "start_time": "2024-07-18T05:48:09.845Z"
   },
   {
    "duration": 76,
    "start_time": "2024-07-18T05:48:57.061Z"
   },
   {
    "duration": 186,
    "start_time": "2024-07-18T05:50:25.025Z"
   },
   {
    "duration": 80,
    "start_time": "2024-07-18T05:50:35.828Z"
   },
   {
    "duration": 75,
    "start_time": "2024-07-18T05:50:49.106Z"
   },
   {
    "duration": 77,
    "start_time": "2024-07-18T05:51:06.097Z"
   },
   {
    "duration": 73,
    "start_time": "2024-07-18T05:51:18.753Z"
   },
   {
    "duration": 77,
    "start_time": "2024-07-18T05:53:12.017Z"
   },
   {
    "duration": 75,
    "start_time": "2024-07-18T05:54:12.109Z"
   },
   {
    "duration": 79,
    "start_time": "2024-07-18T05:57:58.845Z"
   },
   {
    "duration": 75,
    "start_time": "2024-07-18T06:00:55.140Z"
   },
   {
    "duration": 74,
    "start_time": "2024-07-18T06:03:30.773Z"
   },
   {
    "duration": 85,
    "start_time": "2024-07-18T06:03:42.549Z"
   },
   {
    "duration": 78,
    "start_time": "2024-07-18T06:04:26.118Z"
   },
   {
    "duration": 76,
    "start_time": "2024-07-18T06:04:34.521Z"
   },
   {
    "duration": 80,
    "start_time": "2024-07-18T06:06:13.674Z"
   },
   {
    "duration": 95,
    "start_time": "2024-07-18T06:07:15.394Z"
   },
   {
    "duration": 75,
    "start_time": "2024-07-18T06:07:35.013Z"
   },
   {
    "duration": 8,
    "start_time": "2024-07-18T06:08:37.022Z"
   },
   {
    "duration": 200,
    "start_time": "2024-07-18T06:08:46.733Z"
   },
   {
    "duration": 154,
    "start_time": "2024-07-18T06:09:26.017Z"
   },
   {
    "duration": 74,
    "start_time": "2024-07-18T06:09:32.030Z"
   },
   {
    "duration": 72,
    "start_time": "2024-07-18T06:10:47.534Z"
   },
   {
    "duration": 85,
    "start_time": "2024-07-18T06:11:00.677Z"
   },
   {
    "duration": 76,
    "start_time": "2024-07-18T06:11:20.493Z"
   },
   {
    "duration": 75,
    "start_time": "2024-07-18T06:12:37.181Z"
   },
   {
    "duration": 1422,
    "start_time": "2024-07-18T06:12:44.142Z"
   },
   {
    "duration": 34,
    "start_time": "2024-07-18T06:12:45.568Z"
   },
   {
    "duration": 19,
    "start_time": "2024-07-18T06:12:45.605Z"
   },
   {
    "duration": 17,
    "start_time": "2024-07-18T06:12:45.627Z"
   },
   {
    "duration": 15,
    "start_time": "2024-07-18T06:12:45.649Z"
   },
   {
    "duration": 19,
    "start_time": "2024-07-18T06:12:45.703Z"
   },
   {
    "duration": 12,
    "start_time": "2024-07-18T06:12:45.726Z"
   },
   {
    "duration": 8,
    "start_time": "2024-07-18T06:12:45.741Z"
   },
   {
    "duration": 64,
    "start_time": "2024-07-18T06:12:45.752Z"
   },
   {
    "duration": 15,
    "start_time": "2024-07-18T06:12:45.819Z"
   },
   {
    "duration": 22,
    "start_time": "2024-07-18T06:12:45.837Z"
   },
   {
    "duration": 51,
    "start_time": "2024-07-18T06:12:45.862Z"
   },
   {
    "duration": 16,
    "start_time": "2024-07-18T06:12:45.917Z"
   },
   {
    "duration": 22,
    "start_time": "2024-07-18T06:12:45.939Z"
   },
   {
    "duration": 600,
    "start_time": "2024-07-18T06:12:45.965Z"
   },
   {
    "duration": 46,
    "start_time": "2024-07-18T06:12:46.569Z"
   },
   {
    "duration": 117,
    "start_time": "2024-07-18T06:12:46.618Z"
   },
   {
    "duration": 21,
    "start_time": "2024-07-18T06:12:46.738Z"
   },
   {
    "duration": 41,
    "start_time": "2024-07-18T06:12:46.762Z"
   },
   {
    "duration": 122,
    "start_time": "2024-07-18T06:12:46.807Z"
   },
   {
    "duration": 27,
    "start_time": "2024-07-18T06:12:46.933Z"
   },
   {
    "duration": 606,
    "start_time": "2024-07-18T06:12:46.963Z"
   },
   {
    "duration": 0,
    "start_time": "2024-07-18T06:12:47.572Z"
   },
   {
    "duration": 76,
    "start_time": "2024-07-18T06:13:28.481Z"
   },
   {
    "duration": 651,
    "start_time": "2024-07-18T06:13:38.860Z"
   },
   {
    "duration": 80,
    "start_time": "2024-07-18T06:13:51.753Z"
   },
   {
    "duration": 147,
    "start_time": "2024-07-18T06:14:06.850Z"
   },
   {
    "duration": 80,
    "start_time": "2024-07-18T06:14:14.696Z"
   },
   {
    "duration": 74,
    "start_time": "2024-07-18T06:14:34.913Z"
   },
   {
    "duration": 168,
    "start_time": "2024-07-18T06:14:42.409Z"
   },
   {
    "duration": 76,
    "start_time": "2024-07-18T06:14:47.165Z"
   },
   {
    "duration": 24,
    "start_time": "2024-07-18T06:15:40.431Z"
   },
   {
    "duration": 30,
    "start_time": "2024-07-18T06:15:46.584Z"
   },
   {
    "duration": 144,
    "start_time": "2024-07-18T06:16:36.698Z"
   },
   {
    "duration": 82,
    "start_time": "2024-07-18T06:16:43.687Z"
   },
   {
    "duration": 73,
    "start_time": "2024-07-18T06:16:48.507Z"
   },
   {
    "duration": 155,
    "start_time": "2024-07-18T06:16:54.892Z"
   },
   {
    "duration": 75,
    "start_time": "2024-07-18T06:16:59.631Z"
   },
   {
    "duration": 77,
    "start_time": "2024-07-18T06:18:52.994Z"
   },
   {
    "duration": 693,
    "start_time": "2024-07-18T06:19:10.610Z"
   },
   {
    "duration": 78,
    "start_time": "2024-07-18T06:19:27.914Z"
   },
   {
    "duration": 69,
    "start_time": "2024-07-18T06:24:29.311Z"
   },
   {
    "duration": 78,
    "start_time": "2024-07-18T06:26:07.083Z"
   },
   {
    "duration": 72,
    "start_time": "2024-07-18T06:27:11.236Z"
   },
   {
    "duration": 74,
    "start_time": "2024-07-18T06:27:22.188Z"
   },
   {
    "duration": 75,
    "start_time": "2024-07-18T06:31:50.716Z"
   },
   {
    "duration": 76,
    "start_time": "2024-07-18T06:32:04.964Z"
   },
   {
    "duration": 149,
    "start_time": "2024-07-18T06:33:13.364Z"
   },
   {
    "duration": 75,
    "start_time": "2024-07-18T06:33:18.817Z"
   },
   {
    "duration": 5093,
    "start_time": "2024-07-18T23:25:44.050Z"
   },
   {
    "duration": 38,
    "start_time": "2024-07-18T23:25:49.146Z"
   },
   {
    "duration": 17,
    "start_time": "2024-07-18T23:25:49.187Z"
   },
   {
    "duration": 31,
    "start_time": "2024-07-18T23:25:49.207Z"
   },
   {
    "duration": 14,
    "start_time": "2024-07-18T23:25:49.243Z"
   },
   {
    "duration": 16,
    "start_time": "2024-07-18T23:25:49.261Z"
   },
   {
    "duration": 51,
    "start_time": "2024-07-18T23:25:49.279Z"
   },
   {
    "duration": 7,
    "start_time": "2024-07-18T23:25:49.333Z"
   },
   {
    "duration": 21,
    "start_time": "2024-07-18T23:25:49.344Z"
   },
   {
    "duration": 16,
    "start_time": "2024-07-18T23:25:49.369Z"
   },
   {
    "duration": 65,
    "start_time": "2024-07-18T23:25:49.388Z"
   },
   {
    "duration": 14,
    "start_time": "2024-07-18T23:25:49.457Z"
   },
   {
    "duration": 15,
    "start_time": "2024-07-18T23:25:49.474Z"
   },
   {
    "duration": 45,
    "start_time": "2024-07-18T23:25:49.495Z"
   },
   {
    "duration": 595,
    "start_time": "2024-07-18T23:25:49.544Z"
   },
   {
    "duration": 15,
    "start_time": "2024-07-18T23:25:50.142Z"
   },
   {
    "duration": 109,
    "start_time": "2024-07-18T23:25:50.160Z"
   },
   {
    "duration": 20,
    "start_time": "2024-07-18T23:25:50.272Z"
   },
   {
    "duration": 15,
    "start_time": "2024-07-18T23:25:50.331Z"
   },
   {
    "duration": 123,
    "start_time": "2024-07-18T23:25:50.349Z"
   },
   {
    "duration": 37,
    "start_time": "2024-07-18T23:25:50.474Z"
   },
   {
    "duration": 93,
    "start_time": "2024-07-18T23:25:50.514Z"
   },
   {
    "duration": 33,
    "start_time": "2024-07-18T23:25:50.610Z"
   },
   {
    "duration": 71,
    "start_time": "2024-07-18T23:30:36.967Z"
   },
   {
    "duration": 18,
    "start_time": "2024-07-18T23:54:59.088Z"
   },
   {
    "duration": 9,
    "start_time": "2024-07-18T23:55:26.355Z"
   },
   {
    "duration": 9,
    "start_time": "2024-07-18T23:55:42.779Z"
   },
   {
    "duration": 19,
    "start_time": "2024-07-19T00:03:06.509Z"
   },
   {
    "duration": 18,
    "start_time": "2024-07-19T00:04:19.693Z"
   },
   {
    "duration": 9,
    "start_time": "2024-07-19T00:48:41.044Z"
   },
   {
    "duration": 20,
    "start_time": "2024-07-19T00:48:49.699Z"
   },
   {
    "duration": 21,
    "start_time": "2024-07-19T00:49:24.077Z"
   },
   {
    "duration": 21,
    "start_time": "2024-07-19T00:49:34.270Z"
   },
   {
    "duration": 24,
    "start_time": "2024-07-19T00:55:10.878Z"
   },
   {
    "duration": 14,
    "start_time": "2024-07-19T00:56:13.483Z"
   },
   {
    "duration": 21,
    "start_time": "2024-07-19T00:56:20.525Z"
   },
   {
    "duration": 24,
    "start_time": "2024-07-19T00:56:41.186Z"
   },
   {
    "duration": 21,
    "start_time": "2024-07-19T00:56:51.233Z"
   },
   {
    "duration": 15,
    "start_time": "2024-07-19T00:59:20.886Z"
   },
   {
    "duration": 16,
    "start_time": "2024-07-19T00:59:25.248Z"
   },
   {
    "duration": 324,
    "start_time": "2024-07-19T01:00:46.485Z"
   },
   {
    "duration": 24,
    "start_time": "2024-07-19T01:00:58.056Z"
   },
   {
    "duration": 7,
    "start_time": "2024-07-19T01:03:23.916Z"
   },
   {
    "duration": 25,
    "start_time": "2024-07-19T01:03:40.244Z"
   },
   {
    "duration": 29,
    "start_time": "2024-07-19T01:05:49.668Z"
   },
   {
    "duration": 11,
    "start_time": "2024-07-19T01:07:37.142Z"
   },
   {
    "duration": 23,
    "start_time": "2024-07-19T01:08:01.968Z"
   },
   {
    "duration": 27,
    "start_time": "2024-07-19T01:08:19.120Z"
   },
   {
    "duration": 10,
    "start_time": "2024-07-19T01:09:34.317Z"
   },
   {
    "duration": 7,
    "start_time": "2024-07-19T01:09:53.212Z"
   },
   {
    "duration": 20,
    "start_time": "2024-07-19T01:10:04.042Z"
   },
   {
    "duration": 12,
    "start_time": "2024-07-19T01:10:09.348Z"
   },
   {
    "duration": 72,
    "start_time": "2024-07-19T01:11:27.325Z"
   },
   {
    "duration": 894,
    "start_time": "2024-07-19T01:11:37.657Z"
   },
   {
    "duration": 101,
    "start_time": "2024-07-19T01:11:55.849Z"
   },
   {
    "duration": 72,
    "start_time": "2024-07-19T01:12:03.126Z"
   },
   {
    "duration": 74,
    "start_time": "2024-07-19T01:12:13.629Z"
   },
   {
    "duration": 8,
    "start_time": "2024-07-19T01:12:25.922Z"
   },
   {
    "duration": 36,
    "start_time": "2024-07-19T01:12:41.382Z"
   },
   {
    "duration": 588,
    "start_time": "2024-07-19T01:12:48.301Z"
   },
   {
    "duration": 181,
    "start_time": "2024-07-19T01:13:02.755Z"
   },
   {
    "duration": 71,
    "start_time": "2024-07-19T01:13:08.650Z"
   },
   {
    "duration": 74,
    "start_time": "2024-07-19T01:13:19.038Z"
   },
   {
    "duration": 74,
    "start_time": "2024-07-19T01:13:31.261Z"
   },
   {
    "duration": 73,
    "start_time": "2024-07-19T01:13:35.218Z"
   },
   {
    "duration": 9,
    "start_time": "2024-07-19T01:16:37.571Z"
   },
   {
    "duration": 7,
    "start_time": "2024-07-19T01:16:44.731Z"
   },
   {
    "duration": 40,
    "start_time": "2024-07-19T01:16:51.181Z"
   },
   {
    "duration": 76,
    "start_time": "2024-07-19T01:17:09.175Z"
   },
   {
    "duration": 74,
    "start_time": "2024-07-19T01:17:37.532Z"
   },
   {
    "duration": 17,
    "start_time": "2024-07-19T01:38:46.231Z"
   },
   {
    "duration": 19,
    "start_time": "2024-07-19T01:39:28.646Z"
   },
   {
    "duration": 23,
    "start_time": "2024-07-19T01:40:09.702Z"
   },
   {
    "duration": 6,
    "start_time": "2024-07-19T01:40:13.888Z"
   },
   {
    "duration": 20,
    "start_time": "2024-07-19T01:40:20.390Z"
   },
   {
    "duration": 6,
    "start_time": "2024-07-19T01:41:09.451Z"
   },
   {
    "duration": 15,
    "start_time": "2024-07-19T01:41:19.540Z"
   },
   {
    "duration": 16,
    "start_time": "2024-07-19T01:42:43.474Z"
   },
   {
    "duration": 7,
    "start_time": "2024-07-19T01:43:21.816Z"
   },
   {
    "duration": 10,
    "start_time": "2024-07-19T01:43:28.218Z"
   },
   {
    "duration": 12,
    "start_time": "2024-07-19T01:43:55.027Z"
   },
   {
    "duration": 489,
    "start_time": "2024-07-19T01:44:16.499Z"
   },
   {
    "duration": 15,
    "start_time": "2024-07-19T01:47:03.182Z"
   },
   {
    "duration": 18,
    "start_time": "2024-07-19T01:48:11.459Z"
   },
   {
    "duration": 11,
    "start_time": "2024-07-19T01:48:59.992Z"
   },
   {
    "duration": 24,
    "start_time": "2024-07-19T01:49:05.319Z"
   },
   {
    "duration": 18,
    "start_time": "2024-07-19T01:49:18.860Z"
   },
   {
    "duration": 19,
    "start_time": "2024-07-19T01:49:39.966Z"
   },
   {
    "duration": 20,
    "start_time": "2024-07-19T01:49:50.643Z"
   },
   {
    "duration": 18,
    "start_time": "2024-07-19T02:01:06.610Z"
   },
   {
    "duration": 25,
    "start_time": "2024-07-19T02:01:44.567Z"
   },
   {
    "duration": 308,
    "start_time": "2024-07-19T02:01:48.147Z"
   },
   {
    "duration": 67,
    "start_time": "2024-07-19T02:05:53.539Z"
   },
   {
    "duration": 123,
    "start_time": "2024-07-19T02:07:12.230Z"
   },
   {
    "duration": 27,
    "start_time": "2024-07-19T02:07:24.371Z"
   },
   {
    "duration": 65,
    "start_time": "2024-07-19T02:08:16.416Z"
   },
   {
    "duration": 81,
    "start_time": "2024-07-19T02:08:44.306Z"
   },
   {
    "duration": 64,
    "start_time": "2024-07-19T02:08:59.900Z"
   },
   {
    "duration": 66,
    "start_time": "2024-07-19T02:09:54.496Z"
   },
   {
    "duration": 64,
    "start_time": "2024-07-19T02:10:34.818Z"
   },
   {
    "duration": 15,
    "start_time": "2024-07-19T02:12:43.636Z"
   },
   {
    "duration": 63,
    "start_time": "2024-07-19T02:13:46.667Z"
   },
   {
    "duration": 6,
    "start_time": "2024-07-19T02:15:53.358Z"
   },
   {
    "duration": 28,
    "start_time": "2024-07-19T02:15:58.829Z"
   },
   {
    "duration": 24,
    "start_time": "2024-07-19T02:16:01.310Z"
   },
   {
    "duration": 7,
    "start_time": "2024-07-19T02:16:06.733Z"
   },
   {
    "duration": 13,
    "start_time": "2024-07-19T02:22:50.204Z"
   },
   {
    "duration": 14,
    "start_time": "2024-07-19T02:23:57.586Z"
   },
   {
    "duration": 15,
    "start_time": "2024-07-19T02:24:22.667Z"
   },
   {
    "duration": 12,
    "start_time": "2024-07-19T02:25:23.797Z"
   },
   {
    "duration": 14,
    "start_time": "2024-07-19T02:25:34.283Z"
   },
   {
    "duration": 18,
    "start_time": "2024-07-19T02:27:56.023Z"
   },
   {
    "duration": 17,
    "start_time": "2024-07-19T02:28:28.165Z"
   },
   {
    "duration": 63,
    "start_time": "2024-07-19T02:29:03.802Z"
   },
   {
    "duration": 16,
    "start_time": "2024-07-19T02:29:58.010Z"
   },
   {
    "duration": 14,
    "start_time": "2024-07-19T02:30:10.319Z"
   },
   {
    "duration": 15,
    "start_time": "2024-07-19T02:30:16.011Z"
   },
   {
    "duration": 63,
    "start_time": "2024-07-19T02:30:29.955Z"
   },
   {
    "duration": 62,
    "start_time": "2024-07-19T02:31:05.087Z"
   },
   {
    "duration": 62,
    "start_time": "2024-07-19T02:31:14.921Z"
   },
   {
    "duration": 74,
    "start_time": "2024-07-19T02:31:56.983Z"
   },
   {
    "duration": 71,
    "start_time": "2024-07-19T02:32:26.640Z"
   },
   {
    "duration": 13,
    "start_time": "2024-07-19T02:35:02.647Z"
   },
   {
    "duration": 65,
    "start_time": "2024-07-19T02:36:09.859Z"
   },
   {
    "duration": 183,
    "start_time": "2024-07-19T02:36:17.154Z"
   },
   {
    "duration": 76,
    "start_time": "2024-07-19T02:49:04.596Z"
   },
   {
    "duration": 8,
    "start_time": "2024-07-19T02:49:21.791Z"
   },
   {
    "duration": 75,
    "start_time": "2024-07-19T02:49:26.398Z"
   },
   {
    "duration": 95,
    "start_time": "2024-07-19T02:49:31.940Z"
   },
   {
    "duration": 18,
    "start_time": "2024-07-19T02:53:42.700Z"
   },
   {
    "duration": 16,
    "start_time": "2024-07-19T02:58:37.994Z"
   },
   {
    "duration": 67,
    "start_time": "2024-07-19T02:59:07.927Z"
   },
   {
    "duration": 62,
    "start_time": "2024-07-19T03:10:16.882Z"
   },
   {
    "duration": 20,
    "start_time": "2024-07-19T03:15:53.315Z"
   },
   {
    "duration": 5178,
    "start_time": "2024-07-19T14:09:42.098Z"
   },
   {
    "duration": 40,
    "start_time": "2024-07-19T14:09:47.280Z"
   },
   {
    "duration": 26,
    "start_time": "2024-07-19T14:09:47.323Z"
   },
   {
    "duration": 20,
    "start_time": "2024-07-19T14:09:47.353Z"
   },
   {
    "duration": 15,
    "start_time": "2024-07-19T14:09:47.380Z"
   },
   {
    "duration": 53,
    "start_time": "2024-07-19T14:09:47.432Z"
   },
   {
    "duration": 13,
    "start_time": "2024-07-19T14:09:47.491Z"
   },
   {
    "duration": 8,
    "start_time": "2024-07-19T14:09:47.532Z"
   },
   {
    "duration": 19,
    "start_time": "2024-07-19T14:09:47.543Z"
   },
   {
    "duration": 15,
    "start_time": "2024-07-19T14:09:47.567Z"
   },
   {
    "duration": 60,
    "start_time": "2024-07-19T14:09:47.586Z"
   },
   {
    "duration": 14,
    "start_time": "2024-07-19T14:09:47.650Z"
   },
   {
    "duration": 14,
    "start_time": "2024-07-19T14:09:47.667Z"
   },
   {
    "duration": 53,
    "start_time": "2024-07-19T14:09:47.690Z"
   },
   {
    "duration": 538,
    "start_time": "2024-07-19T14:09:47.747Z"
   },
   {
    "duration": 16,
    "start_time": "2024-07-19T14:09:48.289Z"
   },
   {
    "duration": 142,
    "start_time": "2024-07-19T14:09:48.307Z"
   },
   {
    "duration": 24,
    "start_time": "2024-07-19T14:09:48.453Z"
   },
   {
    "duration": 17,
    "start_time": "2024-07-19T14:09:48.481Z"
   },
   {
    "duration": 19,
    "start_time": "2024-07-19T14:09:48.529Z"
   },
   {
    "duration": 167,
    "start_time": "2024-07-19T14:09:48.551Z"
   },
   {
    "duration": 35,
    "start_time": "2024-07-19T14:09:48.730Z"
   },
   {
    "duration": 98,
    "start_time": "2024-07-19T14:09:48.768Z"
   },
   {
    "duration": 23,
    "start_time": "2024-07-19T14:09:48.869Z"
   },
   {
    "duration": 39,
    "start_time": "2024-07-19T14:09:48.895Z"
   },
   {
    "duration": 176,
    "start_time": "2024-07-19T14:09:48.938Z"
   },
   {
    "duration": 1074,
    "start_time": "2024-07-19T14:09:49.118Z"
   },
   {
    "duration": 0,
    "start_time": "2024-07-19T14:09:50.195Z"
   },
   {
    "duration": 0,
    "start_time": "2024-07-19T14:09:50.198Z"
   },
   {
    "duration": 0,
    "start_time": "2024-07-19T14:09:50.201Z"
   },
   {
    "duration": 0,
    "start_time": "2024-07-19T14:09:50.203Z"
   },
   {
    "duration": 0,
    "start_time": "2024-07-19T14:09:50.205Z"
   },
   {
    "duration": 0,
    "start_time": "2024-07-19T14:09:50.231Z"
   },
   {
    "duration": 0,
    "start_time": "2024-07-19T14:09:50.234Z"
   },
   {
    "duration": 0,
    "start_time": "2024-07-19T14:09:50.236Z"
   },
   {
    "duration": 0,
    "start_time": "2024-07-19T14:09:50.238Z"
   },
   {
    "duration": 0,
    "start_time": "2024-07-19T14:09:50.241Z"
   },
   {
    "duration": 85,
    "start_time": "2024-07-19T14:10:29.443Z"
   },
   {
    "duration": 63,
    "start_time": "2024-07-19T14:11:00.536Z"
   },
   {
    "duration": 21,
    "start_time": "2024-07-19T14:30:48.435Z"
   },
   {
    "duration": 16,
    "start_time": "2024-07-19T14:30:49.164Z"
   },
   {
    "duration": 10,
    "start_time": "2024-07-19T14:30:49.386Z"
   },
   {
    "duration": 10,
    "start_time": "2024-07-19T14:30:49.534Z"
   },
   {
    "duration": 23,
    "start_time": "2024-07-19T14:30:49.675Z"
   },
   {
    "duration": 6,
    "start_time": "2024-07-19T14:30:49.825Z"
   },
   {
    "duration": 151,
    "start_time": "2024-07-19T14:30:50.140Z"
   },
   {
    "duration": 78,
    "start_time": "2024-07-19T14:30:50.295Z"
   },
   {
    "duration": 18,
    "start_time": "2024-07-19T14:30:50.647Z"
   },
   {
    "duration": 19,
    "start_time": "2024-07-19T14:30:50.764Z"
   },
   {
    "duration": 63,
    "start_time": "2024-07-19T14:31:55.435Z"
   },
   {
    "duration": 16,
    "start_time": "2024-07-19T14:33:12.466Z"
   },
   {
    "duration": 13,
    "start_time": "2024-07-19T14:33:21.394Z"
   },
   {
    "duration": 71,
    "start_time": "2024-07-19T14:40:03.723Z"
   },
   {
    "duration": 9,
    "start_time": "2024-07-19T14:40:58.775Z"
   },
   {
    "duration": 6,
    "start_time": "2024-07-19T14:41:16.806Z"
   },
   {
    "duration": 66,
    "start_time": "2024-07-19T14:41:39.055Z"
   },
   {
    "duration": 84,
    "start_time": "2024-07-19T14:41:51.731Z"
   },
   {
    "duration": 67,
    "start_time": "2024-07-19T14:44:26.838Z"
   },
   {
    "duration": 66,
    "start_time": "2024-07-19T14:44:30.646Z"
   },
   {
    "duration": 73,
    "start_time": "2024-07-19T14:44:35.303Z"
   },
   {
    "duration": 73,
    "start_time": "2024-07-19T14:46:49.051Z"
   },
   {
    "duration": 74,
    "start_time": "2024-07-19T14:46:55.219Z"
   },
   {
    "duration": 6,
    "start_time": "2024-07-19T14:47:01.419Z"
   },
   {
    "duration": 8,
    "start_time": "2024-07-19T14:47:05.322Z"
   },
   {
    "duration": 71,
    "start_time": "2024-07-19T14:47:10.023Z"
   },
   {
    "duration": 73,
    "start_time": "2024-07-19T14:47:14.808Z"
   },
   {
    "duration": 71,
    "start_time": "2024-07-19T14:47:19.927Z"
   },
   {
    "duration": 78,
    "start_time": "2024-07-19T14:48:07.906Z"
   },
   {
    "duration": 71,
    "start_time": "2024-07-19T14:48:15.232Z"
   },
   {
    "duration": 72,
    "start_time": "2024-07-19T14:48:30.792Z"
   },
   {
    "duration": 15,
    "start_time": "2024-07-19T14:52:58.256Z"
   },
   {
    "duration": 16,
    "start_time": "2024-07-19T14:53:01.415Z"
   },
   {
    "duration": 17,
    "start_time": "2024-07-19T14:53:04.915Z"
   },
   {
    "duration": 21,
    "start_time": "2024-07-19T14:53:09.843Z"
   },
   {
    "duration": 20,
    "start_time": "2024-07-19T14:53:16.133Z"
   },
   {
    "duration": 19,
    "start_time": "2024-07-19T14:54:45.844Z"
   },
   {
    "duration": 9,
    "start_time": "2024-07-19T14:55:24.295Z"
   },
   {
    "duration": 13,
    "start_time": "2024-07-19T14:55:48.951Z"
   },
   {
    "duration": 14,
    "start_time": "2024-07-19T14:56:27.479Z"
   },
   {
    "duration": 14,
    "start_time": "2024-07-19T14:56:38.255Z"
   },
   {
    "duration": 19,
    "start_time": "2024-07-19T14:58:03.343Z"
   },
   {
    "duration": 16,
    "start_time": "2024-07-19T14:58:43.318Z"
   },
   {
    "duration": 15,
    "start_time": "2024-07-19T14:59:53.427Z"
   },
   {
    "duration": 15,
    "start_time": "2024-07-19T15:00:17.889Z"
   },
   {
    "duration": 18,
    "start_time": "2024-07-19T15:01:08.276Z"
   },
   {
    "duration": 16,
    "start_time": "2024-07-19T15:01:18.458Z"
   },
   {
    "duration": 16,
    "start_time": "2024-07-19T15:02:18.919Z"
   },
   {
    "duration": 796,
    "start_time": "2024-07-19T15:03:56.151Z"
   },
   {
    "duration": 63,
    "start_time": "2024-07-19T15:04:15.662Z"
   },
   {
    "duration": 17,
    "start_time": "2024-07-19T15:04:30.591Z"
   },
   {
    "duration": 26,
    "start_time": "2024-07-19T15:04:43.895Z"
   },
   {
    "duration": 6,
    "start_time": "2024-07-19T15:09:34.372Z"
   },
   {
    "duration": 906,
    "start_time": "2024-07-19T15:09:40.677Z"
   },
   {
    "duration": 18,
    "start_time": "2024-07-19T15:10:17.809Z"
   },
   {
    "duration": 90,
    "start_time": "2024-07-19T15:10:22.148Z"
   },
   {
    "duration": 91,
    "start_time": "2024-07-19T15:10:40.364Z"
   },
   {
    "duration": 13,
    "start_time": "2024-07-19T15:10:49.968Z"
   },
   {
    "duration": 6,
    "start_time": "2024-07-19T15:11:30.571Z"
   },
   {
    "duration": 67,
    "start_time": "2024-07-19T15:11:35.914Z"
   },
   {
    "duration": 20,
    "start_time": "2024-07-19T15:11:54.030Z"
   },
   {
    "duration": 13,
    "start_time": "2024-07-19T15:12:12.086Z"
   },
   {
    "duration": 14,
    "start_time": "2024-07-19T15:15:29.625Z"
   },
   {
    "duration": 13,
    "start_time": "2024-07-19T15:15:52.681Z"
   },
   {
    "duration": 26,
    "start_time": "2024-07-19T15:18:33.483Z"
   },
   {
    "duration": 27,
    "start_time": "2024-07-19T15:18:52.533Z"
   },
   {
    "duration": 24,
    "start_time": "2024-07-19T15:19:12.479Z"
   },
   {
    "duration": 27,
    "start_time": "2024-07-19T15:19:37.847Z"
   },
   {
    "duration": 25,
    "start_time": "2024-07-19T15:20:11.655Z"
   },
   {
    "duration": 25,
    "start_time": "2024-07-19T15:20:23.983Z"
   },
   {
    "duration": 26,
    "start_time": "2024-07-19T15:20:30.472Z"
   },
   {
    "duration": 1417,
    "start_time": "2024-07-19T15:26:18.322Z"
   },
   {
    "duration": 25,
    "start_time": "2024-07-19T15:26:40.800Z"
   },
   {
    "duration": 15,
    "start_time": "2024-07-19T15:34:53.877Z"
   },
   {
    "duration": 26,
    "start_time": "2024-07-19T15:36:06.583Z"
   },
   {
    "duration": 20,
    "start_time": "2024-07-19T15:41:17.342Z"
   },
   {
    "duration": 18,
    "start_time": "2024-07-19T15:41:57.827Z"
   },
   {
    "duration": 20,
    "start_time": "2024-07-19T15:42:02.313Z"
   },
   {
    "duration": 45,
    "start_time": "2024-07-19T15:42:39.031Z"
   },
   {
    "duration": 16,
    "start_time": "2024-07-19T15:42:44.439Z"
   },
   {
    "duration": 26,
    "start_time": "2024-07-19T15:42:47.167Z"
   },
   {
    "duration": 30,
    "start_time": "2024-07-19T15:43:23.716Z"
   },
   {
    "duration": 18,
    "start_time": "2024-07-19T15:43:30.375Z"
   },
   {
    "duration": 99,
    "start_time": "2024-07-19T15:45:57.456Z"
   },
   {
    "duration": 33,
    "start_time": "2024-07-19T15:46:12.828Z"
   },
   {
    "duration": 29,
    "start_time": "2024-07-19T15:49:57.248Z"
   },
   {
    "duration": 24,
    "start_time": "2024-07-19T15:50:01.438Z"
   },
   {
    "duration": 17,
    "start_time": "2024-07-19T15:50:09.912Z"
   },
   {
    "duration": 5,
    "start_time": "2024-07-19T18:26:10.015Z"
   },
   {
    "duration": 26,
    "start_time": "2024-07-19T18:30:04.617Z"
   },
   {
    "duration": 73,
    "start_time": "2024-07-19T18:30:23.456Z"
   },
   {
    "duration": 43,
    "start_time": "2024-07-19T18:30:59.996Z"
   },
   {
    "duration": 3,
    "start_time": "2024-07-19T18:31:55.860Z"
   },
   {
    "duration": 7,
    "start_time": "2024-07-19T18:31:59.573Z"
   },
   {
    "duration": 41,
    "start_time": "2024-07-19T18:32:30.564Z"
   },
   {
    "duration": 37,
    "start_time": "2024-07-19T18:32:53.892Z"
   },
   {
    "duration": 34,
    "start_time": "2024-07-19T18:33:17.898Z"
   },
   {
    "duration": 26,
    "start_time": "2024-07-19T18:37:49.738Z"
   },
   {
    "duration": 3,
    "start_time": "2024-07-19T18:40:26.671Z"
   },
   {
    "duration": 38,
    "start_time": "2024-07-19T18:45:16.316Z"
   },
   {
    "duration": 19,
    "start_time": "2024-07-19T18:45:32.197Z"
   },
   {
    "duration": 9,
    "start_time": "2024-07-19T18:52:22.550Z"
   },
   {
    "duration": 8,
    "start_time": "2024-07-19T18:52:34.393Z"
   },
   {
    "duration": 27,
    "start_time": "2024-07-19T18:53:09.534Z"
   },
   {
    "duration": 16,
    "start_time": "2024-07-19T18:53:19.179Z"
   },
   {
    "duration": 7,
    "start_time": "2024-07-19T19:03:55.099Z"
   },
   {
    "duration": 21,
    "start_time": "2024-07-19T19:10:27.426Z"
   },
   {
    "duration": 30,
    "start_time": "2024-07-19T19:10:30.568Z"
   },
   {
    "duration": 241,
    "start_time": "2024-07-19T19:12:33.286Z"
   },
   {
    "duration": 77,
    "start_time": "2024-07-19T19:13:42.167Z"
   },
   {
    "duration": 30,
    "start_time": "2024-07-19T19:14:35.904Z"
   },
   {
    "duration": 39,
    "start_time": "2024-07-19T19:14:46.031Z"
   },
   {
    "duration": 7,
    "start_time": "2024-07-19T19:15:31.664Z"
   },
   {
    "duration": 34,
    "start_time": "2024-07-19T19:17:36.009Z"
   },
   {
    "duration": 8,
    "start_time": "2024-07-19T19:19:04.443Z"
   },
   {
    "duration": 47,
    "start_time": "2024-07-19T19:27:34.803Z"
   },
   {
    "duration": 337,
    "start_time": "2024-07-19T19:32:53.132Z"
   },
   {
    "duration": 13,
    "start_time": "2024-07-19T19:33:01.139Z"
   },
   {
    "duration": 17,
    "start_time": "2024-07-19T19:33:12.112Z"
   },
   {
    "duration": 9,
    "start_time": "2024-07-19T19:33:45.437Z"
   },
   {
    "duration": 7,
    "start_time": "2024-07-19T19:33:48.020Z"
   },
   {
    "duration": 8,
    "start_time": "2024-07-19T19:34:46.347Z"
   },
   {
    "duration": 7,
    "start_time": "2024-07-19T19:35:00.956Z"
   },
   {
    "duration": 22,
    "start_time": "2024-07-19T19:35:36.128Z"
   },
   {
    "duration": 1460,
    "start_time": "2024-07-19T19:36:16.919Z"
   },
   {
    "duration": 28,
    "start_time": "2024-07-19T19:36:18.384Z"
   },
   {
    "duration": 30,
    "start_time": "2024-07-19T19:36:18.415Z"
   },
   {
    "duration": 21,
    "start_time": "2024-07-19T19:36:18.448Z"
   },
   {
    "duration": 22,
    "start_time": "2024-07-19T19:36:18.475Z"
   },
   {
    "duration": 49,
    "start_time": "2024-07-19T19:36:18.501Z"
   },
   {
    "duration": 11,
    "start_time": "2024-07-19T19:36:18.553Z"
   },
   {
    "duration": 9,
    "start_time": "2024-07-19T19:36:18.567Z"
   },
   {
    "duration": 55,
    "start_time": "2024-07-19T19:36:18.578Z"
   },
   {
    "duration": 16,
    "start_time": "2024-07-19T19:36:18.636Z"
   },
   {
    "duration": 21,
    "start_time": "2024-07-19T19:36:18.654Z"
   },
   {
    "duration": 12,
    "start_time": "2024-07-19T19:36:18.678Z"
   },
   {
    "duration": 13,
    "start_time": "2024-07-19T19:36:18.730Z"
   },
   {
    "duration": 12,
    "start_time": "2024-07-19T19:36:18.750Z"
   },
   {
    "duration": 567,
    "start_time": "2024-07-19T19:36:18.765Z"
   },
   {
    "duration": 13,
    "start_time": "2024-07-19T19:36:19.335Z"
   },
   {
    "duration": 116,
    "start_time": "2024-07-19T19:36:19.350Z"
   },
   {
    "duration": 20,
    "start_time": "2024-07-19T19:36:19.469Z"
   },
   {
    "duration": 45,
    "start_time": "2024-07-19T19:36:19.492Z"
   },
   {
    "duration": 16,
    "start_time": "2024-07-19T19:36:19.540Z"
   },
   {
    "duration": 149,
    "start_time": "2024-07-19T19:36:19.559Z"
   },
   {
    "duration": 35,
    "start_time": "2024-07-19T19:36:19.711Z"
   },
   {
    "duration": 91,
    "start_time": "2024-07-19T19:36:19.749Z"
   },
   {
    "duration": 16,
    "start_time": "2024-07-19T19:36:19.843Z"
   },
   {
    "duration": 13,
    "start_time": "2024-07-19T19:36:19.861Z"
   },
   {
    "duration": 103,
    "start_time": "2024-07-19T19:36:19.876Z"
   },
   {
    "duration": 87,
    "start_time": "2024-07-19T19:36:19.983Z"
   },
   {
    "duration": 17,
    "start_time": "2024-07-19T19:36:20.073Z"
   },
   {
    "duration": 39,
    "start_time": "2024-07-19T19:36:20.093Z"
   },
   {
    "duration": 19,
    "start_time": "2024-07-19T19:36:20.135Z"
   },
   {
    "duration": 15,
    "start_time": "2024-07-19T19:36:20.157Z"
   },
   {
    "duration": 66,
    "start_time": "2024-07-19T19:36:20.175Z"
   },
   {
    "duration": 18,
    "start_time": "2024-07-19T19:36:20.244Z"
   },
   {
    "duration": 4,
    "start_time": "2024-07-19T19:36:20.265Z"
   },
   {
    "duration": 8,
    "start_time": "2024-07-19T19:36:20.272Z"
   },
   {
    "duration": 74,
    "start_time": "2024-07-19T19:36:20.283Z"
   },
   {
    "duration": 4,
    "start_time": "2024-07-19T19:36:20.359Z"
   },
   {
    "duration": 20,
    "start_time": "2024-07-19T19:36:20.365Z"
   },
   {
    "duration": 54,
    "start_time": "2024-07-19T19:36:20.389Z"
   },
   {
    "duration": 23,
    "start_time": "2024-07-19T19:36:20.446Z"
   },
   {
    "duration": 18,
    "start_time": "2024-07-19T19:36:20.477Z"
   },
   {
    "duration": 38,
    "start_time": "2024-07-19T19:36:20.498Z"
   },
   {
    "duration": 10,
    "start_time": "2024-07-19T19:36:20.539Z"
   },
   {
    "duration": 18,
    "start_time": "2024-07-19T19:36:20.552Z"
   },
   {
    "duration": 7,
    "start_time": "2024-07-19T19:36:20.573Z"
   },
   {
    "duration": 108,
    "start_time": "2024-07-19T19:36:20.584Z"
   },
   {
    "duration": 90,
    "start_time": "2024-07-19T19:36:20.696Z"
   },
   {
    "duration": 41,
    "start_time": "2024-07-19T19:36:20.789Z"
   },
   {
    "duration": 19,
    "start_time": "2024-07-19T19:36:20.833Z"
   },
   {
    "duration": 38,
    "start_time": "2024-07-19T19:37:40.816Z"
   },
   {
    "duration": 120,
    "start_time": "2024-07-19T19:38:37.718Z"
   },
   {
    "duration": 23,
    "start_time": "2024-07-19T19:38:43.069Z"
   },
   {
    "duration": 34,
    "start_time": "2024-07-19T19:47:49.105Z"
   },
   {
    "duration": 38,
    "start_time": "2024-07-19T19:47:51.189Z"
   },
   {
    "duration": 20,
    "start_time": "2024-07-19T19:48:24.377Z"
   },
   {
    "duration": 26,
    "start_time": "2024-07-19T19:50:54.154Z"
   },
   {
    "duration": 19,
    "start_time": "2024-07-19T20:11:40.282Z"
   },
   {
    "duration": 38,
    "start_time": "2024-07-19T20:35:05.580Z"
   },
   {
    "duration": 7,
    "start_time": "2024-07-19T20:37:06.349Z"
   },
   {
    "duration": 6,
    "start_time": "2024-07-19T20:38:48.927Z"
   },
   {
    "duration": 6,
    "start_time": "2024-07-19T20:39:33.878Z"
   },
   {
    "duration": 58,
    "start_time": "2024-07-19T20:41:58.317Z"
   },
   {
    "duration": 18,
    "start_time": "2024-07-19T20:42:07.604Z"
   },
   {
    "duration": 12,
    "start_time": "2024-07-19T20:42:12.860Z"
   },
   {
    "duration": 23,
    "start_time": "2024-07-19T20:42:34.795Z"
   },
   {
    "duration": 21,
    "start_time": "2024-07-19T20:43:21.661Z"
   },
   {
    "duration": 306,
    "start_time": "2024-07-19T20:45:35.282Z"
   },
   {
    "duration": 1081,
    "start_time": "2024-07-19T20:45:59.793Z"
   },
   {
    "duration": 20,
    "start_time": "2024-07-19T20:46:20.296Z"
   },
   {
    "duration": 10,
    "start_time": "2024-07-19T20:46:26.369Z"
   },
   {
    "duration": 5,
    "start_time": "2024-07-19T20:51:23.950Z"
   },
   {
    "duration": 4,
    "start_time": "2024-07-19T20:51:29.914Z"
   },
   {
    "duration": 7,
    "start_time": "2024-07-19T20:53:37.198Z"
   },
   {
    "duration": 7,
    "start_time": "2024-07-19T20:54:02.754Z"
   },
   {
    "duration": 70,
    "start_time": "2024-07-19T20:56:28.156Z"
   },
   {
    "duration": 24,
    "start_time": "2024-07-19T20:56:51.839Z"
   },
   {
    "duration": 6,
    "start_time": "2024-07-19T21:01:26.231Z"
   },
   {
    "duration": 299,
    "start_time": "2024-07-19T21:01:28.887Z"
   },
   {
    "duration": 20,
    "start_time": "2024-07-19T21:02:13.247Z"
   },
   {
    "duration": 17,
    "start_time": "2024-07-19T21:05:14.089Z"
   },
   {
    "duration": 32,
    "start_time": "2024-07-19T21:05:34.977Z"
   },
   {
    "duration": 19,
    "start_time": "2024-07-19T22:09:06.117Z"
   },
   {
    "duration": 13,
    "start_time": "2024-07-19T22:10:09.076Z"
   },
   {
    "duration": 25,
    "start_time": "2024-07-19T22:10:32.455Z"
   },
   {
    "duration": 26,
    "start_time": "2024-07-19T22:12:34.718Z"
   },
   {
    "duration": 27,
    "start_time": "2024-07-19T22:12:38.534Z"
   },
   {
    "duration": 26,
    "start_time": "2024-07-19T22:12:43.710Z"
   },
   {
    "duration": 21,
    "start_time": "2024-07-19T22:12:48.639Z"
   },
   {
    "duration": 130,
    "start_time": "2024-07-19T22:12:56.463Z"
   },
   {
    "duration": 28,
    "start_time": "2024-07-19T22:18:37.494Z"
   },
   {
    "duration": 12,
    "start_time": "2024-07-19T22:22:26.684Z"
   },
   {
    "duration": 22,
    "start_time": "2024-07-19T22:22:36.898Z"
   },
   {
    "duration": 9,
    "start_time": "2024-07-19T22:22:53.083Z"
   },
   {
    "duration": 22,
    "start_time": "2024-07-19T22:23:15.437Z"
   },
   {
    "duration": 4,
    "start_time": "2024-07-19T22:23:32.410Z"
   },
   {
    "duration": 12,
    "start_time": "2024-07-19T22:24:06.586Z"
   },
   {
    "duration": 25,
    "start_time": "2024-07-19T22:24:09.250Z"
   },
   {
    "duration": 12,
    "start_time": "2024-07-19T22:28:12.775Z"
   },
   {
    "duration": 20,
    "start_time": "2024-07-19T22:28:16.743Z"
   },
   {
    "duration": 15,
    "start_time": "2024-07-19T22:28:21.697Z"
   },
   {
    "duration": 22,
    "start_time": "2024-07-19T22:28:39.612Z"
   },
   {
    "duration": 15,
    "start_time": "2024-07-19T22:35:26.054Z"
   },
   {
    "duration": 3,
    "start_time": "2024-07-19T22:36:55.369Z"
   },
   {
    "duration": 18,
    "start_time": "2024-07-19T22:39:45.261Z"
   },
   {
    "duration": 17,
    "start_time": "2024-07-19T22:40:00.365Z"
   },
   {
    "duration": 15,
    "start_time": "2024-07-19T22:40:05.355Z"
   },
   {
    "duration": 9,
    "start_time": "2024-07-19T22:40:09.585Z"
   },
   {
    "duration": 82,
    "start_time": "2024-07-19T22:42:12.396Z"
   },
   {
    "duration": 91,
    "start_time": "2024-07-19T22:42:57.858Z"
   },
   {
    "duration": 119,
    "start_time": "2024-07-19T22:43:30.711Z"
   },
   {
    "duration": 38,
    "start_time": "2024-07-19T22:43:46.233Z"
   },
   {
    "duration": 27,
    "start_time": "2024-07-19T22:43:52.670Z"
   },
   {
    "duration": 133,
    "start_time": "2024-07-19T22:44:15.360Z"
   },
   {
    "duration": 118,
    "start_time": "2024-07-19T22:44:36.778Z"
   },
   {
    "duration": 155,
    "start_time": "2024-07-19T22:47:14.743Z"
   },
   {
    "duration": 125,
    "start_time": "2024-07-19T22:51:08.249Z"
   },
   {
    "duration": 18,
    "start_time": "2024-07-19T22:54:18.670Z"
   },
   {
    "duration": 30,
    "start_time": "2024-07-19T22:55:16.433Z"
   },
   {
    "duration": 43,
    "start_time": "2024-07-19T22:55:22.029Z"
   },
   {
    "duration": 29,
    "start_time": "2024-07-19T22:55:33.762Z"
   },
   {
    "duration": 21,
    "start_time": "2024-07-19T22:55:43.573Z"
   },
   {
    "duration": 18,
    "start_time": "2024-07-19T22:56:04.714Z"
   },
   {
    "duration": 19,
    "start_time": "2024-07-19T22:56:30.810Z"
   },
   {
    "duration": 19,
    "start_time": "2024-07-19T22:57:11.130Z"
   },
   {
    "duration": 31,
    "start_time": "2024-07-19T23:06:33.839Z"
   },
   {
    "duration": 29,
    "start_time": "2024-07-19T23:06:50.369Z"
   },
   {
    "duration": 26,
    "start_time": "2024-07-19T23:06:57.887Z"
   },
   {
    "duration": 35,
    "start_time": "2024-07-19T23:07:25.159Z"
   },
   {
    "duration": 79,
    "start_time": "2024-07-19T23:08:40.696Z"
   },
   {
    "duration": 51,
    "start_time": "2024-07-19T23:08:54.010Z"
   },
   {
    "duration": 19,
    "start_time": "2024-07-19T23:09:09.771Z"
   },
   {
    "duration": 45,
    "start_time": "2024-07-19T23:09:42.621Z"
   },
   {
    "duration": 20,
    "start_time": "2024-07-19T23:09:56.678Z"
   },
   {
    "duration": 44,
    "start_time": "2024-07-19T23:10:50.297Z"
   },
   {
    "duration": 20,
    "start_time": "2024-07-19T23:11:04.321Z"
   },
   {
    "duration": 5079,
    "start_time": "2024-07-20T13:52:51.266Z"
   },
   {
    "duration": 37,
    "start_time": "2024-07-20T13:52:56.348Z"
   },
   {
    "duration": 17,
    "start_time": "2024-07-20T13:52:56.388Z"
   },
   {
    "duration": 34,
    "start_time": "2024-07-20T13:52:56.409Z"
   },
   {
    "duration": 14,
    "start_time": "2024-07-20T13:52:56.447Z"
   },
   {
    "duration": 17,
    "start_time": "2024-07-20T13:52:56.464Z"
   },
   {
    "duration": 10,
    "start_time": "2024-07-20T13:52:56.484Z"
   },
   {
    "duration": 7,
    "start_time": "2024-07-20T13:52:56.532Z"
   },
   {
    "duration": 19,
    "start_time": "2024-07-20T13:52:56.543Z"
   },
   {
    "duration": 16,
    "start_time": "2024-07-20T13:52:56.570Z"
   },
   {
    "duration": 65,
    "start_time": "2024-07-20T13:52:56.589Z"
   },
   {
    "duration": 17,
    "start_time": "2024-07-20T13:52:56.656Z"
   },
   {
    "duration": 14,
    "start_time": "2024-07-20T13:52:56.676Z"
   },
   {
    "duration": 45,
    "start_time": "2024-07-20T13:52:56.693Z"
   },
   {
    "duration": 572,
    "start_time": "2024-07-20T13:52:56.741Z"
   },
   {
    "duration": 24,
    "start_time": "2024-07-20T13:52:57.316Z"
   },
   {
    "duration": 112,
    "start_time": "2024-07-20T13:52:57.343Z"
   },
   {
    "duration": 19,
    "start_time": "2024-07-20T13:52:57.459Z"
   },
   {
    "duration": 49,
    "start_time": "2024-07-20T13:52:57.481Z"
   },
   {
    "duration": 17,
    "start_time": "2024-07-20T13:52:57.534Z"
   },
   {
    "duration": 134,
    "start_time": "2024-07-20T13:52:57.554Z"
   },
   {
    "duration": 42,
    "start_time": "2024-07-20T13:52:57.692Z"
   },
   {
    "duration": 101,
    "start_time": "2024-07-20T13:52:57.738Z"
   },
   {
    "duration": 18,
    "start_time": "2024-07-20T13:52:57.842Z"
   },
   {
    "duration": 14,
    "start_time": "2024-07-20T13:52:57.864Z"
   },
   {
    "duration": 101,
    "start_time": "2024-07-20T13:52:57.881Z"
   },
   {
    "duration": 102,
    "start_time": "2024-07-20T13:52:57.985Z"
   },
   {
    "duration": 17,
    "start_time": "2024-07-20T13:52:58.096Z"
   },
   {
    "duration": 14,
    "start_time": "2024-07-20T13:52:58.130Z"
   },
   {
    "duration": 19,
    "start_time": "2024-07-20T13:52:58.147Z"
   },
   {
    "duration": 15,
    "start_time": "2024-07-20T13:52:58.170Z"
   },
   {
    "duration": 67,
    "start_time": "2024-07-20T13:52:58.189Z"
   },
   {
    "duration": 16,
    "start_time": "2024-07-20T13:52:58.259Z"
   },
   {
    "duration": 4,
    "start_time": "2024-07-20T13:52:58.278Z"
   },
   {
    "duration": 47,
    "start_time": "2024-07-20T13:52:58.285Z"
   },
   {
    "duration": 7,
    "start_time": "2024-07-20T13:52:58.336Z"
   },
   {
    "duration": 7,
    "start_time": "2024-07-20T13:52:58.347Z"
   },
   {
    "duration": 5,
    "start_time": "2024-07-20T13:52:58.357Z"
   },
   {
    "duration": 1399,
    "start_time": "2024-07-20T13:52:58.365Z"
   },
   {
    "duration": 1,
    "start_time": "2024-07-20T13:52:59.767Z"
   },
   {
    "duration": 0,
    "start_time": "2024-07-20T13:52:59.770Z"
   },
   {
    "duration": 0,
    "start_time": "2024-07-20T13:52:59.771Z"
   },
   {
    "duration": 0,
    "start_time": "2024-07-20T13:52:59.773Z"
   },
   {
    "duration": 0,
    "start_time": "2024-07-20T13:52:59.776Z"
   },
   {
    "duration": 0,
    "start_time": "2024-07-20T13:52:59.778Z"
   },
   {
    "duration": 0,
    "start_time": "2024-07-20T13:52:59.780Z"
   },
   {
    "duration": 0,
    "start_time": "2024-07-20T13:52:59.782Z"
   },
   {
    "duration": 0,
    "start_time": "2024-07-20T13:52:59.784Z"
   },
   {
    "duration": 0,
    "start_time": "2024-07-20T13:52:59.785Z"
   },
   {
    "duration": 0,
    "start_time": "2024-07-20T13:52:59.787Z"
   },
   {
    "duration": 0,
    "start_time": "2024-07-20T13:52:59.790Z"
   },
   {
    "duration": 0,
    "start_time": "2024-07-20T13:52:59.830Z"
   },
   {
    "duration": 0,
    "start_time": "2024-07-20T13:52:59.832Z"
   },
   {
    "duration": 0,
    "start_time": "2024-07-20T13:52:59.834Z"
   },
   {
    "duration": 0,
    "start_time": "2024-07-20T13:52:59.837Z"
   },
   {
    "duration": 0,
    "start_time": "2024-07-20T13:52:59.839Z"
   },
   {
    "duration": 0,
    "start_time": "2024-07-20T13:52:59.841Z"
   },
   {
    "duration": 0,
    "start_time": "2024-07-20T13:52:59.843Z"
   },
   {
    "duration": 1436,
    "start_time": "2024-07-20T13:53:47.558Z"
   },
   {
    "duration": 34,
    "start_time": "2024-07-20T13:53:48.997Z"
   },
   {
    "duration": 17,
    "start_time": "2024-07-20T13:53:49.034Z"
   },
   {
    "duration": 17,
    "start_time": "2024-07-20T13:53:49.055Z"
   },
   {
    "duration": 15,
    "start_time": "2024-07-20T13:53:49.075Z"
   },
   {
    "duration": 51,
    "start_time": "2024-07-20T13:53:49.093Z"
   },
   {
    "duration": 12,
    "start_time": "2024-07-20T13:53:49.147Z"
   },
   {
    "duration": 7,
    "start_time": "2024-07-20T13:53:49.162Z"
   },
   {
    "duration": 58,
    "start_time": "2024-07-20T13:53:49.172Z"
   },
   {
    "duration": 15,
    "start_time": "2024-07-20T13:53:49.237Z"
   },
   {
    "duration": 21,
    "start_time": "2024-07-20T13:53:49.255Z"
   },
   {
    "duration": 13,
    "start_time": "2024-07-20T13:53:49.279Z"
   },
   {
    "duration": 13,
    "start_time": "2024-07-20T13:53:49.331Z"
   },
   {
    "duration": 13,
    "start_time": "2024-07-20T13:53:49.347Z"
   },
   {
    "duration": 576,
    "start_time": "2024-07-20T13:53:49.367Z"
   },
   {
    "duration": 14,
    "start_time": "2024-07-20T13:53:49.946Z"
   },
   {
    "duration": 115,
    "start_time": "2024-07-20T13:53:49.962Z"
   },
   {
    "duration": 52,
    "start_time": "2024-07-20T13:53:50.080Z"
   },
   {
    "duration": 14,
    "start_time": "2024-07-20T13:53:50.135Z"
   },
   {
    "duration": 15,
    "start_time": "2024-07-20T13:53:50.153Z"
   },
   {
    "duration": 139,
    "start_time": "2024-07-20T13:53:50.171Z"
   },
   {
    "duration": 38,
    "start_time": "2024-07-20T13:53:50.313Z"
   },
   {
    "duration": 102,
    "start_time": "2024-07-20T13:53:50.354Z"
   },
   {
    "duration": 15,
    "start_time": "2024-07-20T13:53:50.459Z"
   },
   {
    "duration": 14,
    "start_time": "2024-07-20T13:53:50.478Z"
   },
   {
    "duration": 96,
    "start_time": "2024-07-20T13:53:50.494Z"
   },
   {
    "duration": 92,
    "start_time": "2024-07-20T13:53:50.594Z"
   },
   {
    "duration": 38,
    "start_time": "2024-07-20T13:53:50.697Z"
   },
   {
    "duration": 17,
    "start_time": "2024-07-20T13:53:50.738Z"
   },
   {
    "duration": 20,
    "start_time": "2024-07-20T13:53:50.758Z"
   },
   {
    "duration": 54,
    "start_time": "2024-07-20T13:53:50.781Z"
   },
   {
    "duration": 35,
    "start_time": "2024-07-20T13:53:50.839Z"
   },
   {
    "duration": 22,
    "start_time": "2024-07-20T13:53:50.877Z"
   },
   {
    "duration": 6,
    "start_time": "2024-07-20T13:53:50.932Z"
   },
   {
    "duration": 7,
    "start_time": "2024-07-20T13:53:50.942Z"
   },
   {
    "duration": 9,
    "start_time": "2024-07-20T13:53:50.951Z"
   },
   {
    "duration": 7,
    "start_time": "2024-07-20T13:53:50.964Z"
   },
   {
    "duration": 4,
    "start_time": "2024-07-20T13:53:50.975Z"
   },
   {
    "duration": 267,
    "start_time": "2024-07-20T13:53:50.983Z"
   },
   {
    "duration": 9,
    "start_time": "2024-07-20T13:53:51.253Z"
   },
   {
    "duration": 4,
    "start_time": "2024-07-20T13:53:51.265Z"
   },
   {
    "duration": 5,
    "start_time": "2024-07-20T13:53:51.272Z"
   },
   {
    "duration": 58,
    "start_time": "2024-07-20T13:53:51.280Z"
   },
   {
    "duration": 20,
    "start_time": "2024-07-20T13:53:51.341Z"
   },
   {
    "duration": 128,
    "start_time": "2024-07-20T13:53:51.364Z"
   },
   {
    "duration": 19,
    "start_time": "2024-07-20T13:53:51.495Z"
   },
   {
    "duration": 30,
    "start_time": "2024-07-20T13:53:51.532Z"
   },
   {
    "duration": 3,
    "start_time": "2024-07-20T13:53:51.565Z"
   },
   {
    "duration": 21,
    "start_time": "2024-07-20T13:53:51.571Z"
   },
   {
    "duration": 21,
    "start_time": "2024-07-20T13:53:51.630Z"
   },
   {
    "duration": 10,
    "start_time": "2024-07-20T13:53:51.654Z"
   },
   {
    "duration": 12,
    "start_time": "2024-07-20T13:53:51.667Z"
   },
   {
    "duration": 57,
    "start_time": "2024-07-20T13:53:51.682Z"
   },
   {
    "duration": 7,
    "start_time": "2024-07-20T13:53:51.742Z"
   },
   {
    "duration": 98,
    "start_time": "2024-07-20T13:53:51.756Z"
   },
   {
    "duration": 75,
    "start_time": "2024-07-20T13:53:51.857Z"
   },
   {
    "duration": 22,
    "start_time": "2024-07-20T13:53:51.935Z"
   },
   {
    "duration": 21,
    "start_time": "2024-07-20T13:53:51.961Z"
   },
   {
    "duration": 18,
    "start_time": "2024-07-20T14:00:14.754Z"
   },
   {
    "duration": 18,
    "start_time": "2024-07-20T14:01:10.990Z"
   },
   {
    "duration": 23,
    "start_time": "2024-07-20T14:02:02.048Z"
   },
   {
    "duration": 6,
    "start_time": "2024-07-20T14:02:16.013Z"
   },
   {
    "duration": 23,
    "start_time": "2024-07-20T14:02:18.839Z"
   },
   {
    "duration": 11,
    "start_time": "2024-07-20T14:02:52.886Z"
   },
   {
    "duration": 7,
    "start_time": "2024-07-20T14:17:49.439Z"
   },
   {
    "duration": 4,
    "start_time": "2024-07-20T14:18:00.734Z"
   },
   {
    "duration": 16,
    "start_time": "2024-07-20T14:18:08.995Z"
   },
   {
    "duration": 6,
    "start_time": "2024-07-20T14:18:44.011Z"
   },
   {
    "duration": 5,
    "start_time": "2024-07-20T14:18:48.963Z"
   },
   {
    "duration": 5,
    "start_time": "2024-07-20T14:18:53.347Z"
   },
   {
    "duration": 15,
    "start_time": "2024-07-20T14:19:07.891Z"
   },
   {
    "duration": 4,
    "start_time": "2024-07-20T14:20:41.920Z"
   },
   {
    "duration": 15,
    "start_time": "2024-07-20T14:20:46.677Z"
   },
   {
    "duration": 15,
    "start_time": "2024-07-20T14:21:11.505Z"
   },
   {
    "duration": 4,
    "start_time": "2024-07-20T14:21:32.449Z"
   },
   {
    "duration": 5,
    "start_time": "2024-07-20T14:21:37.098Z"
   },
   {
    "duration": 4,
    "start_time": "2024-07-20T14:21:39.289Z"
   },
   {
    "duration": 219,
    "start_time": "2024-07-20T14:21:42.405Z"
   },
   {
    "duration": 14,
    "start_time": "2024-07-20T14:21:46.705Z"
   },
   {
    "duration": 16,
    "start_time": "2024-07-20T14:21:55.917Z"
   },
   {
    "duration": 107,
    "start_time": "2024-07-20T14:22:00.001Z"
   },
   {
    "duration": 23,
    "start_time": "2024-07-20T14:23:25.668Z"
   },
   {
    "duration": 8,
    "start_time": "2024-07-20T14:23:39.581Z"
   },
   {
    "duration": 22,
    "start_time": "2024-07-20T14:23:46.236Z"
   },
   {
    "duration": 36,
    "start_time": "2024-07-20T14:23:51.997Z"
   },
   {
    "duration": 22,
    "start_time": "2024-07-20T14:24:02.697Z"
   },
   {
    "duration": 104,
    "start_time": "2024-07-20T14:24:45.385Z"
   },
   {
    "duration": 21,
    "start_time": "2024-07-20T14:28:27.729Z"
   },
   {
    "duration": 22,
    "start_time": "2024-07-20T14:28:50.944Z"
   },
   {
    "duration": 23,
    "start_time": "2024-07-20T14:29:20.627Z"
   },
   {
    "duration": 18,
    "start_time": "2024-07-20T14:29:34.929Z"
   },
   {
    "duration": 183,
    "start_time": "2024-07-20T14:29:48.603Z"
   },
   {
    "duration": 24,
    "start_time": "2024-07-20T14:32:52.942Z"
   },
   {
    "duration": 21,
    "start_time": "2024-07-20T14:32:58.885Z"
   },
   {
    "duration": 28,
    "start_time": "2024-07-20T14:33:03.668Z"
   },
   {
    "duration": 842,
    "start_time": "2024-07-20T14:33:21.777Z"
   },
   {
    "duration": 21,
    "start_time": "2024-07-20T14:33:31.641Z"
   },
   {
    "duration": 1483,
    "start_time": "2024-07-20T14:34:00.941Z"
   },
   {
    "duration": 36,
    "start_time": "2024-07-20T14:34:02.431Z"
   },
   {
    "duration": 19,
    "start_time": "2024-07-20T14:34:02.471Z"
   },
   {
    "duration": 36,
    "start_time": "2024-07-20T14:34:02.498Z"
   },
   {
    "duration": 17,
    "start_time": "2024-07-20T14:34:02.538Z"
   },
   {
    "duration": 16,
    "start_time": "2024-07-20T14:34:02.558Z"
   },
   {
    "duration": 11,
    "start_time": "2024-07-20T14:34:02.577Z"
   },
   {
    "duration": 41,
    "start_time": "2024-07-20T14:34:02.593Z"
   },
   {
    "duration": 22,
    "start_time": "2024-07-20T14:34:02.637Z"
   },
   {
    "duration": 13,
    "start_time": "2024-07-20T14:34:02.666Z"
   },
   {
    "duration": 64,
    "start_time": "2024-07-20T14:34:02.682Z"
   },
   {
    "duration": 14,
    "start_time": "2024-07-20T14:34:02.750Z"
   },
   {
    "duration": 13,
    "start_time": "2024-07-20T14:34:02.767Z"
   },
   {
    "duration": 48,
    "start_time": "2024-07-20T14:34:02.783Z"
   },
   {
    "duration": 552,
    "start_time": "2024-07-20T14:34:02.835Z"
   },
   {
    "duration": 14,
    "start_time": "2024-07-20T14:34:03.390Z"
   },
   {
    "duration": 56,
    "start_time": "2024-07-20T14:34:03.431Z"
   },
   {
    "duration": 22,
    "start_time": "2024-07-20T14:34:03.531Z"
   },
   {
    "duration": 13,
    "start_time": "2024-07-20T14:34:03.556Z"
   },
   {
    "duration": 15,
    "start_time": "2024-07-20T14:34:03.574Z"
   },
   {
    "duration": 149,
    "start_time": "2024-07-20T14:34:03.592Z"
   },
   {
    "duration": 27,
    "start_time": "2024-07-20T14:34:03.744Z"
   },
   {
    "duration": 105,
    "start_time": "2024-07-20T14:34:03.774Z"
   },
   {
    "duration": 15,
    "start_time": "2024-07-20T14:34:03.882Z"
   },
   {
    "duration": 38,
    "start_time": "2024-07-20T14:34:03.899Z"
   },
   {
    "duration": 69,
    "start_time": "2024-07-20T14:34:03.940Z"
   },
   {
    "duration": 76,
    "start_time": "2024-07-20T14:34:04.032Z"
   },
   {
    "duration": 16,
    "start_time": "2024-07-20T14:34:04.133Z"
   },
   {
    "duration": 16,
    "start_time": "2024-07-20T14:34:04.152Z"
   },
   {
    "duration": 20,
    "start_time": "2024-07-20T14:34:04.171Z"
   },
   {
    "duration": 49,
    "start_time": "2024-07-20T14:34:04.194Z"
   },
   {
    "duration": 31,
    "start_time": "2024-07-20T14:34:04.246Z"
   },
   {
    "duration": 51,
    "start_time": "2024-07-20T14:34:04.281Z"
   },
   {
    "duration": 5,
    "start_time": "2024-07-20T14:34:04.335Z"
   },
   {
    "duration": 9,
    "start_time": "2024-07-20T14:34:04.344Z"
   },
   {
    "duration": 7,
    "start_time": "2024-07-20T14:34:04.356Z"
   },
   {
    "duration": 7,
    "start_time": "2024-07-20T14:34:04.367Z"
   },
   {
    "duration": 6,
    "start_time": "2024-07-20T14:34:04.377Z"
   },
   {
    "duration": 252,
    "start_time": "2024-07-20T14:34:04.431Z"
   },
   {
    "duration": 9,
    "start_time": "2024-07-20T14:34:04.687Z"
   },
   {
    "duration": 5,
    "start_time": "2024-07-20T14:34:04.699Z"
   },
   {
    "duration": 5,
    "start_time": "2024-07-20T14:34:04.732Z"
   },
   {
    "duration": 27,
    "start_time": "2024-07-20T14:34:04.740Z"
   },
   {
    "duration": 16,
    "start_time": "2024-07-20T14:34:04.771Z"
   },
   {
    "duration": 153,
    "start_time": "2024-07-20T14:34:04.790Z"
   },
   {
    "duration": 20,
    "start_time": "2024-07-20T14:34:04.947Z"
   },
   {
    "duration": 30,
    "start_time": "2024-07-20T14:34:04.970Z"
   },
   {
    "duration": 21,
    "start_time": "2024-07-20T14:34:05.031Z"
   },
   {
    "duration": 12,
    "start_time": "2024-07-20T14:34:05.055Z"
   },
   {
    "duration": 4,
    "start_time": "2024-07-20T14:34:05.070Z"
   },
   {
    "duration": 63,
    "start_time": "2024-07-20T14:34:05.078Z"
   },
   {
    "duration": 21,
    "start_time": "2024-07-20T14:34:05.143Z"
   },
   {
    "duration": 10,
    "start_time": "2024-07-20T14:34:05.167Z"
   },
   {
    "duration": 11,
    "start_time": "2024-07-20T14:34:05.179Z"
   },
   {
    "duration": 20,
    "start_time": "2024-07-20T14:34:05.231Z"
   },
   {
    "duration": 6,
    "start_time": "2024-07-20T14:34:05.255Z"
   },
   {
    "duration": 96,
    "start_time": "2024-07-20T14:34:05.264Z"
   },
   {
    "duration": 75,
    "start_time": "2024-07-20T14:34:05.363Z"
   },
   {
    "duration": 20,
    "start_time": "2024-07-20T14:34:05.441Z"
   },
   {
    "duration": 18,
    "start_time": "2024-07-20T14:34:05.463Z"
   },
   {
    "duration": 62,
    "start_time": "2024-07-20T14:56:48.724Z"
   },
   {
    "duration": 74,
    "start_time": "2024-07-20T14:57:21.717Z"
   },
   {
    "duration": 709,
    "start_time": "2024-07-20T14:58:42.222Z"
   },
   {
    "duration": 88,
    "start_time": "2024-07-20T15:01:14.524Z"
   },
   {
    "duration": 85,
    "start_time": "2024-07-20T15:01:31.438Z"
   },
   {
    "duration": 81,
    "start_time": "2024-07-20T15:04:10.122Z"
   },
   {
    "duration": 537,
    "start_time": "2024-07-20T15:07:04.010Z"
   },
   {
    "duration": 92,
    "start_time": "2024-07-20T15:07:10.734Z"
   },
   {
    "duration": 92,
    "start_time": "2024-07-20T15:07:24.859Z"
   },
   {
    "duration": 62,
    "start_time": "2024-07-20T15:08:17.946Z"
   },
   {
    "duration": 66,
    "start_time": "2024-07-20T15:08:36.862Z"
   },
   {
    "duration": 67,
    "start_time": "2024-07-20T15:08:40.391Z"
   },
   {
    "duration": 64,
    "start_time": "2024-07-20T15:08:44.491Z"
   },
   {
    "duration": 65,
    "start_time": "2024-07-20T15:08:56.816Z"
   },
   {
    "duration": 9,
    "start_time": "2024-07-20T15:09:16.623Z"
   },
   {
    "duration": 61,
    "start_time": "2024-07-20T15:09:59.111Z"
   },
   {
    "duration": 64,
    "start_time": "2024-07-20T15:10:05.824Z"
   },
   {
    "duration": 110,
    "start_time": "2024-07-20T15:12:16.531Z"
   },
   {
    "duration": 8,
    "start_time": "2024-07-20T15:12:35.558Z"
   },
   {
    "duration": 63,
    "start_time": "2024-07-20T15:12:39.779Z"
   },
   {
    "duration": 162,
    "start_time": "2024-07-20T15:12:46.611Z"
   },
   {
    "duration": 35,
    "start_time": "2024-07-20T15:13:43.848Z"
   },
   {
    "duration": 72,
    "start_time": "2024-07-20T15:14:10.480Z"
   },
   {
    "duration": 110,
    "start_time": "2024-07-20T15:14:22.355Z"
   },
   {
    "duration": 64,
    "start_time": "2024-07-20T15:14:27.432Z"
   },
   {
    "duration": 63,
    "start_time": "2024-07-20T15:14:48.306Z"
   },
   {
    "duration": 63,
    "start_time": "2024-07-20T15:15:31.557Z"
   },
   {
    "duration": 63,
    "start_time": "2024-07-20T17:37:46.069Z"
   },
   {
    "duration": 63,
    "start_time": "2024-07-20T17:38:02.942Z"
   },
   {
    "duration": 64,
    "start_time": "2024-07-20T17:38:26.594Z"
   },
   {
    "duration": 63,
    "start_time": "2024-07-20T17:38:30.766Z"
   },
   {
    "duration": 65,
    "start_time": "2024-07-20T17:38:34.365Z"
   },
   {
    "duration": 888,
    "start_time": "2024-07-20T17:39:54.986Z"
   },
   {
    "duration": 409,
    "start_time": "2024-07-20T17:40:04.738Z"
   },
   {
    "duration": 372,
    "start_time": "2024-07-20T17:40:25.297Z"
   },
   {
    "duration": 69,
    "start_time": "2024-07-20T17:40:44.481Z"
   },
   {
    "duration": 62,
    "start_time": "2024-07-20T17:40:52.943Z"
   },
   {
    "duration": 63,
    "start_time": "2024-07-20T17:41:16.616Z"
   },
   {
    "duration": 61,
    "start_time": "2024-07-20T17:41:20.770Z"
   },
   {
    "duration": 63,
    "start_time": "2024-07-20T17:41:29.809Z"
   },
   {
    "duration": 64,
    "start_time": "2024-07-20T17:42:00.429Z"
   },
   {
    "duration": 61,
    "start_time": "2024-07-20T17:42:46.566Z"
   },
   {
    "duration": 62,
    "start_time": "2024-07-20T17:43:59.253Z"
   },
   {
    "duration": 73,
    "start_time": "2024-07-20T17:44:19.605Z"
   },
   {
    "duration": 70,
    "start_time": "2024-07-20T17:44:26.282Z"
   },
   {
    "duration": 64,
    "start_time": "2024-07-20T17:44:30.357Z"
   },
   {
    "duration": 68,
    "start_time": "2024-07-20T17:46:30.722Z"
   },
   {
    "duration": 344,
    "start_time": "2024-07-20T17:46:55.051Z"
   },
   {
    "duration": 360,
    "start_time": "2024-07-20T17:47:27.871Z"
   },
   {
    "duration": 7,
    "start_time": "2024-07-20T17:50:12.119Z"
   },
   {
    "duration": 8,
    "start_time": "2024-07-20T17:50:20.839Z"
   },
   {
    "duration": 6,
    "start_time": "2024-07-20T17:50:52.652Z"
   },
   {
    "duration": 6,
    "start_time": "2024-07-20T17:50:59.680Z"
   },
   {
    "duration": 386,
    "start_time": "2024-07-20T17:55:21.337Z"
   },
   {
    "duration": 378,
    "start_time": "2024-07-20T17:56:06.697Z"
   },
   {
    "duration": 382,
    "start_time": "2024-07-20T17:57:08.601Z"
   },
   {
    "duration": 391,
    "start_time": "2024-07-20T17:58:21.501Z"
   },
   {
    "duration": 399,
    "start_time": "2024-07-20T17:58:39.301Z"
   },
   {
    "duration": 334,
    "start_time": "2024-07-20T17:59:03.157Z"
   },
   {
    "duration": 346,
    "start_time": "2024-07-20T17:59:07.861Z"
   },
   {
    "duration": 543,
    "start_time": "2024-07-20T18:00:58.129Z"
   },
   {
    "duration": 343,
    "start_time": "2024-07-20T18:01:05.655Z"
   },
   {
    "duration": 80,
    "start_time": "2024-07-20T18:01:17.483Z"
   },
   {
    "duration": 334,
    "start_time": "2024-07-20T18:01:25.057Z"
   },
   {
    "duration": 26,
    "start_time": "2024-07-20T18:01:37.705Z"
   },
   {
    "duration": 457,
    "start_time": "2024-07-20T18:01:48.694Z"
   },
   {
    "duration": 425,
    "start_time": "2024-07-20T18:01:56.874Z"
   },
   {
    "duration": 237,
    "start_time": "2024-07-20T18:02:11.386Z"
   },
   {
    "duration": 361,
    "start_time": "2024-07-20T18:02:24.522Z"
   },
   {
    "duration": 328,
    "start_time": "2024-07-20T18:02:32.770Z"
   },
   {
    "duration": 28,
    "start_time": "2024-07-20T18:02:38.615Z"
   },
   {
    "duration": 339,
    "start_time": "2024-07-20T18:03:15.159Z"
   },
   {
    "duration": 391,
    "start_time": "2024-07-20T18:04:26.389Z"
   },
   {
    "duration": 838,
    "start_time": "2024-07-20T18:05:19.945Z"
   },
   {
    "duration": 388,
    "start_time": "2024-07-20T18:05:43.587Z"
   },
   {
    "duration": 445,
    "start_time": "2024-07-20T18:05:55.926Z"
   },
   {
    "duration": 407,
    "start_time": "2024-07-20T18:06:06.308Z"
   },
   {
    "duration": 217,
    "start_time": "2024-07-20T18:08:13.186Z"
   },
   {
    "duration": 29,
    "start_time": "2024-07-20T18:08:36.022Z"
   },
   {
    "duration": 349,
    "start_time": "2024-07-20T18:08:41.670Z"
   },
   {
    "duration": 426,
    "start_time": "2024-07-20T18:09:03.742Z"
   },
   {
    "duration": 417,
    "start_time": "2024-07-20T18:10:42.307Z"
   },
   {
    "duration": 432,
    "start_time": "2024-07-20T18:10:49.906Z"
   },
   {
    "duration": 400,
    "start_time": "2024-07-20T18:10:54.827Z"
   },
   {
    "duration": 5,
    "start_time": "2024-07-20T18:14:37.761Z"
   },
   {
    "duration": 6,
    "start_time": "2024-07-20T18:14:47.327Z"
   },
   {
    "duration": 5,
    "start_time": "2024-07-20T18:15:01.440Z"
   },
   {
    "duration": 8,
    "start_time": "2024-07-20T18:16:32.626Z"
   },
   {
    "duration": 91,
    "start_time": "2024-07-20T18:22:26.653Z"
   },
   {
    "duration": 86,
    "start_time": "2024-07-20T18:30:20.589Z"
   },
   {
    "duration": 94,
    "start_time": "2024-07-20T18:30:41.366Z"
   },
   {
    "duration": 80,
    "start_time": "2024-07-20T18:30:46.526Z"
   },
   {
    "duration": 75,
    "start_time": "2024-07-20T18:30:58.046Z"
   },
   {
    "duration": 81,
    "start_time": "2024-07-20T18:31:56.890Z"
   },
   {
    "duration": 79,
    "start_time": "2024-07-20T18:32:15.782Z"
   },
   {
    "duration": 91,
    "start_time": "2024-07-20T18:32:25.826Z"
   },
   {
    "duration": 80,
    "start_time": "2024-07-20T18:32:36.418Z"
   },
   {
    "duration": 1050,
    "start_time": "2024-07-20T18:33:07.490Z"
   },
   {
    "duration": 80,
    "start_time": "2024-07-20T18:33:14.074Z"
   },
   {
    "duration": 77,
    "start_time": "2024-07-20T18:33:19.130Z"
   },
   {
    "duration": 79,
    "start_time": "2024-07-20T18:33:29.076Z"
   },
   {
    "duration": 82,
    "start_time": "2024-07-20T18:39:12.773Z"
   },
   {
    "duration": 84,
    "start_time": "2024-07-20T18:39:35.509Z"
   },
   {
    "duration": 89,
    "start_time": "2024-07-20T18:40:08.538Z"
   },
   {
    "duration": 174,
    "start_time": "2024-07-20T18:43:56.351Z"
   },
   {
    "duration": 87,
    "start_time": "2024-07-20T18:44:04.039Z"
   },
   {
    "duration": 86,
    "start_time": "2024-07-20T18:44:08.926Z"
   },
   {
    "duration": 87,
    "start_time": "2024-07-20T18:44:17.294Z"
   },
   {
    "duration": 94,
    "start_time": "2024-07-20T18:44:28.574Z"
   },
   {
    "duration": 90,
    "start_time": "2024-07-20T18:44:35.758Z"
   },
   {
    "duration": 152,
    "start_time": "2024-07-20T18:44:39.511Z"
   },
   {
    "duration": 86,
    "start_time": "2024-07-20T18:44:43.815Z"
   },
   {
    "duration": 87,
    "start_time": "2024-07-20T18:44:49.676Z"
   },
   {
    "duration": 153,
    "start_time": "2024-07-20T18:48:10.523Z"
   },
   {
    "duration": 86,
    "start_time": "2024-07-20T18:48:18.787Z"
   },
   {
    "duration": 17,
    "start_time": "2024-07-20T18:48:51.427Z"
   },
   {
    "duration": 1397,
    "start_time": "2024-07-20T18:52:46.490Z"
   },
   {
    "duration": 26,
    "start_time": "2024-07-20T18:52:47.890Z"
   },
   {
    "duration": 24,
    "start_time": "2024-07-20T18:52:47.919Z"
   },
   {
    "duration": 16,
    "start_time": "2024-07-20T18:52:47.947Z"
   },
   {
    "duration": 16,
    "start_time": "2024-07-20T18:52:47.966Z"
   },
   {
    "duration": 53,
    "start_time": "2024-07-20T18:52:47.985Z"
   },
   {
    "duration": 12,
    "start_time": "2024-07-20T18:52:48.041Z"
   },
   {
    "duration": 7,
    "start_time": "2024-07-20T18:52:48.056Z"
   },
   {
    "duration": 20,
    "start_time": "2024-07-20T18:52:48.066Z"
   },
   {
    "duration": 14,
    "start_time": "2024-07-20T18:52:48.132Z"
   },
   {
    "duration": 21,
    "start_time": "2024-07-20T18:52:48.148Z"
   },
   {
    "duration": 13,
    "start_time": "2024-07-20T18:52:48.172Z"
   },
   {
    "duration": 45,
    "start_time": "2024-07-20T18:52:48.188Z"
   },
   {
    "duration": 14,
    "start_time": "2024-07-20T18:52:48.236Z"
   },
   {
    "duration": 578,
    "start_time": "2024-07-20T18:52:48.254Z"
   },
   {
    "duration": 14,
    "start_time": "2024-07-20T18:52:48.835Z"
   },
   {
    "duration": 114,
    "start_time": "2024-07-20T18:52:48.852Z"
   },
   {
    "duration": 20,
    "start_time": "2024-07-20T18:52:48.969Z"
   },
   {
    "duration": 45,
    "start_time": "2024-07-20T18:52:48.992Z"
   },
   {
    "duration": 9,
    "start_time": "2024-07-20T18:52:49.040Z"
   },
   {
    "duration": 27,
    "start_time": "2024-07-20T18:52:49.052Z"
   },
   {
    "duration": 118,
    "start_time": "2024-07-20T18:52:49.083Z"
   },
   {
    "duration": 28,
    "start_time": "2024-07-20T18:52:49.204Z"
   },
   {
    "duration": 13,
    "start_time": "2024-07-20T18:52:49.235Z"
   },
   {
    "duration": 405,
    "start_time": "2024-07-20T18:52:49.251Z"
   },
   {
    "duration": 4,
    "start_time": "2024-07-20T18:52:49.660Z"
   },
   {
    "duration": 17,
    "start_time": "2024-07-20T18:52:49.667Z"
   },
   {
    "duration": 54,
    "start_time": "2024-07-20T18:52:49.694Z"
   },
   {
    "duration": 10,
    "start_time": "2024-07-20T18:52:49.752Z"
   },
   {
    "duration": 32,
    "start_time": "2024-07-20T18:52:49.769Z"
   },
   {
    "duration": 3,
    "start_time": "2024-07-20T18:52:49.831Z"
   },
   {
    "duration": 15,
    "start_time": "2024-07-20T18:52:49.837Z"
   },
   {
    "duration": 9,
    "start_time": "2024-07-20T18:52:49.855Z"
   },
   {
    "duration": 6,
    "start_time": "2024-07-20T18:52:49.866Z"
   },
   {
    "duration": 5,
    "start_time": "2024-07-20T18:52:49.875Z"
   },
   {
    "duration": 268,
    "start_time": "2024-07-20T18:52:49.884Z"
   },
   {
    "duration": 9,
    "start_time": "2024-07-20T18:52:50.156Z"
   },
   {
    "duration": 4,
    "start_time": "2024-07-20T18:52:50.167Z"
   },
   {
    "duration": 4,
    "start_time": "2024-07-20T18:52:50.174Z"
   },
   {
    "duration": 53,
    "start_time": "2024-07-20T18:52:50.181Z"
   },
   {
    "duration": 126,
    "start_time": "2024-07-20T18:52:50.237Z"
   },
   {
    "duration": 23,
    "start_time": "2024-07-20T18:52:50.366Z"
   },
   {
    "duration": 57,
    "start_time": "2024-07-20T18:52:50.392Z"
   },
   {
    "duration": 21,
    "start_time": "2024-07-20T18:52:50.452Z"
   },
   {
    "duration": 477,
    "start_time": "2024-07-20T18:52:50.476Z"
   },
   {
    "duration": 6,
    "start_time": "2024-07-20T18:52:50.956Z"
   },
   {
    "duration": 95,
    "start_time": "2024-07-20T18:52:50.966Z"
   },
   {
    "duration": 6,
    "start_time": "2024-07-20T20:32:20.808Z"
   },
   {
    "duration": 4926,
    "start_time": "2024-07-22T14:22:03.052Z"
   },
   {
    "duration": 47,
    "start_time": "2024-07-22T14:22:07.983Z"
   },
   {
    "duration": 16,
    "start_time": "2024-07-22T14:22:08.032Z"
   },
   {
    "duration": 17,
    "start_time": "2024-07-22T14:22:08.052Z"
   },
   {
    "duration": 45,
    "start_time": "2024-07-22T14:22:08.074Z"
   },
   {
    "duration": 17,
    "start_time": "2024-07-22T14:22:08.122Z"
   },
   {
    "duration": 11,
    "start_time": "2024-07-22T14:22:08.141Z"
   },
   {
    "duration": 6,
    "start_time": "2024-07-22T14:22:08.156Z"
   },
   {
    "duration": 60,
    "start_time": "2024-07-22T14:22:08.166Z"
   },
   {
    "duration": 14,
    "start_time": "2024-07-22T14:22:08.229Z"
   },
   {
    "duration": 20,
    "start_time": "2024-07-22T14:22:08.246Z"
   },
   {
    "duration": 16,
    "start_time": "2024-07-22T14:22:08.306Z"
   },
   {
    "duration": 13,
    "start_time": "2024-07-22T14:22:08.325Z"
   },
   {
    "duration": 14,
    "start_time": "2024-07-22T14:22:08.345Z"
   },
   {
    "duration": 622,
    "start_time": "2024-07-22T14:22:08.362Z"
   },
   {
    "duration": 21,
    "start_time": "2024-07-22T14:22:08.987Z"
   },
   {
    "duration": 117,
    "start_time": "2024-07-22T14:22:09.010Z"
   },
   {
    "duration": 19,
    "start_time": "2024-07-22T14:22:09.130Z"
   },
   {
    "duration": 13,
    "start_time": "2024-07-22T14:22:09.151Z"
   },
   {
    "duration": 44,
    "start_time": "2024-07-22T14:22:09.168Z"
   },
   {
    "duration": 29,
    "start_time": "2024-07-22T14:22:09.214Z"
   },
   {
    "duration": 103,
    "start_time": "2024-07-22T14:22:09.246Z"
   },
   {
    "duration": 16,
    "start_time": "2024-07-22T14:22:09.352Z"
   },
   {
    "duration": 38,
    "start_time": "2024-07-22T14:22:09.371Z"
   },
   {
    "duration": 329,
    "start_time": "2024-07-22T14:22:09.411Z"
   },
   {
    "duration": 3,
    "start_time": "2024-07-22T14:22:09.743Z"
   },
   {
    "duration": 15,
    "start_time": "2024-07-22T14:22:09.750Z"
   },
   {
    "duration": 49,
    "start_time": "2024-07-22T14:22:09.768Z"
   },
   {
    "duration": 9,
    "start_time": "2024-07-22T14:22:09.820Z"
   },
   {
    "duration": 30,
    "start_time": "2024-07-22T14:22:09.832Z"
   },
   {
    "duration": 4,
    "start_time": "2024-07-22T14:22:09.865Z"
   },
   {
    "duration": 7,
    "start_time": "2024-07-22T14:22:09.907Z"
   },
   {
    "duration": 7,
    "start_time": "2024-07-22T14:22:09.917Z"
   },
   {
    "duration": 6,
    "start_time": "2024-07-22T14:22:09.928Z"
   },
   {
    "duration": 5,
    "start_time": "2024-07-22T14:22:09.937Z"
   },
   {
    "duration": 266,
    "start_time": "2024-07-22T14:22:09.945Z"
   },
   {
    "duration": 9,
    "start_time": "2024-07-22T14:22:10.214Z"
   },
   {
    "duration": 3,
    "start_time": "2024-07-22T14:22:10.227Z"
   },
   {
    "duration": 4,
    "start_time": "2024-07-22T14:22:10.233Z"
   },
   {
    "duration": 16,
    "start_time": "2024-07-22T14:22:10.240Z"
   },
   {
    "duration": 124,
    "start_time": "2024-07-22T14:22:10.308Z"
   },
   {
    "duration": 20,
    "start_time": "2024-07-22T14:22:10.435Z"
   },
   {
    "duration": 51,
    "start_time": "2024-07-22T14:22:10.457Z"
   },
   {
    "duration": 21,
    "start_time": "2024-07-22T14:22:10.513Z"
   },
   {
    "duration": 478,
    "start_time": "2024-07-22T14:22:10.536Z"
   },
   {
    "duration": 6,
    "start_time": "2024-07-22T14:22:11.018Z"
   },
   {
    "duration": 87,
    "start_time": "2024-07-22T14:22:11.028Z"
   },
   {
    "duration": 13,
    "start_time": "2024-07-22T14:42:02.519Z"
   },
   {
    "duration": 23,
    "start_time": "2024-07-22T14:42:12.929Z"
   },
   {
    "duration": 237,
    "start_time": "2024-07-22T15:20:50.353Z"
   },
   {
    "duration": 203,
    "start_time": "2024-07-22T15:22:05.924Z"
   },
   {
    "duration": 29,
    "start_time": "2024-07-22T15:24:31.389Z"
   },
   {
    "duration": 9,
    "start_time": "2024-07-22T15:30:47.299Z"
   },
   {
    "duration": 16,
    "start_time": "2024-07-22T15:30:55.044Z"
   },
   {
    "duration": 17,
    "start_time": "2024-07-22T15:31:01.303Z"
   },
   {
    "duration": 111,
    "start_time": "2024-07-22T15:31:43.499Z"
   },
   {
    "duration": 21,
    "start_time": "2024-07-22T15:33:13.426Z"
   },
   {
    "duration": 332,
    "start_time": "2024-07-22T15:33:51.624Z"
   },
   {
    "duration": 58,
    "start_time": "2024-07-22T15:34:03.081Z"
   },
   {
    "duration": 12,
    "start_time": "2024-07-22T15:45:43.499Z"
   },
   {
    "duration": 22,
    "start_time": "2024-07-22T15:47:33.114Z"
   },
   {
    "duration": 21,
    "start_time": "2024-07-22T15:47:42.754Z"
   },
   {
    "duration": 330,
    "start_time": "2024-07-22T15:48:27.226Z"
   },
   {
    "duration": 6,
    "start_time": "2024-07-22T15:48:37.263Z"
   },
   {
    "duration": 388,
    "start_time": "2024-07-22T15:51:09.614Z"
   },
   {
    "duration": 443,
    "start_time": "2024-07-22T15:51:15.536Z"
   },
   {
    "duration": 379,
    "start_time": "2024-07-22T15:51:20.496Z"
   },
   {
    "duration": 407,
    "start_time": "2024-07-22T15:51:24.382Z"
   },
   {
    "duration": 341,
    "start_time": "2024-07-22T15:51:30.063Z"
   },
   {
    "duration": 6,
    "start_time": "2024-07-22T15:51:59.763Z"
   },
   {
    "duration": 69,
    "start_time": "2024-07-22T15:52:03.622Z"
   },
   {
    "duration": 104,
    "start_time": "2024-07-22T16:02:00.190Z"
   },
   {
    "duration": 1342,
    "start_time": "2024-07-22T16:25:51.625Z"
   },
   {
    "duration": 25,
    "start_time": "2024-07-22T16:25:52.970Z"
   },
   {
    "duration": 17,
    "start_time": "2024-07-22T16:25:53.006Z"
   },
   {
    "duration": 17,
    "start_time": "2024-07-22T16:25:53.028Z"
   },
   {
    "duration": 15,
    "start_time": "2024-07-22T16:25:53.048Z"
   },
   {
    "duration": 48,
    "start_time": "2024-07-22T16:25:53.067Z"
   },
   {
    "duration": 12,
    "start_time": "2024-07-22T16:25:53.118Z"
   },
   {
    "duration": 7,
    "start_time": "2024-07-22T16:25:53.133Z"
   },
   {
    "duration": 63,
    "start_time": "2024-07-22T16:25:53.143Z"
   },
   {
    "duration": 15,
    "start_time": "2024-07-22T16:25:53.211Z"
   },
   {
    "duration": 20,
    "start_time": "2024-07-22T16:25:53.229Z"
   },
   {
    "duration": 14,
    "start_time": "2024-07-22T16:25:53.251Z"
   },
   {
    "duration": 49,
    "start_time": "2024-07-22T16:25:53.268Z"
   },
   {
    "duration": 16,
    "start_time": "2024-07-22T16:25:53.321Z"
   },
   {
    "duration": 575,
    "start_time": "2024-07-22T16:25:53.340Z"
   },
   {
    "duration": 14,
    "start_time": "2024-07-22T16:25:53.918Z"
   },
   {
    "duration": 115,
    "start_time": "2024-07-22T16:25:53.935Z"
   },
   {
    "duration": 60,
    "start_time": "2024-07-22T16:25:54.054Z"
   },
   {
    "duration": 13,
    "start_time": "2024-07-22T16:25:54.117Z"
   },
   {
    "duration": 8,
    "start_time": "2024-07-22T16:25:54.133Z"
   },
   {
    "duration": 25,
    "start_time": "2024-07-22T16:25:54.147Z"
   },
   {
    "duration": 82,
    "start_time": "2024-07-22T16:25:54.208Z"
   },
   {
    "duration": 15,
    "start_time": "2024-07-22T16:25:54.307Z"
   },
   {
    "duration": 12,
    "start_time": "2024-07-22T16:25:54.327Z"
   },
   {
    "duration": 416,
    "start_time": "2024-07-22T16:25:54.342Z"
   },
   {
    "duration": 3,
    "start_time": "2024-07-22T16:25:54.761Z"
   },
   {
    "duration": 16,
    "start_time": "2024-07-22T16:25:54.767Z"
   },
   {
    "duration": 19,
    "start_time": "2024-07-22T16:25:54.813Z"
   },
   {
    "duration": 10,
    "start_time": "2024-07-22T16:25:54.836Z"
   },
   {
    "duration": 62,
    "start_time": "2024-07-22T16:25:54.848Z"
   },
   {
    "duration": 3,
    "start_time": "2024-07-22T16:25:54.913Z"
   },
   {
    "duration": 9,
    "start_time": "2024-07-22T16:25:54.919Z"
   },
   {
    "duration": 264,
    "start_time": "2024-07-22T16:25:54.931Z"
   },
   {
    "duration": 34,
    "start_time": "2024-07-22T16:25:55.199Z"
   },
   {
    "duration": 10,
    "start_time": "2024-07-22T16:25:55.235Z"
   },
   {
    "duration": 4,
    "start_time": "2024-07-22T16:25:55.248Z"
   },
   {
    "duration": 4,
    "start_time": "2024-07-22T16:25:55.255Z"
   },
   {
    "duration": 57,
    "start_time": "2024-07-22T16:25:55.263Z"
   },
   {
    "duration": 127,
    "start_time": "2024-07-22T16:25:55.322Z"
   },
   {
    "duration": 21,
    "start_time": "2024-07-22T16:25:55.452Z"
   },
   {
    "duration": 78,
    "start_time": "2024-07-22T16:25:55.476Z"
   },
   {
    "duration": 19,
    "start_time": "2024-07-22T16:25:55.558Z"
   },
   {
    "duration": 357,
    "start_time": "2024-07-22T16:25:55.605Z"
   },
   {
    "duration": 5,
    "start_time": "2024-07-22T16:25:55.965Z"
   },
   {
    "duration": 88,
    "start_time": "2024-07-22T16:25:55.973Z"
   },
   {
    "duration": 5106,
    "start_time": "2024-07-24T17:48:32.534Z"
   },
   {
    "duration": 36,
    "start_time": "2024-07-24T17:48:37.644Z"
   },
   {
    "duration": 17,
    "start_time": "2024-07-24T17:48:37.682Z"
   },
   {
    "duration": 16,
    "start_time": "2024-07-24T17:48:37.715Z"
   },
   {
    "duration": 15,
    "start_time": "2024-07-24T17:48:37.734Z"
   },
   {
    "duration": 16,
    "start_time": "2024-07-24T17:48:37.752Z"
   },
   {
    "duration": 47,
    "start_time": "2024-07-24T17:48:37.772Z"
   },
   {
    "duration": 7,
    "start_time": "2024-07-24T17:48:37.822Z"
   },
   {
    "duration": 21,
    "start_time": "2024-07-24T17:48:37.832Z"
   },
   {
    "duration": 55,
    "start_time": "2024-07-24T17:48:37.858Z"
   },
   {
    "duration": 21,
    "start_time": "2024-07-24T17:48:37.916Z"
   },
   {
    "duration": 13,
    "start_time": "2024-07-24T17:48:37.939Z"
   },
   {
    "duration": 17,
    "start_time": "2024-07-24T17:48:37.955Z"
   },
   {
    "duration": 13,
    "start_time": "2024-07-24T17:48:43.325Z"
   },
   {
    "duration": 930,
    "start_time": "2024-07-24T17:48:43.512Z"
   },
   {
    "duration": 17,
    "start_time": "2024-07-24T17:48:44.499Z"
   },
   {
    "duration": 55,
    "start_time": "2024-07-24T17:48:52.905Z"
   },
   {
    "duration": 19,
    "start_time": "2024-07-24T17:48:59.385Z"
   },
   {
    "duration": 14,
    "start_time": "2024-07-24T17:49:00.111Z"
   },
   {
    "duration": 7,
    "start_time": "2024-07-24T17:49:00.734Z"
   },
   {
    "duration": 32,
    "start_time": "2024-07-24T17:49:01.527Z"
   },
   {
    "duration": 105,
    "start_time": "2024-07-24T17:49:02.916Z"
   },
   {
    "duration": 16,
    "start_time": "2024-07-24T17:49:06.587Z"
   },
   {
    "duration": 14,
    "start_time": "2024-07-24T17:49:07.896Z"
   },
   {
    "duration": 857,
    "start_time": "2024-07-24T17:49:29.279Z"
   },
   {
    "duration": 3,
    "start_time": "2024-07-24T17:49:37.404Z"
   },
   {
    "duration": 16,
    "start_time": "2024-07-24T17:49:37.882Z"
   },
   {
    "duration": 20,
    "start_time": "2024-07-24T17:49:38.956Z"
   },
   {
    "duration": 10,
    "start_time": "2024-07-24T17:49:40.745Z"
   },
   {
    "duration": 41,
    "start_time": "2024-07-24T17:49:41.451Z"
   },
   {
    "duration": 3,
    "start_time": "2024-07-24T17:49:44.690Z"
   },
   {
    "duration": 8,
    "start_time": "2024-07-24T17:49:46.559Z"
   },
   {
    "duration": 231,
    "start_time": "2024-07-24T17:49:47.936Z"
   },
   {
    "duration": 31,
    "start_time": "2024-07-24T18:00:45.293Z"
   },
   {
    "duration": 10,
    "start_time": "2024-07-24T18:00:46.858Z"
   },
   {
    "duration": 3,
    "start_time": "2024-07-24T18:00:47.716Z"
   },
   {
    "duration": 2,
    "start_time": "2024-07-24T18:00:48.298Z"
   },
   {
    "duration": 19,
    "start_time": "2024-07-24T18:00:50.002Z"
   },
   {
    "duration": 129,
    "start_time": "2024-07-24T18:00:51.908Z"
   },
   {
    "duration": 7,
    "start_time": "2024-07-24T18:01:36.381Z"
   },
   {
    "duration": 22,
    "start_time": "2024-07-24T18:01:52.570Z"
   },
   {
    "duration": 68,
    "start_time": "2024-07-24T18:01:53.313Z"
   },
   {
    "duration": 26,
    "start_time": "2024-07-24T18:03:44.462Z"
   },
   {
    "duration": 366,
    "start_time": "2024-07-24T18:03:44.896Z"
   },
   {
    "duration": 5,
    "start_time": "2024-07-24T18:04:43.637Z"
   },
   {
    "duration": 71,
    "start_time": "2024-07-24T18:04:44.004Z"
   },
   {
    "duration": 5047,
    "start_time": "2024-07-24T20:28:25.216Z"
   },
   {
    "duration": 35,
    "start_time": "2024-07-24T20:28:30.266Z"
   },
   {
    "duration": 24,
    "start_time": "2024-07-24T20:28:30.304Z"
   },
   {
    "duration": 17,
    "start_time": "2024-07-24T20:28:30.334Z"
   },
   {
    "duration": 16,
    "start_time": "2024-07-24T20:28:30.358Z"
   },
   {
    "duration": 49,
    "start_time": "2024-07-24T20:28:30.378Z"
   },
   {
    "duration": 11,
    "start_time": "2024-07-24T20:28:30.430Z"
   },
   {
    "duration": 7,
    "start_time": "2024-07-24T20:28:30.444Z"
   },
   {
    "duration": 61,
    "start_time": "2024-07-24T20:28:30.453Z"
   },
   {
    "duration": 15,
    "start_time": "2024-07-24T20:28:30.520Z"
   },
   {
    "duration": 22,
    "start_time": "2024-07-24T20:28:30.539Z"
   },
   {
    "duration": 49,
    "start_time": "2024-07-24T20:28:30.564Z"
   },
   {
    "duration": 13,
    "start_time": "2024-07-24T20:28:30.616Z"
   },
   {
    "duration": 13,
    "start_time": "2024-07-24T20:28:30.632Z"
   },
   {
    "duration": 634,
    "start_time": "2024-07-24T20:28:30.648Z"
   },
   {
    "duration": 14,
    "start_time": "2024-07-24T20:28:31.285Z"
   },
   {
    "duration": 104,
    "start_time": "2024-07-24T20:28:31.313Z"
   },
   {
    "duration": 19,
    "start_time": "2024-07-24T20:28:31.420Z"
   },
   {
    "duration": 13,
    "start_time": "2024-07-24T20:28:31.442Z"
   },
   {
    "duration": 8,
    "start_time": "2024-07-24T20:28:31.458Z"
   },
   {
    "duration": 68,
    "start_time": "2024-07-24T20:28:31.469Z"
   },
   {
    "duration": 107,
    "start_time": "2024-07-24T20:28:31.541Z"
   },
   {
    "duration": 16,
    "start_time": "2024-07-24T20:28:31.652Z"
   },
   {
    "duration": 42,
    "start_time": "2024-07-24T20:28:31.670Z"
   },
   {
    "duration": 331,
    "start_time": "2024-07-24T20:28:31.715Z"
   },
   {
    "duration": 4,
    "start_time": "2024-07-24T20:28:32.049Z"
   },
   {
    "duration": 16,
    "start_time": "2024-07-24T20:28:32.056Z"
   },
   {
    "duration": 49,
    "start_time": "2024-07-24T20:28:32.080Z"
   },
   {
    "duration": 9,
    "start_time": "2024-07-24T20:28:32.132Z"
   },
   {
    "duration": 30,
    "start_time": "2024-07-24T20:28:32.144Z"
   },
   {
    "duration": 36,
    "start_time": "2024-07-24T20:28:32.177Z"
   },
   {
    "duration": 7,
    "start_time": "2024-07-24T20:28:32.217Z"
   },
   {
    "duration": 256,
    "start_time": "2024-07-24T20:28:32.227Z"
   },
   {
    "duration": 41,
    "start_time": "2024-07-24T20:28:32.487Z"
   },
   {
    "duration": 10,
    "start_time": "2024-07-24T20:28:32.531Z"
   },
   {
    "duration": 4,
    "start_time": "2024-07-24T20:28:32.544Z"
   },
   {
    "duration": 4,
    "start_time": "2024-07-24T20:28:32.551Z"
   },
   {
    "duration": 59,
    "start_time": "2024-07-24T20:28:32.558Z"
   },
   {
    "duration": 139,
    "start_time": "2024-07-24T20:28:32.621Z"
   },
   {
    "duration": 23,
    "start_time": "2024-07-24T20:28:32.764Z"
   },
   {
    "duration": 75,
    "start_time": "2024-07-24T20:28:32.790Z"
   },
   {
    "duration": 21,
    "start_time": "2024-07-24T20:28:32.868Z"
   },
   {
    "duration": 362,
    "start_time": "2024-07-24T20:28:32.914Z"
   },
   {
    "duration": 7,
    "start_time": "2024-07-24T20:28:33.279Z"
   },
   {
    "duration": 96,
    "start_time": "2024-07-24T20:28:33.290Z"
   },
   {
    "duration": 1472,
    "start_time": "2024-07-25T19:12:43.604Z"
   },
   {
    "duration": 1438,
    "start_time": "2024-07-25T20:35:21.666Z"
   },
   {
    "duration": 40,
    "start_time": "2024-07-25T20:35:23.108Z"
   },
   {
    "duration": 15,
    "start_time": "2024-07-25T20:35:23.151Z"
   },
   {
    "duration": 16,
    "start_time": "2024-07-25T20:35:23.170Z"
   },
   {
    "duration": 16,
    "start_time": "2024-07-25T20:35:23.189Z"
   },
   {
    "duration": 39,
    "start_time": "2024-07-25T20:35:23.207Z"
   },
   {
    "duration": 16,
    "start_time": "2024-07-25T20:35:23.250Z"
   },
   {
    "duration": 6,
    "start_time": "2024-07-25T20:35:23.269Z"
   },
   {
    "duration": 59,
    "start_time": "2024-07-25T20:35:23.278Z"
   },
   {
    "duration": 15,
    "start_time": "2024-07-25T20:35:23.342Z"
   },
   {
    "duration": 24,
    "start_time": "2024-07-25T20:35:23.359Z"
   },
   {
    "duration": 46,
    "start_time": "2024-07-25T20:35:23.386Z"
   },
   {
    "duration": 13,
    "start_time": "2024-07-25T20:35:23.435Z"
   },
   {
    "duration": 13,
    "start_time": "2024-07-25T20:35:23.451Z"
   },
   {
    "duration": 575,
    "start_time": "2024-07-25T20:35:23.467Z"
   },
   {
    "duration": 13,
    "start_time": "2024-07-25T20:35:24.045Z"
   },
   {
    "duration": 109,
    "start_time": "2024-07-25T20:35:24.061Z"
   },
   {
    "duration": 60,
    "start_time": "2024-07-25T20:35:24.173Z"
   },
   {
    "duration": 13,
    "start_time": "2024-07-25T20:35:24.236Z"
   },
   {
    "duration": 8,
    "start_time": "2024-07-25T20:35:24.252Z"
   },
   {
    "duration": 26,
    "start_time": "2024-07-25T20:35:24.263Z"
   },
   {
    "duration": 123,
    "start_time": "2024-07-25T20:35:24.292Z"
   },
   {
    "duration": 16,
    "start_time": "2024-07-25T20:35:24.430Z"
   },
   {
    "duration": 12,
    "start_time": "2024-07-25T20:35:24.450Z"
   },
   {
    "duration": 616,
    "start_time": "2024-07-25T20:35:24.465Z"
   },
   {
    "duration": 4,
    "start_time": "2024-07-25T20:35:25.083Z"
   },
   {
    "duration": 15,
    "start_time": "2024-07-25T20:35:25.090Z"
   },
   {
    "duration": 20,
    "start_time": "2024-07-25T20:35:25.133Z"
   },
   {
    "duration": 9,
    "start_time": "2024-07-25T20:35:25.156Z"
   },
   {
    "duration": 30,
    "start_time": "2024-07-25T20:35:25.168Z"
   },
   {
    "duration": 31,
    "start_time": "2024-07-25T20:35:25.201Z"
   },
   {
    "duration": 8,
    "start_time": "2024-07-25T20:35:25.235Z"
   },
   {
    "duration": 257,
    "start_time": "2024-07-25T20:35:25.246Z"
   },
   {
    "duration": 44,
    "start_time": "2024-07-25T20:35:25.506Z"
   },
   {
    "duration": 9,
    "start_time": "2024-07-25T20:35:25.553Z"
   },
   {
    "duration": 3,
    "start_time": "2024-07-25T20:35:25.565Z"
   },
   {
    "duration": 4,
    "start_time": "2024-07-25T20:35:25.571Z"
   },
   {
    "duration": 58,
    "start_time": "2024-07-25T20:35:25.578Z"
   },
   {
    "duration": 123,
    "start_time": "2024-07-25T20:35:25.639Z"
   },
   {
    "duration": 21,
    "start_time": "2024-07-25T20:35:25.765Z"
   },
   {
    "duration": 86,
    "start_time": "2024-07-25T20:35:25.788Z"
   },
   {
    "duration": 31,
    "start_time": "2024-07-25T20:35:25.877Z"
   },
   {
    "duration": 382,
    "start_time": "2024-07-25T20:35:25.911Z"
   },
   {
    "duration": 6,
    "start_time": "2024-07-25T20:35:26.296Z"
   },
   {
    "duration": 90,
    "start_time": "2024-07-25T20:35:26.305Z"
   },
   {
    "duration": 1403,
    "start_time": "2024-07-26T13:52:09.646Z"
   },
   {
    "duration": 35,
    "start_time": "2024-07-26T13:52:11.054Z"
   },
   {
    "duration": 16,
    "start_time": "2024-07-26T13:52:11.092Z"
   },
   {
    "duration": 17,
    "start_time": "2024-07-26T13:52:11.111Z"
   },
   {
    "duration": 14,
    "start_time": "2024-07-26T13:52:11.132Z"
   },
   {
    "duration": 54,
    "start_time": "2024-07-26T13:52:11.149Z"
   },
   {
    "duration": 13,
    "start_time": "2024-07-26T13:52:11.206Z"
   },
   {
    "duration": 10,
    "start_time": "2024-07-26T13:52:11.222Z"
   },
   {
    "duration": 57,
    "start_time": "2024-07-26T13:52:11.235Z"
   },
   {
    "duration": 14,
    "start_time": "2024-07-26T13:52:11.294Z"
   },
   {
    "duration": 22,
    "start_time": "2024-07-26T13:52:11.312Z"
   },
   {
    "duration": 53,
    "start_time": "2024-07-26T13:52:11.337Z"
   },
   {
    "duration": 15,
    "start_time": "2024-07-26T13:52:11.393Z"
   },
   {
    "duration": 13,
    "start_time": "2024-07-26T13:52:11.414Z"
   },
   {
    "duration": 569,
    "start_time": "2024-07-26T13:52:11.430Z"
   },
   {
    "duration": 14,
    "start_time": "2024-07-26T13:52:12.002Z"
   },
   {
    "duration": 115,
    "start_time": "2024-07-26T13:52:12.019Z"
   },
   {
    "duration": 53,
    "start_time": "2024-07-26T13:52:12.137Z"
   },
   {
    "duration": 15,
    "start_time": "2024-07-26T13:52:12.194Z"
   },
   {
    "duration": 11,
    "start_time": "2024-07-26T13:52:12.213Z"
   },
   {
    "duration": 67,
    "start_time": "2024-07-26T13:52:12.229Z"
   },
   {
    "duration": 95,
    "start_time": "2024-07-26T13:52:12.299Z"
   },
   {
    "duration": 15,
    "start_time": "2024-07-26T13:52:12.396Z"
   },
   {
    "duration": 13,
    "start_time": "2024-07-26T13:52:12.414Z"
   },
   {
    "duration": 440,
    "start_time": "2024-07-26T13:52:12.429Z"
   },
   {
    "duration": 4,
    "start_time": "2024-07-26T13:52:12.873Z"
   },
   {
    "duration": 18,
    "start_time": "2024-07-26T13:52:12.892Z"
   },
   {
    "duration": 21,
    "start_time": "2024-07-26T13:52:12.914Z"
   },
   {
    "duration": 52,
    "start_time": "2024-07-26T13:52:12.939Z"
   },
   {
    "duration": 33,
    "start_time": "2024-07-26T13:52:12.994Z"
   },
   {
    "duration": 4,
    "start_time": "2024-07-26T13:52:13.029Z"
   },
   {
    "duration": 8,
    "start_time": "2024-07-26T13:52:13.036Z"
   },
   {
    "duration": 277,
    "start_time": "2024-07-26T13:52:13.046Z"
   },
   {
    "duration": 31,
    "start_time": "2024-07-26T13:52:13.326Z"
   },
   {
    "duration": 8,
    "start_time": "2024-07-26T13:52:13.361Z"
   },
   {
    "duration": 4,
    "start_time": "2024-07-26T13:52:13.391Z"
   },
   {
    "duration": 4,
    "start_time": "2024-07-26T13:52:13.398Z"
   },
   {
    "duration": 17,
    "start_time": "2024-07-26T13:52:13.405Z"
   },
   {
    "duration": 149,
    "start_time": "2024-07-26T13:52:13.425Z"
   },
   {
    "duration": 22,
    "start_time": "2024-07-26T13:52:13.590Z"
   },
   {
    "duration": 77,
    "start_time": "2024-07-26T13:52:13.619Z"
   },
   {
    "duration": 22,
    "start_time": "2024-07-26T13:52:13.699Z"
   },
   {
    "duration": 408,
    "start_time": "2024-07-26T13:52:13.724Z"
   },
   {
    "duration": 6,
    "start_time": "2024-07-26T13:52:14.136Z"
   },
   {
    "duration": 91,
    "start_time": "2024-07-26T13:52:14.146Z"
   },
   {
    "duration": 1359,
    "start_time": "2024-08-19T21:57:48.845Z"
   },
   {
    "duration": 40,
    "start_time": "2024-08-19T21:57:50.208Z"
   },
   {
    "duration": 17,
    "start_time": "2024-08-19T21:57:50.250Z"
   },
   {
    "duration": 17,
    "start_time": "2024-08-19T21:57:50.271Z"
   },
   {
    "duration": 31,
    "start_time": "2024-08-19T21:57:50.291Z"
   },
   {
    "duration": 16,
    "start_time": "2024-08-19T21:57:50.325Z"
   },
   {
    "duration": 11,
    "start_time": "2024-08-19T21:57:50.344Z"
   },
   {
    "duration": 6,
    "start_time": "2024-08-19T21:57:50.359Z"
   },
   {
    "duration": 60,
    "start_time": "2024-08-19T21:57:50.368Z"
   },
   {
    "duration": 14,
    "start_time": "2024-08-19T21:57:50.434Z"
   },
   {
    "duration": 24,
    "start_time": "2024-08-19T21:57:50.451Z"
   },
   {
    "duration": 46,
    "start_time": "2024-08-19T21:57:50.478Z"
   },
   {
    "duration": 14,
    "start_time": "2024-08-19T21:57:50.526Z"
   },
   {
    "duration": 13,
    "start_time": "2024-08-19T21:57:50.544Z"
   },
   {
    "duration": 625,
    "start_time": "2024-08-19T21:57:50.560Z"
   },
   {
    "duration": 25,
    "start_time": "2024-08-19T21:57:51.188Z"
   },
   {
    "duration": 102,
    "start_time": "2024-08-19T21:57:51.216Z"
   },
   {
    "duration": 20,
    "start_time": "2024-08-19T21:57:51.321Z"
   },
   {
    "duration": 13,
    "start_time": "2024-08-19T21:57:51.344Z"
   },
   {
    "duration": 9,
    "start_time": "2024-08-19T21:57:51.361Z"
   },
   {
    "duration": 63,
    "start_time": "2024-08-19T21:57:51.373Z"
   },
   {
    "duration": 107,
    "start_time": "2024-08-19T21:57:51.439Z"
   },
   {
    "duration": 16,
    "start_time": "2024-08-19T21:57:51.548Z"
   },
   {
    "duration": 45,
    "start_time": "2024-08-19T21:57:51.567Z"
   },
   {
    "duration": 399,
    "start_time": "2024-08-19T21:57:51.615Z"
   },
   {
    "duration": 3,
    "start_time": "2024-08-19T21:57:52.017Z"
   },
   {
    "duration": 16,
    "start_time": "2024-08-19T21:57:52.023Z"
   },
   {
    "duration": 20,
    "start_time": "2024-08-19T21:57:52.046Z"
   },
   {
    "duration": 47,
    "start_time": "2024-08-19T21:57:52.069Z"
   },
   {
    "duration": 33,
    "start_time": "2024-08-19T21:57:52.119Z"
   },
   {
    "duration": 3,
    "start_time": "2024-08-19T21:57:52.155Z"
   },
   {
    "duration": 49,
    "start_time": "2024-08-19T21:57:52.163Z"
   },
   {
    "duration": 242,
    "start_time": "2024-08-19T21:57:52.216Z"
   },
   {
    "duration": 32,
    "start_time": "2024-08-19T21:57:52.461Z"
   },
   {
    "duration": 9,
    "start_time": "2024-08-19T21:57:52.513Z"
   },
   {
    "duration": 3,
    "start_time": "2024-08-19T21:57:52.526Z"
   },
   {
    "duration": 3,
    "start_time": "2024-08-19T21:57:52.533Z"
   },
   {
    "duration": 17,
    "start_time": "2024-08-19T21:57:52.540Z"
   },
   {
    "duration": 167,
    "start_time": "2024-08-19T21:57:52.560Z"
   },
   {
    "duration": 22,
    "start_time": "2024-08-19T21:57:52.730Z"
   },
   {
    "duration": 83,
    "start_time": "2024-08-19T21:57:52.755Z"
   },
   {
    "duration": 22,
    "start_time": "2024-08-19T21:57:52.841Z"
   },
   {
    "duration": 421,
    "start_time": "2024-08-19T21:57:52.867Z"
   },
   {
    "duration": 5,
    "start_time": "2024-08-19T21:57:53.293Z"
   },
   {
    "duration": 84,
    "start_time": "2024-08-19T21:57:53.301Z"
   },
   {
    "duration": 852,
    "start_time": "2024-10-21T20:24:01.557Z"
   },
   {
    "duration": 29,
    "start_time": "2024-10-21T20:24:02.411Z"
   },
   {
    "duration": 15,
    "start_time": "2024-10-21T20:24:02.443Z"
   },
   {
    "duration": 9,
    "start_time": "2024-10-21T20:24:02.460Z"
   },
   {
    "duration": 7,
    "start_time": "2024-10-21T20:24:02.471Z"
   },
   {
    "duration": 9,
    "start_time": "2024-10-21T20:24:02.479Z"
   },
   {
    "duration": 20,
    "start_time": "2024-10-21T20:24:02.490Z"
   },
   {
    "duration": 8,
    "start_time": "2024-10-21T20:24:02.517Z"
   },
   {
    "duration": 15,
    "start_time": "2024-10-21T20:24:02.527Z"
   },
   {
    "duration": 10,
    "start_time": "2024-10-21T20:24:02.546Z"
   },
   {
    "duration": 13,
    "start_time": "2024-10-21T20:24:02.558Z"
   },
   {
    "duration": 33,
    "start_time": "2024-10-21T20:24:02.573Z"
   },
   {
    "duration": 8,
    "start_time": "2024-10-21T20:24:02.608Z"
   },
   {
    "duration": 9,
    "start_time": "2024-10-21T20:24:02.617Z"
   },
   {
    "duration": 334,
    "start_time": "2024-10-21T20:24:02.628Z"
   },
   {
    "duration": 9,
    "start_time": "2024-10-21T20:24:02.963Z"
   },
   {
    "duration": 61,
    "start_time": "2024-10-21T20:24:02.974Z"
   },
   {
    "duration": 11,
    "start_time": "2024-10-21T20:24:03.036Z"
   },
   {
    "duration": 7,
    "start_time": "2024-10-21T20:24:03.049Z"
   },
   {
    "duration": 4,
    "start_time": "2024-10-21T20:24:03.058Z"
   },
   {
    "duration": 16,
    "start_time": "2024-10-21T20:24:03.106Z"
   },
   {
    "duration": 43,
    "start_time": "2024-10-21T20:24:03.124Z"
   },
   {
    "duration": 9,
    "start_time": "2024-10-21T20:24:03.169Z"
   },
   {
    "duration": 31,
    "start_time": "2024-10-21T20:24:03.180Z"
   },
   {
    "duration": 248,
    "start_time": "2024-10-21T20:24:03.212Z"
   },
   {
    "duration": 2,
    "start_time": "2024-10-21T20:24:03.462Z"
   },
   {
    "duration": 9,
    "start_time": "2024-10-21T20:24:03.466Z"
   },
   {
    "duration": 27,
    "start_time": "2024-10-21T20:24:03.479Z"
   },
   {
    "duration": 5,
    "start_time": "2024-10-21T20:24:03.508Z"
   },
   {
    "duration": 16,
    "start_time": "2024-10-21T20:24:03.515Z"
   },
   {
    "duration": 2,
    "start_time": "2024-10-21T20:24:03.533Z"
   },
   {
    "duration": 6,
    "start_time": "2024-10-21T20:24:03.536Z"
   },
   {
    "duration": 124,
    "start_time": "2024-10-21T20:24:03.543Z"
   },
   {
    "duration": 17,
    "start_time": "2024-10-21T20:24:03.668Z"
   },
   {
    "duration": 5,
    "start_time": "2024-10-21T20:24:03.688Z"
   },
   {
    "duration": 2,
    "start_time": "2024-10-21T20:24:03.706Z"
   },
   {
    "duration": 4,
    "start_time": "2024-10-21T20:24:03.709Z"
   },
   {
    "duration": 11,
    "start_time": "2024-10-21T20:24:03.714Z"
   },
   {
    "duration": 54,
    "start_time": "2024-10-21T20:24:03.727Z"
   },
   {
    "duration": 33,
    "start_time": "2024-10-21T20:24:03.782Z"
   },
   {
    "duration": 27,
    "start_time": "2024-10-21T20:24:03.816Z"
   },
   {
    "duration": 10,
    "start_time": "2024-10-21T20:24:03.845Z"
   },
   {
    "duration": 232,
    "start_time": "2024-10-21T20:24:03.857Z"
   },
   {
    "duration": 3,
    "start_time": "2024-10-21T20:24:04.091Z"
   },
   {
    "duration": 39,
    "start_time": "2024-10-21T20:24:04.106Z"
   },
   {
    "duration": 929,
    "start_time": "2024-10-24T23:26:56.626Z"
   },
   {
    "duration": 27,
    "start_time": "2024-10-24T23:26:57.558Z"
   },
   {
    "duration": 10,
    "start_time": "2024-10-24T23:26:57.587Z"
   },
   {
    "duration": 10,
    "start_time": "2024-10-24T23:26:57.599Z"
   },
   {
    "duration": 9,
    "start_time": "2024-10-24T23:26:57.610Z"
   },
   {
    "duration": 9,
    "start_time": "2024-10-24T23:26:57.621Z"
   },
   {
    "duration": 7,
    "start_time": "2024-10-24T23:26:57.632Z"
   },
   {
    "duration": 4,
    "start_time": "2024-10-24T23:26:57.640Z"
   },
   {
    "duration": 11,
    "start_time": "2024-10-24T23:26:57.646Z"
   },
   {
    "duration": 8,
    "start_time": "2024-10-24T23:26:57.661Z"
   },
   {
    "duration": 15,
    "start_time": "2024-10-24T23:26:57.708Z"
   },
   {
    "duration": 9,
    "start_time": "2024-10-24T23:26:57.725Z"
   },
   {
    "duration": 8,
    "start_time": "2024-10-24T23:26:57.737Z"
   },
   {
    "duration": 8,
    "start_time": "2024-10-24T23:26:57.746Z"
   },
   {
    "duration": 376,
    "start_time": "2024-10-24T23:26:57.755Z"
   },
   {
    "duration": 9,
    "start_time": "2024-10-24T23:26:58.132Z"
   },
   {
    "duration": 68,
    "start_time": "2024-10-24T23:26:58.142Z"
   },
   {
    "duration": 12,
    "start_time": "2024-10-24T23:26:58.212Z"
   },
   {
    "duration": 7,
    "start_time": "2024-10-24T23:26:58.225Z"
   },
   {
    "duration": 5,
    "start_time": "2024-10-24T23:26:58.234Z"
   },
   {
    "duration": 15,
    "start_time": "2024-10-24T23:26:58.240Z"
   },
   {
    "duration": 73,
    "start_time": "2024-10-24T23:26:58.257Z"
   },
   {
    "duration": 9,
    "start_time": "2024-10-24T23:26:58.332Z"
   },
   {
    "duration": 8,
    "start_time": "2024-10-24T23:26:58.343Z"
   },
   {
    "duration": 272,
    "start_time": "2024-10-24T23:26:58.352Z"
   },
   {
    "duration": 2,
    "start_time": "2024-10-24T23:26:58.627Z"
   },
   {
    "duration": 9,
    "start_time": "2024-10-24T23:26:58.631Z"
   },
   {
    "duration": 11,
    "start_time": "2024-10-24T23:26:58.645Z"
   },
   {
    "duration": 5,
    "start_time": "2024-10-24T23:26:58.658Z"
   },
   {
    "duration": 45,
    "start_time": "2024-10-24T23:26:58.665Z"
   },
   {
    "duration": 2,
    "start_time": "2024-10-24T23:26:58.712Z"
   },
   {
    "duration": 5,
    "start_time": "2024-10-24T23:26:58.715Z"
   },
   {
    "duration": 112,
    "start_time": "2024-10-24T23:26:58.722Z"
   },
   {
    "duration": 17,
    "start_time": "2024-10-24T23:26:58.835Z"
   },
   {
    "duration": 5,
    "start_time": "2024-10-24T23:26:58.855Z"
   },
   {
    "duration": 3,
    "start_time": "2024-10-24T23:26:58.861Z"
   },
   {
    "duration": 5,
    "start_time": "2024-10-24T23:26:58.866Z"
   },
   {
    "duration": 10,
    "start_time": "2024-10-24T23:26:58.873Z"
   },
   {
    "duration": 78,
    "start_time": "2024-10-24T23:26:58.885Z"
   },
   {
    "duration": 13,
    "start_time": "2024-10-24T23:26:58.965Z"
   },
   {
    "duration": 52,
    "start_time": "2024-10-24T23:26:58.980Z"
   },
   {
    "duration": 14,
    "start_time": "2024-10-24T23:26:59.034Z"
   },
   {
    "duration": 233,
    "start_time": "2024-10-24T23:26:59.049Z"
   },
   {
    "duration": 4,
    "start_time": "2024-10-24T23:26:59.284Z"
   },
   {
    "duration": 48,
    "start_time": "2024-10-24T23:26:59.289Z"
   }
  ],
  "kernelspec": {
   "display_name": "Python 3",
   "language": "python",
   "name": "python3"
  },
  "language_info": {
   "codemirror_mode": {
    "name": "ipython",
    "version": 3
   },
   "file_extension": ".py",
   "mimetype": "text/x-python",
   "name": "python",
   "nbconvert_exporter": "python",
   "pygments_lexer": "ipython3",
   "version": "3.12.2"
  },
  "toc": {
   "base_numbering": "1",
   "nav_menu": {},
   "number_sections": false,
   "sideBar": true,
   "skip_h1_title": false,
   "title_cell": "Table of Contents",
   "title_sidebar": "Contents",
   "toc_cell": true,
   "toc_position": {
    "height": "calc(100% - 180px)",
    "left": "10px",
    "top": "150px",
    "width": "359px"
   },
   "toc_section_display": true,
   "toc_window_display": true
  }
 },
 "nbformat": 4,
 "nbformat_minor": 2
}
